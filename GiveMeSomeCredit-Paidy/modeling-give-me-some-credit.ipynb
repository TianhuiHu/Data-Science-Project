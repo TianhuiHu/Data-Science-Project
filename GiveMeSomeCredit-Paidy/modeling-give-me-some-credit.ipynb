{
 "cells": [
  {
   "cell_type": "markdown",
   "metadata": {},
   "source": [
    "# Give Me Some Credit\n",
    "![](https://www.freshfacs.com/v/vspfiles/photos/D3-2.jpg)\n",
    "Improve on the state of the art in credit scoring by predicting the probability that somebody will experience financial distress in the next two years.\n"
   ]
  },
  {
   "cell_type": "code",
   "execution_count": 16,
   "metadata": {
    "_cell_guid": "b1076dfc-b9ad-4769-8c92-a6c4dae69d19",
    "_kg_hide-input": true,
    "_kg_hide-output": true,
    "_uuid": "8f2839f25d086af736a60e9eeb907d3b93b6e0e5"
   },
   "outputs": [],
   "source": [
    "import numpy as np # linear algebra\n",
    "import pandas as pd # data processing, CSV file I/O (e.g. pd.read_csv)"
   ]
  },
  {
   "cell_type": "markdown",
   "metadata": {},
   "source": [
    "##### Around 6% of samples defaulted\n",
    "- MonthlyIncome and NumberOfDependents have 29731 (19.82%) and 3924 (2.61%) null values respectively\n",
    "- We also notice that when NumberOfTimes90DaysLate has values above 17, there are 267 instances where the three columns \n",
    "- NumberOfTimes90DaysLate, NumberOfTime60-89DaysPastDueNotWorse, NumberOfTime30-59DaysPastDueNotWorse share the same values, specifically 96 and 98.\n",
    "    - We can see that sharing the same values of 96 and 98 respectively is not logical since trivial calculations can reveal that being 30 days past due for 96 times for a single person within a timespan of 2 years is not possible.\n",
    "- RevolvingUtilizationOfUnsecuredLines\n",
    "    - Defined as ratio of the total amount of money owed to total credit limit\n",
    "distribution of values is right-skewed, consider removing outliers\n",
    "    - It is expected that as this value increases, the proportion of people defaulting should increase as well\n",
    "    - However, we can see that as the minimum value of this column is set to 13, the proportion of defaulters is smaller than that belonging to the pool of clients with total amount of money owed not exceeding total credit limit.\n",
    "    - Thus we should remove those samples with RevolvingUtilizationOfUnsecuredLines's value more than equal to 13\n",
    "- age\n",
    "    - There seems to be more younger people defaulting and the distribution seems fine on the whole\n",
    "- NumberOfTimes90DaysLate\n",
    "    - It is interesting to note that there are no one who is 90 or more days past due between 17 and 96 times.\n",
    "- NumberOfTime60-89DaysPastDueNotWorse\n",
    "    - It is interesting to note that there are no one who is 60-89 days past due between 11 and 96 times.\n",
    "- NumberOfTime30-59DaysPastDueNotWorse\n",
    "    - It is interesting to note that there are no one who is 30-59 days past due between 13 and 96 times.\n",
    "- DebtRatio\n",
    "    - 2.5% of clients owe around 3490 or more times what they own\n",
    "    - For the people who have monthly income in this 2.5%, only 185 people have values for their monthly incomes and the values are either 0 or 1.\n",
    "    - There are 164 out of these 185 people who are of two different types, first with no monthly income and does not default and second with monthly income and does default.\n",
    "- MonthlyIncome\n",
    "    - Distribution of values is skewed, we can consider imputation with median.\n",
    "    - We can also consider imputing with normally distributed values with its mean and standard deviation.\n",
    "- Numberof Dependents\n",
    "    - We can consider imputing with its mode, which is zero."
   ]
  },
  {
   "cell_type": "markdown",
   "metadata": {},
   "source": [
    "# Imports"
   ]
  },
  {
   "cell_type": "code",
   "execution_count": 17,
   "metadata": {
    "_kg_hide-input": true
   },
   "outputs": [],
   "source": [
    "import warnings\n",
    "warnings.filterwarnings(\"ignore\", category=DeprecationWarning)\n",
    "warnings.filterwarnings(\"ignore\", category=UserWarning)\n",
    "warnings.filterwarnings(\"ignore\", category=FutureWarning)\n",
    "from IPython.display import HTML\n",
    "\n",
    "pd.set_option('max_columns', 50)"
   ]
  },
  {
   "cell_type": "code",
   "execution_count": 18,
   "metadata": {
    "_kg_hide-input": true
   },
   "outputs": [],
   "source": [
    "import seaborn as sns\n",
    "import matplotlib.pyplot as plt\n",
    "%matplotlib inline"
   ]
  },
  {
   "cell_type": "code",
   "execution_count": 19,
   "metadata": {
    "_kg_hide-input": true
   },
   "outputs": [],
   "source": [
    "from sklearn.metrics import roc_auc_score,precision_recall_curve,roc_curve\n",
    "from sklearn.metrics import classification_report, accuracy_score\n",
    "from sklearn.model_selection import train_test_split\n",
    "from sklearn.metrics import roc_auc_score, confusion_matrix, auc\n",
    "from sklearn import model_selection"
   ]
  },
  {
   "cell_type": "code",
   "execution_count": 25,
   "metadata": {
    "_kg_hide-input": true
   },
   "outputs": [],
   "source": [
    "from sklearn.model_selection import GridSearchCV, StratifiedKFold, KFold\n",
    "from sklearn.ensemble import RandomForestClassifier, VotingClassifier\n",
    "from sklearn.linear_model import LogisticRegression\n",
    "import xgboost as xgb\n",
    "import lightgbm as lgb\n"
   ]
  },
  {
   "cell_type": "code",
   "execution_count": 26,
   "metadata": {
    "_kg_hide-input": true
   },
   "outputs": [],
   "source": [
    "def evalBinaryClassifier(model, x, y, labels=['Positives','Negatives']):\n",
    "    '''\n",
    "    source: https://towardsdatascience.com/how-to-interpret-a-binary-logistic-regressor-with-scikit-learn-6d56c5783b49\n",
    "    Visualize the performance of  a Logistic Regression Binary Classifier.\n",
    "    \n",
    "    Displays a labelled Confusion Matrix, distributions of the predicted\n",
    "    probabilities for both classes, the ROC curve, and F1 score of a fitted\n",
    "    Binary Logistic Classifier. Author: gregcondit.com/articles/logr-charts\n",
    "    \n",
    "    Parameters\n",
    "    ----------\n",
    "    model : fitted scikit-learn model with predict_proba & predict methods\n",
    "        and classes_ attribute. Typically LogisticRegression or \n",
    "        LogisticRegressionCV\n",
    "    \n",
    "    x : {array-like, sparse matrix}, shape (n_samples, n_features)\n",
    "        Training vector, where n_samples is the number of samples\n",
    "        in the data to be tested, and n_features is the number of features\n",
    "    \n",
    "    y : array-like, shape (n_samples,)\n",
    "        Target vector relative to x.\n",
    "    \n",
    "    labels: list, optional\n",
    "        list of text labels for the two classes, with the positive label first\n",
    "        \n",
    "    Displays\n",
    "    ----------\n",
    "    3 Subplots\n",
    "    \n",
    "    Returns\n",
    "    ----------\n",
    "    F1: float\n",
    "    '''\n",
    "    #model predicts probabilities of positive class\n",
    "    p = model.predict_proba(x)\n",
    "    if len(model.classes_)!=2:\n",
    "        raise ValueError('A binary class problem is required')\n",
    "    if model.classes_[1] == 1:\n",
    "        pos_p = p[:,1]\n",
    "    elif model.classes_[0] == 1:\n",
    "        pos_p = p[:,0]\n",
    "    \n",
    "    #FIGURE\n",
    "    plt.figure(figsize=[15,4])\n",
    "    \n",
    "    #1 -- Confusion matrix\n",
    "    cm = confusion_matrix(y,model.predict(x))\n",
    "    plt.subplot(131)\n",
    "    ax = sns.heatmap(cm, annot=True, cmap='Blues', cbar=False, \n",
    "                annot_kws={\"size\": 14}, fmt='g')\n",
    "    cmlabels = ['True Negatives', 'False Positives',\n",
    "              'False Negatives', 'True Positives']\n",
    "    for i,t in enumerate(ax.texts):\n",
    "        t.set_text(t.get_text() + \"\\n\" + cmlabels[i])\n",
    "    plt.title('Confusion Matrix', size=15)\n",
    "    plt.xlabel('Predicted Values', size=13)\n",
    "    plt.ylabel('True Values', size=13)\n",
    "      \n",
    "    #2 -- Distributions of Predicted Probabilities of both classes\n",
    "    df = pd.DataFrame({'probPos':pos_p, 'target': y})\n",
    "    plt.subplot(132)\n",
    "    plt.hist(df[df.target==1].probPos, density=True, bins=25,\n",
    "             alpha=.5, color='green',  label=labels[0])\n",
    "    plt.hist(df[df.target==0].probPos, density=True, bins=25,\n",
    "             alpha=.5, color='red', label=labels[1])\n",
    "    plt.axvline(.5, color='blue', linestyle='--', label='Boundary')\n",
    "    plt.xlim([0,1])\n",
    "    plt.title('Distributions of Predictions', size=15)\n",
    "    plt.xlabel('Positive Probability (predicted)', size=13)\n",
    "    plt.ylabel('Samples (normalized scale)', size=13)\n",
    "    plt.legend(loc=\"upper right\")\n",
    "    \n",
    "    #3 -- ROC curve with annotated decision point\n",
    "    fp_rates, tp_rates, _ = roc_curve(y,p[:,1])\n",
    "    roc_auc = auc(fp_rates, tp_rates)\n",
    "    plt.subplot(133)\n",
    "    plt.plot(fp_rates, tp_rates, color='green',\n",
    "             lw=1, label='ROC curve (area = %0.2f)' % roc_auc)\n",
    "    plt.plot([0, 1], [0, 1], lw=1, linestyle='--', color='grey')\n",
    "    #plot current decision point:\n",
    "    tn, fp, fn, tp = [i for i in cm.ravel()]\n",
    "    plt.plot(fp/(fp+tn), tp/(tp+fn), 'bo', markersize=8, label='Decision Point')\n",
    "    plt.xlim([0.0, 1.0])\n",
    "    plt.ylim([0.0, 1.05])\n",
    "    plt.xlabel('False Positive Rate', size=13)\n",
    "    plt.ylabel('True Positive Rate', size=13)\n",
    "    plt.title('ROC Curve', size=15)\n",
    "    plt.legend(loc=\"lower right\")\n",
    "    plt.subplots_adjust(wspace=.3)\n",
    "    plt.show()\n",
    "    #Print and Return the F1 score\n",
    "    tn, fp, fn, tp = [i for i in cm.ravel()]\n",
    "    precision = tp / (tp + fp)\n",
    "    recall = tp / (tp + fn)\n",
    "    F1 = 2*(precision * recall) / (precision + recall)\n",
    "    printout = (\n",
    "        f'Precision: {round(precision,2)} | '\n",
    "        f'Recall: {round(recall,2)} | '\n",
    "        f'F1 Score: {round(F1,2)} | '\n",
    "    )\n",
    "    print(printout)\n",
    "    return F1"
   ]
  },
  {
   "cell_type": "markdown",
   "metadata": {},
   "source": [
    "### Read Data"
   ]
  },
  {
   "cell_type": "code",
   "execution_count": 27,
   "metadata": {
    "_kg_hide-input": true
   },
   "outputs": [
    {
     "name": "stdout",
     "output_type": "stream",
     "text": [
      "CPU times: user 172 ms, sys: 71.8 ms, total: 244 ms\n",
      "Wall time: 265 ms\n"
     ]
    }
   ],
   "source": [
    "%%time\n",
    "sampleEntry = pd.read_csv('sampleEntry.csv')\n",
    "train = pd.read_csv('cs-training.csv')\n",
    "test = pd.read_csv('cs-test.csv')"
   ]
  },
  {
   "cell_type": "markdown",
   "metadata": {},
   "source": [
    "Variable Name\tDescription\tType\n",
    "- ``SeriousDlqin2yrs``\tPerson experienced 90 days past due delinquency or worse\tY/N\n",
    "- ``RevolvingUtilizationOfUnsecuredLines``\tTotal balance on credit cards and personal lines of credit except real estate and no installment debt like car loans divided by the sum of credit limits\tpercentage\n",
    "- ``age``\tAge of borrower in years\tinteger\n",
    "- ``NumberOfTime3059DaysPastDueNotWorse``\tNumber of times borrower has been 30-59 days past due but no worse in the last 2 years.\tinteger\n",
    "- ``DebtRatio``\tMonthly debt payments, alimony,living costs divided by monthy gross income\tpercentage\n",
    "- ``MonthlyIncome``\tMonthly income\treal\n",
    "- ``NumberOfOpenCreditLinesAndLoans``\tNumber of Open loans (installment like car loan or mortgage) and Lines of credit (e.g. credit cards)\tinteger\n",
    "- ``NumberOfTimes90DaysLate``\tNumber of times borrower has been 90 days or more past due.\tinteger\n",
    "- ``NumberRealEstateLoansOrLines``\tNumber of mortgage and real estate loans including home equity lines of credit\tinteger\n",
    "- ``NumberOfTime60-89DaysPastDueNotWorse``\tNumber of times borrower has been 60-89 days past due but no worse in the last 2 years.\tinteger\n",
    "- ``NumberOfDependents``\tNumber of dependents in family excluding themselves (spouse, children etc.)\tinteger"
   ]
  },
  {
   "cell_type": "code",
   "execution_count": 28,
   "metadata": {},
   "outputs": [
    {
     "name": "stdout",
     "output_type": "stream",
     "text": [
      "train shape   (150000, 12)\n"
     ]
    }
   ],
   "source": [
    "print('train shape  ',train.shape)"
   ]
  },
  {
   "cell_type": "code",
   "execution_count": 29,
   "metadata": {},
   "outputs": [
    {
     "data": {
      "text/plain": [
       "int64      8\n",
       "float64    4\n",
       "dtype: int64"
      ]
     },
     "execution_count": 29,
     "metadata": {},
     "output_type": "execute_result"
    }
   ],
   "source": [
    "train.dtypes.value_counts()"
   ]
  },
  {
   "cell_type": "code",
   "execution_count": 30,
   "metadata": {},
   "outputs": [
    {
     "name": "stdout",
     "output_type": "stream",
     "text": [
      "<class 'pandas.core.frame.DataFrame'>\n",
      "RangeIndex: 150000 entries, 0 to 149999\n",
      "Data columns (total 12 columns):\n",
      " #   Column                                Non-Null Count   Dtype  \n",
      "---  ------                                --------------   -----  \n",
      " 0   Unnamed: 0                            150000 non-null  int64  \n",
      " 1   SeriousDlqin2yrs                      150000 non-null  int64  \n",
      " 2   RevolvingUtilizationOfUnsecuredLines  150000 non-null  float64\n",
      " 3   age                                   150000 non-null  int64  \n",
      " 4   NumberOfTime30-59DaysPastDueNotWorse  150000 non-null  int64  \n",
      " 5   DebtRatio                             150000 non-null  float64\n",
      " 6   MonthlyIncome                         120269 non-null  float64\n",
      " 7   NumberOfOpenCreditLinesAndLoans       150000 non-null  int64  \n",
      " 8   NumberOfTimes90DaysLate               150000 non-null  int64  \n",
      " 9   NumberRealEstateLoansOrLines          150000 non-null  int64  \n",
      " 10  NumberOfTime60-89DaysPastDueNotWorse  150000 non-null  int64  \n",
      " 11  NumberOfDependents                    146076 non-null  float64\n",
      "dtypes: float64(4), int64(8)\n",
      "memory usage: 13.7 MB\n"
     ]
    }
   ],
   "source": [
    "train.info()"
   ]
  },
  {
   "cell_type": "code",
   "execution_count": 31,
   "metadata": {
    "_cell_guid": "79c7e3d0-c299-4dcb-8224-4455121ee9b0",
    "_uuid": "d629ff2d2480ee46fbb7e2d37f6b5fab8052498a"
   },
   "outputs": [
    {
     "data": {
      "text/html": [
       "<div>\n",
       "<style scoped>\n",
       "    .dataframe tbody tr th:only-of-type {\n",
       "        vertical-align: middle;\n",
       "    }\n",
       "\n",
       "    .dataframe tbody tr th {\n",
       "        vertical-align: top;\n",
       "    }\n",
       "\n",
       "    .dataframe thead th {\n",
       "        text-align: right;\n",
       "    }\n",
       "</style>\n",
       "<table border=\"1\" class=\"dataframe\">\n",
       "  <thead>\n",
       "    <tr style=\"text-align: right;\">\n",
       "      <th></th>\n",
       "      <th>SeriousDlqin2yrs</th>\n",
       "      <th>RevolvingUtilizationOfUnsecuredLines</th>\n",
       "      <th>age</th>\n",
       "      <th>NumberOfTime30-59DaysPastDueNotWorse</th>\n",
       "      <th>DebtRatio</th>\n",
       "      <th>MonthlyIncome</th>\n",
       "      <th>NumberOfOpenCreditLinesAndLoans</th>\n",
       "      <th>NumberOfTimes90DaysLate</th>\n",
       "      <th>NumberRealEstateLoansOrLines</th>\n",
       "      <th>NumberOfTime60-89DaysPastDueNotWorse</th>\n",
       "      <th>NumberOfDependents</th>\n",
       "    </tr>\n",
       "  </thead>\n",
       "  <tbody>\n",
       "    <tr>\n",
       "      <th>0</th>\n",
       "      <td>1</td>\n",
       "      <td>0.766127</td>\n",
       "      <td>45</td>\n",
       "      <td>2</td>\n",
       "      <td>0.802982</td>\n",
       "      <td>9120.0</td>\n",
       "      <td>13</td>\n",
       "      <td>0</td>\n",
       "      <td>6</td>\n",
       "      <td>0</td>\n",
       "      <td>2.0</td>\n",
       "    </tr>\n",
       "    <tr>\n",
       "      <th>1</th>\n",
       "      <td>0</td>\n",
       "      <td>0.957151</td>\n",
       "      <td>40</td>\n",
       "      <td>0</td>\n",
       "      <td>0.121876</td>\n",
       "      <td>2600.0</td>\n",
       "      <td>4</td>\n",
       "      <td>0</td>\n",
       "      <td>0</td>\n",
       "      <td>0</td>\n",
       "      <td>1.0</td>\n",
       "    </tr>\n",
       "    <tr>\n",
       "      <th>2</th>\n",
       "      <td>0</td>\n",
       "      <td>0.658180</td>\n",
       "      <td>38</td>\n",
       "      <td>1</td>\n",
       "      <td>0.085113</td>\n",
       "      <td>3042.0</td>\n",
       "      <td>2</td>\n",
       "      <td>1</td>\n",
       "      <td>0</td>\n",
       "      <td>0</td>\n",
       "      <td>0.0</td>\n",
       "    </tr>\n",
       "    <tr>\n",
       "      <th>3</th>\n",
       "      <td>0</td>\n",
       "      <td>0.233810</td>\n",
       "      <td>30</td>\n",
       "      <td>0</td>\n",
       "      <td>0.036050</td>\n",
       "      <td>3300.0</td>\n",
       "      <td>5</td>\n",
       "      <td>0</td>\n",
       "      <td>0</td>\n",
       "      <td>0</td>\n",
       "      <td>0.0</td>\n",
       "    </tr>\n",
       "    <tr>\n",
       "      <th>4</th>\n",
       "      <td>0</td>\n",
       "      <td>0.907239</td>\n",
       "      <td>49</td>\n",
       "      <td>1</td>\n",
       "      <td>0.024926</td>\n",
       "      <td>63588.0</td>\n",
       "      <td>7</td>\n",
       "      <td>0</td>\n",
       "      <td>1</td>\n",
       "      <td>0</td>\n",
       "      <td>0.0</td>\n",
       "    </tr>\n",
       "  </tbody>\n",
       "</table>\n",
       "</div>"
      ],
      "text/plain": [
       "   SeriousDlqin2yrs  RevolvingUtilizationOfUnsecuredLines  age  \\\n",
       "0                 1                              0.766127   45   \n",
       "1                 0                              0.957151   40   \n",
       "2                 0                              0.658180   38   \n",
       "3                 0                              0.233810   30   \n",
       "4                 0                              0.907239   49   \n",
       "\n",
       "   NumberOfTime30-59DaysPastDueNotWorse  DebtRatio  MonthlyIncome  \\\n",
       "0                                     2   0.802982         9120.0   \n",
       "1                                     0   0.121876         2600.0   \n",
       "2                                     1   0.085113         3042.0   \n",
       "3                                     0   0.036050         3300.0   \n",
       "4                                     1   0.024926        63588.0   \n",
       "\n",
       "   NumberOfOpenCreditLinesAndLoans  NumberOfTimes90DaysLate  \\\n",
       "0                               13                        0   \n",
       "1                                4                        0   \n",
       "2                                2                        1   \n",
       "3                                5                        0   \n",
       "4                                7                        0   \n",
       "\n",
       "   NumberRealEstateLoansOrLines  NumberOfTime60-89DaysPastDueNotWorse  \\\n",
       "0                             6                                     0   \n",
       "1                             0                                     0   \n",
       "2                             0                                     0   \n",
       "3                             0                                     0   \n",
       "4                             1                                     0   \n",
       "\n",
       "   NumberOfDependents  \n",
       "0                 2.0  \n",
       "1                 1.0  \n",
       "2                 0.0  \n",
       "3                 0.0  \n",
       "4                 0.0  "
      ]
     },
     "execution_count": 31,
     "metadata": {},
     "output_type": "execute_result"
    }
   ],
   "source": [
    "train = train.dropna()\n",
    "train = train.drop(columns = ['Unnamed: 0'])\n",
    "train.head()"
   ]
  },
  {
   "cell_type": "markdown",
   "metadata": {},
   "source": [
    "## Data Duplicate Analysis"
   ]
  },
  {
   "cell_type": "code",
   "execution_count": 32,
   "metadata": {
    "_kg_hide-input": true
   },
   "outputs": [
    {
     "data": {
      "text/html": [
       "<div>\n",
       "<style scoped>\n",
       "    .dataframe tbody tr th:only-of-type {\n",
       "        vertical-align: middle;\n",
       "    }\n",
       "\n",
       "    .dataframe tbody tr th {\n",
       "        vertical-align: top;\n",
       "    }\n",
       "\n",
       "    .dataframe thead th {\n",
       "        text-align: right;\n",
       "    }\n",
       "</style>\n",
       "<table border=\"1\" class=\"dataframe\">\n",
       "  <thead>\n",
       "    <tr style=\"text-align: right;\">\n",
       "      <th></th>\n",
       "      <th>9</th>\n",
       "      <th>7</th>\n",
       "      <th>0</th>\n",
       "      <th>3</th>\n",
       "      <th>10</th>\n",
       "      <th>8</th>\n",
       "      <th>6</th>\n",
       "      <th>1</th>\n",
       "      <th>2</th>\n",
       "      <th>5</th>\n",
       "      <th>4</th>\n",
       "    </tr>\n",
       "  </thead>\n",
       "  <tbody>\n",
       "    <tr>\n",
       "      <th>Feature</th>\n",
       "      <td>NumberOfTime60-89DaysPastDueNotWorse</td>\n",
       "      <td>NumberOfTimes90DaysLate</td>\n",
       "      <td>SeriousDlqin2yrs</td>\n",
       "      <td>NumberOfTime30-59DaysPastDueNotWorse</td>\n",
       "      <td>NumberOfDependents</td>\n",
       "      <td>NumberRealEstateLoansOrLines</td>\n",
       "      <td>NumberOfOpenCreditLinesAndLoans</td>\n",
       "      <td>RevolvingUtilizationOfUnsecuredLines</td>\n",
       "      <td>age</td>\n",
       "      <td>MonthlyIncome</td>\n",
       "      <td>DebtRatio</td>\n",
       "    </tr>\n",
       "    <tr>\n",
       "      <th>Max duplicates</th>\n",
       "      <td>113994</td>\n",
       "      <td>113544</td>\n",
       "      <td>111912</td>\n",
       "      <td>99970</td>\n",
       "      <td>65456</td>\n",
       "      <td>43430</td>\n",
       "      <td>10810</td>\n",
       "      <td>7871</td>\n",
       "      <td>3217</td>\n",
       "      <td>2757</td>\n",
       "      <td>2491</td>\n",
       "    </tr>\n",
       "    <tr>\n",
       "      <th>Value</th>\n",
       "      <td>0</td>\n",
       "      <td>0</td>\n",
       "      <td>0</td>\n",
       "      <td>0</td>\n",
       "      <td>0</td>\n",
       "      <td>0</td>\n",
       "      <td>6</td>\n",
       "      <td>0</td>\n",
       "      <td>49</td>\n",
       "      <td>5000</td>\n",
       "      <td>0</td>\n",
       "    </tr>\n",
       "  </tbody>\n",
       "</table>\n",
       "</div>"
      ],
      "text/plain": [
       "                                                  9                        7   \\\n",
       "Feature         NumberOfTime60-89DaysPastDueNotWorse  NumberOfTimes90DaysLate   \n",
       "Max duplicates                                113994                   113544   \n",
       "Value                                              0                        0   \n",
       "\n",
       "                              0                                     3   \\\n",
       "Feature         SeriousDlqin2yrs  NumberOfTime30-59DaysPastDueNotWorse   \n",
       "Max duplicates            111912                                 99970   \n",
       "Value                          0                                     0   \n",
       "\n",
       "                                10                            8   \\\n",
       "Feature         NumberOfDependents  NumberRealEstateLoansOrLines   \n",
       "Max duplicates               65456                         43430   \n",
       "Value                            0                             0   \n",
       "\n",
       "                                             6   \\\n",
       "Feature         NumberOfOpenCreditLinesAndLoans   \n",
       "Max duplicates                            10810   \n",
       "Value                                         6   \n",
       "\n",
       "                                                  1     2              5   \\\n",
       "Feature         RevolvingUtilizationOfUnsecuredLines   age  MonthlyIncome   \n",
       "Max duplicates                                  7871  3217           2757   \n",
       "Value                                              0    49           5000   \n",
       "\n",
       "                       4   \n",
       "Feature         DebtRatio  \n",
       "Max duplicates       2491  \n",
       "Value                   0  "
      ]
     },
     "execution_count": 32,
     "metadata": {},
     "output_type": "execute_result"
    }
   ],
   "source": [
    "features = train.columns.values[0:30]\n",
    "unique_max_train = []\n",
    "unique_max_test = []\n",
    "for feature in features:\n",
    "    values = train[feature].value_counts()\n",
    "    unique_max_train.append([feature, values.max(), values.idxmax()])\n",
    "\n",
    "np.transpose((pd.DataFrame(unique_max_train, columns=['Feature', 'Max duplicates', 'Value'])).\\\n",
    "            sort_values(by = 'Max duplicates', ascending=False).head(15))"
   ]
  },
  {
   "cell_type": "markdown",
   "metadata": {},
   "source": [
    "### Value Counts Target - SeriousDlqin2yrs"
   ]
  },
  {
   "cell_type": "code",
   "execution_count": 33,
   "metadata": {
    "_kg_hide-input": true
   },
   "outputs": [
    {
     "data": {
      "text/plain": [
       "0    111912\n",
       "1      8357\n",
       "Name: SeriousDlqin2yrs, dtype: int64"
      ]
     },
     "execution_count": 33,
     "metadata": {},
     "output_type": "execute_result"
    }
   ],
   "source": [
    "train.SeriousDlqin2yrs.value_counts()"
   ]
  },
  {
   "cell_type": "markdown",
   "metadata": {},
   "source": [
    "### Feature Importance"
   ]
  },
  {
   "cell_type": "code",
   "execution_count": 34,
   "metadata": {
    "_kg_hide-input": true
   },
   "outputs": [],
   "source": [
    "train_X = train.drop([\"SeriousDlqin2yrs\"], axis=1)\n",
    "train_y = np.log1p(train[\"SeriousDlqin2yrs\"].values)"
   ]
  },
  {
   "cell_type": "code",
   "execution_count": 35,
   "metadata": {
    "_kg_hide-input": true
   },
   "outputs": [
    {
     "data": {
      "image/png": "[encoded data removed]",
      "text/plain": [
       "<Figure size 864x864 with 1 Axes>"
      ]
     },
     "metadata": {
      "needs_background": "light"
     },
     "output_type": "display_data"
    }
   ],
   "source": [
    "from sklearn import ensemble\n",
    "model = ensemble.ExtraTreesRegressor(n_estimators=200, max_depth=20, max_features=0.5, n_jobs=-1, random_state=0)\n",
    "model.fit(train_X, train_y)\n",
    "\n",
    "## plotando as importâncias ##\n",
    "feat_names = train_X.columns.values\n",
    "importances = model.feature_importances_\n",
    "std = np.std([tree.feature_importances_ for tree in model.estimators_], axis=0)\n",
    "indices = np.argsort(importances)[::-1][:20]\n",
    "\n",
    "plt.figure(figsize=(12,12))\n",
    "plt.title(\"Feature importances\")\n",
    "plt.bar(range(len(indices)), importances[indices], color=\"r\", yerr=std[indices], align=\"center\")\n",
    "plt.xticks(range(len(indices)), feat_names[indices], rotation='vertical')\n",
    "plt.xlim([-1, len(indices)])\n",
    "plt.show()"
   ]
  },
  {
   "cell_type": "code",
   "execution_count": 36,
   "metadata": {
    "_kg_hide-input": true
   },
   "outputs": [],
   "source": [
    "def plot_new_feature_distribution(df1, df2, label1, label2, features, n):\n",
    "    i = 0\n",
    "    sns.set_style('whitegrid')\n",
    "    plt.figure()\n",
    "    fig, ax = plt.subplots(2,n,figsize=(18,8))\n",
    "\n",
    "    for feature in features:\n",
    "        i += 1\n",
    "        plt.subplot(2,n,i)\n",
    "        sns.kdeplot(df1[feature], bw=0.5,label=label1)\n",
    "        sns.kdeplot(df2[feature], bw=0.5,label=label2)\n",
    "        plt.xlabel(feature, fontsize=11)\n",
    "        locs, labels = plt.xticks()\n",
    "        plt.tick_params(axis='x', which='major', labelsize=8)\n",
    "        plt.tick_params(axis='y', which='major', labelsize=8)\n",
    "    plt.show();"
   ]
  },
  {
   "cell_type": "markdown",
   "metadata": {},
   "source": [
    "# Baseline"
   ]
  },
  {
   "cell_type": "code",
   "execution_count": 37,
   "metadata": {},
   "outputs": [],
   "source": [
    "def plot_roc(y_test,prob):\n",
    "    fpr, tpr, thresholds = roc_curve(y_test, probs)\n",
    "    # plot no skill\n",
    "    plt.plot([0, 1], [0, 1], linestyle='--')\n",
    "    # plot the roc curve for the model\n",
    "    plt.plot(fpr, tpr, marker='.')\n",
    "    plt.title(\"ROC curve\")\n",
    "    plt.xlabel('false positive rate')\n",
    "    plt.ylabel('true positive rate')\n",
    "    # show the plot\n",
    "    plt.show()"
   ]
  },
  {
   "cell_type": "code",
   "execution_count": 38,
   "metadata": {},
   "outputs": [
    {
     "name": "stdout",
     "output_type": "stream",
     "text": [
      "roc  0.647006290752698\n"
     ]
    }
   ],
   "source": [
    "def logistic(X,y):\n",
    "    y_train=train['SeriousDlqin2yrs'].astype('uint8')\n",
    "    X_train,X_test,y_train,y_test=train_test_split(train.drop('SeriousDlqin2yrs',axis=1),y_train,test_size=.2,random_state=2020)\n",
    "    lr=LogisticRegression()\n",
    "    lr.fit(X_train,y_train)\n",
    "    prob=lr.predict_proba(X_test)\n",
    "    \n",
    "    roc=roc_auc_score(y_test, lr.predict_proba(X_test)[:,1])\n",
    "    print('roc ',roc)\n",
    "\n",
    "    return (prob[:,1],y_test)\n",
    "y_train=train['SeriousDlqin2yrs'].astype('uint8')\n",
    "probs,y_test=logistic(train.drop('SeriousDlqin2yrs',axis=1),y_train)"
   ]
  },
  {
   "cell_type": "code",
   "execution_count": 62,
   "metadata": {},
   "outputs": [
    {
     "data": {
      "image/png": "[encoded data removed]",
      "text/plain": [
       "<Figure size 432x288 with 1 Axes>"
      ]
     },
     "metadata": {
      "needs_background": "light"
     },
     "output_type": "display_data"
    }
   ],
   "source": [
    "plot_roc(y_test,probs)"
   ]
  },
  {
   "cell_type": "code",
   "execution_count": 40,
   "metadata": {},
   "outputs": [],
   "source": [
    "\n",
    "train_x, val_x, train_y, val_y=train_test_split(train.drop('SeriousDlqin2yrs',axis=1),y_train,test_size=.2,random_state=2020)\n",
    "\n",
    "clf = LogisticRegression(solver=\"lbfgs\").fit(train_x, train_y)\n",
    "pred_y = clf.predict(val_x)"
   ]
  },
  {
   "cell_type": "code",
   "execution_count": 41,
   "metadata": {},
   "outputs": [
    {
     "data": {
      "text/plain": [
       "0.5041934495861404"
      ]
     },
     "execution_count": 41,
     "metadata": {},
     "output_type": "execute_result"
    }
   ],
   "source": [
    "rocrl=roc_auc_score(val_y, pred_y)\n",
    "rocrl"
   ]
  },
  {
   "cell_type": "code",
   "execution_count": 42,
   "metadata": {},
   "outputs": [
    {
     "data": {
      "image/png": "[encoded data removed]",
      "text/plain": [
       "<Figure size 432x288 with 1 Axes>"
      ]
     },
     "metadata": {
      "needs_background": "light"
     },
     "output_type": "display_data"
    }
   ],
   "source": [
    "plot_roc(val_y, pred_y)"
   ]
  },
  {
   "cell_type": "code",
   "execution_count": 43,
   "metadata": {},
   "outputs": [
    {
     "name": "stdout",
     "output_type": "stream",
     "text": [
      "CPU times: user 30.6 s, sys: 341 ms, total: 30.9 s\n",
      "Wall time: 31.2 s\n"
     ]
    }
   ],
   "source": [
    "%%time\n",
    "model = RandomForestClassifier(n_estimators=220).fit(train_x,train_y)\n",
    "predictionforest = model.predict(val_x)"
   ]
  },
  {
   "cell_type": "code",
   "execution_count": 44,
   "metadata": {},
   "outputs": [
    {
     "name": "stdout",
     "output_type": "stream",
     "text": [
      "roc  0.5852891566178565\n",
      "CPU times: user 4.53 ms, sys: 1.59 ms, total: 6.12 ms\n",
      "Wall time: 4.57 ms\n"
     ]
    }
   ],
   "source": [
    "%%time\n",
    "rocrf=roc_auc_score(val_y, predictionforest)\n",
    "print('roc ',rocrf)"
   ]
  },
  {
   "cell_type": "code",
   "execution_count": 45,
   "metadata": {},
   "outputs": [
    {
     "data": {
      "image/png": "[encoded data removed]",
      "text/plain": [
       "<Figure size 432x288 with 1 Axes>"
      ]
     },
     "metadata": {
      "needs_background": "light"
     },
     "output_type": "display_data"
    }
   ],
   "source": [
    "plot_roc(val_y, predictionforest)"
   ]
  },
  {
   "cell_type": "code",
   "execution_count": 46,
   "metadata": {},
   "outputs": [],
   "source": [
    "xgb_cfl = xgb.XGBClassifier(n_jobs = -1, \n",
    "                            n_estimators = 220)\n",
    "\n",
    "xgb_cfl.fit(train_x, train_y)\n",
    "y_scorexgb = xgb_cfl.predict_proba(val_x)[:,1]"
   ]
  },
  {
   "cell_type": "code",
   "execution_count": 47,
   "metadata": {},
   "outputs": [
    {
     "name": "stdout",
     "output_type": "stream",
     "text": [
      "roc  0.8505855896829838\n"
     ]
    }
   ],
   "source": [
    "rocxgb=roc_auc_score(val_y, y_scorexgb)\n",
    "print('roc ',rocxgb)"
   ]
  },
  {
   "cell_type": "code",
   "execution_count": 48,
   "metadata": {},
   "outputs": [
    {
     "data": {
      "image/png": "[encoded data removed]",
      "text/plain": [
       "<Figure size 432x288 with 1 Axes>"
      ]
     },
     "metadata": {
      "needs_background": "light"
     },
     "output_type": "display_data"
    }
   ],
   "source": [
    "plot_roc(val_y, y_scorexgb)"
   ]
  },
  {
   "cell_type": "markdown",
   "metadata": {},
   "source": [
    "# Grid Search CV "
   ]
  },
  {
   "cell_type": "markdown",
   "metadata": {},
   "source": [
    "###### XGB Classifier"
   ]
  },
  {
   "cell_type": "code",
   "execution_count": 49,
   "metadata": {},
   "outputs": [],
   "source": [
    "xgb_cfl = xgb.XGBClassifier(n_jobs = -1)\n",
    "xgb_cfl.fit(train_x, train_y)\n",
    "y_pred = xgb_cfl.predict(val_x)\n",
    "y_score = xgb_cfl.predict_proba(val_x)[:,1]"
   ]
  },
  {
   "cell_type": "code",
   "execution_count": 50,
   "metadata": {},
   "outputs": [
    {
     "name": "stdout",
     "output_type": "stream",
     "text": [
      "Fitting 5 folds for each of 3 candidates, totalling 15 fits\n",
      "[CV] n_estimators=50 .................................................\n"
     ]
    },
    {
     "name": "stderr",
     "output_type": "stream",
     "text": [
      "[Parallel(n_jobs=1)]: Using backend SequentialBackend with 1 concurrent workers.\n"
     ]
    },
    {
     "name": "stdout",
     "output_type": "stream",
     "text": [
      "[CV] .................................. n_estimators=50, total=   1.8s\n",
      "[CV] n_estimators=50 .................................................\n"
     ]
    },
    {
     "name": "stderr",
     "output_type": "stream",
     "text": [
      "[Parallel(n_jobs=1)]: Done   1 out of   1 | elapsed:    1.8s remaining:    0.0s\n"
     ]
    },
    {
     "name": "stdout",
     "output_type": "stream",
     "text": [
      "[CV] .................................. n_estimators=50, total=   1.7s\n",
      "[CV] n_estimators=50 .................................................\n",
      "[CV] .................................. n_estimators=50, total=   1.8s\n",
      "[CV] n_estimators=50 .................................................\n",
      "[CV] .................................. n_estimators=50, total=   1.8s\n",
      "[CV] n_estimators=50 .................................................\n",
      "[CV] .................................. n_estimators=50, total=   1.8s\n",
      "[CV] n_estimators=100 ................................................\n",
      "[CV] ................................. n_estimators=100, total=   3.5s\n",
      "[CV] n_estimators=100 ................................................\n",
      "[CV] ................................. n_estimators=100, total=   3.4s\n",
      "[CV] n_estimators=100 ................................................\n",
      "[CV] ................................. n_estimators=100, total=   3.6s\n",
      "[CV] n_estimators=100 ................................................\n",
      "[CV] ................................. n_estimators=100, total=   3.5s\n",
      "[CV] n_estimators=100 ................................................\n",
      "[CV] ................................. n_estimators=100, total=   3.5s\n",
      "[CV] n_estimators=200 ................................................\n",
      "[CV] ................................. n_estimators=200, total=   8.2s\n",
      "[CV] n_estimators=200 ................................................\n",
      "[CV] ................................. n_estimators=200, total=   8.1s\n",
      "[CV] n_estimators=200 ................................................\n",
      "[CV] ................................. n_estimators=200, total=   7.1s\n",
      "[CV] n_estimators=200 ................................................\n",
      "[CV] ................................. n_estimators=200, total=   7.5s\n",
      "[CV] n_estimators=200 ................................................\n",
      "[CV] ................................. n_estimators=200, total=   7.9s\n"
     ]
    },
    {
     "name": "stderr",
     "output_type": "stream",
     "text": [
      "[Parallel(n_jobs=1)]: Done  15 out of  15 | elapsed:  1.1min finished\n"
     ]
    },
    {
     "name": "stdout",
     "output_type": "stream",
     "text": [
      "The best parameters:  {'n_estimators': 50}\n",
      "CPU times: user 8min 1s, sys: 13.5 s, total: 8min 15s\n",
      "Wall time: 1min 7s\n"
     ]
    }
   ],
   "source": [
    "%%time\n",
    "param_grid = {\n",
    "            'n_estimators': [50, 100, 200]\n",
    "              }\n",
    "\n",
    "CV_xgb_cfl = GridSearchCV(estimator = xgb_cfl, param_grid = param_grid, scoring ='roc_auc', verbose = 2)\n",
    "CV_xgb_cfl.fit(train_x, train_y)\n",
    "\n",
    "best_parameters = CV_xgb_cfl.best_params_\n",
    "print(\"The best parameters: \", best_parameters)"
   ]
  },
  {
   "cell_type": "code",
   "execution_count": 51,
   "metadata": {},
   "outputs": [],
   "source": [
    "xgb_cfl2 = xgb.XGBClassifier(n_jobs = -1, \n",
    "                            n_estimators = 120)\n",
    "\n",
    "xgb_cfl2.fit(train_x, train_y)\n",
    "y_score2 = xgb_cfl2.predict_proba(val_x)[:,1]"
   ]
  },
  {
   "cell_type": "code",
   "execution_count": 52,
   "metadata": {},
   "outputs": [
    {
     "name": "stdout",
     "output_type": "stream",
     "text": [
      "roc  0.8556019138284752\n"
     ]
    }
   ],
   "source": [
    "rocxgb=roc_auc_score(val_y, y_score2)\n",
    "print('roc ',rocxgb)"
   ]
  },
  {
   "cell_type": "code",
   "execution_count": 53,
   "metadata": {},
   "outputs": [
    {
     "data": {
      "image/png": "[encoded data removed]",
      "text/plain": [
       "<Figure size 432x288 with 1 Axes>"
      ]
     },
     "metadata": {
      "needs_background": "light"
     },
     "output_type": "display_data"
    }
   ],
   "source": [
    "plot_roc(val_y, y_score2)"
   ]
  },
  {
   "cell_type": "markdown",
   "metadata": {},
   "source": [
    "#### Score Analysis"
   ]
  },
  {
   "cell_type": "code",
   "execution_count": 54,
   "metadata": {},
   "outputs": [
    {
     "data": {
      "image/png": "[encoded data removed]",
      "text/plain": [
       "<Figure size 1080x288 with 3 Axes>"
      ]
     },
     "metadata": {
      "needs_background": "light"
     },
     "output_type": "display_data"
    },
    {
     "name": "stdout",
     "output_type": "stream",
     "text": [
      "Precision: 0.55 | Recall: 0.19 | F1 Score: 0.29 | \n"
     ]
    }
   ],
   "source": [
    "F1 = evalBinaryClassifier(xgb_cfl2, val_x, val_y)"
   ]
  },
  {
   "cell_type": "markdown",
   "metadata": {},
   "source": [
    "Probability Analysis"
   ]
  },
  {
   "cell_type": "code",
   "execution_count": 55,
   "metadata": {
    "_kg_hide-input": true
   },
   "outputs": [
    {
     "name": "stdout",
     "output_type": "stream",
     "text": [
      "count    1681.000000\n",
      "mean        0.271728\n",
      "std         0.233570\n",
      "min         0.001551\n",
      "25%         0.072179\n",
      "50%         0.199104\n",
      "75%         0.434366\n",
      "max         0.953646\n",
      "Name: Probability, dtype: float64\n"
     ]
    },
    {
     "data": {
      "text/plain": [
       "<matplotlib.axes._subplots.AxesSubplot at 0x7fbebfc3f460>"
      ]
     },
     "execution_count": 55,
     "metadata": {},
     "output_type": "execute_result"
    },
    {
     "data": {
      "image/png": "[encoded data removed]",
      "text/plain": [
       "<Figure size 432x288 with 1 Axes>"
      ]
     },
     "metadata": {
      "needs_background": "light"
     },
     "output_type": "display_data"
    }
   ],
   "source": [
    "## Target 1\n",
    "target1 = pd.DataFrame({\"Target\": val_y, 'Probability': y_score2 })\n",
    "print(target1.loc[target1.Target == 1, 'Probability'].describe())\n",
    "target1.loc[target1.Target == 1, 'Probability'].hist()\n"
   ]
  },
  {
   "cell_type": "markdown",
   "metadata": {},
   "source": [
    "# Submission"
   ]
  },
  {
   "cell_type": "code",
   "execution_count": 56,
   "metadata": {},
   "outputs": [],
   "source": [
    "test=test.drop([\"SeriousDlqin2yrs\",\"Unnamed: 0\"],1)"
   ]
  },
  {
   "cell_type": "code",
   "execution_count": 57,
   "metadata": {},
   "outputs": [
    {
     "data": {
      "text/html": [
       "<div>\n",
       "<style scoped>\n",
       "    .dataframe tbody tr th:only-of-type {\n",
       "        vertical-align: middle;\n",
       "    }\n",
       "\n",
       "    .dataframe tbody tr th {\n",
       "        vertical-align: top;\n",
       "    }\n",
       "\n",
       "    .dataframe thead th {\n",
       "        text-align: right;\n",
       "    }\n",
       "</style>\n",
       "<table border=\"1\" class=\"dataframe\">\n",
       "  <thead>\n",
       "    <tr style=\"text-align: right;\">\n",
       "      <th></th>\n",
       "      <th>Id</th>\n",
       "      <th>Probability</th>\n",
       "    </tr>\n",
       "  </thead>\n",
       "  <tbody>\n",
       "    <tr>\n",
       "      <th>0</th>\n",
       "      <td>1</td>\n",
       "      <td>0.040222</td>\n",
       "    </tr>\n",
       "    <tr>\n",
       "      <th>1</th>\n",
       "      <td>2</td>\n",
       "      <td>0.021043</td>\n",
       "    </tr>\n",
       "    <tr>\n",
       "      <th>2</th>\n",
       "      <td>3</td>\n",
       "      <td>0.023196</td>\n",
       "    </tr>\n",
       "    <tr>\n",
       "      <th>3</th>\n",
       "      <td>4</td>\n",
       "      <td>0.084662</td>\n",
       "    </tr>\n",
       "    <tr>\n",
       "      <th>4</th>\n",
       "      <td>5</td>\n",
       "      <td>0.105630</td>\n",
       "    </tr>\n",
       "  </tbody>\n",
       "</table>\n",
       "</div>"
      ],
      "text/plain": [
       "   Id  Probability\n",
       "0   1     0.040222\n",
       "1   2     0.021043\n",
       "2   3     0.023196\n",
       "3   4     0.084662\n",
       "4   5     0.105630"
      ]
     },
     "execution_count": 57,
     "metadata": {},
     "output_type": "execute_result"
    }
   ],
   "source": [
    "res = xgb_cfl2.predict_proba(test)[:,1]\n",
    "sampleEntry[\"Probability\"]=res\n",
    "sampleEntry.head()"
   ]
  },
  {
   "cell_type": "code",
   "execution_count": 58,
   "metadata": {},
   "outputs": [],
   "source": [
    "sampleEntry.to_csv(\"submission.csv\",index=False)"
   ]
  },
  {
   "cell_type": "markdown",
   "metadata": {},
   "source": [
    "## Deploy model using mia marketplace\n",
    "![](https://miro.medium.com/max/1773/1*QuP5nFnvBNg-IrHvQ2-hCA.png)\n",
    "mia is a platform for building and sharing machine learning apps\n"
   ]
  },
  {
   "cell_type": "markdown",
   "metadata": {},
   "source": [
    "Mia Platform link, **Risk Models**: https://miamarketplace.com/pages/riskmodels"
   ]
  },
  {
   "cell_type": "code",
   "execution_count": 59,
   "metadata": {},
   "outputs": [
    {
     "name": "stdout",
     "output_type": "stream",
     "text": [
      "3.8.3\n"
     ]
    }
   ],
   "source": [
    "from platform import python_version\n",
    "print(python_version())"
   ]
  },
  {
   "cell_type": "markdown",
   "metadata": {},
   "source": [
    "XGBoost"
   ]
  },
  {
   "cell_type": "code",
   "execution_count": 60,
   "metadata": {},
   "outputs": [
    {
     "data": {
      "text/html": [
       "<div>\n",
       "<style scoped>\n",
       "    .dataframe tbody tr th:only-of-type {\n",
       "        vertical-align: middle;\n",
       "    }\n",
       "\n",
       "    .dataframe tbody tr th {\n",
       "        vertical-align: top;\n",
       "    }\n",
       "\n",
       "    .dataframe thead th {\n",
       "        text-align: right;\n",
       "    }\n",
       "</style>\n",
       "<table border=\"1\" class=\"dataframe\">\n",
       "  <thead>\n",
       "    <tr style=\"text-align: right;\">\n",
       "      <th></th>\n",
       "      <th>RevolvingUtilizationOfUnsecuredLines</th>\n",
       "      <th>age</th>\n",
       "      <th>NumberOfTime30-59DaysPastDueNotWorse</th>\n",
       "      <th>DebtRatio</th>\n",
       "      <th>MonthlyIncome</th>\n",
       "      <th>NumberOfOpenCreditLinesAndLoans</th>\n",
       "      <th>NumberOfTimes90DaysLate</th>\n",
       "      <th>NumberRealEstateLoansOrLines</th>\n",
       "      <th>NumberOfTime60-89DaysPastDueNotWorse</th>\n",
       "      <th>NumberOfDependents</th>\n",
       "    </tr>\n",
       "  </thead>\n",
       "  <tbody>\n",
       "    <tr>\n",
       "      <th>count</th>\n",
       "      <td>101503.000000</td>\n",
       "      <td>101503.000000</td>\n",
       "      <td>101503.000000</td>\n",
       "      <td>101503.000000</td>\n",
       "      <td>8.140000e+04</td>\n",
       "      <td>101503.000000</td>\n",
       "      <td>101503.000000</td>\n",
       "      <td>101503.000000</td>\n",
       "      <td>101503.000000</td>\n",
       "      <td>98877.000000</td>\n",
       "    </tr>\n",
       "    <tr>\n",
       "      <th>mean</th>\n",
       "      <td>5.310000</td>\n",
       "      <td>52.405436</td>\n",
       "      <td>0.453770</td>\n",
       "      <td>344.475020</td>\n",
       "      <td>6.855036e+03</td>\n",
       "      <td>8.453514</td>\n",
       "      <td>0.296691</td>\n",
       "      <td>1.013074</td>\n",
       "      <td>0.270317</td>\n",
       "      <td>0.769046</td>\n",
       "    </tr>\n",
       "    <tr>\n",
       "      <th>std</th>\n",
       "      <td>196.156039</td>\n",
       "      <td>14.779756</td>\n",
       "      <td>4.538487</td>\n",
       "      <td>1632.595231</td>\n",
       "      <td>3.650860e+04</td>\n",
       "      <td>5.144100</td>\n",
       "      <td>4.515859</td>\n",
       "      <td>1.110253</td>\n",
       "      <td>4.503578</td>\n",
       "      <td>1.136778</td>\n",
       "    </tr>\n",
       "    <tr>\n",
       "      <th>min</th>\n",
       "      <td>0.000000</td>\n",
       "      <td>21.000000</td>\n",
       "      <td>0.000000</td>\n",
       "      <td>0.000000</td>\n",
       "      <td>0.000000e+00</td>\n",
       "      <td>0.000000</td>\n",
       "      <td>0.000000</td>\n",
       "      <td>0.000000</td>\n",
       "      <td>0.000000</td>\n",
       "      <td>0.000000</td>\n",
       "    </tr>\n",
       "    <tr>\n",
       "      <th>25%</th>\n",
       "      <td>0.030131</td>\n",
       "      <td>41.000000</td>\n",
       "      <td>0.000000</td>\n",
       "      <td>0.173423</td>\n",
       "      <td>3.408000e+03</td>\n",
       "      <td>5.000000</td>\n",
       "      <td>0.000000</td>\n",
       "      <td>0.000000</td>\n",
       "      <td>0.000000</td>\n",
       "      <td>0.000000</td>\n",
       "    </tr>\n",
       "    <tr>\n",
       "      <th>50%</th>\n",
       "      <td>0.152586</td>\n",
       "      <td>52.000000</td>\n",
       "      <td>0.000000</td>\n",
       "      <td>0.364260</td>\n",
       "      <td>5.400000e+03</td>\n",
       "      <td>8.000000</td>\n",
       "      <td>0.000000</td>\n",
       "      <td>1.000000</td>\n",
       "      <td>0.000000</td>\n",
       "      <td>0.000000</td>\n",
       "    </tr>\n",
       "    <tr>\n",
       "      <th>75%</th>\n",
       "      <td>0.564225</td>\n",
       "      <td>63.000000</td>\n",
       "      <td>0.000000</td>\n",
       "      <td>0.851619</td>\n",
       "      <td>8.200000e+03</td>\n",
       "      <td>11.000000</td>\n",
       "      <td>0.000000</td>\n",
       "      <td>2.000000</td>\n",
       "      <td>0.000000</td>\n",
       "      <td>1.000000</td>\n",
       "    </tr>\n",
       "    <tr>\n",
       "      <th>max</th>\n",
       "      <td>21821.000000</td>\n",
       "      <td>104.000000</td>\n",
       "      <td>98.000000</td>\n",
       "      <td>268326.000000</td>\n",
       "      <td>7.727000e+06</td>\n",
       "      <td>85.000000</td>\n",
       "      <td>98.000000</td>\n",
       "      <td>37.000000</td>\n",
       "      <td>98.000000</td>\n",
       "      <td>43.000000</td>\n",
       "    </tr>\n",
       "  </tbody>\n",
       "</table>\n",
       "</div>"
      ],
      "text/plain": [
       "       RevolvingUtilizationOfUnsecuredLines            age  \\\n",
       "count                         101503.000000  101503.000000   \n",
       "mean                               5.310000      52.405436   \n",
       "std                              196.156039      14.779756   \n",
       "min                                0.000000      21.000000   \n",
       "25%                                0.030131      41.000000   \n",
       "50%                                0.152586      52.000000   \n",
       "75%                                0.564225      63.000000   \n",
       "max                            21821.000000     104.000000   \n",
       "\n",
       "       NumberOfTime30-59DaysPastDueNotWorse      DebtRatio  MonthlyIncome  \\\n",
       "count                         101503.000000  101503.000000   8.140000e+04   \n",
       "mean                               0.453770     344.475020   6.855036e+03   \n",
       "std                                4.538487    1632.595231   3.650860e+04   \n",
       "min                                0.000000       0.000000   0.000000e+00   \n",
       "25%                                0.000000       0.173423   3.408000e+03   \n",
       "50%                                0.000000       0.364260   5.400000e+03   \n",
       "75%                                0.000000       0.851619   8.200000e+03   \n",
       "max                               98.000000  268326.000000   7.727000e+06   \n",
       "\n",
       "       NumberOfOpenCreditLinesAndLoans  NumberOfTimes90DaysLate  \\\n",
       "count                    101503.000000            101503.000000   \n",
       "mean                          8.453514                 0.296691   \n",
       "std                           5.144100                 4.515859   \n",
       "min                           0.000000                 0.000000   \n",
       "25%                           5.000000                 0.000000   \n",
       "50%                           8.000000                 0.000000   \n",
       "75%                          11.000000                 0.000000   \n",
       "max                          85.000000                98.000000   \n",
       "\n",
       "       NumberRealEstateLoansOrLines  NumberOfTime60-89DaysPastDueNotWorse  \\\n",
       "count                 101503.000000                         101503.000000   \n",
       "mean                       1.013074                              0.270317   \n",
       "std                        1.110253                              4.503578   \n",
       "min                        0.000000                              0.000000   \n",
       "25%                        0.000000                              0.000000   \n",
       "50%                        1.000000                              0.000000   \n",
       "75%                        2.000000                              0.000000   \n",
       "max                       37.000000                             98.000000   \n",
       "\n",
       "       NumberOfDependents  \n",
       "count        98877.000000  \n",
       "mean             0.769046  \n",
       "std              1.136778  \n",
       "min              0.000000  \n",
       "25%              0.000000  \n",
       "50%              0.000000  \n",
       "75%              1.000000  \n",
       "max             43.000000  "
      ]
     },
     "execution_count": 60,
     "metadata": {},
     "output_type": "execute_result"
    }
   ],
   "source": [
    "test.describe()"
   ]
  },
  {
   "cell_type": "code",
   "execution_count": 61,
   "metadata": {},
   "outputs": [],
   "source": [
    "# save model to file\n",
    "xgb_cfl2.save_model(\"model.bst\")\n"
   ]
  },
  {
   "cell_type": "markdown",
   "metadata": {},
   "source": [
    "# Final"
   ]
  }
 ],
 "metadata": {
  "kernelspec": {
   "display_name": "Python 3",
   "language": "python",
   "name": "python3"
  },
  "language_info": {
   "codemirror_mode": {
    "name": "ipython",
    "version": 3
   },
   "file_extension": ".py",
   "mimetype": "text/x-python",
   "name": "python",
   "nbconvert_exporter": "python",
   "pygments_lexer": "ipython3",
   "version": "3.8.3"
  }
 },
 "nbformat": 4,
 "nbformat_minor": 4
}
