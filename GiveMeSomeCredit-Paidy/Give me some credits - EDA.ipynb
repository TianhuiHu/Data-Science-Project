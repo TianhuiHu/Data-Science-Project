{
 "cells": [
  {
   "cell_type": "markdown",
   "metadata": {},
   "source": [
    "<center> <h1> Default Prediction Project </h1> </center>\n",
    "<center> <h2> Give Me Some Credit </h2> </center>\n",
    "<center> <i>  Tianhui Hu </i> </center>"
   ]
  },
  {
   "cell_type": "markdown",
   "metadata": {},
   "source": [
    "# Exploratory Data Analysis - Preparing for one of the top performing models\n",
    "\n",
    "In this notebook, an exploratory data analysis is performed on Give Me Some Credit's training set and preprocessing steps will be listed. These preprocessing steps will be the preparatory work for training a XGBoost model on the dataset, which is able to attain private and public scores of **0.86756** and **0.86104** respectively. The private and public scores are ranked top 100 and top 130 respectively (at the point of time of submitting this notebook).\n",
    "\n",
    "\n",
    "\n"
   ]
  },
  {
   "cell_type": "markdown",
   "metadata": {},
   "source": [
    "## EDA Summary<a class=\"anchor\" id=\"3\"></a>\n",
    "- Around 6% of samples defaulted\n",
    "- MonthlyIncome and NumberOfDependents have 29731 (19.82%) and 3924 (2.61%) null values respectively\n",
    "- We also notice that when NumberOfTimes90DaysLate has values above 17, there are 267 instances where the three columns NumberOfTimes90DaysLate, NumberOfTime60-89DaysPastDueNotWorse, NumberOfTime30-59DaysPastDueNotWorse share the same values, specifically 96 and 98.\n",
    "    - We can see that sharing the same values of 96 and 98 respectively is not logical since trivial calculations can reveal that being 30 days past due for 96 times for a single person within a timespan of 2 years is not possible.\n",
    "- RevolvingUtilizationOfUnsecuredLines\n",
    "    - Defined as ratio of the total amount of money owed to total credit limit\n",
    "    - distribution of values is right-skewed, consider removing outliers\n",
    "    - It is expected that as this value increases, the proportion of people defaulting should increase as well\n",
    "    - However, we can see that as the minimum value of this column is set to 13, the proportion of defaulters is smaller than that belonging to the pool of clients with total amount of money owed not exceeding total credit limit.\n",
    "    - Thus we should remove those samples with RevolvingUtilizationOfUnsecuredLines's value more than equal to 13\n",
    "- age\n",
    "    - There seems to be more younger people defaulting and the distribution seems fine on the whole\n",
    "- NumberOfTimes90DaysLate\n",
    "    - It is interesting to note that there are no one who is 90 or more days past due between 17 and 96 times.\n",
    "- NumberOfTime60-89DaysPastDueNotWorse\n",
    "    - It is interesting to note that there are no one who is 60-89 days past due between 11 and 96 times.\n",
    "- NumberOfTime30-59DaysPastDueNotWorse\n",
    "    - It is interesting to note that there are no one who is 30-59 days past due between 13 and 96 times.\n",
    "- DebtRatio\n",
    "    - 2.5% of clients owe around 3490 or more times what they own\n",
    "    - For the people who have monthly income in this 2.5%, only 185 people have values for their monthly incomes and the values are either 0 or 1.\n",
    "    - There are 164 out of these 185 people who are of two different types, first with no monthly income and does not default and second with monthly income and does default.\n",
    "- MonthlyIncome\n",
    "    - Distribution of values is skewed, we can consider imputation with median.\n",
    "    - We can also consider imputing with normally distributed values with its mean and standard deviation.\n",
    "- Numberof Dependents\n",
    "    - We can consider imputing with its mode, which is zero."
   ]
  },
  {
   "cell_type": "markdown",
   "metadata": {},
   "source": [
    "\n",
    "## Table of Contents\n",
    "\n",
    "1. [Import Packages](#1)\n",
    "2. [Import Data](#2)\n",
    "3. [EDA](#3)\n",
    "   - [SeriousDlqin2yrs](#3.1)\n",
    "   - [Null Values and Proportions](#3.2)\n",
    "   - [MonthlyIncome](#3.3)\n",
    "   - [Age](#3.4)\n",
    "   - [DebtRatio](#3.5)\n",
    "   - [Late Payment Columns](#3.6)\n",
    "   - [NumberOfOpenCreditLinesAndLoans](#3.7)\n",
    "   - [NumberRealEstateLoansOrLines](#3.8)\n",
    "   - [RevolvingUtilizationOfUnsecuredLines](#3.9)\n",
    "   - [NumberOfDependents](#3.10)\n",
    "   - [EDA Summary](#3.11)\n",
    "4. [Preprocessing Suggestions](#4)\n",
    "5. [References](#5)"
   ]
  },
  {
   "cell_type": "markdown",
   "metadata": {},
   "source": [
    "## Import Packages <a class=\"anchor\" id=\"1\"></a>"
   ]
  },
  {
   "cell_type": "code",
   "execution_count": 260,
   "metadata": {
    "_cell_guid": "b1076dfc-b9ad-4769-8c92-a6c4dae69d19",
    "_uuid": "8f2839f25d086af736a60e9eeb907d3b93b6e0e5"
   },
   "outputs": [],
   "source": [
    "import numpy as np \n",
    "import pandas as pd \n",
    "import matplotlib.pyplot as plt\n",
    "import seaborn as sns\n",
    "%matplotlib inline\n",
    "import os\n"
   ]
  },
  {
   "cell_type": "markdown",
   "metadata": {},
   "source": [
    "## Import Data <a class=\"anchor\" id=\"2\"></a>"
   ]
  },
  {
   "cell_type": "code",
   "execution_count": 261,
   "metadata": {
    "_cell_guid": "79c7e3d0-c299-4dcb-8224-4455121ee9b0",
    "_uuid": "d629ff2d2480ee46fbb7e2d37f6b5fab8052498a"
   },
   "outputs": [
    {
     "data": {
      "text/html": [
       "<div>\n",
       "<style scoped>\n",
       "    .dataframe tbody tr th:only-of-type {\n",
       "        vertical-align: middle;\n",
       "    }\n",
       "\n",
       "    .dataframe tbody tr th {\n",
       "        vertical-align: top;\n",
       "    }\n",
       "\n",
       "    .dataframe thead th {\n",
       "        text-align: right;\n",
       "    }\n",
       "</style>\n",
       "<table border=\"1\" class=\"dataframe\">\n",
       "  <thead>\n",
       "    <tr style=\"text-align: right;\">\n",
       "      <th></th>\n",
       "      <th>Unnamed: 0</th>\n",
       "      <th>SeriousDlqin2yrs</th>\n",
       "      <th>RevolvingUtilizationOfUnsecuredLines</th>\n",
       "      <th>age</th>\n",
       "      <th>NumberOfTime30-59DaysPastDueNotWorse</th>\n",
       "      <th>DebtRatio</th>\n",
       "      <th>MonthlyIncome</th>\n",
       "      <th>NumberOfOpenCreditLinesAndLoans</th>\n",
       "      <th>NumberOfTimes90DaysLate</th>\n",
       "      <th>NumberRealEstateLoansOrLines</th>\n",
       "      <th>NumberOfTime60-89DaysPastDueNotWorse</th>\n",
       "      <th>NumberOfDependents</th>\n",
       "    </tr>\n",
       "  </thead>\n",
       "  <tbody>\n",
       "    <tr>\n",
       "      <th>0</th>\n",
       "      <td>1</td>\n",
       "      <td>1</td>\n",
       "      <td>0.77</td>\n",
       "      <td>45</td>\n",
       "      <td>2</td>\n",
       "      <td>0.80</td>\n",
       "      <td>9,120.00</td>\n",
       "      <td>13</td>\n",
       "      <td>0</td>\n",
       "      <td>6</td>\n",
       "      <td>0</td>\n",
       "      <td>2.00</td>\n",
       "    </tr>\n",
       "    <tr>\n",
       "      <th>1</th>\n",
       "      <td>2</td>\n",
       "      <td>0</td>\n",
       "      <td>0.96</td>\n",
       "      <td>40</td>\n",
       "      <td>0</td>\n",
       "      <td>0.12</td>\n",
       "      <td>2,600.00</td>\n",
       "      <td>4</td>\n",
       "      <td>0</td>\n",
       "      <td>0</td>\n",
       "      <td>0</td>\n",
       "      <td>1.00</td>\n",
       "    </tr>\n",
       "    <tr>\n",
       "      <th>2</th>\n",
       "      <td>3</td>\n",
       "      <td>0</td>\n",
       "      <td>0.66</td>\n",
       "      <td>38</td>\n",
       "      <td>1</td>\n",
       "      <td>0.09</td>\n",
       "      <td>3,042.00</td>\n",
       "      <td>2</td>\n",
       "      <td>1</td>\n",
       "      <td>0</td>\n",
       "      <td>0</td>\n",
       "      <td>0.00</td>\n",
       "    </tr>\n",
       "    <tr>\n",
       "      <th>3</th>\n",
       "      <td>4</td>\n",
       "      <td>0</td>\n",
       "      <td>0.23</td>\n",
       "      <td>30</td>\n",
       "      <td>0</td>\n",
       "      <td>0.04</td>\n",
       "      <td>3,300.00</td>\n",
       "      <td>5</td>\n",
       "      <td>0</td>\n",
       "      <td>0</td>\n",
       "      <td>0</td>\n",
       "      <td>0.00</td>\n",
       "    </tr>\n",
       "    <tr>\n",
       "      <th>4</th>\n",
       "      <td>5</td>\n",
       "      <td>0</td>\n",
       "      <td>0.91</td>\n",
       "      <td>49</td>\n",
       "      <td>1</td>\n",
       "      <td>0.02</td>\n",
       "      <td>63,588.00</td>\n",
       "      <td>7</td>\n",
       "      <td>0</td>\n",
       "      <td>1</td>\n",
       "      <td>0</td>\n",
       "      <td>0.00</td>\n",
       "    </tr>\n",
       "  </tbody>\n",
       "</table>\n",
       "</div>"
      ],
      "text/plain": [
       "   Unnamed: 0  SeriousDlqin2yrs  RevolvingUtilizationOfUnsecuredLines  age  \\\n",
       "0           1                 1                                  0.77   45   \n",
       "1           2                 0                                  0.96   40   \n",
       "2           3                 0                                  0.66   38   \n",
       "3           4                 0                                  0.23   30   \n",
       "4           5                 0                                  0.91   49   \n",
       "\n",
       "   NumberOfTime30-59DaysPastDueNotWorse  DebtRatio  MonthlyIncome  \\\n",
       "0                                     2       0.80       9,120.00   \n",
       "1                                     0       0.12       2,600.00   \n",
       "2                                     1       0.09       3,042.00   \n",
       "3                                     0       0.04       3,300.00   \n",
       "4                                     1       0.02      63,588.00   \n",
       "\n",
       "   NumberOfOpenCreditLinesAndLoans  NumberOfTimes90DaysLate  \\\n",
       "0                               13                        0   \n",
       "1                                4                        0   \n",
       "2                                2                        1   \n",
       "3                                5                        0   \n",
       "4                                7                        0   \n",
       "\n",
       "   NumberRealEstateLoansOrLines  NumberOfTime60-89DaysPastDueNotWorse  \\\n",
       "0                             6                                     0   \n",
       "1                             0                                     0   \n",
       "2                             0                                     0   \n",
       "3                             0                                     0   \n",
       "4                             1                                     0   \n",
       "\n",
       "   NumberOfDependents  \n",
       "0                2.00  \n",
       "1                1.00  \n",
       "2                0.00  \n",
       "3                0.00  \n",
       "4                0.00  "
      ]
     },
     "execution_count": 261,
     "metadata": {},
     "output_type": "execute_result"
    }
   ],
   "source": [
    "##df = pd.read_csv(\"cs-training.csv\")\n",
    "df_train = pd.read_csv(\"cs-training.csv\")\n",
    "df_test = pd.read_csv(\"cs-test.csv\")\n",
    "df_train.head()"
   ]
  },
  {
   "cell_type": "markdown",
   "metadata": {},
   "source": [
    "Variable Name\tDescription\tType\n",
    "- ``SeriousDlqin2yrs``\tPerson experienced 90 days past due delinquency or worse\tY/N\n",
    "- ``RevolvingUtilizationOfUnsecuredLines``\tTotal balance on credit cards and personal lines of credit except real estate and no installment debt like car loans divided by the sum of credit limits\tpercentage\n",
    "- ``age``\tAge of borrower in years\tinteger\n",
    "- ``DebtRatio``\tMonthly debt payments, alimony,living costs divided by monthy gross income\tpercentage\n",
    "- ``MonthlyIncome``\tMonthly income\treal\n",
    "- ``NumberOfOpenCreditLinesAndLoans``\tNumber of Open loans (installment like car loan or mortgage) and Lines of credit (e.g. credit cards)\tinteger\n",
    "- ``NumberOfTime3059DaysPastDueNotWorse``\tNumber of times borrower has been 30-59 days past due but no worse in the last 2 years.\tinteger\n",
    "- ``NumberOfTimes90DaysLate``\tNumber of times borrower has been 90 days or more past due.\tinteger\n",
    "- ``NumberOfTime60-89DaysPastDueNotWorse``\tNumber of times borrower has been 60-89 days past due but no worse in the last 2 years.\tinteger\n",
    "- ``NumberRealEstateLoansOrLines``\tNumber of mortgage and real estate loans including home equity lines of credit\tinteger\n",
    "- ``NumberOfDependents``\tNumber of dependents in family excluding themselves (spouse, children etc.)\tinteger"
   ]
  },
  {
   "cell_type": "code",
   "execution_count": 262,
   "metadata": {},
   "outputs": [
    {
     "data": {
      "text/plain": [
       "(150000, 12)"
      ]
     },
     "execution_count": 262,
     "metadata": {},
     "output_type": "execute_result"
    }
   ],
   "source": [
    "df_train.shape"
   ]
  },
  {
   "cell_type": "code",
   "execution_count": 263,
   "metadata": {},
   "outputs": [
    {
     "name": "stdout",
     "output_type": "stream",
     "text": [
      "<class 'pandas.core.frame.DataFrame'>\n",
      "RangeIndex: 150000 entries, 0 to 149999\n",
      "Data columns (total 12 columns):\n",
      " #   Column                                Non-Null Count   Dtype  \n",
      "---  ------                                --------------   -----  \n",
      " 0   Unnamed: 0                            150000 non-null  int64  \n",
      " 1   SeriousDlqin2yrs                      150000 non-null  int64  \n",
      " 2   RevolvingUtilizationOfUnsecuredLines  150000 non-null  float64\n",
      " 3   age                                   150000 non-null  int64  \n",
      " 4   NumberOfTime30-59DaysPastDueNotWorse  150000 non-null  int64  \n",
      " 5   DebtRatio                             150000 non-null  float64\n",
      " 6   MonthlyIncome                         120269 non-null  float64\n",
      " 7   NumberOfOpenCreditLinesAndLoans       150000 non-null  int64  \n",
      " 8   NumberOfTimes90DaysLate               150000 non-null  int64  \n",
      " 9   NumberRealEstateLoansOrLines          150000 non-null  int64  \n",
      " 10  NumberOfTime60-89DaysPastDueNotWorse  150000 non-null  int64  \n",
      " 11  NumberOfDependents                    146076 non-null  float64\n",
      "dtypes: float64(4), int64(8)\n",
      "memory usage: 13.7 MB\n"
     ]
    }
   ],
   "source": [
    "df_train.info()"
   ]
  },
  {
   "cell_type": "markdown",
   "metadata": {},
   "source": [
    "It's generally a good practice to remove duplicates from your data before creating a model. Duplicates can artificially inflate the size of your dataset and can also cause issues with certain types of models. Additionally, duplicates may indicate errors or inconsistencies in the data collection process that could affect the accuracy and reliability of your model. Removing duplicates ensures that each observation in your dataset is unique and reduces the risk of bias or overfitting in your model."
   ]
  },
  {
   "cell_type": "code",
   "execution_count": 264,
   "metadata": {},
   "outputs": [
    {
     "name": "stdout",
     "output_type": "stream",
     "text": [
      "Empty DataFrame\n",
      "Columns: [Unnamed: 0, SeriousDlqin2yrs, RevolvingUtilizationOfUnsecuredLines, age, NumberOfTime30-59DaysPastDueNotWorse, DebtRatio, MonthlyIncome, NumberOfOpenCreditLinesAndLoans, NumberOfTimes90DaysLate, NumberRealEstateLoansOrLines, NumberOfTime60-89DaysPastDueNotWorse, NumberOfDependents]\n",
      "Index: []\n"
     ]
    }
   ],
   "source": [
    "duplicates = df_train[df_train.duplicated()]\n",
    "print(duplicates)"
   ]
  },
  {
   "cell_type": "markdown",
   "metadata": {},
   "source": [
    "After checking, there is no duplication in the dataset, we are good to go :)"
   ]
  },
  {
   "cell_type": "code",
   "execution_count": 265,
   "metadata": {},
   "outputs": [
    {
     "data": {
      "text/html": [
       "<div>\n",
       "<style scoped>\n",
       "    .dataframe tbody tr th:only-of-type {\n",
       "        vertical-align: middle;\n",
       "    }\n",
       "\n",
       "    .dataframe tbody tr th {\n",
       "        vertical-align: top;\n",
       "    }\n",
       "\n",
       "    .dataframe thead th {\n",
       "        text-align: right;\n",
       "    }\n",
       "</style>\n",
       "<table border=\"1\" class=\"dataframe\">\n",
       "  <thead>\n",
       "    <tr style=\"text-align: right;\">\n",
       "      <th></th>\n",
       "      <th>Unnamed: 0</th>\n",
       "      <th>SeriousDlqin2yrs</th>\n",
       "      <th>RevolvingUtilizationOfUnsecuredLines</th>\n",
       "      <th>age</th>\n",
       "      <th>NumberOfTime30-59DaysPastDueNotWorse</th>\n",
       "      <th>DebtRatio</th>\n",
       "      <th>MonthlyIncome</th>\n",
       "      <th>NumberOfOpenCreditLinesAndLoans</th>\n",
       "      <th>NumberOfTimes90DaysLate</th>\n",
       "      <th>NumberRealEstateLoansOrLines</th>\n",
       "      <th>NumberOfTime60-89DaysPastDueNotWorse</th>\n",
       "      <th>NumberOfDependents</th>\n",
       "    </tr>\n",
       "  </thead>\n",
       "  <tbody>\n",
       "    <tr>\n",
       "      <th>count</th>\n",
       "      <td>150,000.00</td>\n",
       "      <td>150,000.00</td>\n",
       "      <td>150,000.00</td>\n",
       "      <td>150,000.00</td>\n",
       "      <td>150,000.00</td>\n",
       "      <td>150,000.00</td>\n",
       "      <td>120,269.00</td>\n",
       "      <td>150,000.00</td>\n",
       "      <td>150,000.00</td>\n",
       "      <td>150,000.00</td>\n",
       "      <td>150,000.00</td>\n",
       "      <td>146,076.00</td>\n",
       "    </tr>\n",
       "    <tr>\n",
       "      <th>mean</th>\n",
       "      <td>75,000.50</td>\n",
       "      <td>0.07</td>\n",
       "      <td>6.05</td>\n",
       "      <td>52.30</td>\n",
       "      <td>0.42</td>\n",
       "      <td>353.01</td>\n",
       "      <td>6,670.22</td>\n",
       "      <td>8.45</td>\n",
       "      <td>0.27</td>\n",
       "      <td>1.02</td>\n",
       "      <td>0.24</td>\n",
       "      <td>0.76</td>\n",
       "    </tr>\n",
       "    <tr>\n",
       "      <th>std</th>\n",
       "      <td>43,301.41</td>\n",
       "      <td>0.25</td>\n",
       "      <td>249.76</td>\n",
       "      <td>14.77</td>\n",
       "      <td>4.19</td>\n",
       "      <td>2,037.82</td>\n",
       "      <td>14,384.67</td>\n",
       "      <td>5.15</td>\n",
       "      <td>4.17</td>\n",
       "      <td>1.13</td>\n",
       "      <td>4.16</td>\n",
       "      <td>1.12</td>\n",
       "    </tr>\n",
       "    <tr>\n",
       "      <th>min</th>\n",
       "      <td>1.00</td>\n",
       "      <td>0.00</td>\n",
       "      <td>0.00</td>\n",
       "      <td>0.00</td>\n",
       "      <td>0.00</td>\n",
       "      <td>0.00</td>\n",
       "      <td>0.00</td>\n",
       "      <td>0.00</td>\n",
       "      <td>0.00</td>\n",
       "      <td>0.00</td>\n",
       "      <td>0.00</td>\n",
       "      <td>0.00</td>\n",
       "    </tr>\n",
       "    <tr>\n",
       "      <th>25%</th>\n",
       "      <td>37,500.75</td>\n",
       "      <td>0.00</td>\n",
       "      <td>0.03</td>\n",
       "      <td>41.00</td>\n",
       "      <td>0.00</td>\n",
       "      <td>0.18</td>\n",
       "      <td>3,400.00</td>\n",
       "      <td>5.00</td>\n",
       "      <td>0.00</td>\n",
       "      <td>0.00</td>\n",
       "      <td>0.00</td>\n",
       "      <td>0.00</td>\n",
       "    </tr>\n",
       "    <tr>\n",
       "      <th>50%</th>\n",
       "      <td>75,000.50</td>\n",
       "      <td>0.00</td>\n",
       "      <td>0.15</td>\n",
       "      <td>52.00</td>\n",
       "      <td>0.00</td>\n",
       "      <td>0.37</td>\n",
       "      <td>5,400.00</td>\n",
       "      <td>8.00</td>\n",
       "      <td>0.00</td>\n",
       "      <td>1.00</td>\n",
       "      <td>0.00</td>\n",
       "      <td>0.00</td>\n",
       "    </tr>\n",
       "    <tr>\n",
       "      <th>75%</th>\n",
       "      <td>112,500.25</td>\n",
       "      <td>0.00</td>\n",
       "      <td>0.56</td>\n",
       "      <td>63.00</td>\n",
       "      <td>0.00</td>\n",
       "      <td>0.87</td>\n",
       "      <td>8,249.00</td>\n",
       "      <td>11.00</td>\n",
       "      <td>0.00</td>\n",
       "      <td>2.00</td>\n",
       "      <td>0.00</td>\n",
       "      <td>1.00</td>\n",
       "    </tr>\n",
       "    <tr>\n",
       "      <th>max</th>\n",
       "      <td>150,000.00</td>\n",
       "      <td>1.00</td>\n",
       "      <td>50,708.00</td>\n",
       "      <td>109.00</td>\n",
       "      <td>98.00</td>\n",
       "      <td>329,664.00</td>\n",
       "      <td>3,008,750.00</td>\n",
       "      <td>58.00</td>\n",
       "      <td>98.00</td>\n",
       "      <td>54.00</td>\n",
       "      <td>98.00</td>\n",
       "      <td>20.00</td>\n",
       "    </tr>\n",
       "  </tbody>\n",
       "</table>\n",
       "</div>"
      ],
      "text/plain": [
       "       Unnamed: 0  SeriousDlqin2yrs  RevolvingUtilizationOfUnsecuredLines  \\\n",
       "count  150,000.00        150,000.00                            150,000.00   \n",
       "mean    75,000.50              0.07                                  6.05   \n",
       "std     43,301.41              0.25                                249.76   \n",
       "min          1.00              0.00                                  0.00   \n",
       "25%     37,500.75              0.00                                  0.03   \n",
       "50%     75,000.50              0.00                                  0.15   \n",
       "75%    112,500.25              0.00                                  0.56   \n",
       "max    150,000.00              1.00                             50,708.00   \n",
       "\n",
       "             age  NumberOfTime30-59DaysPastDueNotWorse  DebtRatio  \\\n",
       "count 150,000.00                            150,000.00 150,000.00   \n",
       "mean       52.30                                  0.42     353.01   \n",
       "std        14.77                                  4.19   2,037.82   \n",
       "min         0.00                                  0.00       0.00   \n",
       "25%        41.00                                  0.00       0.18   \n",
       "50%        52.00                                  0.00       0.37   \n",
       "75%        63.00                                  0.00       0.87   \n",
       "max       109.00                                 98.00 329,664.00   \n",
       "\n",
       "       MonthlyIncome  NumberOfOpenCreditLinesAndLoans  \\\n",
       "count     120,269.00                       150,000.00   \n",
       "mean        6,670.22                             8.45   \n",
       "std        14,384.67                             5.15   \n",
       "min             0.00                             0.00   \n",
       "25%         3,400.00                             5.00   \n",
       "50%         5,400.00                             8.00   \n",
       "75%         8,249.00                            11.00   \n",
       "max     3,008,750.00                            58.00   \n",
       "\n",
       "       NumberOfTimes90DaysLate  NumberRealEstateLoansOrLines  \\\n",
       "count               150,000.00                    150,000.00   \n",
       "mean                      0.27                          1.02   \n",
       "std                       4.17                          1.13   \n",
       "min                       0.00                          0.00   \n",
       "25%                       0.00                          0.00   \n",
       "50%                       0.00                          1.00   \n",
       "75%                       0.00                          2.00   \n",
       "max                      98.00                         54.00   \n",
       "\n",
       "       NumberOfTime60-89DaysPastDueNotWorse  NumberOfDependents  \n",
       "count                            150,000.00          146,076.00  \n",
       "mean                                   0.24                0.76  \n",
       "std                                    4.16                1.12  \n",
       "min                                    0.00                0.00  \n",
       "25%                                    0.00                0.00  \n",
       "50%                                    0.00                0.00  \n",
       "75%                                    0.00                1.00  \n",
       "max                                   98.00               20.00  "
      ]
     },
     "execution_count": 265,
     "metadata": {},
     "output_type": "execute_result"
    }
   ],
   "source": [
    "df_train.describe()"
   ]
  },
  {
   "cell_type": "code",
   "execution_count": 266,
   "metadata": {},
   "outputs": [],
   "source": [
    "## drop id column which doesn't provide any valuable info\n",
    "df_train= df_train.drop(\"Unnamed: 0\", axis=1)"
   ]
  },
  {
   "cell_type": "code",
   "execution_count": 267,
   "metadata": {},
   "outputs": [
    {
     "data": {
      "text/html": [
       "<div>\n",
       "<style scoped>\n",
       "    .dataframe tbody tr th:only-of-type {\n",
       "        vertical-align: middle;\n",
       "    }\n",
       "\n",
       "    .dataframe tbody tr th {\n",
       "        vertical-align: top;\n",
       "    }\n",
       "\n",
       "    .dataframe thead th {\n",
       "        text-align: right;\n",
       "    }\n",
       "</style>\n",
       "<table border=\"1\" class=\"dataframe\">\n",
       "  <thead>\n",
       "    <tr style=\"text-align: right;\">\n",
       "      <th></th>\n",
       "      <th>SeriousDlqin2yrs</th>\n",
       "      <th>RevolvingUtilizationOfUnsecuredLines</th>\n",
       "      <th>age</th>\n",
       "      <th>NumberOfTime30-59DaysPastDueNotWorse</th>\n",
       "      <th>DebtRatio</th>\n",
       "      <th>MonthlyIncome</th>\n",
       "      <th>NumberOfOpenCreditLinesAndLoans</th>\n",
       "      <th>NumberOfTimes90DaysLate</th>\n",
       "      <th>NumberRealEstateLoansOrLines</th>\n",
       "      <th>NumberOfTime60-89DaysPastDueNotWorse</th>\n",
       "      <th>NumberOfDependents</th>\n",
       "    </tr>\n",
       "  </thead>\n",
       "  <tbody>\n",
       "    <tr>\n",
       "      <th>0</th>\n",
       "      <td>1</td>\n",
       "      <td>0.77</td>\n",
       "      <td>45</td>\n",
       "      <td>2</td>\n",
       "      <td>0.80</td>\n",
       "      <td>9,120.00</td>\n",
       "      <td>13</td>\n",
       "      <td>0</td>\n",
       "      <td>6</td>\n",
       "      <td>0</td>\n",
       "      <td>2.00</td>\n",
       "    </tr>\n",
       "    <tr>\n",
       "      <th>1</th>\n",
       "      <td>0</td>\n",
       "      <td>0.96</td>\n",
       "      <td>40</td>\n",
       "      <td>0</td>\n",
       "      <td>0.12</td>\n",
       "      <td>2,600.00</td>\n",
       "      <td>4</td>\n",
       "      <td>0</td>\n",
       "      <td>0</td>\n",
       "      <td>0</td>\n",
       "      <td>1.00</td>\n",
       "    </tr>\n",
       "    <tr>\n",
       "      <th>2</th>\n",
       "      <td>0</td>\n",
       "      <td>0.66</td>\n",
       "      <td>38</td>\n",
       "      <td>1</td>\n",
       "      <td>0.09</td>\n",
       "      <td>3,042.00</td>\n",
       "      <td>2</td>\n",
       "      <td>1</td>\n",
       "      <td>0</td>\n",
       "      <td>0</td>\n",
       "      <td>0.00</td>\n",
       "    </tr>\n",
       "    <tr>\n",
       "      <th>3</th>\n",
       "      <td>0</td>\n",
       "      <td>0.23</td>\n",
       "      <td>30</td>\n",
       "      <td>0</td>\n",
       "      <td>0.04</td>\n",
       "      <td>3,300.00</td>\n",
       "      <td>5</td>\n",
       "      <td>0</td>\n",
       "      <td>0</td>\n",
       "      <td>0</td>\n",
       "      <td>0.00</td>\n",
       "    </tr>\n",
       "    <tr>\n",
       "      <th>4</th>\n",
       "      <td>0</td>\n",
       "      <td>0.91</td>\n",
       "      <td>49</td>\n",
       "      <td>1</td>\n",
       "      <td>0.02</td>\n",
       "      <td>63,588.00</td>\n",
       "      <td>7</td>\n",
       "      <td>0</td>\n",
       "      <td>1</td>\n",
       "      <td>0</td>\n",
       "      <td>0.00</td>\n",
       "    </tr>\n",
       "  </tbody>\n",
       "</table>\n",
       "</div>"
      ],
      "text/plain": [
       "   SeriousDlqin2yrs  RevolvingUtilizationOfUnsecuredLines  age  \\\n",
       "0                 1                                  0.77   45   \n",
       "1                 0                                  0.96   40   \n",
       "2                 0                                  0.66   38   \n",
       "3                 0                                  0.23   30   \n",
       "4                 0                                  0.91   49   \n",
       "\n",
       "   NumberOfTime30-59DaysPastDueNotWorse  DebtRatio  MonthlyIncome  \\\n",
       "0                                     2       0.80       9,120.00   \n",
       "1                                     0       0.12       2,600.00   \n",
       "2                                     1       0.09       3,042.00   \n",
       "3                                     0       0.04       3,300.00   \n",
       "4                                     1       0.02      63,588.00   \n",
       "\n",
       "   NumberOfOpenCreditLinesAndLoans  NumberOfTimes90DaysLate  \\\n",
       "0                               13                        0   \n",
       "1                                4                        0   \n",
       "2                                2                        1   \n",
       "3                                5                        0   \n",
       "4                                7                        0   \n",
       "\n",
       "   NumberRealEstateLoansOrLines  NumberOfTime60-89DaysPastDueNotWorse  \\\n",
       "0                             6                                     0   \n",
       "1                             0                                     0   \n",
       "2                             0                                     0   \n",
       "3                             0                                     0   \n",
       "4                             1                                     0   \n",
       "\n",
       "   NumberOfDependents  \n",
       "0                2.00  \n",
       "1                1.00  \n",
       "2                0.00  \n",
       "3                0.00  \n",
       "4                0.00  "
      ]
     },
     "execution_count": 267,
     "metadata": {},
     "output_type": "execute_result"
    }
   ],
   "source": [
    "df_train.head()"
   ]
  },
  {
   "cell_type": "markdown",
   "metadata": {},
   "source": [
    "## EDA<a class=\"anchor\" id=\"3\"></a>\n"
   ]
  },
  {
   "cell_type": "markdown",
   "metadata": {},
   "source": [
    "### Feature Importance¶\n"
   ]
  },
  {
   "cell_type": "code",
   "execution_count": null,
   "metadata": {},
   "outputs": [],
   "source": [
    "train_X = df_train.drop([\"SeriousDlqin2yrs\"], axis=1)\n",
    "train_y = np.log1p(train[\"SeriousDlqin2yrs\"].values)"
   ]
  },
  {
   "cell_type": "code",
   "execution_count": null,
   "metadata": {},
   "outputs": [],
   "source": [
    "from sklearn import ensemble\n",
    "model = ensemble.ExtraTreesRegressor(n_estimators=200, max_depth=20, max_features=0.5, n_jobs=-1, random_state=0)\n",
    "model.fit(train_X, train_y)\n",
    "\n",
    "## plotando as importâncias ##\n",
    "feat_names = train_X.columns.values\n",
    "importances = model.feature_importances_\n",
    "std = np.std([tree.feature_importances_ for tree in model.estimators_], axis=0)\n",
    "indices = np.argsort(importances)[::-1][:20]\n",
    "\n",
    "plt.figure(figsize=(12,12))\n",
    "plt.title(\"Feature importances\")\n",
    "plt.bar(range(len(indices)), importances[indices], color=\"r\", yerr=std[indices], align=\"center\")\n",
    "plt.xticks(range(len(indices)), feat_names[indices], rotation='vertical')\n",
    "plt.xlim([-1, len(indices)])\n",
    "plt.show()"
   ]
  },
  {
   "cell_type": "code",
   "execution_count": null,
   "metadata": {},
   "outputs": [],
   "source": [
    "def plot_new_feature_distribution(df1, df2, label1, label2, features, n):\n",
    "    i = 0\n",
    "    sns.set_style('whitegrid')\n",
    "    plt.figure()\n",
    "    fig, ax = plt.subplots(2,n,figsize=(18,8))\n",
    "\n",
    "    for feature in features:\n",
    "        i += 1\n",
    "        plt.subplot(2,n,i)\n",
    "        sns.kdeplot(df1[feature], bw=0.5,label=label1)\n",
    "        sns.kdeplot(df2[feature], bw=0.5,label=label2)\n",
    "        plt.xlabel(feature, fontsize=11)\n",
    "        locs, labels = plt.xticks()\n",
    "        plt.tick_params(axis='x', which='major', labelsize=8)\n",
    "        plt.tick_params(axis='y', which='major', labelsize=8)\n",
    "    plt.show();"
   ]
  },
  {
   "cell_type": "markdown",
   "metadata": {},
   "source": [
    "### Derive Balance of Classes\n",
    "Firstly, We also want to know how balanced the data set is, so we check what portion defaulted:"
   ]
  },
  {
   "cell_type": "markdown",
   "metadata": {},
   "source": [
    "### SeriousDlqin2yrs<a class=\"anchor\" id=\"3.1\"></a>"
   ]
  },
  {
   "cell_type": "markdown",
   "metadata": {},
   "source": [
    "<!-- ### SeriousDlqin2yrs <a class=\"anchor\" id=\"3.1\"></a> -->"
   ]
  },
  {
   "cell_type": "code",
   "execution_count": 196,
   "metadata": {},
   "outputs": [
    {
     "data": {
      "text/plain": [
       "0.06684"
      ]
     },
     "execution_count": 196,
     "metadata": {},
     "output_type": "execute_result"
    }
   ],
   "source": [
    "df_train.SeriousDlqin2yrs.mean()"
   ]
  },
  {
   "cell_type": "markdown",
   "metadata": {},
   "source": [
    "Around 6% of samples defaulted"
   ]
  },
  {
   "cell_type": "markdown",
   "metadata": {},
   "source": [
    "#### Visualize Balance of Classes"
   ]
  },
  {
   "cell_type": "code",
   "execution_count": 197,
   "metadata": {},
   "outputs": [
    {
     "name": "stdout",
     "output_type": "stream",
     "text": [
      "Proportion of People Who Defaulted: 0.06684\n"
     ]
    },
    {
     "data": {
      "image/png": "[encoded data removed]",
      "text/plain": [
       "<Figure size 432x288 with 1 Axes>"
      ]
     },
     "metadata": {
      "needs_background": "light"
     },
     "output_type": "display_data"
    }
   ],
   "source": [
    "sns.countplot(x=\"SeriousDlqin2yrs\", data=df)\n",
    "print(\"Proportion of People Who Defaulted: {}\".format(df[\"SeriousDlqin2yrs\"].sum() / len(df)))"
   ]
  },
  {
   "cell_type": "markdown",
   "metadata": {},
   "source": [
    "### Null Values and Proportions\n"
   ]
  },
  {
   "cell_type": "code",
   "execution_count": 198,
   "metadata": {},
   "outputs": [
    {
     "data": {
      "text/plain": [
       "Unnamed: 0                                  0\n",
       "SeriousDlqin2yrs                            0\n",
       "RevolvingUtilizationOfUnsecuredLines        0\n",
       "age                                         0\n",
       "NumberOfTime30-59DaysPastDueNotWorse        0\n",
       "DebtRatio                                   0\n",
       "MonthlyIncome                           29731\n",
       "NumberOfOpenCreditLinesAndLoans             0\n",
       "NumberOfTimes90DaysLate                     0\n",
       "NumberRealEstateLoansOrLines                0\n",
       "NumberOfTime60-89DaysPastDueNotWorse        0\n",
       "NumberOfDependents                       3924\n",
       "dtype: int64"
      ]
     },
     "execution_count": 198,
     "metadata": {},
     "output_type": "execute_result"
    }
   ],
   "source": [
    "null_val_sums = df.isnull().sum()\n",
    "null_val_sums\n"
   ]
  },
  {
   "cell_type": "markdown",
   "metadata": {},
   "source": [
    "- From the avove we found there are null values in MonthlyIncome and NumberOfDependents"
   ]
  },
  {
   "cell_type": "code",
   "execution_count": 199,
   "metadata": {},
   "outputs": [
    {
     "name": "stdout",
     "output_type": "stream",
     "text": [
      "Percentage of null values in \"MonthlyIncome\": 19.82%\n",
      "Percentage of null values in \"NumberOfDependents\": 2.62%\n"
     ]
    }
   ],
   "source": [
    "# Calculate the percentage of null values in the column of MonthlyIncome\n",
    "null_percentage_MonthlyIncome = df['MonthlyIncome'].isnull().mean() * 100\n",
    "null_percentage_NumberOfDependents = df['NumberOfDependents'].isnull().mean() * 100\n",
    "# Print the percentage of null values\n",
    "print(f'Percentage of null values in \"MonthlyIncome\": {null_percentage_MonthlyIncome:.2f}%')\n",
    "print(f'Percentage of null values in \"NumberOfDependents\": {null_percentage_NumberOfDependents:.2f}%')\n",
    "\n"
   ]
  },
  {
   "cell_type": "code",
   "execution_count": 200,
   "metadata": {
    "scrolled": true
   },
   "outputs": [
    {
     "data": {
      "text/html": [
       "<div>\n",
       "<style scoped>\n",
       "    .dataframe tbody tr th:only-of-type {\n",
       "        vertical-align: middle;\n",
       "    }\n",
       "\n",
       "    .dataframe tbody tr th {\n",
       "        vertical-align: top;\n",
       "    }\n",
       "\n",
       "    .dataframe thead th {\n",
       "        text-align: right;\n",
       "    }\n",
       "</style>\n",
       "<table border=\"1\" class=\"dataframe\">\n",
       "  <thead>\n",
       "    <tr style=\"text-align: right;\">\n",
       "      <th></th>\n",
       "      <th>Column</th>\n",
       "      <th>Number of Null Values</th>\n",
       "      <th>Proportion</th>\n",
       "    </tr>\n",
       "  </thead>\n",
       "  <tbody>\n",
       "    <tr>\n",
       "      <th>0</th>\n",
       "      <td>Unnamed: 0</td>\n",
       "      <td>0</td>\n",
       "      <td>0.00</td>\n",
       "    </tr>\n",
       "    <tr>\n",
       "      <th>1</th>\n",
       "      <td>SeriousDlqin2yrs</td>\n",
       "      <td>0</td>\n",
       "      <td>0.00</td>\n",
       "    </tr>\n",
       "    <tr>\n",
       "      <th>2</th>\n",
       "      <td>RevolvingUtilizationOfUnsecuredLines</td>\n",
       "      <td>0</td>\n",
       "      <td>0.00</td>\n",
       "    </tr>\n",
       "    <tr>\n",
       "      <th>3</th>\n",
       "      <td>age</td>\n",
       "      <td>0</td>\n",
       "      <td>0.00</td>\n",
       "    </tr>\n",
       "    <tr>\n",
       "      <th>4</th>\n",
       "      <td>NumberOfTime30-59DaysPastDueNotWorse</td>\n",
       "      <td>0</td>\n",
       "      <td>0.00</td>\n",
       "    </tr>\n",
       "    <tr>\n",
       "      <th>5</th>\n",
       "      <td>DebtRatio</td>\n",
       "      <td>0</td>\n",
       "      <td>0.00</td>\n",
       "    </tr>\n",
       "    <tr>\n",
       "      <th>6</th>\n",
       "      <td>MonthlyIncome</td>\n",
       "      <td>29731</td>\n",
       "      <td>0.20</td>\n",
       "    </tr>\n",
       "    <tr>\n",
       "      <th>7</th>\n",
       "      <td>NumberOfOpenCreditLinesAndLoans</td>\n",
       "      <td>0</td>\n",
       "      <td>0.00</td>\n",
       "    </tr>\n",
       "    <tr>\n",
       "      <th>8</th>\n",
       "      <td>NumberOfTimes90DaysLate</td>\n",
       "      <td>0</td>\n",
       "      <td>0.00</td>\n",
       "    </tr>\n",
       "    <tr>\n",
       "      <th>9</th>\n",
       "      <td>NumberRealEstateLoansOrLines</td>\n",
       "      <td>0</td>\n",
       "      <td>0.00</td>\n",
       "    </tr>\n",
       "    <tr>\n",
       "      <th>10</th>\n",
       "      <td>NumberOfTime60-89DaysPastDueNotWorse</td>\n",
       "      <td>0</td>\n",
       "      <td>0.00</td>\n",
       "    </tr>\n",
       "    <tr>\n",
       "      <th>11</th>\n",
       "      <td>NumberOfDependents</td>\n",
       "      <td>3924</td>\n",
       "      <td>0.03</td>\n",
       "    </tr>\n",
       "  </tbody>\n",
       "</table>\n",
       "</div>"
      ],
      "text/plain": [
       "                                  Column  Number of Null Values  Proportion\n",
       "0                             Unnamed: 0                      0        0.00\n",
       "1                       SeriousDlqin2yrs                      0        0.00\n",
       "2   RevolvingUtilizationOfUnsecuredLines                      0        0.00\n",
       "3                                    age                      0        0.00\n",
       "4   NumberOfTime30-59DaysPastDueNotWorse                      0        0.00\n",
       "5                              DebtRatio                      0        0.00\n",
       "6                          MonthlyIncome                  29731        0.20\n",
       "7        NumberOfOpenCreditLinesAndLoans                      0        0.00\n",
       "8                NumberOfTimes90DaysLate                      0        0.00\n",
       "9           NumberRealEstateLoansOrLines                      0        0.00\n",
       "10  NumberOfTime60-89DaysPastDueNotWorse                      0        0.00\n",
       "11                    NumberOfDependents                   3924        0.03"
      ]
     },
     "execution_count": 200,
     "metadata": {},
     "output_type": "execute_result"
    }
   ],
   "source": [
    "null_val_sums = df.isnull().sum()\n",
    "pd.DataFrame({\"Column\": null_val_sums.index, \"Number of Null Values\": null_val_sums.values,\n",
    "             \"Proportion\": null_val_sums.values / len(df) })\n"
   ]
  },
  {
   "cell_type": "markdown",
   "metadata": {},
   "source": [
    "### MonthlyIncome<a class=\"anchor\" id=\"3.3\"></a>"
   ]
  },
  {
   "cell_type": "code",
   "execution_count": 201,
   "metadata": {},
   "outputs": [
    {
     "name": "stdout",
     "output_type": "stream",
     "text": [
      "count     120,269.00\n",
      "mean        6,670.22\n",
      "std        14,384.67\n",
      "min             0.00\n",
      "25%         3,400.00\n",
      "50%         5,400.00\n",
      "75%         8,249.00\n",
      "max     3,008,750.00\n",
      "Name: MonthlyIncome, dtype: float64\n"
     ]
    }
   ],
   "source": [
    "# Set the format string to display numbers with a comma separator\n",
    "# and without scientific notation\n",
    "format_str = lambda x: '{:,.2f}'.format(x)\n",
    "\n",
    "# Set the float format for the MonthlyIncome column\n",
    "pd.options.display.float_format = format_str\n",
    "desc = df['MonthlyIncome'].describe()\n",
    "\n",
    "# Display the output\n",
    "print(desc)\n"
   ]
  },
  {
   "cell_type": "code",
   "execution_count": 202,
   "metadata": {},
   "outputs": [
    {
     "data": {
      "image/png": "[encoded data removed]",
      "text/plain": [
       "<Figure size 432x288 with 1 Axes>"
      ]
     },
     "metadata": {
      "needs_background": "light"
     },
     "output_type": "display_data"
    }
   ],
   "source": [
    "# Plot the distribution of monthly income\n",
    "df['MonthlyIncome'].dropna().plot.hist(bins=50)\n",
    "plt.title('Distribution of Monthly Income')\n",
    "plt.xlabel('Monthly Income')\n",
    "plt.ylabel('Frequency')\n",
    "# Set the x-axis tick labels to be in thousands of dollars\n",
    "plt.xticks(range(0, 50000, 5))\n",
    "plt.show()\n",
    "\n"
   ]
  },
  {
   "cell_type": "code",
   "execution_count": 203,
   "metadata": {},
   "outputs": [
    {
     "data": {
      "image/png": "[encoded data removed]",
      "text/plain": [
       "<Figure size 864x360 with 2 Axes>"
      ]
     },
     "metadata": {
      "needs_background": "light"
     },
     "output_type": "display_data"
    }
   ],
   "source": [
    "monthlyincome = df['MonthlyIncome'].dropna()\n",
    "n = len(monthlyincome)\n",
    "iqr = np.percentile(monthlyincome, 75) - np.percentile(monthlyincome, 25)\n",
    "bin_size = 2 * iqr / (n ** (1/3))\n",
    "\n",
    "# Create histograms for defaulted and non-defaulted loans\n",
    "defaulted = df[df['SeriousDlqin2yrs'] == 1]['MonthlyIncome'].dropna()\n",
    "non_defaulted = df[df['SeriousDlqin2yrs'] == 0]['MonthlyIncome'].dropna()\n",
    "\n",
    "\n",
    "\n",
    "fig, (ax1, ax2) = plt.subplots(1, 2, figsize=(12, 5))\n",
    "\n",
    "ax1.hist(defaulted, bins=np.arange(0, monthlyincome.max()+bin_size, bin_size),label='Defaulted')\n",
    "ax1.set_title('Monthly Income for Defaulted Loans')\n",
    "ax1.set_xlim(0, 50000)\n",
    "\n",
    "ax2.hist(non_defaulted, bins=np.arange(0, monthlyincome.max()+bin_size, bin_size), label='Non-Defaulted')\n",
    "ax2.set_title('Monthly Income for Non-Defaulted Loans')\n",
    "ax2.set_xlim(0, 50000)\n",
    "\n",
    "\n",
    "plt.show()\n"
   ]
  },
  {
   "cell_type": "code",
   "execution_count": 204,
   "metadata": {},
   "outputs": [
    {
     "data": {
      "text/plain": [
       "count     8,357.00\n",
       "mean      5,630.83\n",
       "std       6,171.72\n",
       "min           0.00\n",
       "25%       2,963.00\n",
       "50%       4,500.00\n",
       "75%       6,800.00\n",
       "max     250,000.00\n",
       "Name: MonthlyIncome, dtype: float64"
      ]
     },
     "execution_count": 204,
     "metadata": {},
     "output_type": "execute_result"
    }
   ],
   "source": [
    "defaulted.describe()\n"
   ]
  },
  {
   "cell_type": "code",
   "execution_count": 205,
   "metadata": {},
   "outputs": [
    {
     "data": {
      "text/plain": [
       "count     111,912.00\n",
       "mean        6,747.84\n",
       "std        14,813.50\n",
       "min             0.00\n",
       "25%         3,461.00\n",
       "50%         5,466.00\n",
       "75%         8,333.00\n",
       "max     3,008,750.00\n",
       "Name: MonthlyIncome, dtype: float64"
      ]
     },
     "execution_count": 205,
     "metadata": {},
     "output_type": "execute_result"
    }
   ],
   "source": [
    "non_defaulted.describe()\n"
   ]
  },
  {
   "cell_type": "markdown",
   "metadata": {},
   "source": [
    "**From the two graphs and the statistics provided, we can observe the following:**\n",
    "\n",
    "Defaulted loans: The distribution of monthly income for defaulted loans is positively skewed with a mean of 5,630.83 and a median of 4,500. The standard deviation is relatively high at 6,171.72, indicating that the data points are more dispersed. Additionally, the maximum value is 250,000, which is a significant outlier in the distribution. Overall, this suggests that borrowers with lower monthly incomes are more likely to default on their loans.\n",
    "\n",
    "Non-defaulted loans: The distribution of monthly income for non-defaulted loans appears to be relatively normally distributed, with a mean of 6,747.84 and a median of 5,466. The standard deviation is higher than that of the defaulted loans at 14,813.50, indicating that the data points are more dispersed. Additionally, the maximum value is also an outlier at 3,008,750. \n",
    "\n",
    "Overall, this suggests that borrowers with lower monthly incomes are more likely to default on their loans. Lenders may want to take this into account when assessing the creditworthiness of potential borrowers and setting interest rates. Additionally, borrowers with lower incomes may benefit from financial education and assistance to help them manage their debt and improve their creditworthiness."
   ]
  },
  {
   "cell_type": "markdown",
   "metadata": {},
   "source": [
    "### age<a class=\"anchor\" id=\"3.4\"></a>"
   ]
  },
  {
   "cell_type": "code",
   "execution_count": 206,
   "metadata": {},
   "outputs": [
    {
     "data": {
      "text/plain": [
       "count   150,000.00\n",
       "mean         52.30\n",
       "std          14.77\n",
       "min           0.00\n",
       "25%          41.00\n",
       "50%          52.00\n",
       "75%          63.00\n",
       "max         109.00\n",
       "Name: age, dtype: float64"
      ]
     },
     "execution_count": 206,
     "metadata": {},
     "output_type": "execute_result"
    }
   ],
   "source": [
    "df_train.age.describe()"
   ]
  },
  {
   "cell_type": "markdown",
   "metadata": {},
   "source": [
    "#### \"If you're over 55 and need a mortgage, the important thing to know if that lenders can't deny you a loan based on your age. But age can factor into your mortgage equation.\" ([Source](https://www.chicagotribune.com/news/ct-xpm-2005-11-20-0511200488-story.html))\n",
    "\n",
    "This should be our first concern: making sure the lender cannot deny an elderly person a loan or charge them more because they are old, according to the Equal Opportunity Credit Act, which prohibits lender discrimination for various protected categories, including the borrower's age.\n",
    "\n",
    "Therefore, we need to confirm that in our data set age has a negative influence on probability of defaulting. Then we can assume that the models we build reflect that trend, and won't deny someone a loan simply because they are old. "
   ]
  },
  {
   "cell_type": "code",
   "execution_count": 207,
   "metadata": {},
   "outputs": [
    {
     "data": {
      "text/plain": [
       "Text(0.5, 1.0, 'SeriousDlqin2yrs = 1')"
      ]
     },
     "execution_count": 207,
     "metadata": {},
     "output_type": "execute_result"
    },
    {
     "data": {
      "image/png": "[encoded data removed]",
      "text/plain": [
       "<Figure size 432x288 with 2 Axes>"
      ]
     },
     "metadata": {
      "needs_background": "light"
     },
     "output_type": "display_data"
    }
   ],
   "source": [
    "age_hist = df['age'].hist(by=df['SeriousDlqin2yrs'], bins=20, layout=(2,1))\n",
    "age_hist[0].set_xlim((0,100))\n",
    "age_hist[0].set_title('SeriousDlqin2yrs = 0')\n",
    "age_hist[1].set_xlim((0,100))\n",
    "age_hist[1].set_title('SeriousDlqin2yrs = 1')"
   ]
  },
  {
   "cell_type": "markdown",
   "metadata": {},
   "source": [
    "There seems to be more younger people defaulting and the distribution seems fine on the whole. So we are good to go !"
   ]
  },
  {
   "cell_type": "code",
   "execution_count": 208,
   "metadata": {},
   "outputs": [
    {
     "data": {
      "text/plain": [
       "<matplotlib.axes._subplots.AxesSubplot at 0x7fc156e501c0>"
      ]
     },
     "execution_count": 208,
     "metadata": {},
     "output_type": "execute_result"
    },
    {
     "data": {
      "image/png": "[encoded data removed]",
      "text/plain": [
       "<Figure size 432x288 with 1 Axes>"
      ]
     },
     "metadata": {
      "needs_background": "light"
     },
     "output_type": "display_data"
    }
   ],
   "source": [
    "sns.boxplot(df_train['age'])"
   ]
  },
  {
   "cell_type": "markdown",
   "metadata": {},
   "source": [
    "And there is one data point has 0 for age, that's not possible, but given just one data point, it's ok not to remove it, as it might provided other valuable information for other metrics."
   ]
  },
  {
   "cell_type": "markdown",
   "metadata": {},
   "source": [
    "### DebtRatio<a class=\"anchor\" id=\"3.5\"></a>"
   ]
  },
  {
   "cell_type": "code",
   "execution_count": 209,
   "metadata": {},
   "outputs": [
    {
     "data": {
      "text/plain": [
       "count   150,000.00\n",
       "mean        353.01\n",
       "std       2,037.82\n",
       "min           0.00\n",
       "25%           0.18\n",
       "50%           0.37\n",
       "75%           0.87\n",
       "max     329,664.00\n",
       "Name: DebtRatio, dtype: float64"
      ]
     },
     "execution_count": 209,
     "metadata": {},
     "output_type": "execute_result"
    }
   ],
   "source": [
    "df_train.DebtRatio.describe()"
   ]
  },
  {
   "cell_type": "markdown",
   "metadata": {},
   "source": [
    "The fact that a person owes 330,000 times more than what they own is quite alarming. It raises the question of whether this individual is an outlier or not. To confirm this, let's investigate further:"
   ]
  },
  {
   "cell_type": "code",
   "execution_count": 210,
   "metadata": {},
   "outputs": [
    {
     "data": {
      "text/plain": [
       "0.97   3,489.02\n",
       "Name: DebtRatio, dtype: float64"
      ]
     },
     "execution_count": 210,
     "metadata": {},
     "output_type": "execute_result"
    }
   ],
   "source": [
    "df_train.DebtRatio.quantile([.975])"
   ]
  },
  {
   "cell_type": "markdown",
   "metadata": {},
   "source": [
    "It appears that a small fraction (2.5%) of the dataset owes a significantly higher amount (over 3,500 times) than what they own. Further investigation is required to determine whether these data points are outliers or not. As observed, this subset of data stands out from the rest."
   ]
  },
  {
   "cell_type": "code",
   "execution_count": 211,
   "metadata": {},
   "outputs": [
    {
     "data": {
      "text/html": [
       "<div>\n",
       "<style scoped>\n",
       "    .dataframe tbody tr th:only-of-type {\n",
       "        vertical-align: middle;\n",
       "    }\n",
       "\n",
       "    .dataframe tbody tr th {\n",
       "        vertical-align: top;\n",
       "    }\n",
       "\n",
       "    .dataframe thead th {\n",
       "        text-align: right;\n",
       "    }\n",
       "</style>\n",
       "<table border=\"1\" class=\"dataframe\">\n",
       "  <thead>\n",
       "    <tr style=\"text-align: right;\">\n",
       "      <th></th>\n",
       "      <th>SeriousDlqin2yrs</th>\n",
       "      <th>MonthlyIncome</th>\n",
       "      <th>DebtRatio</th>\n",
       "    </tr>\n",
       "  </thead>\n",
       "  <tbody>\n",
       "    <tr>\n",
       "      <th>count</th>\n",
       "      <td>3,750.00</td>\n",
       "      <td>185.00</td>\n",
       "      <td>3,750.00</td>\n",
       "    </tr>\n",
       "    <tr>\n",
       "      <th>mean</th>\n",
       "      <td>0.06</td>\n",
       "      <td>0.06</td>\n",
       "      <td>5,917.49</td>\n",
       "    </tr>\n",
       "    <tr>\n",
       "      <th>std</th>\n",
       "      <td>0.25</td>\n",
       "      <td>0.25</td>\n",
       "      <td>10,925.52</td>\n",
       "    </tr>\n",
       "    <tr>\n",
       "      <th>min</th>\n",
       "      <td>0.00</td>\n",
       "      <td>0.00</td>\n",
       "      <td>3,490.00</td>\n",
       "    </tr>\n",
       "    <tr>\n",
       "      <th>25%</th>\n",
       "      <td>0.00</td>\n",
       "      <td>0.00</td>\n",
       "      <td>3,957.25</td>\n",
       "    </tr>\n",
       "    <tr>\n",
       "      <th>50%</th>\n",
       "      <td>0.00</td>\n",
       "      <td>0.00</td>\n",
       "      <td>4,619.00</td>\n",
       "    </tr>\n",
       "    <tr>\n",
       "      <th>75%</th>\n",
       "      <td>0.00</td>\n",
       "      <td>0.00</td>\n",
       "      <td>5,789.50</td>\n",
       "    </tr>\n",
       "    <tr>\n",
       "      <th>max</th>\n",
       "      <td>1.00</td>\n",
       "      <td>1.00</td>\n",
       "      <td>329,664.00</td>\n",
       "    </tr>\n",
       "  </tbody>\n",
       "</table>\n",
       "</div>"
      ],
      "text/plain": [
       "       SeriousDlqin2yrs  MonthlyIncome  DebtRatio\n",
       "count          3,750.00         185.00   3,750.00\n",
       "mean               0.06           0.06   5,917.49\n",
       "std                0.25           0.25  10,925.52\n",
       "min                0.00           0.00   3,490.00\n",
       "25%                0.00           0.00   3,957.25\n",
       "50%                0.00           0.00   4,619.00\n",
       "75%                0.00           0.00   5,789.50\n",
       "max                1.00           1.00 329,664.00"
      ]
     },
     "execution_count": 211,
     "metadata": {},
     "output_type": "execute_result"
    }
   ],
   "source": [
    "df_train[df_train['DebtRatio'] > 3489.025][['SeriousDlqin2yrs','MonthlyIncome','DebtRatio']].describe()"
   ]
  },
  {
   "cell_type": "markdown",
   "metadata": {},
   "source": [
    "Two alarming observations can be made from the data. \n",
    "\n",
    "- Out of the 4,000 records with a DebtRatio greater than 3,500, only 185 have a recorded value for their monthly income. \n",
    "\n",
    "- Those who do have a monthly income seem to have a fixed value of either 1 or 0.\n"
   ]
  },
  {
   "cell_type": "code",
   "execution_count": 212,
   "metadata": {},
   "outputs": [
    {
     "data": {
      "text/plain": [
       "164"
      ]
     },
     "execution_count": 212,
     "metadata": {},
     "output_type": "execute_result"
    }
   ],
   "source": [
    "len(df_train[(df_train[\"DebtRatio\"] > 3489.025 ) & (df_train['SeriousDlqin2yrs'] == df['MonthlyIncome'])])"
   ]
  },
  {
   "cell_type": "raw",
   "metadata": {},
   "source": [
    "df.loc[df_train[\"DebtRatio\"] > df_train[\"DebtRatio\"].quantile(0.975)][\"MonthlyIncome\"].value_counts()"
   ]
  },
  {
   "cell_type": "code",
   "execution_count": 213,
   "metadata": {},
   "outputs": [
    {
     "name": "stdout",
     "output_type": "stream",
     "text": [
      "Number of people who owe around 3490 or more times what they own and have same values for MonthlyIncome and SeriousDlqin2yrs: 164\n"
     ]
    }
   ],
   "source": [
    "print(\"Number of people who owe around 3490 or more times what they own and have same values for MonthlyIncome and SeriousDlqin2yrs: {}\"\\\n",
    "     .format(len(df_train.loc[(df_train[\"DebtRatio\"] > df_train[\"DebtRatio\"].quantile(0.975)) & (df_train[\"MonthlyIncome\"] == df_train[\"SeriousDlqin2yrs\"])])))"
   ]
  },
  {
   "cell_type": "markdown",
   "metadata": {},
   "source": [
    "<!-- ..of those 185 entries, 164 of them have the same value for Person experienced 90 days past due delinquency or worse  in last two years and monthly income, indicating that there is a data-entry error, which mighted be caused due to data copied from SeriousDlqin2yrs to monthlyIncome. \n",
    "\n",
    "The second problem is that despite owing thousands of times what they own, these people aren't defaulting any more than the general population, as the mean value for SeriousDlqin2yrs for those records is very closed to population default rate. We can conclude that these entries must be data-entry errors, **so we will remove them from our model.** -->\n",
    "There are two important observations worthwhile mentioning from the above statistic: \n",
    "\n",
    "- 1.Out of the 185 entries, 164 of them show the same value for both the Person Experienced 90 Days Past Due Delinquency or Worse in Last Two Years and Monthly Income. This suggests that there may be a data-entry error, possibly caused by copying data from the SeriousDlqin2yrs column into the monthlyIncome column.  \n",
    "\n",
    "\n",
    "- 2.Small fraction of the dataset owes significantly more than what they own, but they are not defaulting any more than the general population. This is evident from the mean value for SeriousDlqin2yrs being similar to the population default rate. While it is tempting to remove these entries, it is important to investigate whether they are truly outliers or not before making any changes to the model. Therefore, Thus, we can infer that these entries are erroneous and should be removed from the model\n",
    "\n",
    "<!-- --Thus, we can infer that these entries are erroneous and should be removed from the model. -->\n",
    "\n",
    "\n"
   ]
  },
  {
   "cell_type": "markdown",
   "metadata": {},
   "source": [
    "As 164 is a small portition for the whole population (150000), so I will remove these outliners after EDA step."
   ]
  },
  {
   "cell_type": "markdown",
   "metadata": {},
   "source": [
    "### Late Payment Columns<a class=\"anchor\" id=\"3.7\"></a>\n",
    "- NumberOfTimes90DaysLate\n",
    "- NumberOfTime60-89DaysPastDueNotWorse\n",
    "- NumberOfTime30-59DaysPastDueNotWorse"
   ]
  },
  {
   "cell_type": "markdown",
   "metadata": {},
   "source": [
    "#### NumberOfTimes90DaysLate"
   ]
  },
  {
   "cell_type": "code",
   "execution_count": 214,
   "metadata": {},
   "outputs": [
    {
     "data": {
      "text/plain": [
       "0     141662\n",
       "1       5243\n",
       "2       1555\n",
       "3        667\n",
       "4        291\n",
       "5        131\n",
       "6         80\n",
       "7         38\n",
       "8         21\n",
       "9         19\n",
       "10         8\n",
       "11         5\n",
       "12         2\n",
       "13         4\n",
       "14         2\n",
       "15         2\n",
       "17         1\n",
       "96         5\n",
       "98       264\n",
       "Name: NumberOfTimes90DaysLate, dtype: int64"
      ]
     },
     "execution_count": 214,
     "metadata": {},
     "output_type": "execute_result"
    }
   ],
   "source": [
    "late_pay_cols = [\"NumberOfTimes90DaysLate\", \"NumberOfTime60-89DaysPastDueNotWorse\",\n",
    "                \"NumberOfTime30-59DaysPastDueNotWorse\"]\n",
    "df_train[\"NumberOfTimes90DaysLate\"].value_counts().sort_index()"
   ]
  },
  {
   "cell_type": "code",
   "execution_count": 215,
   "metadata": {},
   "outputs": [
    {
     "name": "stdout",
     "output_type": "stream",
     "text": [
      "   NumberOfTimes90DaysLate  count  default_rate\n",
      "0                        0   5243          0.34\n",
      "1                        1   1555          0.50\n",
      "2                        2    667          0.58\n",
      "3                        3    291          0.67\n",
      "4                        4    131          0.63\n",
      "5                        5     80          0.60\n",
      "6                        6     38          0.82\n",
      "7                        7     21          0.71\n",
      "8                        8     19          0.74\n",
      "9                        9      8          0.62\n",
      "10                      10      5          0.60\n",
      "11                      11      2          0.50\n",
      "12                      12      4          0.50\n",
      "13                      13      2          0.50\n",
      "14                      14      2          0.00\n",
      "15                      15      0           nan\n",
      "16                      16      1          1.00\n",
      "17                      17      5          0.80\n",
      "18                      96    264          0.54\n",
      "19                      98      0           nan\n"
     ]
    }
   ],
   "source": [
    "bins = list(range(0, 18)) + [96, 98, 99]\n",
    "labels = bins.copy()\n",
    "labels.pop()\n",
    "df_90dayslate = df.groupby(pd.cut(df[\"NumberOfTimes90DaysLate\"], bins=bins, labels=labels)).agg({\"SeriousDlqin2yrs\": [\"count\", \"mean\"]})\n",
    "df_90dayslate.columns = [\"_\".join(x) for x in df_90dayslate.columns.ravel()]\n",
    "df_90dayslate = df_90dayslate.reset_index()\n",
    "df_90dayslate.columns = [\"NumberOfTimes90DaysLate\", \"count\", \"default_rate\"]\n",
    "\n",
    "print(df_90dayslate)\n",
    "\n",
    "# plt.bar(df_90dayslate[\"NumberOfTimes90DaysLate\"], df_90dayslate[\"default_rate\"])\n",
    "# plt.title(\"Default rate by number of times 90 days or more past due\")\n",
    "# plt.xlabel(\"Number of times 90 days or more past due\")\n",
    "# plt.ylabel(\"Default rate\")\n",
    "# plt.show()\n"
   ]
  },
  {
   "cell_type": "markdown",
   "metadata": {},
   "source": [
    "#### NumberOfTime60-89DaysPastDueNotWorse"
   ]
  },
  {
   "cell_type": "code",
   "execution_count": 216,
   "metadata": {},
   "outputs": [
    {
     "data": {
      "text/plain": [
       "0     142396\n",
       "1       5731\n",
       "2       1118\n",
       "3        318\n",
       "4        105\n",
       "5         34\n",
       "6         16\n",
       "7          9\n",
       "8          2\n",
       "9          1\n",
       "11         1\n",
       "96         5\n",
       "98       264\n",
       "Name: NumberOfTime60-89DaysPastDueNotWorse, dtype: int64"
      ]
     },
     "execution_count": 216,
     "metadata": {},
     "output_type": "execute_result"
    }
   ],
   "source": [
    "df_train[\"NumberOfTime60-89DaysPastDueNotWorse\"].value_counts().sort_index()"
   ]
  },
  {
   "cell_type": "code",
   "execution_count": 217,
   "metadata": {},
   "outputs": [
    {
     "name": "stdout",
     "output_type": "stream",
     "text": [
      "   NumberOfTime60-89DaysPastDueNotWorse  count  default_rate\n",
      "0                                     0   5731          0.31\n",
      "1                                     1   1118          0.50\n",
      "2                                     2    318          0.57\n",
      "3                                     3    105          0.62\n",
      "4                                     4     34          0.62\n",
      "5                                     5     16          0.75\n",
      "6                                     6      9          0.56\n",
      "7                                     7      2          0.50\n",
      "8                                     8      1          0.00\n",
      "9                                     9      1          1.00\n",
      "10                                   11      5          0.80\n",
      "11                                   96    264          0.54\n"
     ]
    }
   ],
   "source": [
    "bins = list(range(0, 10)) + [11, 96, 98]\n",
    "labels = bins.copy()\n",
    "labels.pop()\n",
    "\n",
    "df_60_89dayslate = df.groupby(pd.cut(df[\"NumberOfTime60-89DaysPastDueNotWorse\"], bins=bins, labels=labels)).agg({\"SeriousDlqin2yrs\": [\"count\", \"mean\"]})\n",
    "df_60_89dayslate.columns = [\"_\".join(x) for x in df_60_89dayslate.columns.ravel()]\n",
    "df_60_89dayslate = df_60_89dayslate.reset_index()\n",
    "df_60_89dayslate.columns = [\"NumberOfTime60-89DaysPastDueNotWorse\", \"count\", \"default_rate\"]\n",
    "\n",
    "print(df_60_89dayslate)"
   ]
  },
  {
   "cell_type": "markdown",
   "metadata": {},
   "source": [
    "#### NumberOfTime30-59DaysPastDueNotWorse"
   ]
  },
  {
   "cell_type": "code",
   "execution_count": 218,
   "metadata": {},
   "outputs": [
    {
     "data": {
      "text/plain": [
       "0     126018\n",
       "1      16033\n",
       "2       4598\n",
       "3       1754\n",
       "4        747\n",
       "5        342\n",
       "6        140\n",
       "7         54\n",
       "8         25\n",
       "9         12\n",
       "10         4\n",
       "11         1\n",
       "12         2\n",
       "13         1\n",
       "96         5\n",
       "98       264\n",
       "Name: NumberOfTime30-59DaysPastDueNotWorse, dtype: int64"
      ]
     },
     "execution_count": 218,
     "metadata": {},
     "output_type": "execute_result"
    }
   ],
   "source": [
    "df_train[\"NumberOfTime30-59DaysPastDueNotWorse\"].value_counts().sort_index()"
   ]
  },
  {
   "cell_type": "code",
   "execution_count": 219,
   "metadata": {},
   "outputs": [
    {
     "name": "stdout",
     "output_type": "stream",
     "text": [
      "   NumberOfTime30-59DaysPastDueNotWorse  count  default_rate\n",
      "0                                     0  16033          0.15\n",
      "1                                     1   4598          0.27\n",
      "2                                     2   1754          0.35\n",
      "3                                     3    747          0.43\n",
      "4                                     4    342          0.45\n",
      "5                                     5    140          0.53\n",
      "6                                     6     54          0.52\n",
      "7                                     7     25          0.32\n",
      "8                                     8     12          0.33\n",
      "9                                     9      4          0.75\n",
      "10                                   10      1          1.00\n",
      "11                                   11      2          0.50\n",
      "12                                   12      1          1.00\n",
      "13                                   13      5          0.80\n",
      "14                                   96    264          0.54\n"
     ]
    }
   ],
   "source": [
    "bins = list(range(0, 14)) + [96, 98]\n",
    "labels = bins.copy()\n",
    "labels.pop()\n",
    "df_30_59dayslate = df.groupby(pd.cut(df[\"NumberOfTime30-59DaysPastDueNotWorse\"], bins=bins, labels=labels)).agg({\"SeriousDlqin2yrs\": [\"count\", \"mean\"]})\n",
    "df_30_59dayslate.columns = [\"_\".join(x) for x in df_30_59dayslate.columns.ravel()]\n",
    "df_30_59dayslate = df_30_59dayslate.reset_index()\n",
    "df_30_59dayslate.columns = [\"NumberOfTime30-59DaysPastDueNotWorse\", \"count\", \"default_rate\"]\n",
    "print(df_30_59dayslate)"
   ]
  },
  {
   "cell_type": "markdown",
   "metadata": {},
   "source": [
    "####  NumberOfTimes90DaysLate"
   ]
  },
  {
   "cell_type": "code",
   "execution_count": 220,
   "metadata": {
    "scrolled": true
   },
   "outputs": [
    {
     "data": {
      "text/plain": [
       "NumberOfTimes90DaysLate\n",
       "0     141662\n",
       "1       5243\n",
       "2       1555\n",
       "3        667\n",
       "4        291\n",
       "5        131\n",
       "6         80\n",
       "7         38\n",
       "8         21\n",
       "9         19\n",
       "10         8\n",
       "11         5\n",
       "12         2\n",
       "13         4\n",
       "14         2\n",
       "15         2\n",
       "17         1\n",
       "96         5\n",
       "98       264\n",
       "Name: NumberOfTimes90DaysLate, dtype: int64"
      ]
     },
     "execution_count": 220,
     "metadata": {},
     "output_type": "execute_result"
    }
   ],
   "source": [
    "df_train.groupby('NumberOfTimes90DaysLate').NumberOfTimes90DaysLate.count()"
   ]
  },
  {
   "cell_type": "markdown",
   "metadata": {},
   "source": [
    "It's obvious to get the observation that majority of person (94.4%)do not have previous experience with delayed payment has been 90 days or more past due. \n",
    "\n",
    "There are no individuals who have been late between 17 and 96 times, but there are several hundred people who have been late 98 times. We can examine these few hundred entries.\n"
   ]
  },
  {
   "cell_type": "code",
   "execution_count": 221,
   "metadata": {},
   "outputs": [
    {
     "data": {
      "text/html": [
       "<div>\n",
       "<style scoped>\n",
       "    .dataframe tbody tr th:only-of-type {\n",
       "        vertical-align: middle;\n",
       "    }\n",
       "\n",
       "    .dataframe tbody tr th {\n",
       "        vertical-align: top;\n",
       "    }\n",
       "\n",
       "    .dataframe thead th {\n",
       "        text-align: right;\n",
       "    }\n",
       "</style>\n",
       "<table border=\"1\" class=\"dataframe\">\n",
       "  <thead>\n",
       "    <tr style=\"text-align: right;\">\n",
       "      <th></th>\n",
       "      <th>SeriousDlqin2yrs</th>\n",
       "      <th>NumberOfTime60-89DaysPastDueNotWorse</th>\n",
       "      <th>NumberOfTime30-59DaysPastDueNotWorse</th>\n",
       "      <th>NumberOfTimes90DaysLate</th>\n",
       "    </tr>\n",
       "  </thead>\n",
       "  <tbody>\n",
       "    <tr>\n",
       "      <th>count</th>\n",
       "      <td>264.00</td>\n",
       "      <td>264.00</td>\n",
       "      <td>264.00</td>\n",
       "      <td>264.00</td>\n",
       "    </tr>\n",
       "    <tr>\n",
       "      <th>mean</th>\n",
       "      <td>0.54</td>\n",
       "      <td>98.00</td>\n",
       "      <td>98.00</td>\n",
       "      <td>98.00</td>\n",
       "    </tr>\n",
       "    <tr>\n",
       "      <th>std</th>\n",
       "      <td>0.50</td>\n",
       "      <td>0.00</td>\n",
       "      <td>0.00</td>\n",
       "      <td>0.00</td>\n",
       "    </tr>\n",
       "    <tr>\n",
       "      <th>min</th>\n",
       "      <td>0.00</td>\n",
       "      <td>98.00</td>\n",
       "      <td>98.00</td>\n",
       "      <td>98.00</td>\n",
       "    </tr>\n",
       "    <tr>\n",
       "      <th>25%</th>\n",
       "      <td>0.00</td>\n",
       "      <td>98.00</td>\n",
       "      <td>98.00</td>\n",
       "      <td>98.00</td>\n",
       "    </tr>\n",
       "    <tr>\n",
       "      <th>50%</th>\n",
       "      <td>1.00</td>\n",
       "      <td>98.00</td>\n",
       "      <td>98.00</td>\n",
       "      <td>98.00</td>\n",
       "    </tr>\n",
       "    <tr>\n",
       "      <th>75%</th>\n",
       "      <td>1.00</td>\n",
       "      <td>98.00</td>\n",
       "      <td>98.00</td>\n",
       "      <td>98.00</td>\n",
       "    </tr>\n",
       "    <tr>\n",
       "      <th>max</th>\n",
       "      <td>1.00</td>\n",
       "      <td>98.00</td>\n",
       "      <td>98.00</td>\n",
       "      <td>98.00</td>\n",
       "    </tr>\n",
       "  </tbody>\n",
       "</table>\n",
       "</div>"
      ],
      "text/plain": [
       "       SeriousDlqin2yrs  NumberOfTime60-89DaysPastDueNotWorse  \\\n",
       "count            264.00                                264.00   \n",
       "mean               0.54                                 98.00   \n",
       "std                0.50                                  0.00   \n",
       "min                0.00                                 98.00   \n",
       "25%                0.00                                 98.00   \n",
       "50%                1.00                                 98.00   \n",
       "75%                1.00                                 98.00   \n",
       "max                1.00                                 98.00   \n",
       "\n",
       "       NumberOfTime30-59DaysPastDueNotWorse  NumberOfTimes90DaysLate  \n",
       "count                                264.00                   264.00  \n",
       "mean                                  98.00                    98.00  \n",
       "std                                    0.00                     0.00  \n",
       "min                                   98.00                    98.00  \n",
       "25%                                   98.00                    98.00  \n",
       "50%                                   98.00                    98.00  \n",
       "75%                                   98.00                    98.00  \n",
       "max                                   98.00                    98.00  "
      ]
     },
     "execution_count": 221,
     "metadata": {},
     "output_type": "execute_result"
    }
   ],
   "source": [
    "df_train[df_train['NumberOfTimes90DaysLate'] > 96][['SeriousDlqin2yrs','NumberOfTime60-89DaysPastDueNotWorse','NumberOfTime30-59DaysPastDueNotWorse','NumberOfTimes90DaysLate']].describe()"
   ]
  },
  {
   "cell_type": "code",
   "execution_count": null,
   "metadata": {},
   "outputs": [],
   "source": []
  },
  {
   "cell_type": "code",
   "execution_count": 222,
   "metadata": {},
   "outputs": [
    {
     "data": {
      "image/png": "[encoded data removed]",
      "text/plain": [
       "<Figure size 432x288 with 1 Axes>"
      ]
     },
     "metadata": {
      "needs_background": "light"
     },
     "output_type": "display_data"
    }
   ],
   "source": [
    "# scatter plot for NumberOfTimes90DaysLate\n",
    "plt.scatter(df_90dayslate[\"NumberOfTimes90DaysLate\"], df_90dayslate[\"default_rate\"], label=\"NumberOfTimes90DaysLate\")\n",
    "\n",
    "# scatter plot for NumberOfTime60-89DaysPastDueNotWorse\n",
    "plt.scatter(df_60_89dayslate[\"NumberOfTime60-89DaysPastDueNotWorse\"], df_60_89dayslate[\"default_rate\"], label=\"NumberOfTime60-89DaysPastDueNotWorse\")\n",
    "\n",
    "# scatter plot for NumberOfTime30-59DaysPastDueNotWorse\n",
    "plt.scatter(df_30_59dayslate[\"NumberOfTime30-59DaysPastDueNotWorse\"], df_30_59dayslate[\"default_rate\"], label=\"NumberOfTime30-59DaysPastDueNotWorse\")\n",
    "\n",
    "# set x-axis label\n",
    "plt.xlabel(\"Number of Days Past Due\")\n",
    "\n",
    "# set y-axis label\n",
    "plt.ylabel(\"Default Rate\")\n",
    "\n",
    "# set title\n",
    "plt.title(\"Default Rate vs Days Past Due\")\n",
    "\n",
    "# add legend\n",
    "plt.legend()\n",
    "\n",
    "# show plot\n",
    "plt.show()"
   ]
  },
  {
   "cell_type": "code",
   "execution_count": 223,
   "metadata": {},
   "outputs": [
    {
     "data": {
      "image/png": "[encoded data removed]",
      "text/plain": [
       "<Figure size 432x288 with 1 Axes>"
      ]
     },
     "metadata": {
      "needs_background": "light"
     },
     "output_type": "display_data"
    }
   ],
   "source": [
    "plt.plot(df_90dayslate[\"NumberOfTimes90DaysLate\"], df_90dayslate[\"default_rate\"], label=\"90 Days Late\")\n",
    "plt.plot(df_60_89dayslate[\"NumberOfTime60-89DaysPastDueNotWorse\"], df_60_89dayslate[\"default_rate\"], label=\"60-89 Days Late\")\n",
    "plt.plot(df_30_59dayslate[\"NumberOfTime30-59DaysPastDueNotWorse\"], df_30_59dayslate[\"default_rate\"], label=\"30-59 Days Late\")\n",
    "plt.xlabel(\"Number of Days Past Due\")\n",
    "plt.ylabel(\"Default Rate\")\n",
    "plt.title(\"Default Rate by Number of Days Past Due\")\n",
    "plt.legend()\n",
    "plt.show()"
   ]
  },
  {
   "cell_type": "markdown",
   "metadata": {},
   "source": [
    "### NumberOfOpenCreditLinesAndLoans"
   ]
  },
  {
   "cell_type": "code",
   "execution_count": 224,
   "metadata": {},
   "outputs": [
    {
     "data": {
      "text/plain": [
       "count   150,000.00\n",
       "mean          8.45\n",
       "std           5.15\n",
       "min           0.00\n",
       "25%           5.00\n",
       "50%           8.00\n",
       "75%          11.00\n",
       "max          58.00\n",
       "Name: NumberOfOpenCreditLinesAndLoans, dtype: float64"
      ]
     },
     "execution_count": 224,
     "metadata": {},
     "output_type": "execute_result"
    }
   ],
   "source": [
    "df_train[\"NumberOfOpenCreditLinesAndLoans\"].describe()"
   ]
  },
  {
   "cell_type": "code",
   "execution_count": 225,
   "metadata": {},
   "outputs": [
    {
     "data": {
      "text/plain": [
       "0      1888\n",
       "1      4438\n",
       "2      6666\n",
       "3      9058\n",
       "4     11609\n",
       "5     12931\n",
       "6     13614\n",
       "7     13245\n",
       "8     12562\n",
       "9     11355\n",
       "10     9624\n",
       "11     8321\n",
       "12     7005\n",
       "13     5667\n",
       "14     4546\n",
       "15     3645\n",
       "16     3000\n",
       "17     2370\n",
       "18     1874\n",
       "19     1433\n",
       "20     1169\n",
       "21      864\n",
       "22      685\n",
       "23      533\n",
       "24      422\n",
       "25      337\n",
       "26      239\n",
       "27      194\n",
       "28      150\n",
       "29      114\n",
       "30       88\n",
       "31       74\n",
       "32       52\n",
       "33       47\n",
       "34       35\n",
       "35       27\n",
       "36       18\n",
       "37        7\n",
       "38       13\n",
       "39        9\n",
       "40       10\n",
       "41        4\n",
       "42        8\n",
       "43        8\n",
       "44        2\n",
       "45        8\n",
       "46        3\n",
       "47        2\n",
       "48        6\n",
       "49        4\n",
       "50        2\n",
       "51        2\n",
       "52        3\n",
       "53        1\n",
       "54        4\n",
       "56        2\n",
       "57        2\n",
       "58        1\n",
       "Name: NumberOfOpenCreditLinesAndLoans, dtype: int64"
      ]
     },
     "execution_count": 225,
     "metadata": {},
     "output_type": "execute_result"
    }
   ],
   "source": [
    "df_train[\"NumberOfOpenCreditLinesAndLoans\"].value_counts().sort_index()"
   ]
  },
  {
   "cell_type": "code",
   "execution_count": 226,
   "metadata": {},
   "outputs": [
    {
     "data": {
      "text/plain": [
       "<matplotlib.axes._subplots.AxesSubplot at 0x7fc15e11f700>"
      ]
     },
     "execution_count": 226,
     "metadata": {},
     "output_type": "execute_result"
    },
    {
     "data": {
      "image/png": "[encoded data removed]",
      "text/plain": [
       "<Figure size 432x288 with 1 Axes>"
      ]
     },
     "metadata": {
      "needs_background": "light"
     },
     "output_type": "display_data"
    }
   ],
   "source": [
    "sns.distplot(df[\"NumberOfOpenCreditLinesAndLoans\"])"
   ]
  },
  {
   "cell_type": "markdown",
   "metadata": {},
   "source": [
    "### NumberRealEstateLoansOrLines"
   ]
  },
  {
   "cell_type": "code",
   "execution_count": 227,
   "metadata": {},
   "outputs": [
    {
     "data": {
      "text/plain": [
       "count   150,000.00\n",
       "mean          1.02\n",
       "std           1.13\n",
       "min           0.00\n",
       "25%           0.00\n",
       "50%           1.00\n",
       "75%           2.00\n",
       "max          54.00\n",
       "Name: NumberRealEstateLoansOrLines, dtype: float64"
      ]
     },
     "execution_count": 227,
     "metadata": {},
     "output_type": "execute_result"
    }
   ],
   "source": [
    "df[\"NumberRealEstateLoansOrLines\"].describe()"
   ]
  },
  {
   "cell_type": "code",
   "execution_count": 228,
   "metadata": {},
   "outputs": [
    {
     "data": {
      "text/plain": [
       "0     56188\n",
       "1     52338\n",
       "2     31522\n",
       "3      6300\n",
       "4      2170\n",
       "5       689\n",
       "6       320\n",
       "7       171\n",
       "8        93\n",
       "9        78\n",
       "10       37\n",
       "11       23\n",
       "12       18\n",
       "13       15\n",
       "14        7\n",
       "15        7\n",
       "16        4\n",
       "17        4\n",
       "25        3\n",
       "18        2\n",
       "19        2\n",
       "20        2\n",
       "23        2\n",
       "32        1\n",
       "21        1\n",
       "26        1\n",
       "29        1\n",
       "54        1\n",
       "Name: NumberRealEstateLoansOrLines, dtype: int64"
      ]
     },
     "execution_count": 228,
     "metadata": {},
     "output_type": "execute_result"
    }
   ],
   "source": [
    "df[\"NumberRealEstateLoansOrLines\"].value_counts()"
   ]
  },
  {
   "cell_type": "code",
   "execution_count": 229,
   "metadata": {},
   "outputs": [
    {
     "data": {
      "text/plain": [
       "<matplotlib.axes._subplots.AxesSubplot at 0x7fc15e859f70>"
      ]
     },
     "execution_count": 229,
     "metadata": {},
     "output_type": "execute_result"
    },
    {
     "data": {
      "image/png": "[encoded data removed]",
      "text/plain": [
       "<Figure size 432x288 with 1 Axes>"
      ]
     },
     "metadata": {
      "needs_background": "light"
     },
     "output_type": "display_data"
    }
   ],
   "source": [
    "sns.countplot(x=\"NumberRealEstateLoansOrLines\", data=df.loc[df[\"NumberRealEstateLoansOrLines\"] <= 10])"
   ]
  },
  {
   "cell_type": "code",
   "execution_count": 230,
   "metadata": {},
   "outputs": [
    {
     "data": {
      "text/plain": [
       "count   38.00\n",
       "mean     0.21\n",
       "std      0.41\n",
       "min      0.00\n",
       "25%      0.00\n",
       "50%      0.00\n",
       "75%      0.00\n",
       "max      1.00\n",
       "Name: SeriousDlqin2yrs, dtype: float64"
      ]
     },
     "execution_count": 230,
     "metadata": {},
     "output_type": "execute_result"
    }
   ],
   "source": [
    "df.loc[df[\"NumberRealEstateLoansOrLines\"] > 13][\"SeriousDlqin2yrs\"].describe()"
   ]
  },
  {
   "cell_type": "code",
   "execution_count": 231,
   "metadata": {},
   "outputs": [
    {
     "data": {
      "text/plain": [
       "<matplotlib.axes._subplots.AxesSubplot at 0x7fc15f528e50>"
      ]
     },
     "execution_count": 231,
     "metadata": {},
     "output_type": "execute_result"
    },
    {
     "data": {
      "image/png": "[encoded data removed]",
      "text/plain": [
       "<Figure size 432x288 with 1 Axes>"
      ]
     },
     "metadata": {
      "needs_background": "light"
     },
     "output_type": "display_data"
    }
   ],
   "source": [
    "sns.distplot(df[\"NumberOfOpenCreditLinesAndLoans\"])"
   ]
  },
  {
   "cell_type": "markdown",
   "metadata": {},
   "source": [
    "### RevolvingUtilizationOfUnsecuredLines<a class=\"anchor\" id=\"3.9\"></a>"
   ]
  },
  {
   "cell_type": "code",
   "execution_count": 232,
   "metadata": {},
   "outputs": [
    {
     "data": {
      "text/plain": [
       "count   150,000.00\n",
       "mean          6.05\n",
       "std         249.76\n",
       "min           0.00\n",
       "25%           0.03\n",
       "50%           0.15\n",
       "75%           0.56\n",
       "max      50,708.00\n",
       "Name: RevolvingUtilizationOfUnsecuredLines, dtype: float64"
      ]
     },
     "execution_count": 232,
     "metadata": {},
     "output_type": "execute_result"
    }
   ],
   "source": [
    "df_train[\"RevolvingUtilizationOfUnsecuredLines\"].describe() \n"
   ]
  },
  {
   "cell_type": "markdown",
   "metadata": {},
   "source": [
    "This metric represents the ratio of money owed to credit limit, so it shouldn't get much above 1. First let's look at values close to 1 and see at what rate they're defaulting, so maximum up to 50708 is definitely concerning in this case. "
   ]
  },
  {
   "cell_type": "code",
   "execution_count": 233,
   "metadata": {},
   "outputs": [
    {
     "data": {
      "text/plain": [
       "0.90   0.98\n",
       "Name: RevolvingUtilizationOfUnsecuredLines, dtype: float64"
      ]
     },
     "execution_count": 233,
     "metadata": {},
     "output_type": "execute_result"
    }
   ],
   "source": [
    "df_train[\"RevolvingUtilizationOfUnsecuredLines\"].quantile([.90])\n"
   ]
  },
  {
   "cell_type": "code",
   "execution_count": 234,
   "metadata": {},
   "outputs": [
    {
     "data": {
      "text/plain": [
       "count   19,805.00\n",
       "mean         0.23\n",
       "std          0.42\n",
       "min          0.00\n",
       "25%          0.00\n",
       "50%          0.00\n",
       "75%          0.00\n",
       "max          1.00\n",
       "Name: SeriousDlqin2yrs, dtype: float64"
      ]
     },
     "execution_count": 234,
     "metadata": {},
     "output_type": "execute_result"
    }
   ],
   "source": [
    "df_train[(df_train['RevolvingUtilizationOfUnsecuredLines'] > .90) & (df_train['RevolvingUtilizationOfUnsecuredLines'] <= 4)].SeriousDlqin2yrs.describe()"
   ]
  },
  {
   "cell_type": "markdown",
   "metadata": {},
   "source": [
    "And then we want to see what is the proportion of data that has a RevolvingUtilizationOfUnsecuredLines greater one (abnormal value)"
   ]
  },
  {
   "cell_type": "code",
   "execution_count": 235,
   "metadata": {
    "scrolled": true
   },
   "outputs": [
    {
     "data": {
      "text/html": [
       "<div>\n",
       "<style scoped>\n",
       "    .dataframe tbody tr th:only-of-type {\n",
       "        vertical-align: middle;\n",
       "    }\n",
       "\n",
       "    .dataframe tbody tr th {\n",
       "        vertical-align: top;\n",
       "    }\n",
       "\n",
       "    .dataframe thead th {\n",
       "        text-align: right;\n",
       "    }\n",
       "</style>\n",
       "<table border=\"1\" class=\"dataframe\">\n",
       "  <thead>\n",
       "    <tr style=\"text-align: right;\">\n",
       "      <th></th>\n",
       "      <th>SeriousDlqin2yrs</th>\n",
       "      <th>RevolvingUtilizationOfUnsecuredLines</th>\n",
       "      <th>age</th>\n",
       "      <th>NumberOfTime30-59DaysPastDueNotWorse</th>\n",
       "      <th>DebtRatio</th>\n",
       "      <th>MonthlyIncome</th>\n",
       "      <th>NumberOfOpenCreditLinesAndLoans</th>\n",
       "      <th>NumberOfTimes90DaysLate</th>\n",
       "      <th>NumberRealEstateLoansOrLines</th>\n",
       "      <th>NumberOfTime60-89DaysPastDueNotWorse</th>\n",
       "      <th>NumberOfDependents</th>\n",
       "    </tr>\n",
       "  </thead>\n",
       "  <tbody>\n",
       "    <tr>\n",
       "      <th>count</th>\n",
       "      <td>3,321.00</td>\n",
       "      <td>3,321.00</td>\n",
       "      <td>3,321.00</td>\n",
       "      <td>3,321.00</td>\n",
       "      <td>3,321.00</td>\n",
       "      <td>2,773.00</td>\n",
       "      <td>3,321.00</td>\n",
       "      <td>3,321.00</td>\n",
       "      <td>3,321.00</td>\n",
       "      <td>3,321.00</td>\n",
       "      <td>3,260.00</td>\n",
       "    </tr>\n",
       "    <tr>\n",
       "      <th>mean</th>\n",
       "      <td>0.37</td>\n",
       "      <td>259.77</td>\n",
       "      <td>44.06</td>\n",
       "      <td>1.02</td>\n",
       "      <td>245.17</td>\n",
       "      <td>5,289.57</td>\n",
       "      <td>6.37</td>\n",
       "      <td>0.64</td>\n",
       "      <td>0.68</td>\n",
       "      <td>0.43</td>\n",
       "      <td>0.92</td>\n",
       "    </tr>\n",
       "    <tr>\n",
       "      <th>std</th>\n",
       "      <td>0.48</td>\n",
       "      <td>1,659.03</td>\n",
       "      <td>12.66</td>\n",
       "      <td>1.36</td>\n",
       "      <td>939.84</td>\n",
       "      <td>5,134.13</td>\n",
       "      <td>4.03</td>\n",
       "      <td>1.33</td>\n",
       "      <td>0.97</td>\n",
       "      <td>0.85</td>\n",
       "      <td>1.20</td>\n",
       "    </tr>\n",
       "    <tr>\n",
       "      <th>min</th>\n",
       "      <td>0.00</td>\n",
       "      <td>1.00</td>\n",
       "      <td>21.00</td>\n",
       "      <td>0.00</td>\n",
       "      <td>0.00</td>\n",
       "      <td>0.00</td>\n",
       "      <td>0.00</td>\n",
       "      <td>0.00</td>\n",
       "      <td>0.00</td>\n",
       "      <td>0.00</td>\n",
       "      <td>0.00</td>\n",
       "    </tr>\n",
       "    <tr>\n",
       "      <th>25%</th>\n",
       "      <td>0.00</td>\n",
       "      <td>1.02</td>\n",
       "      <td>34.00</td>\n",
       "      <td>0.00</td>\n",
       "      <td>0.18</td>\n",
       "      <td>2,700.00</td>\n",
       "      <td>3.00</td>\n",
       "      <td>0.00</td>\n",
       "      <td>0.00</td>\n",
       "      <td>0.00</td>\n",
       "      <td>0.00</td>\n",
       "    </tr>\n",
       "    <tr>\n",
       "      <th>50%</th>\n",
       "      <td>0.00</td>\n",
       "      <td>1.07</td>\n",
       "      <td>43.00</td>\n",
       "      <td>1.00</td>\n",
       "      <td>0.37</td>\n",
       "      <td>4,184.00</td>\n",
       "      <td>6.00</td>\n",
       "      <td>0.00</td>\n",
       "      <td>0.00</td>\n",
       "      <td>0.00</td>\n",
       "      <td>0.00</td>\n",
       "    </tr>\n",
       "    <tr>\n",
       "      <th>75%</th>\n",
       "      <td>1.00</td>\n",
       "      <td>1.30</td>\n",
       "      <td>52.00</td>\n",
       "      <td>2.00</td>\n",
       "      <td>0.81</td>\n",
       "      <td>6,458.00</td>\n",
       "      <td>8.00</td>\n",
       "      <td>1.00</td>\n",
       "      <td>1.00</td>\n",
       "      <td>1.00</td>\n",
       "      <td>2.00</td>\n",
       "    </tr>\n",
       "    <tr>\n",
       "      <th>max</th>\n",
       "      <td>1.00</td>\n",
       "      <td>50,708.00</td>\n",
       "      <td>88.00</td>\n",
       "      <td>10.00</td>\n",
       "      <td>21,395.00</td>\n",
       "      <td>141,500.00</td>\n",
       "      <td>40.00</td>\n",
       "      <td>15.00</td>\n",
       "      <td>10.00</td>\n",
       "      <td>7.00</td>\n",
       "      <td>8.00</td>\n",
       "    </tr>\n",
       "  </tbody>\n",
       "</table>\n",
       "</div>"
      ],
      "text/plain": [
       "       SeriousDlqin2yrs  RevolvingUtilizationOfUnsecuredLines      age  \\\n",
       "count          3,321.00                              3,321.00 3,321.00   \n",
       "mean               0.37                                259.77    44.06   \n",
       "std                0.48                              1,659.03    12.66   \n",
       "min                0.00                                  1.00    21.00   \n",
       "25%                0.00                                  1.02    34.00   \n",
       "50%                0.00                                  1.07    43.00   \n",
       "75%                1.00                                  1.30    52.00   \n",
       "max                1.00                             50,708.00    88.00   \n",
       "\n",
       "       NumberOfTime30-59DaysPastDueNotWorse  DebtRatio  MonthlyIncome  \\\n",
       "count                              3,321.00   3,321.00       2,773.00   \n",
       "mean                                   1.02     245.17       5,289.57   \n",
       "std                                    1.36     939.84       5,134.13   \n",
       "min                                    0.00       0.00           0.00   \n",
       "25%                                    0.00       0.18       2,700.00   \n",
       "50%                                    1.00       0.37       4,184.00   \n",
       "75%                                    2.00       0.81       6,458.00   \n",
       "max                                   10.00  21,395.00     141,500.00   \n",
       "\n",
       "       NumberOfOpenCreditLinesAndLoans  NumberOfTimes90DaysLate  \\\n",
       "count                         3,321.00                 3,321.00   \n",
       "mean                              6.37                     0.64   \n",
       "std                               4.03                     1.33   \n",
       "min                               0.00                     0.00   \n",
       "25%                               3.00                     0.00   \n",
       "50%                               6.00                     0.00   \n",
       "75%                               8.00                     1.00   \n",
       "max                              40.00                    15.00   \n",
       "\n",
       "       NumberRealEstateLoansOrLines  NumberOfTime60-89DaysPastDueNotWorse  \\\n",
       "count                      3,321.00                              3,321.00   \n",
       "mean                           0.68                                  0.43   \n",
       "std                            0.97                                  0.85   \n",
       "min                            0.00                                  0.00   \n",
       "25%                            0.00                                  0.00   \n",
       "50%                            0.00                                  0.00   \n",
       "75%                            1.00                                  1.00   \n",
       "max                           10.00                                  7.00   \n",
       "\n",
       "       NumberOfDependents  \n",
       "count            3,260.00  \n",
       "mean                 0.92  \n",
       "std                  1.20  \n",
       "min                  0.00  \n",
       "25%                  0.00  \n",
       "50%                  0.00  \n",
       "75%                  2.00  \n",
       "max                  8.00  "
      ]
     },
     "execution_count": 235,
     "metadata": {},
     "output_type": "execute_result"
    }
   ],
   "source": [
    "df_train[(df_train['RevolvingUtilizationOfUnsecuredLines'] > 1)].describe()"
   ]
  },
  {
   "cell_type": "markdown",
   "metadata": {},
   "source": [
    "There are 3321 entries with abnormal RevolvingUtilizationOfUnsecuredLines, before making the deletion of removing these values, we would like to see how it impacts SeriousDlqin2yrs default portion."
   ]
  },
  {
   "cell_type": "code",
   "execution_count": 236,
   "metadata": {},
   "outputs": [
    {
     "data": {
      "text/plain": [
       "SeriousDlqin2yrs\n",
       "0    2084\n",
       "1    1237\n",
       "dtype: int64"
      ]
     },
     "execution_count": 236,
     "metadata": {},
     "output_type": "execute_result"
    }
   ],
   "source": [
    "df_train[(df_train['RevolvingUtilizationOfUnsecuredLines'] > 1)].groupby('SeriousDlqin2yrs').size()"
   ]
  },
  {
   "cell_type": "code",
   "execution_count": 237,
   "metadata": {},
   "outputs": [
    {
     "data": {
      "text/plain": [
       "SeriousDlqin2yrs\n",
       "0    139974\n",
       "1     10026\n",
       "dtype: int64"
      ]
     },
     "execution_count": 237,
     "metadata": {},
     "output_type": "execute_result"
    }
   ],
   "source": [
    "df_train.groupby('SeriousDlqin2yrs').size()"
   ]
  },
  {
   "cell_type": "markdown",
   "metadata": {},
   "source": [
    "We can observe a good amount of defaulters in these data, which taking account of 12.3% among all defaulters, if we remove these all the data would get even more imbalanced. "
   ]
  },
  {
   "cell_type": "code",
   "execution_count": 238,
   "metadata": {},
   "outputs": [
    {
     "data": {
      "text/plain": [
       "count   3,057.00\n",
       "mean        0.40\n",
       "std         0.49\n",
       "min         0.00\n",
       "25%         0.00\n",
       "50%         0.00\n",
       "75%         1.00\n",
       "max         1.00\n",
       "Name: SeriousDlqin2yrs, dtype: float64"
      ]
     },
     "execution_count": 238,
     "metadata": {},
     "output_type": "execute_result"
    }
   ],
   "source": [
    "df[(df['RevolvingUtilizationOfUnsecuredLines'] > 1) & (df['RevolvingUtilizationOfUnsecuredLines'] <= 4)].SeriousDlqin2yrs.describe()"
   ]
  },
  {
   "cell_type": "markdown",
   "metadata": {},
   "source": [
    "These 3,057 people are defaulting at a rate of 40%. This is important! But what about people with more RUUL? Let's consider 4 to 10:"
   ]
  },
  {
   "cell_type": "code",
   "execution_count": 239,
   "metadata": {},
   "outputs": [
    {
     "data": {
      "text/plain": [
       "count   23.00\n",
       "mean     0.26\n",
       "std      0.45\n",
       "min      0.00\n",
       "25%      0.00\n",
       "50%      0.00\n",
       "75%      0.50\n",
       "max      1.00\n",
       "Name: SeriousDlqin2yrs, dtype: float64"
      ]
     },
     "execution_count": 239,
     "metadata": {},
     "output_type": "execute_result"
    }
   ],
   "source": [
    "df[(df['RevolvingUtilizationOfUnsecuredLines'] > 4) & (df['RevolvingUtilizationOfUnsecuredLines'] <= 10)].SeriousDlqin2yrs.describe()"
   ]
  },
  {
   "cell_type": "code",
   "execution_count": 240,
   "metadata": {},
   "outputs": [
    {
     "data": {
      "text/plain": [
       "count   23.00\n",
       "mean     0.26\n",
       "std      0.45\n",
       "min      0.00\n",
       "25%      0.00\n",
       "50%      0.00\n",
       "75%      0.50\n",
       "max      1.00\n",
       "Name: SeriousDlqin2yrs, dtype: float64"
      ]
     },
     "execution_count": 240,
     "metadata": {},
     "output_type": "execute_result"
    }
   ],
   "source": [
    "df[(df['RevolvingUtilizationOfUnsecuredLines'] > 4) & (df['RevolvingUtilizationOfUnsecuredLines'] <= 10)].SeriousDlqin2yrs.describe()"
   ]
  },
  {
   "cell_type": "markdown",
   "metadata": {},
   "source": [
    "There are only 23 records in this region, but they're still defaulting at a high rate 26%. What about if we go even higher, and consider those with RUUL > 10?"
   ]
  },
  {
   "cell_type": "code",
   "execution_count": 241,
   "metadata": {},
   "outputs": [
    {
     "data": {
      "text/html": [
       "<div>\n",
       "<style scoped>\n",
       "    .dataframe tbody tr th:only-of-type {\n",
       "        vertical-align: middle;\n",
       "    }\n",
       "\n",
       "    .dataframe tbody tr th {\n",
       "        vertical-align: top;\n",
       "    }\n",
       "\n",
       "    .dataframe thead th {\n",
       "        text-align: right;\n",
       "    }\n",
       "</style>\n",
       "<table border=\"1\" class=\"dataframe\">\n",
       "  <thead>\n",
       "    <tr style=\"text-align: right;\">\n",
       "      <th></th>\n",
       "      <th>SeriousDlqin2yrs</th>\n",
       "      <th>RevolvingUtilizationOfUnsecuredLines</th>\n",
       "      <th>age</th>\n",
       "      <th>NumberOfTime30-59DaysPastDueNotWorse</th>\n",
       "      <th>DebtRatio</th>\n",
       "      <th>MonthlyIncome</th>\n",
       "      <th>NumberOfOpenCreditLinesAndLoans</th>\n",
       "      <th>NumberOfTimes90DaysLate</th>\n",
       "      <th>NumberRealEstateLoansOrLines</th>\n",
       "      <th>NumberOfTime60-89DaysPastDueNotWorse</th>\n",
       "      <th>NumberOfDependents</th>\n",
       "    </tr>\n",
       "  </thead>\n",
       "  <tbody>\n",
       "    <tr>\n",
       "      <th>count</th>\n",
       "      <td>241.00</td>\n",
       "      <td>241.00</td>\n",
       "      <td>241.00</td>\n",
       "      <td>241.00</td>\n",
       "      <td>241.00</td>\n",
       "      <td>173.00</td>\n",
       "      <td>241.00</td>\n",
       "      <td>241.00</td>\n",
       "      <td>241.00</td>\n",
       "      <td>241.00</td>\n",
       "      <td>228.00</td>\n",
       "    </tr>\n",
       "    <tr>\n",
       "      <th>mean</th>\n",
       "      <td>0.07</td>\n",
       "      <td>3,564.02</td>\n",
       "      <td>50.63</td>\n",
       "      <td>0.19</td>\n",
       "      <td>571.92</td>\n",
       "      <td>8,467.67</td>\n",
       "      <td>5.76</td>\n",
       "      <td>0.07</td>\n",
       "      <td>1.19</td>\n",
       "      <td>0.09</td>\n",
       "      <td>0.69</td>\n",
       "    </tr>\n",
       "    <tr>\n",
       "      <th>std</th>\n",
       "      <td>0.26</td>\n",
       "      <td>5,123.80</td>\n",
       "      <td>14.57</td>\n",
       "      <td>0.58</td>\n",
       "      <td>1,772.95</td>\n",
       "      <td>6,564.07</td>\n",
       "      <td>3.11</td>\n",
       "      <td>0.58</td>\n",
       "      <td>1.07</td>\n",
       "      <td>0.56</td>\n",
       "      <td>1.04</td>\n",
       "    </tr>\n",
       "    <tr>\n",
       "      <th>min</th>\n",
       "      <td>0.00</td>\n",
       "      <td>11.39</td>\n",
       "      <td>24.00</td>\n",
       "      <td>0.00</td>\n",
       "      <td>0.00</td>\n",
       "      <td>0.00</td>\n",
       "      <td>1.00</td>\n",
       "      <td>0.00</td>\n",
       "      <td>0.00</td>\n",
       "      <td>0.00</td>\n",
       "      <td>0.00</td>\n",
       "    </tr>\n",
       "    <tr>\n",
       "      <th>25%</th>\n",
       "      <td>0.00</td>\n",
       "      <td>941.00</td>\n",
       "      <td>39.00</td>\n",
       "      <td>0.00</td>\n",
       "      <td>0.22</td>\n",
       "      <td>4,500.00</td>\n",
       "      <td>4.00</td>\n",
       "      <td>0.00</td>\n",
       "      <td>0.00</td>\n",
       "      <td>0.00</td>\n",
       "      <td>0.00</td>\n",
       "    </tr>\n",
       "    <tr>\n",
       "      <th>50%</th>\n",
       "      <td>0.00</td>\n",
       "      <td>2,012.00</td>\n",
       "      <td>48.00</td>\n",
       "      <td>0.00</td>\n",
       "      <td>0.40</td>\n",
       "      <td>7,000.00</td>\n",
       "      <td>5.00</td>\n",
       "      <td>0.00</td>\n",
       "      <td>1.00</td>\n",
       "      <td>0.00</td>\n",
       "      <td>0.00</td>\n",
       "    </tr>\n",
       "    <tr>\n",
       "      <th>75%</th>\n",
       "      <td>0.00</td>\n",
       "      <td>4,116.00</td>\n",
       "      <td>62.00</td>\n",
       "      <td>0.00</td>\n",
       "      <td>59.00</td>\n",
       "      <td>10,091.00</td>\n",
       "      <td>7.00</td>\n",
       "      <td>0.00</td>\n",
       "      <td>2.00</td>\n",
       "      <td>0.00</td>\n",
       "      <td>1.00</td>\n",
       "    </tr>\n",
       "    <tr>\n",
       "      <th>max</th>\n",
       "      <td>1.00</td>\n",
       "      <td>50,708.00</td>\n",
       "      <td>87.00</td>\n",
       "      <td>3.00</td>\n",
       "      <td>21,395.00</td>\n",
       "      <td>44,472.00</td>\n",
       "      <td>21.00</td>\n",
       "      <td>8.00</td>\n",
       "      <td>9.00</td>\n",
       "      <td>7.00</td>\n",
       "      <td>4.00</td>\n",
       "    </tr>\n",
       "  </tbody>\n",
       "</table>\n",
       "</div>"
      ],
      "text/plain": [
       "       SeriousDlqin2yrs  RevolvingUtilizationOfUnsecuredLines    age  \\\n",
       "count            241.00                                241.00 241.00   \n",
       "mean               0.07                              3,564.02  50.63   \n",
       "std                0.26                              5,123.80  14.57   \n",
       "min                0.00                                 11.39  24.00   \n",
       "25%                0.00                                941.00  39.00   \n",
       "50%                0.00                              2,012.00  48.00   \n",
       "75%                0.00                              4,116.00  62.00   \n",
       "max                1.00                             50,708.00  87.00   \n",
       "\n",
       "       NumberOfTime30-59DaysPastDueNotWorse  DebtRatio  MonthlyIncome  \\\n",
       "count                                241.00     241.00         173.00   \n",
       "mean                                   0.19     571.92       8,467.67   \n",
       "std                                    0.58   1,772.95       6,564.07   \n",
       "min                                    0.00       0.00           0.00   \n",
       "25%                                    0.00       0.22       4,500.00   \n",
       "50%                                    0.00       0.40       7,000.00   \n",
       "75%                                    0.00      59.00      10,091.00   \n",
       "max                                    3.00  21,395.00      44,472.00   \n",
       "\n",
       "       NumberOfOpenCreditLinesAndLoans  NumberOfTimes90DaysLate  \\\n",
       "count                           241.00                   241.00   \n",
       "mean                              5.76                     0.07   \n",
       "std                               3.11                     0.58   \n",
       "min                               1.00                     0.00   \n",
       "25%                               4.00                     0.00   \n",
       "50%                               5.00                     0.00   \n",
       "75%                               7.00                     0.00   \n",
       "max                              21.00                     8.00   \n",
       "\n",
       "       NumberRealEstateLoansOrLines  NumberOfTime60-89DaysPastDueNotWorse  \\\n",
       "count                        241.00                                241.00   \n",
       "mean                           1.19                                  0.09   \n",
       "std                            1.07                                  0.56   \n",
       "min                            0.00                                  0.00   \n",
       "25%                            0.00                                  0.00   \n",
       "50%                            1.00                                  0.00   \n",
       "75%                            2.00                                  0.00   \n",
       "max                            9.00                                  7.00   \n",
       "\n",
       "       NumberOfDependents  \n",
       "count              228.00  \n",
       "mean                 0.69  \n",
       "std                  1.04  \n",
       "min                  0.00  \n",
       "25%                  0.00  \n",
       "50%                  0.00  \n",
       "75%                  1.00  \n",
       "max                  4.00  "
      ]
     },
     "execution_count": 241,
     "metadata": {},
     "output_type": "execute_result"
    }
   ],
   "source": [
    "df_train[(df_train['RevolvingUtilizationOfUnsecuredLines'] > 10)].describe()"
   ]
  },
  {
   "cell_type": "markdown",
   "metadata": {},
   "source": [
    "Despite owing hundreds of thousands of times their credit limits, these 241 individuals are not defaulting more than the others. However, their data seems inconsistent with the rest of the dataset, so it would be appropriate to remove them from our model."
   ]
  },
  {
   "cell_type": "code",
   "execution_count": 242,
   "metadata": {},
   "outputs": [],
   "source": [
    "df_train_dropped= df_train.drop(df_train[(df_train['RevolvingUtilizationOfUnsecuredLines'] > 10)].index)"
   ]
  },
  {
   "cell_type": "code",
   "execution_count": 243,
   "metadata": {},
   "outputs": [
    {
     "data": {
      "text/plain": [
       "(149759, 11)"
      ]
     },
     "execution_count": 243,
     "metadata": {},
     "output_type": "execute_result"
    }
   ],
   "source": [
    "df_train_dropped.shape"
   ]
  },
  {
   "cell_type": "markdown",
   "metadata": {},
   "source": [
    "### NumberOfDependents<a class=\"anchor\" id=\"3.10\"></a>"
   ]
  },
  {
   "cell_type": "code",
   "execution_count": 244,
   "metadata": {},
   "outputs": [
    {
     "data": {
      "text/plain": [
       "count   146,076.00\n",
       "mean          0.76\n",
       "std           1.12\n",
       "min           0.00\n",
       "25%           0.00\n",
       "50%           0.00\n",
       "75%           1.00\n",
       "max          20.00\n",
       "Name: NumberOfDependents, dtype: float64"
      ]
     },
     "execution_count": 244,
     "metadata": {},
     "output_type": "execute_result"
    }
   ],
   "source": [
    "df_train[\"NumberOfDependents\"].describe()\n"
   ]
  },
  {
   "cell_type": "code",
   "execution_count": 245,
   "metadata": {},
   "outputs": [
    {
     "data": {
      "text/plain": [
       "0     56188\n",
       "1     52338\n",
       "2     31522\n",
       "3      6300\n",
       "4      2170\n",
       "5       689\n",
       "6       320\n",
       "7       171\n",
       "8        93\n",
       "9        78\n",
       "10       37\n",
       "11       23\n",
       "12       18\n",
       "13       15\n",
       "14        7\n",
       "15        7\n",
       "16        4\n",
       "17        4\n",
       "25        3\n",
       "18        2\n",
       "19        2\n",
       "20        2\n",
       "23        2\n",
       "32        1\n",
       "21        1\n",
       "26        1\n",
       "29        1\n",
       "54        1\n",
       "Name: NumberRealEstateLoansOrLines, dtype: int64"
      ]
     },
     "execution_count": 245,
     "metadata": {},
     "output_type": "execute_result"
    }
   ],
   "source": [
    "df[\"NumberRealEstateLoansOrLines\"].value_counts()"
   ]
  },
  {
   "cell_type": "code",
   "execution_count": 246,
   "metadata": {},
   "outputs": [
    {
     "data": {
      "text/plain": [
       "count   146,074.00\n",
       "mean          0.07\n",
       "std           0.25\n",
       "min           0.00\n",
       "25%           0.00\n",
       "50%           0.00\n",
       "75%           0.00\n",
       "max           1.00\n",
       "Name: SeriousDlqin2yrs, dtype: float64"
      ]
     },
     "execution_count": 246,
     "metadata": {},
     "output_type": "execute_result"
    }
   ],
   "source": [
    "df_train.loc[df_train[\"NumberOfDependents\"] <= 10][\"SeriousDlqin2yrs\"].describe()"
   ]
  },
  {
   "cell_type": "code",
   "execution_count": null,
   "metadata": {},
   "outputs": [],
   "source": []
  },
  {
   "cell_type": "code",
   "execution_count": 247,
   "metadata": {},
   "outputs": [
    {
     "data": {
      "text/plain": [
       "<matplotlib.axes._subplots.AxesSubplot at 0x7fc15e51bb50>"
      ]
     },
     "execution_count": 247,
     "metadata": {},
     "output_type": "execute_result"
    },
    {
     "data": {
      "image/png": "[encoded data removed]",
      "text/plain": [
       "<Figure size 432x288 with 1 Axes>"
      ]
     },
     "metadata": {
      "needs_background": "light"
     },
     "output_type": "display_data"
    }
   ],
   "source": [
    "sns.countplot(x=\"NumberOfDependents\", data=df_train.loc[df_train[\"NumberOfDependents\"] <= 10])"
   ]
  },
  {
   "cell_type": "markdown",
   "metadata": {},
   "source": []
  },
  {
   "cell_type": "markdown",
   "metadata": {},
   "source": [
    "## Preprocessing Suggestions <a class=\"anchor\" id=\"4\"></a>\n"
   ]
  },
  {
   "cell_type": "markdown",
   "metadata": {},
   "source": [
    "- Remove samples with values of DebtRatio above its 97.5 percentile\n",
    "- Set 0 <= RevolvingUtilizationOfUnsecuredLines < 13\n",
    "- Set NumberOfTimes90DaysLate <= 17\n",
    "- Impute MonthlyIncome with its median, or with a normally distributed variable with MonthlyIncome's mean and standard deviation or use linear regression to fill missing na.\n",
    "- Impute NumberOfDependents with its mode"
   ]
  },
  {
   "cell_type": "code",
   "execution_count": null,
   "metadata": {},
   "outputs": [],
   "source": []
  },
  {
   "cell_type": "code",
   "execution_count": null,
   "metadata": {},
   "outputs": [],
   "source": []
  }
 ],
 "metadata": {
  "kernelspec": {
   "display_name": "Python 3",
   "language": "python",
   "name": "python3"
  },
  "language_info": {
   "codemirror_mode": {
    "name": "ipython",
    "version": 3
   },
   "file_extension": ".py",
   "mimetype": "text/x-python",
   "name": "python",
   "nbconvert_exporter": "python",
   "pygments_lexer": "ipython3",
   "version": "3.8.3"
  }
 },
 "nbformat": 4,
 "nbformat_minor": 4
}
