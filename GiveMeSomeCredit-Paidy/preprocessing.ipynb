{
 "cells": [
  {
   "cell_type": "markdown",
   "metadata": {},
   "source": [
    "# Data Preprocessing - Preparing for one of the top performing models\n",
    "\n",
    "In this notebook, after an exploratory data analysis is performed on Give Me Some Credit's training set from last notebook, the next step is to do a feature importance evaluation to see whether all these risk drivers are necessary for building the model. \n",
    "\n",
    "Preprocessing steps are done here. These preprocessing steps will be the preparatory work for training a XGBoost model on the dataset."
   ]
  },
  {
   "cell_type": "code",
   "execution_count": 79,
   "metadata": {},
   "outputs": [],
   "source": [
    "# Main tools we used:\n",
    "import numpy as np # linear algebra\n",
    "import pandas as pd # data processing, CSV file I/O (e.g. pd.read_csv)\n",
    "\n",
    "# Models:\n",
    "from sklearn import svm\n",
    "from sklearn.model_selection import cross_validate\n",
    "from sklearn.linear_model import LinearRegression\n",
    "from sklearn.ensemble import RandomForestClassifier\n",
    "\n",
    "# plot utilities:\n",
    "import seaborn as sns\n",
    "import matplotlib.pyplot as plt\n",
    "%matplotlib inline\n",
    "\n",
    "# Python utilities:\n",
    "import time\n",
    "import os"
   ]
  },
  {
   "cell_type": "code",
   "execution_count": 130,
   "metadata": {},
   "outputs": [
    {
     "data": {
      "text/plain": [
       "(150000, 12)"
      ]
     },
     "execution_count": 130,
     "metadata": {},
     "output_type": "execute_result"
    }
   ],
   "source": [
    "# Import Data\n",
    "df_train = pd.read_csv(\"cs-training.csv\")\n",
    "df_test = pd.read_csv(\"cs-test.csv\")\n",
    "df_train.shape\n"
   ]
  },
  {
   "cell_type": "markdown",
   "metadata": {},
   "source": [
    "## Preprocessing Suggestions <a class=\"anchor\" id=\"4\"></a>\n",
    "\n",
    "- Remove samples with values of DebtRatio above its 97.5 percentile\n",
    "- Set 0 <= RevolvingUtilizationOfUnsecuredLines < 10\n",
    "- For Late Payment Columns NumberOfTimes90DaysLate,NumberOfTime30-59DaysPastDueNotWorse, NumberOfTime60-89DaysPastDueNotWorse,to handle the extreme outlier values (96/98), we can apply Winsorization by replacing them with their nearest non-extreme value. \n",
    "- Impute MonthlyIncome with its median or mode, or with a normally distributed variable with MonthlyIncome's mean and standard deviation, or regression imputation.\n",
    "- Impute NumberOfDependents with its mode"
   ]
  },
  {
   "cell_type": "code",
   "execution_count": 132,
   "metadata": {},
   "outputs": [
    {
     "data": {
      "text/html": [
       "<div>\n",
       "<style scoped>\n",
       "    .dataframe tbody tr th:only-of-type {\n",
       "        vertical-align: middle;\n",
       "    }\n",
       "\n",
       "    .dataframe tbody tr th {\n",
       "        vertical-align: top;\n",
       "    }\n",
       "\n",
       "    .dataframe thead th {\n",
       "        text-align: right;\n",
       "    }\n",
       "</style>\n",
       "<table border=\"1\" class=\"dataframe\">\n",
       "  <thead>\n",
       "    <tr style=\"text-align: right;\">\n",
       "      <th></th>\n",
       "      <th>Unnamed: 0</th>\n",
       "      <th>SeriousDlqin2yrs</th>\n",
       "      <th>RevolvingUtilizationOfUnsecuredLines</th>\n",
       "      <th>age</th>\n",
       "      <th>NumberOfTime30-59DaysPastDueNotWorse</th>\n",
       "      <th>DebtRatio</th>\n",
       "      <th>MonthlyIncome</th>\n",
       "      <th>NumberOfOpenCreditLinesAndLoans</th>\n",
       "      <th>NumberOfTimes90DaysLate</th>\n",
       "      <th>NumberRealEstateLoansOrLines</th>\n",
       "      <th>NumberOfTime60-89DaysPastDueNotWorse</th>\n",
       "      <th>NumberOfDependents</th>\n",
       "    </tr>\n",
       "  </thead>\n",
       "  <tbody>\n",
       "    <tr>\n",
       "      <th>0</th>\n",
       "      <td>1</td>\n",
       "      <td>1</td>\n",
       "      <td>0.766127</td>\n",
       "      <td>45</td>\n",
       "      <td>2</td>\n",
       "      <td>0.802982</td>\n",
       "      <td>9120.0</td>\n",
       "      <td>13</td>\n",
       "      <td>0</td>\n",
       "      <td>6</td>\n",
       "      <td>0</td>\n",
       "      <td>2.0</td>\n",
       "    </tr>\n",
       "    <tr>\n",
       "      <th>1</th>\n",
       "      <td>2</td>\n",
       "      <td>0</td>\n",
       "      <td>0.957151</td>\n",
       "      <td>40</td>\n",
       "      <td>0</td>\n",
       "      <td>0.121876</td>\n",
       "      <td>2600.0</td>\n",
       "      <td>4</td>\n",
       "      <td>0</td>\n",
       "      <td>0</td>\n",
       "      <td>0</td>\n",
       "      <td>1.0</td>\n",
       "    </tr>\n",
       "    <tr>\n",
       "      <th>2</th>\n",
       "      <td>3</td>\n",
       "      <td>0</td>\n",
       "      <td>0.658180</td>\n",
       "      <td>38</td>\n",
       "      <td>1</td>\n",
       "      <td>0.085113</td>\n",
       "      <td>3042.0</td>\n",
       "      <td>2</td>\n",
       "      <td>1</td>\n",
       "      <td>0</td>\n",
       "      <td>0</td>\n",
       "      <td>0.0</td>\n",
       "    </tr>\n",
       "    <tr>\n",
       "      <th>3</th>\n",
       "      <td>4</td>\n",
       "      <td>0</td>\n",
       "      <td>0.233810</td>\n",
       "      <td>30</td>\n",
       "      <td>0</td>\n",
       "      <td>0.036050</td>\n",
       "      <td>3300.0</td>\n",
       "      <td>5</td>\n",
       "      <td>0</td>\n",
       "      <td>0</td>\n",
       "      <td>0</td>\n",
       "      <td>0.0</td>\n",
       "    </tr>\n",
       "    <tr>\n",
       "      <th>4</th>\n",
       "      <td>5</td>\n",
       "      <td>0</td>\n",
       "      <td>0.907239</td>\n",
       "      <td>49</td>\n",
       "      <td>1</td>\n",
       "      <td>0.024926</td>\n",
       "      <td>63588.0</td>\n",
       "      <td>7</td>\n",
       "      <td>0</td>\n",
       "      <td>1</td>\n",
       "      <td>0</td>\n",
       "      <td>0.0</td>\n",
       "    </tr>\n",
       "  </tbody>\n",
       "</table>\n",
       "</div>"
      ],
      "text/plain": [
       "   Unnamed: 0  SeriousDlqin2yrs  RevolvingUtilizationOfUnsecuredLines  age  \\\n",
       "0           1                 1                              0.766127   45   \n",
       "1           2                 0                              0.957151   40   \n",
       "2           3                 0                              0.658180   38   \n",
       "3           4                 0                              0.233810   30   \n",
       "4           5                 0                              0.907239   49   \n",
       "\n",
       "   NumberOfTime30-59DaysPastDueNotWorse  DebtRatio  MonthlyIncome  \\\n",
       "0                                     2   0.802982         9120.0   \n",
       "1                                     0   0.121876         2600.0   \n",
       "2                                     1   0.085113         3042.0   \n",
       "3                                     0   0.036050         3300.0   \n",
       "4                                     1   0.024926        63588.0   \n",
       "\n",
       "   NumberOfOpenCreditLinesAndLoans  NumberOfTimes90DaysLate  \\\n",
       "0                               13                        0   \n",
       "1                                4                        0   \n",
       "2                                2                        1   \n",
       "3                                5                        0   \n",
       "4                                7                        0   \n",
       "\n",
       "   NumberRealEstateLoansOrLines  NumberOfTime60-89DaysPastDueNotWorse  \\\n",
       "0                             6                                     0   \n",
       "1                             0                                     0   \n",
       "2                             0                                     0   \n",
       "3                             0                                     0   \n",
       "4                             1                                     0   \n",
       "\n",
       "   NumberOfDependents  \n",
       "0                 2.0  \n",
       "1                 1.0  \n",
       "2                 0.0  \n",
       "3                 0.0  \n",
       "4                 0.0  "
      ]
     },
     "execution_count": 132,
     "metadata": {},
     "output_type": "execute_result"
    }
   ],
   "source": [
    "df_train.head()"
   ]
  },
  {
   "cell_type": "code",
   "execution_count": 133,
   "metadata": {},
   "outputs": [],
   "source": [
    "# Preprocess Data\n",
    "\n",
    "## drop id column which doesn't provide any valuable info\n",
    "df_train= df_train.drop(\"Unnamed: 0\", axis=1)\n",
    "df_test = df_test.drop(\"Unnamed: 0\", axis=1)\n"
   ]
  },
  {
   "cell_type": "code",
   "execution_count": 107,
   "metadata": {},
   "outputs": [
    {
     "data": {
      "text/plain": [
       "(150000, 11)"
      ]
     },
     "execution_count": 107,
     "metadata": {},
     "output_type": "execute_result"
    }
   ],
   "source": [
    "df_train.shape\n"
   ]
  },
  {
   "cell_type": "code",
   "execution_count": 134,
   "metadata": {},
   "outputs": [
    {
     "data": {
      "text/plain": [
       "(101503, 11)"
      ]
     },
     "execution_count": 134,
     "metadata": {},
     "output_type": "execute_result"
    }
   ],
   "source": [
    "df_test.shape"
   ]
  },
  {
   "cell_type": "code",
   "execution_count": 108,
   "metadata": {},
   "outputs": [
    {
     "data": {
      "text/plain": [
       "(146250, 11)"
      ]
     },
     "execution_count": 108,
     "metadata": {},
     "output_type": "execute_result"
    }
   ],
   "source": [
    "# Remove samples with values of DebtRatio above its 97.5 percentile\n",
    "df_train_processed = df_train.loc[df_train[\"DebtRatio\"] <= df_train[\"DebtRatio\"].quantile(0.975)]\n",
    "df_train_processed.shape\n"
   ]
  },
  {
   "cell_type": "code",
   "execution_count": 109,
   "metadata": {},
   "outputs": [
    {
     "data": {
      "text/plain": [
       "(146021, 11)"
      ]
     },
     "execution_count": 109,
     "metadata": {},
     "output_type": "execute_result"
    }
   ],
   "source": [
    "# Set 0 <= RevolvingUtilizationOfUnsecuredLines < 13\n",
    "# \n",
    "df_train_processed = df_train_processed.loc[(df_train_processed[\"RevolvingUtilizationOfUnsecuredLines\"] >= 0) & (df_train_processed[\"RevolvingUtilizationOfUnsecuredLines\"] <=10)]\n",
    "\n",
    "df_train_processed.shape"
   ]
  },
  {
   "cell_type": "code",
   "execution_count": 110,
   "metadata": {},
   "outputs": [],
   "source": [
    "# to handle the extreme outlier values (96/98), we can apply Winsorization by replacing them with their nearest non-extreme value.\n",
    "def winsorize_data(df, column, threshold):\n",
    "    df[column] = np.where(df[column] > threshold, threshold, df[column])\n",
    "    return df"
   ]
  },
  {
   "cell_type": "code",
   "execution_count": 111,
   "metadata": {},
   "outputs": [],
   "source": [
    "# For Late Payment Columns NumberOfTimes90DaysLate,NumberOfTime30-59DaysPastDueNotWorse, NumberOfTime60-89DaysPastDueNotWorse,to handle the extreme outlier values (96/98),\n",
    "# we can apply Winsorization by replacing them with their nearest non-extreme value.\n",
    "df_train_processed = winsorize_data(df_train_processed, \"NumberOfTimes90DaysLate\", 17)\n",
    "df_train_processed = winsorize_data(df_train_processed, \"NumberOfTime60-89DaysPastDueNotWorse\", 11)\n",
    "df_train_processed = winsorize_data(df_train_processed, \"NumberOfTime30-59DaysPastDueNotWorse\", 13)"
   ]
  },
  {
   "cell_type": "code",
   "execution_count": 112,
   "metadata": {},
   "outputs": [
    {
     "data": {
      "text/plain": [
       "(146021, 11)"
      ]
     },
     "execution_count": 112,
     "metadata": {},
     "output_type": "execute_result"
    }
   ],
   "source": [
    "df_train_processed.shape"
   ]
  },
  {
   "cell_type": "code",
   "execution_count": 113,
   "metadata": {},
   "outputs": [
    {
     "data": {
      "text/plain": [
       "NumberOfTimes90DaysLate\n",
       "0     137808\n",
       "1       5159\n",
       "2       1536\n",
       "3        656\n",
       "4        287\n",
       "5        129\n",
       "6         78\n",
       "7         37\n",
       "8         20\n",
       "9         19\n",
       "10         8\n",
       "11         4\n",
       "12         2\n",
       "13         4\n",
       "14         2\n",
       "15         2\n",
       "17       270\n",
       "Name: NumberOfTimes90DaysLate, dtype: int64"
      ]
     },
     "execution_count": 113,
     "metadata": {},
     "output_type": "execute_result"
    }
   ],
   "source": [
    "df_train_processed.groupby('NumberOfTimes90DaysLate').NumberOfTimes90DaysLate.count()"
   ]
  },
  {
   "cell_type": "code",
   "execution_count": 114,
   "metadata": {},
   "outputs": [
    {
     "data": {
      "text/plain": [
       "NumberOfTime60-89DaysPastDueNotWorse\n",
       "0     138582\n",
       "1       5604\n",
       "2       1090\n",
       "3        315\n",
       "4        100\n",
       "5         33\n",
       "6         16\n",
       "7          8\n",
       "8          2\n",
       "9          1\n",
       "11       270\n",
       "Name: NumberOfTimes90DaysLate, dtype: int64"
      ]
     },
     "execution_count": 114,
     "metadata": {},
     "output_type": "execute_result"
    }
   ],
   "source": [
    "df_train_processed.groupby('NumberOfTime60-89DaysPastDueNotWorse').NumberOfTimes90DaysLate.count()"
   ]
  },
  {
   "cell_type": "code",
   "execution_count": 115,
   "metadata": {},
   "outputs": [
    {
     "data": {
      "text/plain": [
       "NumberOfTime30-59DaysPastDueNotWorse\n",
       "0     122744\n",
       "1      15578\n",
       "2       4467\n",
       "3       1691\n",
       "4        715\n",
       "5        324\n",
       "6        137\n",
       "7         52\n",
       "8         25\n",
       "9         12\n",
       "10         3\n",
       "11         1\n",
       "12         2\n",
       "13       270\n",
       "Name: NumberOfTimes90DaysLate, dtype: int64"
      ]
     },
     "execution_count": 115,
     "metadata": {},
     "output_type": "execute_result"
    }
   ],
   "source": [
    "df_train_processed.groupby('NumberOfTime30-59DaysPastDueNotWorse').NumberOfTimes90DaysLate.count()"
   ]
  },
  {
   "cell_type": "markdown",
   "metadata": {},
   "source": [
    "**NumberOfDependents**\n",
    "\n",
    "greater than 50% of the non-missing values have 0 dependents, and if someone leaves the field blank it is likely to be due to not having any dependents, we'll replace these values with 0."
   ]
  },
  {
   "cell_type": "code",
   "execution_count": 116,
   "metadata": {},
   "outputs": [
    {
     "name": "stdout",
     "output_type": "stream",
     "text": [
      "Number of missing values for NumberOfDependents 0\n"
     ]
    }
   ],
   "source": [
    "# impute dependents with mode\n",
    "dependents_mode = df_train[\"NumberOfDependents\"].mode()[0] # impute with mode\n",
    "df_train_processed[\"NumberOfDependents\"] = df_train_processed[\"NumberOfDependents\"].fillna(dependents_mode)\n",
    "# df_train[\"NumberOfDependents\"] = df_train[\"NumberOfDependents\"].fillna(dependents_mode)\n",
    "missing_values = df_train_processed[\"NumberOfDependents\"].isna().sum()\n",
    "print(\"Number of missing values for NumberOfDependents\", missing_values)\n"
   ]
  },
  {
   "cell_type": "markdown",
   "metadata": {},
   "source": [
    "**Handle missing data for monthly income**"
   ]
  },
  {
   "cell_type": "markdown",
   "metadata": {},
   "source": [
    "When handling missing values for the \"MonthlyIncome\" column in a predictive modeling task,there are several options:\n",
    "\n",
    "1. **Dropping rows**: If the number of missing values is relatively small compared to the total dataset, you can choose to drop the rows with missing values using the dropna() function. However, this approach may lead to loss of valuable data.\n",
    "\n",
    "2. **Mean/Median/Mode** imputation: You can fill in the missing values with the mean, median, or mode of the \"MonthlyIncome\" column. For example, you can calculate the mean income and replace the missing values with that value using the fillna() function: df[\"MonthlyIncome\"].fillna(df[\"MonthlyIncome\"].mean(), inplace=True). Similarly, you can use the median or mode instead of the mean.\n",
    "\n",
    "3. **Regression imputation**: If you have other variables in your dataset that are strongly correlated with the \"MonthlyIncome\" column, you can use regression techniques to predict the missing values based on those variables. You can train a regression model using the available data and then use the model to predict the missing values.\n",
    "\n",
    "4. **Multiple imputation**: Multiple imputation is a technique where missing values are filled in with multiple plausible values, generating multiple complete datasets. Each dataset is then analyzed separately, and the results are combined to obtain the final estimates. This approach accounts for the uncertainty associated with imputing missing values."
   ]
  },
  {
   "cell_type": "code",
   "execution_count": 117,
   "metadata": {},
   "outputs": [
    {
     "name": "stdout",
     "output_type": "stream",
     "text": [
      "Number of missing values for MonthlyIncome 26110\n"
     ]
    }
   ],
   "source": [
    "missing_values = df_train_processed[\"MonthlyIncome\"].isna().sum()\n",
    "print(\"Number of missing values for MonthlyIncome\", missing_values)"
   ]
  },
  {
   "cell_type": "markdown",
   "metadata": {},
   "source": [
    "First let's take a look at using regression to fill in the missing values for MonthlyIncome:"
   ]
  },
  {
   "cell_type": "code",
   "execution_count": 118,
   "metadata": {},
   "outputs": [],
   "source": [
    "not_missing = not_missing = df_train_processed.dropna()\n",
    "target = 'MonthlyIncome'\n",
    "predictors = [c for c in list(not_missing) if c not in [target,'SeriousDlqin2yrs']]\n",
    "X_data = not_missing[predictors]\n",
    "y_data = not_missing[target]\n",
    "regr = LinearRegression().fit(X_data, y_data)"
   ]
  },
  {
   "cell_type": "code",
   "execution_count": 119,
   "metadata": {},
   "outputs": [
    {
     "data": {
      "text/plain": [
       "0.023479301577786216"
      ]
     },
     "execution_count": 119,
     "metadata": {},
     "output_type": "execute_result"
    }
   ],
   "source": [
    "regr.score(X_data, y_data)"
   ]
  },
  {
   "cell_type": "markdown",
   "metadata": {},
   "source": [
    "The R2 value obtained is extremely low, indicating poor model performance. Based on this observation, it appears that the most suitable approach would be to replace the missing values in the \"MonthlyIncome\" column with the median value instead of the mean. This decision is influenced by the presence of extreme outliers in the \"MonthlyIncome\" variable, where some individuals are earning exceptionally high incomes in the millions of dollars per month."
   ]
  },
  {
   "cell_type": "code",
   "execution_count": 120,
   "metadata": {},
   "outputs": [],
   "source": [
    "\n",
    "    #################################### Uncomment below if want median imputation for MonthlyIncome #################################### \n",
    "    income_median = df_train_processed[\"MonthlyIncome\"].median()\n",
    "    df_train_processed[\"MonthlyIncome\"] = df_train_processed[\"MonthlyIncome\"].fillna(income_median)\n",
    "      \n",
    "    ################################################################################################################################################ \n",
    "\n",
    "\n",
    "    #################################### Uncomment below if want random normal imputation for Monthly Income #################################### \n",
    "    # mean = df[\"MonthlyIncome\"].mean()\n",
    "    # std = df[\"MonthlyIncome\"].std()\n",
    "    # np.random.seed(0)\n",
    "    # df.loc[df[\"MonthlyIncome\"].isnull()][\"MonthlyIncome\"] = np.random.normal(loc=mean, scale=std, size=len(df.loc[df[\"MonthlyIncome\"].isnull()]))\n",
    "    # impute_dic = {\n",
    "    #     \"MonthlyIncome\": {\n",
    "    #         \"mean\": mean,\n",
    "    #         \"std\": std\n",
    "    #     },\n",
    "    #     \"NumberOfDependents\": {\n",
    "    #         \"mode\": dependents_mode\n",
    "    #     }\n",
    "    # }\n",
    "    ################################################################################################################################################ \n",
    "\n"
   ]
  },
  {
   "cell_type": "code",
   "execution_count": 121,
   "metadata": {},
   "outputs": [
    {
     "name": "stdout",
     "output_type": "stream",
     "text": [
      "Number of missing values for MonthlyIncome 0\n"
     ]
    }
   ],
   "source": [
    "missing_values_MonthlyIncome = df_train_processed[\"MonthlyIncome\"].isna().sum()\n",
    "print(\"Number of missing values for MonthlyIncome\", missing_values_MonthlyIncome)\n"
   ]
  },
  {
   "cell_type": "code",
   "execution_count": 131,
   "metadata": {},
   "outputs": [
    {
     "data": {
      "text/plain": [
       "(146021, 11)"
      ]
     },
     "execution_count": 131,
     "metadata": {},
     "output_type": "execute_result"
    }
   ],
   "source": [
    "df_train_processed.shape"
   ]
  },
  {
   "cell_type": "code",
   "execution_count": 142,
   "metadata": {},
   "outputs": [],
   "source": [
    "df_train_processed.to_csv('processed_data_train.csv', index=False)\n"
   ]
  },
  {
   "cell_type": "markdown",
   "metadata": {},
   "source": [
    "### Feature Importance"
   ]
  },
  {
   "cell_type": "code",
   "execution_count": 124,
   "metadata": {
    "_kg_hide-input": true
   },
   "outputs": [],
   "source": [
    "train_X = df_train_processed.drop([\"SeriousDlqin2yrs\"], axis=1)\n",
    "train_y = np.log1p(df_train_processed[\"SeriousDlqin2yrs\"].values)"
   ]
  },
  {
   "cell_type": "code",
   "execution_count": 125,
   "metadata": {
    "_kg_hide-input": true
   },
   "outputs": [
    {
     "data": {
      "image/png": "[encoded data removed]",
      "text/plain": [
       "<Figure size 864x864 with 1 Axes>"
      ]
     },
     "metadata": {
      "needs_background": "light"
     },
     "output_type": "display_data"
    }
   ],
   "source": [
    "from sklearn import ensemble\n",
    "model = ensemble.ExtraTreesRegressor(n_estimators=200, max_depth=20, max_features=0.5, n_jobs=-1, random_state=0)\n",
    "model.fit(train_X, train_y)\n",
    "\n",
    "## plotando as importâncias ##\n",
    "feat_names = train_X.columns.values\n",
    "importances = model.feature_importances_\n",
    "std = np.std([tree.feature_importances_ for tree in model.estimators_], axis=0)\n",
    "indices = np.argsort(importances)[::-1][:20]\n",
    "\n",
    "plt.figure(figsize=(12,12))\n",
    "plt.title(\"Feature importances\")\n",
    "plt.bar(range(len(indices)), importances[indices], color=\"r\", yerr=std[indices], align=\"center\")\n",
    "plt.xticks(range(len(indices)), feat_names[indices], rotation='vertical')\n",
    "plt.xlim([-1, len(indices)])\n",
    "plt.show()"
   ]
  },
  {
   "cell_type": "code",
   "execution_count": 126,
   "metadata": {
    "_kg_hide-input": true
   },
   "outputs": [],
   "source": [
    "def plot_new_feature_distribution(df1, df2, label1, label2, features, n):\n",
    "    i = 0\n",
    "    sns.set_style('whitegrid')\n",
    "    plt.figure()\n",
    "    fig, ax = plt.subplots(2,n,figsize=(18,8))\n",
    "\n",
    "    for feature in features:\n",
    "        i += 1\n",
    "        plt.subplot(2,n,i)\n",
    "        sns.kdeplot(df1[feature], bw=0.5,label=label1)\n",
    "        sns.kdeplot(df2[feature], bw=0.5,label=label2)\n",
    "        plt.xlabel(feature, fontsize=11)\n",
    "        locs, labels = plt.xticks()\n",
    "        plt.tick_params(axis='x', which='major', labelsize=8)\n",
    "        plt.tick_params(axis='y', which='major', labelsize=8)\n",
    "    plt.show();"
   ]
  },
  {
   "cell_type": "markdown",
   "metadata": {},
   "source": [
    "### Correlation among risk drivers"
   ]
  },
  {
   "cell_type": "code",
   "execution_count": null,
   "metadata": {},
   "outputs": [],
   "source": []
  },
  {
   "cell_type": "code",
   "execution_count": 150,
   "metadata": {},
   "outputs": [
    {
     "data": {
      "image/png": "[encoded data removed]",
      "text/plain": [
       "<Figure size 432x288 with 2 Axes>"
      ]
     },
     "metadata": {
      "needs_background": "light"
     },
     "output_type": "display_data"
    }
   ],
   "source": [
    "correlations = df_train_processed.corr()\n",
    "sns.heatmap(correlations, annot=True, fmt=\".2f\", cmap=\"RdBu\")\n",
    "plt.title(\"Correlation Matrix\")\n",
    "plt.show()"
   ]
  },
  {
   "cell_type": "code",
   "execution_count": 154,
   "metadata": {},
   "outputs": [
    {
     "name": "stdout",
     "output_type": "stream",
     "text": [
      "Correlation between NumberOfTime30-59DaysPastDueNotWorse and NumberOfTimes90DaysLate is greater than 0.5\n",
      "Correlation between NumberOfTime30-59DaysPastDueNotWorse and NumberOfTime60-89DaysPastDueNotWorse is greater than 0.5\n",
      "Correlation between NumberOfTimes90DaysLate and NumberOfTime30-59DaysPastDueNotWorse is greater than 0.5\n",
      "Correlation between NumberOfTimes90DaysLate and NumberOfTime60-89DaysPastDueNotWorse is greater than 0.5\n",
      "Correlation between NumberOfTime60-89DaysPastDueNotWorse and NumberOfTime30-59DaysPastDueNotWorse is greater than 0.5\n",
      "Correlation between NumberOfTime60-89DaysPastDueNotWorse and NumberOfTimes90DaysLate is greater than 0.5\n"
     ]
    }
   ],
   "source": [
    "correlations = df_train_processed.corr()\n",
    "high_correlations = np.where(np.abs(correlations) > 0.5)\n",
    "correlation_pairs = [(df_train_processed.columns[i], df_train_processed.columns[j]) for i, j in zip(*high_correlations) if i != j]\n",
    "\n",
    "for pair in correlation_pairs:\n",
    "    print(f\"Correlation between {pair[0]} and {pair[1]} is greater than 0.5\")"
   ]
  },
  {
   "cell_type": "markdown",
   "metadata": {},
   "source": [
    "\"NumberOfTime30-59DaysPastDueNotWorse,\" \"NumberOfTimes90DaysLate,\" and \"NumberOfTime60-89DaysPastDueNotWorse,\" with high correlation, indicating they are related, you can consider combining them into a single meaningful feature. One possible approach is to create a new feature that represents the total number of times a person has been past due across all three time windows."
   ]
  },
  {
   "cell_type": "code",
   "execution_count": 157,
   "metadata": {},
   "outputs": [],
   "source": [
    "df_train_created = df_train_processed\n",
    "# Create a new column 'TotalPastDue' by summing the values of the three columns\n",
    "df_train_created['TotalPastDue'] = df_train_processed['NumberOfTime30-59DaysPastDueNotWorse'] + df_train_processed['NumberOfTimes90DaysLate'] + df_train_processed['NumberOfTime60-89DaysPastDueNotWorse']\n",
    "\n",
    "# Drop the individual columns if desired\n",
    "df_train_created = df_train_processed.drop(['NumberOfTime30-59DaysPastDueNotWorse', 'NumberOfTimes90DaysLate', 'NumberOfTime60-89DaysPastDueNotWorse'], axis=1)"
   ]
  },
  {
   "cell_type": "code",
   "execution_count": 159,
   "metadata": {},
   "outputs": [
    {
     "data": {
      "text/html": [
       "<div>\n",
       "<style scoped>\n",
       "    .dataframe tbody tr th:only-of-type {\n",
       "        vertical-align: middle;\n",
       "    }\n",
       "\n",
       "    .dataframe tbody tr th {\n",
       "        vertical-align: top;\n",
       "    }\n",
       "\n",
       "    .dataframe thead th {\n",
       "        text-align: right;\n",
       "    }\n",
       "</style>\n",
       "<table border=\"1\" class=\"dataframe\">\n",
       "  <thead>\n",
       "    <tr style=\"text-align: right;\">\n",
       "      <th></th>\n",
       "      <th>SeriousDlqin2yrs</th>\n",
       "      <th>RevolvingUtilizationOfUnsecuredLines</th>\n",
       "      <th>age</th>\n",
       "      <th>DebtRatio</th>\n",
       "      <th>MonthlyIncome</th>\n",
       "      <th>NumberOfOpenCreditLinesAndLoans</th>\n",
       "      <th>NumberRealEstateLoansOrLines</th>\n",
       "      <th>NumberOfDependents</th>\n",
       "      <th>TotalPastDue</th>\n",
       "    </tr>\n",
       "  </thead>\n",
       "  <tbody>\n",
       "    <tr>\n",
       "      <th>0</th>\n",
       "      <td>1</td>\n",
       "      <td>0.766127</td>\n",
       "      <td>45</td>\n",
       "      <td>0.802982</td>\n",
       "      <td>9120.0</td>\n",
       "      <td>13</td>\n",
       "      <td>6</td>\n",
       "      <td>2.0</td>\n",
       "      <td>2</td>\n",
       "    </tr>\n",
       "    <tr>\n",
       "      <th>1</th>\n",
       "      <td>0</td>\n",
       "      <td>0.957151</td>\n",
       "      <td>40</td>\n",
       "      <td>0.121876</td>\n",
       "      <td>2600.0</td>\n",
       "      <td>4</td>\n",
       "      <td>0</td>\n",
       "      <td>1.0</td>\n",
       "      <td>0</td>\n",
       "    </tr>\n",
       "    <tr>\n",
       "      <th>2</th>\n",
       "      <td>0</td>\n",
       "      <td>0.658180</td>\n",
       "      <td>38</td>\n",
       "      <td>0.085113</td>\n",
       "      <td>3042.0</td>\n",
       "      <td>2</td>\n",
       "      <td>0</td>\n",
       "      <td>0.0</td>\n",
       "      <td>2</td>\n",
       "    </tr>\n",
       "    <tr>\n",
       "      <th>3</th>\n",
       "      <td>0</td>\n",
       "      <td>0.233810</td>\n",
       "      <td>30</td>\n",
       "      <td>0.036050</td>\n",
       "      <td>3300.0</td>\n",
       "      <td>5</td>\n",
       "      <td>0</td>\n",
       "      <td>0.0</td>\n",
       "      <td>0</td>\n",
       "    </tr>\n",
       "    <tr>\n",
       "      <th>4</th>\n",
       "      <td>0</td>\n",
       "      <td>0.907239</td>\n",
       "      <td>49</td>\n",
       "      <td>0.024926</td>\n",
       "      <td>63588.0</td>\n",
       "      <td>7</td>\n",
       "      <td>1</td>\n",
       "      <td>0.0</td>\n",
       "      <td>1</td>\n",
       "    </tr>\n",
       "    <tr>\n",
       "      <th>...</th>\n",
       "      <td>...</td>\n",
       "      <td>...</td>\n",
       "      <td>...</td>\n",
       "      <td>...</td>\n",
       "      <td>...</td>\n",
       "      <td>...</td>\n",
       "      <td>...</td>\n",
       "      <td>...</td>\n",
       "      <td>...</td>\n",
       "    </tr>\n",
       "    <tr>\n",
       "      <th>149994</th>\n",
       "      <td>0</td>\n",
       "      <td>0.385742</td>\n",
       "      <td>50</td>\n",
       "      <td>0.404293</td>\n",
       "      <td>3400.0</td>\n",
       "      <td>7</td>\n",
       "      <td>0</td>\n",
       "      <td>0.0</td>\n",
       "      <td>0</td>\n",
       "    </tr>\n",
       "    <tr>\n",
       "      <th>149995</th>\n",
       "      <td>0</td>\n",
       "      <td>0.040674</td>\n",
       "      <td>74</td>\n",
       "      <td>0.225131</td>\n",
       "      <td>2100.0</td>\n",
       "      <td>4</td>\n",
       "      <td>1</td>\n",
       "      <td>0.0</td>\n",
       "      <td>0</td>\n",
       "    </tr>\n",
       "    <tr>\n",
       "      <th>149996</th>\n",
       "      <td>0</td>\n",
       "      <td>0.299745</td>\n",
       "      <td>44</td>\n",
       "      <td>0.716562</td>\n",
       "      <td>5584.0</td>\n",
       "      <td>4</td>\n",
       "      <td>1</td>\n",
       "      <td>2.0</td>\n",
       "      <td>0</td>\n",
       "    </tr>\n",
       "    <tr>\n",
       "      <th>149998</th>\n",
       "      <td>0</td>\n",
       "      <td>0.000000</td>\n",
       "      <td>30</td>\n",
       "      <td>0.000000</td>\n",
       "      <td>5716.0</td>\n",
       "      <td>4</td>\n",
       "      <td>0</td>\n",
       "      <td>0.0</td>\n",
       "      <td>0</td>\n",
       "    </tr>\n",
       "    <tr>\n",
       "      <th>149999</th>\n",
       "      <td>0</td>\n",
       "      <td>0.850283</td>\n",
       "      <td>64</td>\n",
       "      <td>0.249908</td>\n",
       "      <td>8158.0</td>\n",
       "      <td>8</td>\n",
       "      <td>2</td>\n",
       "      <td>0.0</td>\n",
       "      <td>0</td>\n",
       "    </tr>\n",
       "  </tbody>\n",
       "</table>\n",
       "<p>146021 rows × 9 columns</p>\n",
       "</div>"
      ],
      "text/plain": [
       "        SeriousDlqin2yrs  RevolvingUtilizationOfUnsecuredLines  age  \\\n",
       "0                      1                              0.766127   45   \n",
       "1                      0                              0.957151   40   \n",
       "2                      0                              0.658180   38   \n",
       "3                      0                              0.233810   30   \n",
       "4                      0                              0.907239   49   \n",
       "...                  ...                                   ...  ...   \n",
       "149994                 0                              0.385742   50   \n",
       "149995                 0                              0.040674   74   \n",
       "149996                 0                              0.299745   44   \n",
       "149998                 0                              0.000000   30   \n",
       "149999                 0                              0.850283   64   \n",
       "\n",
       "        DebtRatio  MonthlyIncome  NumberOfOpenCreditLinesAndLoans  \\\n",
       "0        0.802982         9120.0                               13   \n",
       "1        0.121876         2600.0                                4   \n",
       "2        0.085113         3042.0                                2   \n",
       "3        0.036050         3300.0                                5   \n",
       "4        0.024926        63588.0                                7   \n",
       "...           ...            ...                              ...   \n",
       "149994   0.404293         3400.0                                7   \n",
       "149995   0.225131         2100.0                                4   \n",
       "149996   0.716562         5584.0                                4   \n",
       "149998   0.000000         5716.0                                4   \n",
       "149999   0.249908         8158.0                                8   \n",
       "\n",
       "        NumberRealEstateLoansOrLines  NumberOfDependents  TotalPastDue  \n",
       "0                                  6                 2.0             2  \n",
       "1                                  0                 1.0             0  \n",
       "2                                  0                 0.0             2  \n",
       "3                                  0                 0.0             0  \n",
       "4                                  1                 0.0             1  \n",
       "...                              ...                 ...           ...  \n",
       "149994                             0                 0.0             0  \n",
       "149995                             1                 0.0             0  \n",
       "149996                             1                 2.0             0  \n",
       "149998                             0                 0.0             0  \n",
       "149999                             2                 0.0             0  \n",
       "\n",
       "[146021 rows x 9 columns]"
      ]
     },
     "execution_count": 159,
     "metadata": {},
     "output_type": "execute_result"
    }
   ],
   "source": [
    "df_train_created"
   ]
  },
  {
   "cell_type": "markdown",
   "metadata": {},
   "source": [
    "## test dataset processing"
   ]
  },
  {
   "cell_type": "markdown",
   "metadata": {},
   "source": [
    "When filling missing data in the test dataset, it is generally recommended to use the median (or any other imputation value) obtained from the training dataset. This is because the model has been trained on the training dataset, and using the same imputation strategy ensures consistency in handling missing values."
   ]
  },
  {
   "cell_type": "code",
   "execution_count": 143,
   "metadata": {},
   "outputs": [],
   "source": [
    "## fill test dataset MonthlyIncome with median from train dataset\n",
    "df_test_processed = df_test\n",
    "df_test_processed[\"MonthlyIncome\"] = df_test[\"MonthlyIncome\"].fillna(income_median)"
   ]
  },
  {
   "cell_type": "code",
   "execution_count": 144,
   "metadata": {},
   "outputs": [
    {
     "data": {
      "text/plain": [
       "0"
      ]
     },
     "execution_count": 144,
     "metadata": {},
     "output_type": "execute_result"
    }
   ],
   "source": [
    "df_test_processed[\"MonthlyIncome\"].isna().sum()"
   ]
  },
  {
   "cell_type": "code",
   "execution_count": 145,
   "metadata": {},
   "outputs": [],
   "source": [
    "df_test_processed[\"NumberOfDependents\"] = df_test_processed[\"NumberOfDependents\"].fillna(dependents_mode)"
   ]
  },
  {
   "cell_type": "code",
   "execution_count": 146,
   "metadata": {},
   "outputs": [
    {
     "data": {
      "text/plain": [
       "0"
      ]
     },
     "execution_count": 146,
     "metadata": {},
     "output_type": "execute_result"
    }
   ],
   "source": [
    "df_test_processed[\"NumberOfDependents\"].isna().sum()"
   ]
  },
  {
   "cell_type": "code",
   "execution_count": 158,
   "metadata": {},
   "outputs": [],
   "source": [
    "df_test_created = df_test_processed.copy()\n",
    "\n",
    "# Create a new column 'TotalPastDue' by summing the values of the three columns\n",
    "df_test_created['TotalPastDue'] = df_test_processed['NumberOfTime30-59DaysPastDueNotWorse'] + df_test_processed['NumberOfTimes90DaysLate'] + df_test_processed['NumberOfTime60-89DaysPastDueNotWorse']\n",
    "\n",
    "# Drop the individual columns if desired\n",
    "df_test_created = df_test_processed.drop(['NumberOfTime30-59DaysPastDueNotWorse', 'NumberOfTimes90DaysLate', 'NumberOfTime60-89DaysPastDueNotWorse'], axis=1)"
   ]
  },
  {
   "cell_type": "code",
   "execution_count": null,
   "metadata": {},
   "outputs": [],
   "source": [
    "df_train_processed.to_csv('processed_data_test.csv', index=False)"
   ]
  },
  {
   "cell_type": "code",
   "execution_count": 161,
   "metadata": {},
   "outputs": [],
   "source": [
    "df_test_processed.to_csv('processed_data_test.csv', index=False)\n"
   ]
  },
  {
   "cell_type": "code",
   "execution_count": 163,
   "metadata": {},
   "outputs": [],
   "source": [
    "df_train_created.to_csv('df_train_created.csv', index=False)"
   ]
  },
  {
   "cell_type": "code",
   "execution_count": 169,
   "metadata": {},
   "outputs": [],
   "source": [
    "df_test_created = df_test_processed\n",
    "# Create a new column 'TotalPastDue' by summing the values of the three columns\n",
    "df_test_created['TotalPastDue'] = df_test_processed['NumberOfTime30-59DaysPastDueNotWorse'] + df_test_processed['NumberOfTimes90DaysLate'] + df_test_processed['NumberOfTime60-89DaysPastDueNotWorse']\n",
    "\n",
    "# Drop the individual columns if desired\n",
    "df_test_created = df_test_processed.drop(['NumberOfTime30-59DaysPastDueNotWorse', 'NumberOfTimes90DaysLate', 'NumberOfTime60-89DaysPastDueNotWorse'], axis=1)"
   ]
  },
  {
   "cell_type": "code",
   "execution_count": 170,
   "metadata": {},
   "outputs": [
    {
     "data": {
      "text/html": [
       "<div>\n",
       "<style scoped>\n",
       "    .dataframe tbody tr th:only-of-type {\n",
       "        vertical-align: middle;\n",
       "    }\n",
       "\n",
       "    .dataframe tbody tr th {\n",
       "        vertical-align: top;\n",
       "    }\n",
       "\n",
       "    .dataframe thead th {\n",
       "        text-align: right;\n",
       "    }\n",
       "</style>\n",
       "<table border=\"1\" class=\"dataframe\">\n",
       "  <thead>\n",
       "    <tr style=\"text-align: right;\">\n",
       "      <th></th>\n",
       "      <th>SeriousDlqin2yrs</th>\n",
       "      <th>RevolvingUtilizationOfUnsecuredLines</th>\n",
       "      <th>age</th>\n",
       "      <th>DebtRatio</th>\n",
       "      <th>MonthlyIncome</th>\n",
       "      <th>NumberOfOpenCreditLinesAndLoans</th>\n",
       "      <th>NumberRealEstateLoansOrLines</th>\n",
       "      <th>NumberOfDependents</th>\n",
       "      <th>TotalPastDue</th>\n",
       "    </tr>\n",
       "  </thead>\n",
       "  <tbody>\n",
       "    <tr>\n",
       "      <th>0</th>\n",
       "      <td>NaN</td>\n",
       "      <td>0.885519</td>\n",
       "      <td>43</td>\n",
       "      <td>0.177513</td>\n",
       "      <td>5700.0</td>\n",
       "      <td>4</td>\n",
       "      <td>0</td>\n",
       "      <td>0.0</td>\n",
       "      <td>0</td>\n",
       "    </tr>\n",
       "    <tr>\n",
       "      <th>1</th>\n",
       "      <td>NaN</td>\n",
       "      <td>0.463295</td>\n",
       "      <td>57</td>\n",
       "      <td>0.527237</td>\n",
       "      <td>9141.0</td>\n",
       "      <td>15</td>\n",
       "      <td>4</td>\n",
       "      <td>2.0</td>\n",
       "      <td>0</td>\n",
       "    </tr>\n",
       "    <tr>\n",
       "      <th>2</th>\n",
       "      <td>NaN</td>\n",
       "      <td>0.043275</td>\n",
       "      <td>59</td>\n",
       "      <td>0.687648</td>\n",
       "      <td>5083.0</td>\n",
       "      <td>12</td>\n",
       "      <td>1</td>\n",
       "      <td>2.0</td>\n",
       "      <td>0</td>\n",
       "    </tr>\n",
       "    <tr>\n",
       "      <th>3</th>\n",
       "      <td>NaN</td>\n",
       "      <td>0.280308</td>\n",
       "      <td>38</td>\n",
       "      <td>0.925961</td>\n",
       "      <td>3200.0</td>\n",
       "      <td>7</td>\n",
       "      <td>2</td>\n",
       "      <td>0.0</td>\n",
       "      <td>1</td>\n",
       "    </tr>\n",
       "    <tr>\n",
       "      <th>4</th>\n",
       "      <td>NaN</td>\n",
       "      <td>1.000000</td>\n",
       "      <td>27</td>\n",
       "      <td>0.019917</td>\n",
       "      <td>3865.0</td>\n",
       "      <td>4</td>\n",
       "      <td>0</td>\n",
       "      <td>1.0</td>\n",
       "      <td>0</td>\n",
       "    </tr>\n",
       "    <tr>\n",
       "      <th>...</th>\n",
       "      <td>...</td>\n",
       "      <td>...</td>\n",
       "      <td>...</td>\n",
       "      <td>...</td>\n",
       "      <td>...</td>\n",
       "      <td>...</td>\n",
       "      <td>...</td>\n",
       "      <td>...</td>\n",
       "      <td>...</td>\n",
       "    </tr>\n",
       "    <tr>\n",
       "      <th>101498</th>\n",
       "      <td>NaN</td>\n",
       "      <td>0.282653</td>\n",
       "      <td>24</td>\n",
       "      <td>0.068522</td>\n",
       "      <td>1400.0</td>\n",
       "      <td>5</td>\n",
       "      <td>0</td>\n",
       "      <td>0.0</td>\n",
       "      <td>0</td>\n",
       "    </tr>\n",
       "    <tr>\n",
       "      <th>101499</th>\n",
       "      <td>NaN</td>\n",
       "      <td>0.922156</td>\n",
       "      <td>36</td>\n",
       "      <td>0.934217</td>\n",
       "      <td>7615.0</td>\n",
       "      <td>8</td>\n",
       "      <td>2</td>\n",
       "      <td>4.0</td>\n",
       "      <td>3</td>\n",
       "    </tr>\n",
       "    <tr>\n",
       "      <th>101500</th>\n",
       "      <td>NaN</td>\n",
       "      <td>0.081596</td>\n",
       "      <td>70</td>\n",
       "      <td>836.000000</td>\n",
       "      <td>5400.0</td>\n",
       "      <td>3</td>\n",
       "      <td>0</td>\n",
       "      <td>0.0</td>\n",
       "      <td>0</td>\n",
       "    </tr>\n",
       "    <tr>\n",
       "      <th>101501</th>\n",
       "      <td>NaN</td>\n",
       "      <td>0.335457</td>\n",
       "      <td>56</td>\n",
       "      <td>3568.000000</td>\n",
       "      <td>5400.0</td>\n",
       "      <td>8</td>\n",
       "      <td>2</td>\n",
       "      <td>3.0</td>\n",
       "      <td>1</td>\n",
       "    </tr>\n",
       "    <tr>\n",
       "      <th>101502</th>\n",
       "      <td>NaN</td>\n",
       "      <td>0.441842</td>\n",
       "      <td>29</td>\n",
       "      <td>0.198918</td>\n",
       "      <td>5916.0</td>\n",
       "      <td>12</td>\n",
       "      <td>0</td>\n",
       "      <td>0.0</td>\n",
       "      <td>0</td>\n",
       "    </tr>\n",
       "  </tbody>\n",
       "</table>\n",
       "<p>101503 rows × 9 columns</p>\n",
       "</div>"
      ],
      "text/plain": [
       "        SeriousDlqin2yrs  RevolvingUtilizationOfUnsecuredLines  age  \\\n",
       "0                    NaN                              0.885519   43   \n",
       "1                    NaN                              0.463295   57   \n",
       "2                    NaN                              0.043275   59   \n",
       "3                    NaN                              0.280308   38   \n",
       "4                    NaN                              1.000000   27   \n",
       "...                  ...                                   ...  ...   \n",
       "101498               NaN                              0.282653   24   \n",
       "101499               NaN                              0.922156   36   \n",
       "101500               NaN                              0.081596   70   \n",
       "101501               NaN                              0.335457   56   \n",
       "101502               NaN                              0.441842   29   \n",
       "\n",
       "          DebtRatio  MonthlyIncome  NumberOfOpenCreditLinesAndLoans  \\\n",
       "0          0.177513         5700.0                                4   \n",
       "1          0.527237         9141.0                               15   \n",
       "2          0.687648         5083.0                               12   \n",
       "3          0.925961         3200.0                                7   \n",
       "4          0.019917         3865.0                                4   \n",
       "...             ...            ...                              ...   \n",
       "101498     0.068522         1400.0                                5   \n",
       "101499     0.934217         7615.0                                8   \n",
       "101500   836.000000         5400.0                                3   \n",
       "101501  3568.000000         5400.0                                8   \n",
       "101502     0.198918         5916.0                               12   \n",
       "\n",
       "        NumberRealEstateLoansOrLines  NumberOfDependents  TotalPastDue  \n",
       "0                                  0                 0.0             0  \n",
       "1                                  4                 2.0             0  \n",
       "2                                  1                 2.0             0  \n",
       "3                                  2                 0.0             1  \n",
       "4                                  0                 1.0             0  \n",
       "...                              ...                 ...           ...  \n",
       "101498                             0                 0.0             0  \n",
       "101499                             2                 4.0             3  \n",
       "101500                             0                 0.0             0  \n",
       "101501                             2                 3.0             1  \n",
       "101502                             0                 0.0             0  \n",
       "\n",
       "[101503 rows x 9 columns]"
      ]
     },
     "execution_count": 170,
     "metadata": {},
     "output_type": "execute_result"
    }
   ],
   "source": [
    "df_test_created\n"
   ]
  },
  {
   "cell_type": "code",
   "execution_count": 171,
   "metadata": {},
   "outputs": [
    {
     "data": {
      "text/html": [
       "<div>\n",
       "<style scoped>\n",
       "    .dataframe tbody tr th:only-of-type {\n",
       "        vertical-align: middle;\n",
       "    }\n",
       "\n",
       "    .dataframe tbody tr th {\n",
       "        vertical-align: top;\n",
       "    }\n",
       "\n",
       "    .dataframe thead th {\n",
       "        text-align: right;\n",
       "    }\n",
       "</style>\n",
       "<table border=\"1\" class=\"dataframe\">\n",
       "  <thead>\n",
       "    <tr style=\"text-align: right;\">\n",
       "      <th></th>\n",
       "      <th>SeriousDlqin2yrs</th>\n",
       "      <th>RevolvingUtilizationOfUnsecuredLines</th>\n",
       "      <th>age</th>\n",
       "      <th>DebtRatio</th>\n",
       "      <th>MonthlyIncome</th>\n",
       "      <th>NumberOfOpenCreditLinesAndLoans</th>\n",
       "      <th>NumberRealEstateLoansOrLines</th>\n",
       "      <th>NumberOfDependents</th>\n",
       "      <th>TotalPastDue</th>\n",
       "    </tr>\n",
       "  </thead>\n",
       "  <tbody>\n",
       "    <tr>\n",
       "      <th>0</th>\n",
       "      <td>1</td>\n",
       "      <td>0.766127</td>\n",
       "      <td>45</td>\n",
       "      <td>0.802982</td>\n",
       "      <td>9120.0</td>\n",
       "      <td>13</td>\n",
       "      <td>6</td>\n",
       "      <td>2.0</td>\n",
       "      <td>2</td>\n",
       "    </tr>\n",
       "    <tr>\n",
       "      <th>1</th>\n",
       "      <td>0</td>\n",
       "      <td>0.957151</td>\n",
       "      <td>40</td>\n",
       "      <td>0.121876</td>\n",
       "      <td>2600.0</td>\n",
       "      <td>4</td>\n",
       "      <td>0</td>\n",
       "      <td>1.0</td>\n",
       "      <td>0</td>\n",
       "    </tr>\n",
       "    <tr>\n",
       "      <th>2</th>\n",
       "      <td>0</td>\n",
       "      <td>0.658180</td>\n",
       "      <td>38</td>\n",
       "      <td>0.085113</td>\n",
       "      <td>3042.0</td>\n",
       "      <td>2</td>\n",
       "      <td>0</td>\n",
       "      <td>0.0</td>\n",
       "      <td>2</td>\n",
       "    </tr>\n",
       "    <tr>\n",
       "      <th>3</th>\n",
       "      <td>0</td>\n",
       "      <td>0.233810</td>\n",
       "      <td>30</td>\n",
       "      <td>0.036050</td>\n",
       "      <td>3300.0</td>\n",
       "      <td>5</td>\n",
       "      <td>0</td>\n",
       "      <td>0.0</td>\n",
       "      <td>0</td>\n",
       "    </tr>\n",
       "    <tr>\n",
       "      <th>4</th>\n",
       "      <td>0</td>\n",
       "      <td>0.907239</td>\n",
       "      <td>49</td>\n",
       "      <td>0.024926</td>\n",
       "      <td>63588.0</td>\n",
       "      <td>7</td>\n",
       "      <td>1</td>\n",
       "      <td>0.0</td>\n",
       "      <td>1</td>\n",
       "    </tr>\n",
       "    <tr>\n",
       "      <th>...</th>\n",
       "      <td>...</td>\n",
       "      <td>...</td>\n",
       "      <td>...</td>\n",
       "      <td>...</td>\n",
       "      <td>...</td>\n",
       "      <td>...</td>\n",
       "      <td>...</td>\n",
       "      <td>...</td>\n",
       "      <td>...</td>\n",
       "    </tr>\n",
       "    <tr>\n",
       "      <th>149994</th>\n",
       "      <td>0</td>\n",
       "      <td>0.385742</td>\n",
       "      <td>50</td>\n",
       "      <td>0.404293</td>\n",
       "      <td>3400.0</td>\n",
       "      <td>7</td>\n",
       "      <td>0</td>\n",
       "      <td>0.0</td>\n",
       "      <td>0</td>\n",
       "    </tr>\n",
       "    <tr>\n",
       "      <th>149995</th>\n",
       "      <td>0</td>\n",
       "      <td>0.040674</td>\n",
       "      <td>74</td>\n",
       "      <td>0.225131</td>\n",
       "      <td>2100.0</td>\n",
       "      <td>4</td>\n",
       "      <td>1</td>\n",
       "      <td>0.0</td>\n",
       "      <td>0</td>\n",
       "    </tr>\n",
       "    <tr>\n",
       "      <th>149996</th>\n",
       "      <td>0</td>\n",
       "      <td>0.299745</td>\n",
       "      <td>44</td>\n",
       "      <td>0.716562</td>\n",
       "      <td>5584.0</td>\n",
       "      <td>4</td>\n",
       "      <td>1</td>\n",
       "      <td>2.0</td>\n",
       "      <td>0</td>\n",
       "    </tr>\n",
       "    <tr>\n",
       "      <th>149998</th>\n",
       "      <td>0</td>\n",
       "      <td>0.000000</td>\n",
       "      <td>30</td>\n",
       "      <td>0.000000</td>\n",
       "      <td>5716.0</td>\n",
       "      <td>4</td>\n",
       "      <td>0</td>\n",
       "      <td>0.0</td>\n",
       "      <td>0</td>\n",
       "    </tr>\n",
       "    <tr>\n",
       "      <th>149999</th>\n",
       "      <td>0</td>\n",
       "      <td>0.850283</td>\n",
       "      <td>64</td>\n",
       "      <td>0.249908</td>\n",
       "      <td>8158.0</td>\n",
       "      <td>8</td>\n",
       "      <td>2</td>\n",
       "      <td>0.0</td>\n",
       "      <td>0</td>\n",
       "    </tr>\n",
       "  </tbody>\n",
       "</table>\n",
       "<p>146021 rows × 9 columns</p>\n",
       "</div>"
      ],
      "text/plain": [
       "        SeriousDlqin2yrs  RevolvingUtilizationOfUnsecuredLines  age  \\\n",
       "0                      1                              0.766127   45   \n",
       "1                      0                              0.957151   40   \n",
       "2                      0                              0.658180   38   \n",
       "3                      0                              0.233810   30   \n",
       "4                      0                              0.907239   49   \n",
       "...                  ...                                   ...  ...   \n",
       "149994                 0                              0.385742   50   \n",
       "149995                 0                              0.040674   74   \n",
       "149996                 0                              0.299745   44   \n",
       "149998                 0                              0.000000   30   \n",
       "149999                 0                              0.850283   64   \n",
       "\n",
       "        DebtRatio  MonthlyIncome  NumberOfOpenCreditLinesAndLoans  \\\n",
       "0        0.802982         9120.0                               13   \n",
       "1        0.121876         2600.0                                4   \n",
       "2        0.085113         3042.0                                2   \n",
       "3        0.036050         3300.0                                5   \n",
       "4        0.024926        63588.0                                7   \n",
       "...           ...            ...                              ...   \n",
       "149994   0.404293         3400.0                                7   \n",
       "149995   0.225131         2100.0                                4   \n",
       "149996   0.716562         5584.0                                4   \n",
       "149998   0.000000         5716.0                                4   \n",
       "149999   0.249908         8158.0                                8   \n",
       "\n",
       "        NumberRealEstateLoansOrLines  NumberOfDependents  TotalPastDue  \n",
       "0                                  6                 2.0             2  \n",
       "1                                  0                 1.0             0  \n",
       "2                                  0                 0.0             2  \n",
       "3                                  0                 0.0             0  \n",
       "4                                  1                 0.0             1  \n",
       "...                              ...                 ...           ...  \n",
       "149994                             0                 0.0             0  \n",
       "149995                             1                 0.0             0  \n",
       "149996                             1                 2.0             0  \n",
       "149998                             0                 0.0             0  \n",
       "149999                             2                 0.0             0  \n",
       "\n",
       "[146021 rows x 9 columns]"
      ]
     },
     "execution_count": 171,
     "metadata": {},
     "output_type": "execute_result"
    }
   ],
   "source": [
    "df_train_created\n"
   ]
  },
  {
   "cell_type": "code",
   "execution_count": 172,
   "metadata": {},
   "outputs": [],
   "source": [
    "df_test_created.to_csv('df_test_created.csv', index=False)\n"
   ]
  },
  {
   "cell_type": "code",
   "execution_count": null,
   "metadata": {},
   "outputs": [],
   "source": []
  }
 ],
 "metadata": {
  "kernelspec": {
   "display_name": "Python 3",
   "language": "python",
   "name": "python3"
  },
  "language_info": {
   "codemirror_mode": {
    "name": "ipython",
    "version": 3
   },
   "file_extension": ".py",
   "mimetype": "text/x-python",
   "name": "python",
   "nbconvert_exporter": "python",
   "pygments_lexer": "ipython3",
   "version": "3.8.3"
  }
 },
 "nbformat": 4,
 "nbformat_minor": 4
}
