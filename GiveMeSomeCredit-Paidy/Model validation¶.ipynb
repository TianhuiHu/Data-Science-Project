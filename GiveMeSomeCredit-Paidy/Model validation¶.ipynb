{
   "cells": [
      {
         "cell_type": "markdown",
         "metadata": {},
         "source": [
            "# Model validation"
         ]
      },
      {
         "cell_type": "markdown",
         "metadata": {},
         "source": [
            "Model validation is a critical step in the development and assessment of credit risk models. It involves evaluating the performance and reliability of the model to ensure its accuracy and predictive capability. The purpose of model validation is to assess how well the model performs on unseen data and to identify any potential weaknesses or limitations.\n",
            "\n",
            "We obtained best modeol parameter for xgboost from last step\n",
            "\n",
            "**Best model parameters**: {'xgb__colsample_bytree': 0.9, 'xgb__eta': 0.1, 'xgb__max_depth': 3, 'xgb__n_estimators': 100} \n",
            "\n",
            "**Best model score**: 0.8674056333776022\n",
            "\n",
            "And we will perform model validation in this step which includes:\n",
            "\n",
            "**Split the data**: Divide your dataset into a training set and a validation/test set. The training set will be used to train the model, and the validation/test set will be used to evaluate its performance.\n",
            "\n",
            "**Train the model**: Use the training set to train your credit risk model. This could involve various techniques such as logistic regression, random forest, or gradient boosting.\n",
            "\n",
            "**Evaluate model performance**: Apply the trained model to the validation/test set and assess its performance using appropriate evaluation metrics for credit risk models. Common evaluation metrics include accuracy, precision, recall, F1-score, area under the ROC curve (AUC-ROC), and Gini coefficient.\n",
            "\n",
            "**Assess model calibration**: Check if the predicted probabilities from your model are well-calibrated. Calibration ensures that the predicted probabilities reflect the true likelihood of default. You can use calibration plots, reliability curves, or Hosmer-Lemeshow tests to assess calibration.\n",
            "\n",
            "**Validate predictive power**: Assess the predictive power of your model by checking if it performs well on new, unseen data. This can be done by using cross-validation techniques such as k-fold cross-validation or hold-out validation on multiple validation/test sets.\n",
            "\n",
            "**Fine-tune and iterate**: If necessary, refine your model by adjusting hyperparameters, trying different algorithms, or including additional features. Repeat steps 2-6 to iteratively improve your model's performance.\n",
            "\n",
            "**Document and report**: Document the validation process, including the data used, model specifications, evaluation metrics, and results. Prepare a comprehensive report summarizing the model's performance and limitations.\n",
            "\n"
         ]
      },
      {
         "cell_type": "code",
         "execution_count": 1,
         "metadata": {},
         "outputs": [],
         "source": [
            "import numpy as np # linear algebra\n",
            "import pandas as pd # data processing, CSV file I/O (e.g. pd.read_csv)\n",
            "\n",
            "from sklearn.metrics import accuracy_score, precision_score, recall_score, f1_score, roc_auc_score, roc_curve\n",
            "from sklearn.model_selection import train_test_split\n",
            "from sklearn.model_selection import cross_val_score\n",
            "\n",
            "import matplotlib.pyplot as plt\n",
            "\n",
            "import xgboost as xgb\n",
            "from xgboost import XGBClassifier\n",
            "\n",
            "import joblib"
         ]
      },
      {
         "cell_type": "code",
         "execution_count": 2,
         "metadata": {},
         "outputs": [],
         "source": [
            "best_model_XGBOOST = joblib.load('models/best_model_XGBOOST.pkl')"
         ]
      },
      {
         "cell_type": "code",
<<<<<<< HEAD
   
=======
   "execution_count": 34,
>>>>>>> b3cfbeec49ed49cfcda18a95c6cdbbb199d9e964
   "metadata": {},
         "outputs": [],
         "source": [
            "best_model_RF = joblib.load('models/best_model_RF.pkl')"
         ]
      },
      {
         "cell_type": "markdown",
         "metadata": {},
         "source": [
            "### Evaluate model performance:"
         ]
      },
      {
         "cell_type": "code",
<<<<<<< HEAD
   "execution_count": 4,
=======
   "execution_count": 11,
>>>>>>> b3cfbeec49ed49cfcda18a95c6cdbbb199d9e964
   "metadata": {},
         "outputs": [],
         "source": [
            "df_train_processed = pd.read_csv(\"processed_data_train.csv\")\n",
            "df_test_processed = pd.read_csv(\"processed_data_test.csv\")\n",
            "\n",
            "\n",
            "df_train_oversampled = pd.read_csv(\"data/oversampled_data.csv\")"
         ]
      },
      {
         "cell_type": "code",
<<<<<<< HEAD
   "execution_count": null,
=======
   "execution_count": 4,
>>>>>>> b3cfbeec49ed49cfcda18a95c6cdbbb199d9e964
   "metadata": {},
         "outputs": [],
         "source": []
      },
      {
         "cell_type": "code",
<<<<<<< HEAD
   "execution_count": 5,
=======
   "execution_count": 14,
>>>>>>> b3cfbeec49ed49cfcda18a95c6cdbbb199d9e964
   "metadata": {},
         "outputs": [],
         "source": [
            "## try to create new cols on top of oversampled data\n",
            "# Create a new column 'TotalPastDue' by summing the values of the three columns\n",
            "df_train_oversampled['TotalPastDue'] = df_train_oversampled['NumberOfTime30-59DaysPastDueNotWorse'] + df_train_oversampled['NumberOfTimes90DaysLate'] + df_train_oversampled['NumberOfTime60-89DaysPastDueNotWorse']\n",
            "\n",
            "# Drop the individual columns if desired\n",
            "df_train_oversampled = df_train_oversampled.drop(['NumberOfTime30-59DaysPastDueNotWorse', 'NumberOfTimes90DaysLate', 'NumberOfTime60-89DaysPastDueNotWorse'], axis=1)"
         ]
      },
      {
         "cell_type": "code",
<<<<<<< HEAD
   "execution_count": 6,
=======
   "execution_count": 15,
>>>>>>> b3cfbeec49ed49cfcda18a95c6cdbbb199d9e964
   "metadata": {},
         "outputs": [],
         "source": [
            "y_train_oversampled = df_train_oversampled['SeriousDlqin2yrs'].astype('uint8')\n",
            "X_train_oversampled = df_train_oversampled.drop(['SeriousDlqin2yrs'], axis=1)"
         ]
      },
      {
         "cell_type": "code",
<<<<<<< HEAD
   "execution_count": 7,
=======
   "execution_count": 5,
>>>>>>> b3cfbeec49ed49cfcda18a95c6cdbbb199d9e964
   "metadata": {},
         "outputs": [],
         "source": [
            "def split_data(X_train, Y_train, test_size=0.3, random_state=2020):\n",
            "    \"\"\"\n",
            "    Split the data into training and validation sets.\n",
            "    \n",
            "    Parameters:\n",
            "    - X_train: The features (input variables) for training.\n",
            "    - Y_train: The target variable for training.\n",
            "    - test_size: The proportion of the data to include in the validation set. Default is 0.3.\n",
            "    - random_state: The random state for reproducibility. Default is 2020.\n",
            "    \n",
            "    Returns:\n",
            "    - X_train: The training features.\n",
            "    - val_x: The validation features.\n",
            "    - Y_train: The training target variable.\n",
            "    - val_y: The validation target variable.\n",
            "    \"\"\"\n",
            "    X_train, val_x, Y_train, val_y = train_test_split(\n",
            "        X_train, Y_train, test_size=test_size, random_state=random_state)\n",
            "    \n",
            "    return X_train, val_x, Y_train, val_y\n"
         ]
      },
      {
         "cell_type": "code",
<<<<<<< HEAD
   "execution_count": 8,
=======
   "execution_count": 6,
>>>>>>> b3cfbeec49ed49cfcda18a95c6cdbbb199d9e964
   "metadata": {},
         "outputs": [],
         "source": [
            "def evaluate_model(model, X_train, Y_train, val_x, val_y):\n",
            "    # Extract the model name from the model object\n",
            "    model_name = type(model).__name__\n",
            "    \n",
            "    if '-' in model_name:\n",
            "        model_name = model_name.split('-')[1]\n",
            "\n",
            "    # Calculate the accuracy score on the training set\n",
            "    accuracy_train = accuracy_score(Y_train, model.predict(X_train))\n",
            "    print(\"Accuracy on training set:\", accuracy_train)\n",
            "\n",
            "    # Calculate the ROC AUC score on the training set\n",
            "    roc_auc_train = roc_auc_score(Y_train, model.predict_proba(X_train)[:, 1])\n",
            "    print(\"ROC AUC score on training set:\", roc_auc_train)\n",
            "\n",
            "    # Calculate the accuracy score on the validation set\n",
            "    accuracy_val = accuracy_score(val_y, model.predict(val_x))\n",
            "    print(\"Accuracy on validation set:\", accuracy_val)\n",
            "\n",
            "    # Calculate the ROC AUC score on the validation set\n",
            "    roc_auc_val = roc_auc_score(val_y, model.predict_proba(val_x)[:, 1])\n",
            "    print(\"ROC AUC score on validation set:\", roc_auc_val)\n",
            "\n",
            "    # Compute the false positive rate, true positive rate, and thresholds for training set\n",
            "    fpr_train, tpr_train, thresholds_train = roc_curve(Y_train, model.predict_proba(X_train)[:, 1])\n",
            "\n",
            "    # Compute the false positive rate, true positive rate, and thresholds for validation set\n",
            "    fpr_val, tpr_val, thresholds_val = roc_curve(val_y, model.predict_proba(val_x)[:, 1])\n",
            "\n",
            "    # Plot the ROC curves\n",
            "    plt.plot(fpr_train, tpr_train, label='Training')\n",
            "    plt.plot(fpr_val, tpr_val, label='Validation')\n",
            "    plt.plot([0, 1], [0, 1], linestyle='--', label='Default')\n",
            "    plt.xlabel('False Positive Rate')\n",
            "    plt.ylabel('True Positive Rate')\n",
            "    plt.title('ROC Curve ({})'.format(model_name))\n",
            "    plt.legend()\n",
            "    plt.show()\n"
         ]
      },
      {
         "cell_type": "code",
<<<<<<< HEAD
   "execution_count": 9,
=======
   "execution_count": 21,
>>>>>>> b3cfbeec49ed49cfcda18a95c6cdbbb199d9e964
   "metadata": {},
         "outputs": [],
         "source": [
            "def display_evaluation_metrics(model, val_x, val_y):\n",
            "    \"\"\"\n",
            "    Calculates and displays the evaluation metrics for a classification model.\n",
            "\n",
            "    Parameters:\n",
            "    - model: Trained classification model\n",
            "    - val_x: Validation set features\n",
            "    - val_y: Validation set target variable\n",
            "\n",
            "    Prints a table showing the evaluation metrics: Accuracy, Precision, Recall, F1-score, AUC-ROC, and Gini coefficient.\n",
            "    \"\"\"\n",
            "    \n",
            "    # Make predictions on the validation set\n",
            "    y_pred = model.predict(val_x)\n",
            "\n",
            "    # Calculate accuracy\n",
            "    accuracy = accuracy_score(val_y, y_pred)\n",
            "\n",
            "    # Calculate precision\n",
            "    precision = precision_score(val_y, y_pred)\n",
            "\n",
            "    # Calculate recall\n",
            "    recall = recall_score(val_y, y_pred)\n",
            "\n",
            "    # Calculate F1-score\n",
            "    f1 = f1_score(val_y, y_pred)\n",
            "\n",
            "    # Calculate predicted probabilities for positive class\n",
            "    y_pred_prob = model.predict_proba(val_x)[:, 1]\n",
            "\n",
            "    # Calculate AUC-ROC\n",
            "    auc_roc = roc_auc_score(val_y, y_pred_prob)\n",
            "\n",
            "    # Calculate Gini coefficient\n",
            "    gini = 2 * auc_roc - 1\n",
            "\n",
            "    # Create a list of metric names and values\n",
            "    metric_names = ['Accuracy', 'Precision', 'Recall', 'F1-score', 'AUC-ROC', 'Gini coefficient']\n",
            "    metric_values = [accuracy, precision, recall, f1, auc_roc, gini]\n",
            "\n",
            "    # Create a list of metric rows\n",
            "    metric_rows = [[name, value] for name, value in zip(metric_names, metric_values)]\n",
            "\n",
            "    # Print the table for evaluation metrics\n",
            "    print(tabulate(metric_rows, headers=['Metric', 'Value'], tablefmt='orgtbl'))"
         ]
      },
      {
         "cell_type": "code",
<<<<<<< HEAD
   "execution_count": 10,
=======
   "execution_count": 7,
>>>>>>> b3cfbeec49ed49cfcda18a95c6cdbbb199d9e964
   "metadata": {},
         "outputs": [],
         "source": [
            "###\n",
            "###X_train, val_x, Y_train, val_y = split_data(df_train_processed.drop('SeriousDlqin2yrs', axis=1), df_train_processed['SeriousDlqin2yrs'])"
         ]
      },
      {
         "cell_type": "code",
<<<<<<< HEAD
   "execution_count": 11,
=======
   "execution_count": 16,
>>>>>>> b3cfbeec49ed49cfcda18a95c6cdbbb199d9e964
   "metadata": {},
         "outputs": [],
         "source": [
            "## split oversampled data\n",
            "X_train, val_x, Y_train, val_y = split_data(df_train_oversampled.drop('SeriousDlqin2yrs', axis=1), df_train_oversampled['SeriousDlqin2yrs'])"
         ]
      },
      {
         "cell_type": "code",
<<<<<<< HEAD
   "execution_count": 12,
=======
   "execution_count": 17,
>>>>>>> b3cfbeec49ed49cfcda18a95c6cdbbb199d9e964
   "metadata": {},
         "outputs": [
            {
               "data": {
                  "text/html": [
                     "<div>\n",
                     "<style scoped>\n",
                     "    .dataframe tbody tr th:only-of-type {\n",
                     "        vertical-align: middle;\n",
                     "    }\n",
                     "\n",
                     "    .dataframe tbody tr th {\n",
                     "        vertical-align: top;\n",
                     "    }\n",
                     "\n",
                     "    .dataframe thead th {\n",
                     "        text-align: right;\n",
                     "    }\n",
                     "</style>\n",
                     "<table border=\"1\" class=\"dataframe\">\n",
                     "  <thead>\n",
                     "    <tr style=\"text-align: right;\">\n",
                     "      <th></th>\n",
                     "      <th>RevolvingUtilizationOfUnsecuredLines</th>\n",
                     "      <th>age</th>\n",
                     "      <th>DebtRatio</th>\n",
                     "      <th>MonthlyIncome</th>\n",
                     "      <th>NumberOfOpenCreditLinesAndLoans</th>\n",
                     "      <th>NumberRealEstateLoansOrLines</th>\n",
                     "      <th>NumberOfDependents</th>\n",
<<<<<<< HEAD
       "      <th>SeriousDlqin2yrs</th>\n",
                     "      <th>TotalPastDue</th>\n",
=======
       "      <th>TotalPastDue</th>\n",
                     "      <th>SeriousDlqin2yrs</th>\n",
>>>>>>> b3cfbeec49ed49cfcda18a95c6cdbbb199d9e964
       "    </tr>\n",
                     "  </thead>\n",
                     "  <tbody>\n",
                     "    <tr>\n",
                     "      <th>0</th>\n",
                     "      <td>0.766127</td>\n",
                     "      <td>45</td>\n",
                     "      <td>0.802982</td>\n",
                     "      <td>9120.000000</td>\n",
                     "      <td>13</td>\n",
                     "      <td>6</td>\n",
                     "      <td>2.000000</td>\n",
<<<<<<< HEAD
       "      <td>1</td>\n",
                     "      <td>2</td>\n",
=======
       "      <td>2</td>\n",
                     "      <td>1</td>\n",
>>>>>>> b3cfbeec49ed49cfcda18a95c6cdbbb199d9e964
       "    </tr>\n",
                     "    <tr>\n",
                     "      <th>1</th>\n",
                     "      <td>0.957151</td>\n",
                     "      <td>40</td>\n",
                     "      <td>0.121876</td>\n",
                     "      <td>2600.000000</td>\n",
                     "      <td>4</td>\n",
                     "      <td>0</td>\n",
                     "      <td>1.000000</td>\n",
                     "      <td>0</td>\n",
                     "      <td>0</td>\n",
                     "    </tr>\n",
                     "    <tr>\n",
                     "      <th>2</th>\n",
                     "      <td>0.658180</td>\n",
                     "      <td>38</td>\n",
                     "      <td>0.085113</td>\n",
                     "      <td>3042.000000</td>\n",
                     "      <td>2</td>\n",
                     "      <td>0</td>\n",
                     "      <td>0.000000</td>\n",
<<<<<<< HEAD
       "      <td>0</td>\n",
                     "      <td>2</td>\n",
=======
       "      <td>2</td>\n",
                     "      <td>0</td>\n",
>>>>>>> b3cfbeec49ed49cfcda18a95c6cdbbb199d9e964
       "    </tr>\n",
                     "    <tr>\n",
                     "      <th>3</th>\n",
                     "      <td>0.233810</td>\n",
                     "      <td>30</td>\n",
                     "      <td>0.036050</td>\n",
                     "      <td>3300.000000</td>\n",
                     "      <td>5</td>\n",
                     "      <td>0</td>\n",
                     "      <td>0.000000</td>\n",
                     "      <td>0</td>\n",
                     "      <td>0</td>\n",
                     "    </tr>\n",
                     "    <tr>\n",
                     "      <th>4</th>\n",
                     "      <td>0.907239</td>\n",
                     "      <td>49</td>\n",
                     "      <td>0.024926</td>\n",
                     "      <td>63588.000000</td>\n",
                     "      <td>7</td>\n",
                     "      <td>1</td>\n",
                     "      <td>0.000000</td>\n",
<<<<<<< HEAD
       "      <td>0</td>\n",
                     "      <td>1</td>\n",
=======
       "      <td>1</td>\n",
                     "      <td>0</td>\n",
>>>>>>> b3cfbeec49ed49cfcda18a95c6cdbbb199d9e964
       "    </tr>\n",
                     "    <tr>\n",
                     "      <th>...</th>\n",
                     "      <td>...</td>\n",
                     "      <td>...</td>\n",
                     "      <td>...</td>\n",
                     "      <td>...</td>\n",
                     "      <td>...</td>\n",
                     "      <td>...</td>\n",
                     "      <td>...</td>\n",
                     "      <td>...</td>\n",
                     "      <td>...</td>\n",
                     "    </tr>\n",
                     "    <tr>\n",
                     "      <th>272499</th>\n",
                     "      <td>0.550475</td>\n",
                     "      <td>40</td>\n",
                     "      <td>0.292152</td>\n",
                     "      <td>5700.000000</td>\n",
                     "      <td>6</td>\n",
                     "      <td>0</td>\n",
                     "      <td>1.777566</td>\n",
                     "      <td>1</td>\n",
                     "      <td>1</td>\n",
                     "    </tr>\n",
                     "    <tr>\n",
                     "      <th>272500</th>\n",
                     "      <td>0.269107</td>\n",
                     "      <td>26</td>\n",
                     "      <td>0.174355</td>\n",
                     "      <td>3500.000000</td>\n",
                     "      <td>4</td>\n",
                     "      <td>0</td>\n",
                     "      <td>0.000000</td>\n",
                     "      <td>1</td>\n",
                     "      <td>1</td>\n",
                     "    </tr>\n",
                     "    <tr>\n",
                     "      <th>272501</th>\n",
                     "      <td>0.496744</td>\n",
                     "      <td>80</td>\n",
                     "      <td>33.894479</td>\n",
                     "      <td>5400.000000</td>\n",
                     "      <td>2</td>\n",
                     "      <td>0</td>\n",
                     "      <td>0.000000</td>\n",
<<<<<<< HEAD
       "      <td>1</td>\n",
                     "      <td>0</td>\n",
=======
       "      <td>0</td>\n",
                     "      <td>1</td>\n",
>>>>>>> b3cfbeec49ed49cfcda18a95c6cdbbb199d9e964
       "    </tr>\n",
                     "    <tr>\n",
                     "      <th>272502</th>\n",
                     "      <td>0.900824</td>\n",
                     "      <td>52</td>\n",
                     "      <td>0.861294</td>\n",
                     "      <td>3330.939939</td>\n",
                     "      <td>14</td>\n",
                     "      <td>1</td>\n",
                     "      <td>1.373374</td>\n",
<<<<<<< HEAD
       "      <td>1</td>\n",
                     "      <td>2</td>\n",
=======
       "      <td>2</td>\n",
                     "      <td>1</td>\n",
>>>>>>> b3cfbeec49ed49cfcda18a95c6cdbbb199d9e964
       "    </tr>\n",
                     "    <tr>\n",
                     "      <th>272503</th>\n",
                     "      <td>0.732791</td>\n",
                     "      <td>49</td>\n",
                     "      <td>1.676983</td>\n",
                     "      <td>693.553829</td>\n",
                     "      <td>8</td>\n",
                     "      <td>1</td>\n",
                     "      <td>0.504141</td>\n",
                     "      <td>1</td>\n",
                     "      <td>1</td>\n",
                     "    </tr>\n",
                     "  </tbody>\n",
                     "</table>\n",
                     "<p>272504 rows × 9 columns</p>\n",
                     "</div>"
                  ],
                  "text/plain": [
                     "        RevolvingUtilizationOfUnsecuredLines  age  DebtRatio  MonthlyIncome  \\\n",
                     "0                                   0.766127   45   0.802982    9120.000000   \n",
                     "1                                   0.957151   40   0.121876    2600.000000   \n",
                     "2                                   0.658180   38   0.085113    3042.000000   \n",
                     "3                                   0.233810   30   0.036050    3300.000000   \n",
                     "4                                   0.907239   49   0.024926   63588.000000   \n",
                     "...                                      ...  ...        ...            ...   \n",
                     "272499                              0.550475   40   0.292152    5700.000000   \n",
                     "272500                              0.269107   26   0.174355    3500.000000   \n",
                     "272501                              0.496744   80  33.894479    5400.000000   \n",
                     "272502                              0.900824   52   0.861294    3330.939939   \n",
                     "272503                              0.732791   49   1.676983     693.553829   \n",
                     "\n",
                     "        NumberOfOpenCreditLinesAndLoans  NumberRealEstateLoansOrLines  \\\n",
                     "0                                    13                             6   \n",
                     "1                                     4                             0   \n",
                     "2                                     2                             0   \n",
                     "3                                     5                             0   \n",
                     "4                                     7                             1   \n",
                     "...                                 ...                           ...   \n",
                     "272499                                6                             0   \n",
                     "272500                                4                             0   \n",
                     "272501                                2                             0   \n",
                     "272502                               14                             1   \n",
                     "272503                                8                             1   \n",
                     "\n",
<<<<<<< HEAD
       "        NumberOfDependents  SeriousDlqin2yrs  TotalPastDue  \n",
                     "0                 2.000000                 1             2  \n",
                     "1                 1.000000                 0             0  \n",
                     "2                 0.000000                 0             2  \n",
                     "3                 0.000000                 0             0  \n",
                     "4                 0.000000                 0             1  \n",
                     "...                    ...               ...           ...  \n",
                     "272499            1.777566                 1             1  \n",
                     "272500            0.000000                 1             1  \n",
                     "272501            0.000000                 1             0  \n",
                     "272502            1.373374                 1             2  \n",
                     "272503            0.504141                 1             1  \n",
=======
       "        NumberOfDependents  TotalPastDue  SeriousDlqin2yrs  \n",
                     "0                 2.000000             2                 1  \n",
                     "1                 1.000000             0                 0  \n",
                     "2                 0.000000             2                 0  \n",
                     "3                 0.000000             0                 0  \n",
                     "4                 0.000000             1                 0  \n",
                     "...                    ...           ...               ...  \n",
                     "272499            1.777566             1                 1  \n",
                     "272500            0.000000             1                 1  \n",
                     "272501            0.000000             0                 1  \n",
                     "272502            1.373374             2                 1  \n",
                     "272503            0.504141             1                 1  \n",
>>>>>>> b3cfbeec49ed49cfcda18a95c6cdbbb199d9e964
       "\n",
                     "[272504 rows x 9 columns]"
                  ]
               },
<<<<<<< HEAD
     "execution_count": 12,
=======
     "execution_count": 17,
>>>>>>> b3cfbeec49ed49cfcda18a95c6cdbbb199d9e964
     "metadata": {},
               "output_type": "execute_result"
            }
         ],
         "source": [
            "df_train_oversampled\n"
         ]
      },
      {
         "cell_type": "code",
<<<<<<< HEAD
   "execution_count": 13,
=======
   "execution_count": 18,
>>>>>>> b3cfbeec49ed49cfcda18a95c6cdbbb199d9e964
   "metadata": {},
         "outputs": [
            {
               "name": "stdout",
               "output_type": "stream",
               "text": [
<<<<<<< HEAD
      "Accuracy on training set: 0.9566400352289884\n",
                  "ROC AUC score on training set: 0.992933574460356\n",
                  "Accuracy on validation set: 0.9058249339465702\n",
                  "ROC AUC score on validation set: 0.9699101147811617\n"
=======
      "Accuracy on training set: 0.9520267153162221\n",
                  "ROC AUC score on training set: 0.9914310377581832\n",
                  "Accuracy on validation set: 0.904980917898033\n",
                  "ROC AUC score on validation set: 0.9695120785495032\n"
>>>>>>> b3cfbeec49ed49cfcda18a95c6cdbbb199d9e964
               ]
            },
            {
               "data": {
<<<<<<< HEAD
      "image/png": "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\n",
=======
      "image/png": "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\n",
>>>>>>> b3cfbeec49ed49cfcda18a95c6cdbbb199d9e964
      "text/plain": [
                     "<Figure size 432x288 with 1 Axes>"
                  ]
               },
               "metadata": {
                  "needs_background": "light"
               },
               "output_type": "display_data"
            }
         ],
         "source": [
            "evaluate_model(best_model_XGBOOST, X_train, Y_train, val_x, val_y)\n"
         ]
      },
      {
         "cell_type": "code",
<<<<<<< HEAD
   "execution_count": 14,
         "metadata": {},
         "outputs": [
            {
               "ename": "NameError",
               "evalue": "name 'tabulate' is not defined",
               "output_type": "error",
               "traceback": [
                  "\u001b[0;31m---------------------------------------------------------------------------\u001b[0m",
                  "\u001b[0;31mNameError\u001b[0m                                 Traceback (most recent call last)",
                  "\u001b[0;32m<ipython-input-14-8a31e5ba1e52>\u001b[0m in \u001b[0;36m<module>\u001b[0;34m\u001b[0m\n\u001b[0;32m----> 1\u001b[0;31m \u001b[0mdisplay_evaluation_metrics\u001b[0m\u001b[0;34m(\u001b[0m\u001b[0mbest_model_XGBOOST\u001b[0m\u001b[0;34m,\u001b[0m \u001b[0mval_x\u001b[0m\u001b[0;34m,\u001b[0m \u001b[0mval_y\u001b[0m\u001b[0;34m)\u001b[0m\u001b[0;34m\u001b[0m\u001b[0;34m\u001b[0m\u001b[0m\n\u001b[0m",
                  "\u001b[0;32m<ipython-input-9-2b5b6b93f106>\u001b[0m in \u001b[0;36mdisplay_evaluation_metrics\u001b[0;34m(model, val_x, val_y)\u001b[0m\n\u001b[1;32m     43\u001b[0m \u001b[0;34m\u001b[0m\u001b[0m\n\u001b[1;32m     44\u001b[0m     \u001b[0;31m# Print the table for evaluation metrics\u001b[0m\u001b[0;34m\u001b[0m\u001b[0;34m\u001b[0m\u001b[0;34m\u001b[0m\u001b[0m\n\u001b[0;32m---> 45\u001b[0;31m     \u001b[0mprint\u001b[0m\u001b[0;34m(\u001b[0m\u001b[0mtabulate\u001b[0m\u001b[0;34m(\u001b[0m\u001b[0mmetric_rows\u001b[0m\u001b[0;34m,\u001b[0m \u001b[0mheaders\u001b[0m\u001b[0;34m=\u001b[0m\u001b[0;34m[\u001b[0m\u001b[0;34m'Metric'\u001b[0m\u001b[0;34m,\u001b[0m \u001b[0;34m'Value'\u001b[0m\u001b[0;34m]\u001b[0m\u001b[0;34m,\u001b[0m \u001b[0mtablefmt\u001b[0m\u001b[0;34m=\u001b[0m\u001b[0;34m'orgtbl'\u001b[0m\u001b[0;34m)\u001b[0m\u001b[0;34m)\u001b[0m\u001b[0;34m\u001b[0m\u001b[0;34m\u001b[0m\u001b[0m\n\u001b[0m",
                  "\u001b[0;31mNameError\u001b[0m: name 'tabulate' is not defined"
=======
   "execution_count": 30,
                  "metadata": {},
                  "outputs": [
                     {
                        "name": "stdout",
                        "output_type": "stream",
                        "text": [
                           "| Metric           |    Value |\n",
                           "|------------------+----------|\n",
                           "| Accuracy         | 0.904981 |\n",
                           "| Precision        | 0.914926 |\n",
                           "| Recall           | 0.893289 |\n",
                           "| F1-score         | 0.903978 |\n",
                           "| AUC-ROC          | 0.969512 |\n",
                           "| Gini coefficient | 0.939024 |\n"
>>>>>>> b3cfbeec49ed49cfcda18a95c6cdbbb199d9e964
                        ]
                     }
                  ],
                  "source": [
                     "display_evaluation_metrics(best_model_XGBOOST, val_x, val_y)\n"
                  ]
               },
               {
                  "cell_type": "code",
<<<<<<< HEAD
   "execution_count": null,
                  "metadata": {},
                  "outputs": [],
=======
   "execution_count": 23,
                  "metadata": {},
                  "outputs": [
                     {
                        "name": "stdout",
                        "output_type": "stream",
                        "text": [
                           "Accuracy: 0.9050\n",
                           "Precision: 0.9149\n",
                           "Recall: 0.8933\n",
                           "F1-score: 0.9040\n",
                           "AUC-ROC: 0.9695\n",
                           "Gini coefficient: 0.9390\n"
                        ]
                     }
                  ],
>>>>>>> b3cfbeec49ed49cfcda18a95c6cdbbb199d9e964
   "source": [
                     "# Make predictions on the validation set\n",
                     "y_pred = best_model_XGBOOST.predict(val_x)\n",
                     "\n",
                     "# Calculate accuracy\n",
                     "accuracy = accuracy_score(val_y, y_pred)\n",
                     "\n",
                     "# Calculate precision\n",
                     "precision = precision_score(val_y, y_pred)\n",
                     "\n",
                     "# Calculate recall\n",
                     "recall = recall_score(val_y, y_pred)\n",
                     "\n",
                     "# Calculate F1-score\n",
                     "f1 = f1_score(val_y, y_pred)\n",
                     "\n",
                     "# Calculate predicted probabilities for positive class\n",
                     "y_pred_prob = best_model_XGBOOST.predict_proba(val_x)[:, 1]\n",
                     "\n",
                     "# Calculate AUC-ROC\n",
                     "auc_roc = roc_auc_score(val_y, y_pred_prob)\n",
                     "\n",
                     "# Calculate Gini coefficient\n",
                     "gini = 2 * auc_roc - 1\n",
                     "\n",
                     "# Print the evaluation metrics\n",
                     "print(\"Accuracy: {:.4f}\".format(accuracy))\n",
                     "print(\"Precision: {:.4f}\".format(precision))\n",
                     "print(\"Recall: {:.4f}\".format(recall))\n",
                     "print(\"F1-score: {:.4f}\".format(f1))\n",
                     "print(\"AUC-ROC: {:.4f}\".format(auc_roc))\n",
                     "print(\"Gini coefficient: {:.4f}\".format(gini))\n"
                  ]
               },
               {
                  "cell_type": "markdown",
                  "metadata": {},
                  "source": [
                     "**Accuracy**: Accuracy represents the overall correctness of the model's predictions. In the context of a credit risk loan default model, it indicates the proportion of correctly predicted outcomes (both defaults and non-defaults) out of the total predictions. An accuracy of 0.849716 means that the model predicted the correct outcome for approximately 84.97% of the cases.\n",
                     "\n",
                     "**Precision**: Precision measures the ability of the model to correctly identify loan defaults among the predicted default cases. In other words, it quantifies the proportion of correctly predicted defaults out of all the cases predicted as defaults. A precision of 0.779423 suggests that around 77.94% of the predicted defaults were actually true defaults.\n",
                     "\n",
                     "**Recall**: Recall, also known as sensitivity or true positive rate, indicates the ability of the model to identify true defaults among all the actual default cases. It measures the proportion of correctly identified defaults out of all the actual defaults. A recall of 0.976083 indicates that the model identified approximately 97.61% of the actual defaults.\n",
                     "\n",
                     "**F1-score**: The F1-score is the harmonic mean of precision and recall. It provides a balanced measure of the model's performance by considering both precision and recall. A higher F1-score (in this case, 0.866738) indicates a better balance between precision and recall.\n",
                     "\n",
                     "**AUC-ROC**: The Area Under the Receiver Operating Characteristic Curve (AUC-ROC) measures the model's ability to discriminate between default and non-default cases across different classification thresholds. A higher AUC-ROC value (in this case, 0.969846) indicates a better ability to distinguish between defaults and non-defaults.\n",
                     "\n",
                     "**Gini coefficient**: The Gini coefficient is a derived metric from the AUC-ROC. It quantifies the model's discrimination power by calculating the difference between the AUC-ROC value and the random classification line (0.5 for binary classification). A higher Gini coefficient (in this case, 0.939692) indicates a better discrimination ability of the model."
                  ]
               },
               {
                  "cell_type": "markdown",
                  "metadata": {},
                  "source": [
                     "### Lift Curve"
                  ]
               },
               {
                  "cell_type": "code",
<<<<<<< HEAD
   "execution_count": null,
                  "metadata": {},
                  "outputs": [],
=======
   "execution_count": 33,
                  "metadata": {},
                  "outputs": [
                     {
                        "name": "stderr",
                        "output_type": "stream",
                        "text": [
                           "<ipython-input-33-1bb88a7e78aa>:14: RuntimeWarning: divide by zero encountered in divide\n",
                           "  lift = cumulative_percentage / random_percentage\n"
                        ]
                     },
                     {
                        "data": {
                           "image/png": "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\n",
                           "text/plain": [
                              "<Figure size 432x288 with 1 Axes>"
                           ]
                        },
                        "metadata": {
                           "needs_background": "light"
                        },
                        "output_type": "display_data"
                     }
                  ],
>>>>>>> b3cfbeec49ed49cfcda18a95c6cdbbb199d9e964
   "source": [
                     "# Sort the predicted probabilities in descending order\n",
                     "sorted_indices = np.argsort(y_pred_prob)[::-1]\n",
                     "sorted_y_pred_prob = y_pred_prob[sorted_indices]\n",
                     "sorted_val_y = np.array(val_y)[sorted_indices]\n",
                     "\n",
                     "# Calculate the cumulative number of positive samples and cumulative percentage\n",
                     "cumulative_positives = np.cumsum(sorted_val_y)\n",
                     "cumulative_percentage = cumulative_positives / np.sum(sorted_val_y)\n",
                     "\n",
                     "# Calculate the expected random percentage\n",
                     "random_percentage = np.linspace(0, 1, len(val_y))\n",
                     "\n",
                     "# Calculate the lift\n",
                     "lift = cumulative_percentage / random_percentage\n",
                     "\n",
                     "# Plot the Lift curve\n",
                     "plt.plot(random_percentage, lift)\n",
                     "plt.xlabel(\"Percentage of Population\")\n",
                     "plt.ylabel(\"Lift\")\n",
                     "plt.title(\"Lift Curve\")\n",
                     "plt.show()\n",
                     "\n"
                  ]
               },
               {
                  "cell_type": "markdown",
                  "metadata": {},
                  "source": [
                     "### Assess model calibration"
                  ]
               },
               {
                  "cell_type": "code",
<<<<<<< HEAD
   "execution_count": null,
                  "metadata": {
                     "scrolled": true
                  },
                  "outputs": [],
=======
   "execution_count": 27,
                  "metadata": {
                     "scrolled": true
                  },
                  "outputs": [
                     {
                        "data": {
                           "image/png": "iVBORw0KGgoAAAANSUhEUgAAAYIAAAEWCAYAAABrDZDcAAAABHNCSVQICAgIfAhkiAAAAAlwSFlzAAALEgAACxIB0t1+/AAAADh0RVh0U29mdHdhcmUAbWF0cGxvdGxpYiB2ZXJzaW9uMy4yLjIsIGh0dHA6Ly9tYXRwbG90bGliLm9yZy+WH4yJAAAgAElEQVR4nOzdd3gV9dLA8e8kBBJ6b6GEJkgJLVRFQKRIERQsgKhYKIp6LQi8KiB6bdgrIioWBBQQEFCuKIjSq1SpIoQgJUCAFNLm/WMPMYSUE8jJSZnP8+Qhe/Z3dmeTsHO2zYiqYowxJv/y8XYAxhhjvMsSgTHG5HOWCIwxJp+zRGCMMfmcJQJjjMnnLBEYY0w+Z4nA5FkioiJS2/X9JBF51vV9BxEJ9fC6B4rI/zy5jlTWGeTa5gLZuV6T+1kiMDmaiAwQkfUick5EjojIDyJybWaXo6rDVPV5D8V4yQ5YVaepahcPrKuDiCS6fh5nRWSXiAy+jOWMF5Gvsjo+kztZIjA5log8DrwFvAhUAKoBHwC9szkO3+xcnxvCVLUoUBwYBXwsIvW9HJPJxSwRmBxJREoAE4CHVHWOqkaqapyqfq+qI11jWorIKhE57TpaeE9ECqaxvKki8kKK1/5PRE6IyAERGZhi7IciskhEIoGOItJDRDaJyBkROSQi45Mtarnr39OuT+ptROQeEfk92TLbisg6EYlw/ds22bxlIvK8iKxwfcr/n4iUzehnpI65wCngkkQgIpVFZL6InBSRvSLygOv1bsD/Abe74v0jo3WZvM0Sgcmp2gD+wHfpjEkAHgPKusZ3Ah50c/kVXe8LBO4GJotI3WTzBwD/BYoBvwORwF1ASaAHMFxE+rjGXuf6t6SqFlXVVclXJCKlgYXAO0AZ4A1goYiUSbG+wUB5oCDwZEYbICI+InKzK6atqQyZDoQClYF+wIsi0klVf8Q5yprpirdxRusyeZslApNTlQFOqGp8WgNUdYOqrlbVeFU9AHwEtM/EOp5V1fOq+ivOjvq2ZPPmqeoKVU1U1RhVXaaqW13TW3B2su6uqwewR1W/dMU6HfgT6JVszGequltVo4FvgCbpLK+yiJwGTgDjgEGquiv5ABGpClwLjHLFvxmYAgxyM2aTj9jdBSanCgfKikiBtJKBiFyF8+k6BCiM8/e8wc3ln1LVyGTTf+N8cr7gUIp1tQJeBhrifGIvBHzr5roqu5af3N84RyMX/JPs+yigaDrLC1PVKm6s86Sqnk2xzpAM3mfyITsiMDnVKiAG6JPOmA9xPlnXUdXiOOe9xc3llxKRIsmmqwFhyaZTluX9GpgPVFXVEsCkZOvKqIRvGFA9xWvVgMNuxno5woDSIlIsjXVa2WGTxBKByZFUNQIYC7wvIn1EpLCI+InIjSLyqmtYMeAMcE5E6gHDM7ma50SkoIi0A3qS/if8YjifsGNEpCXOOf0LjgOJQM003rsIuMp1K2wBEbkd5+LugkzG6zZVPQSsBF4SEX8RCQbuA6a5hhwFgkTE9gHGEoHJuVT1DeBx4Bmcne0hYAQw1zXkSZwd8lngY2BmJhb/D87dNmE4O8dhqvpnOuMfBCaIyFmcBPVNsjijcC4sr3DdwdQ6xXaE4ySaJ3BOeT0F9FTVE5mI93L0B4JwtvE7YJyq/uSadyHphYvIRg/HYXI4scY0xhiTv9kRgTHG5HOWCIwxJp+zRGCMMfmcJQJjjMnnct0DZWXLltWgoCBvh2GMMbnKhg0bTqhqudTm5bpEEBQUxPr1670dhjHG5CoikvLp9iR2asgYY/I5SwTGGJPPWSIwxph8LtddI0hNXFwcoaGhxMTEeDsUk4P4+/tTpUoV/Pz8vB2KMTlankgEoaGhFCtWjKCgIETcLT5p8jJVJTw8nNDQUGrUqOHtcIzJ0Tx2akhEPhWRYyKyLY35IiLvuFrobRGRZpe7rpiYGMqUKWNJwCQREcqUKWNHica4wZPXCKYC3dKZfyNQx/U1BKe2/GWzJGBSsr8JY9zjsVNDqrpcRILSGdIb+EKd8qerRaSkiFRS1SOeiskYY3KLuZsOM3HxLsJOR1O1hB/PXluEzu2u8ci6vHnXUCAXtwMM5eLWfUlEZIiIrBeR9cePH8+W4DJLRBg06N92sPHx8ZQrV46ePXtmajlBQUGcOJF+mfq0xpw7d46hQ4dSq1YtGjRowHXXXceaNWvcXlbbtm0BWLZsWabjTmnq1KmEhf3b8Ov+++9nx44dV7RMY/KLuZsOM2bOVg6fjqa+HODD6CcJXjKQ79ft8cj6vHmxOLXj9lSbI6jqZGAyQEhIyBU3UEieaSuXDGBk17r0aZpqDnJbkSJF2LZtG9HR0QQEBPDTTz8RGHhly8ys+++/nxo1arBnzx58fHzYv38/O3fudPv9K1euzNT6EhIS8PX1TXXe1KlTadiwIZUrO22Ap0yZkqllG5OfTVy8i8S4aJ4qMIchvgs4RTGeiRvMtp8P0atFnSxfnzePCEKBqsmmq3Bxz1iPSJ5pFTh8Opoxc7Yyd9OVt4+98cYbWbhwIQDTp0+nf//+SfNOnjxJnz59CA4OpnXr1mzZsgWA8PBwunTpQtOmTRk6dCjJGwV99dVXtGzZkiZNmjB06FASEhLSXPe+fftYs2YNL7zwAj4+zq+1Zs2a9OjRA4A+ffrQvHlzGjRowOTJk1NdRtGi//ZLP3PmDDfffDP169dn2LBhJCYmJo0ZO3YsrVq1YtWqVUyYMIEWLVrQsGFDhgwZgqoya9Ys1q9fz8CBA2nSpAnR0dF06NAhqTTI9OnTadSoEQ0bNmTUqFEXrf/pp5+mcePGtG7dmqNHj7r/wzcmj/gnIobDp6OZ7PcGDxaYz5yEdnQ6P5HFiS0JOx3tkXV684hgPjBCRGYArYCIrLg+8Nz329kRdibN+ZsOniY2IfGi16LjEnhq1hamrz2Y6nvqVy7OuF4NMlz3HXfcwYQJE+jZsydbtmzh3nvv5bfffgNg3LhxNG3alLlz5/LLL79w1113sXnzZp577jmuvfZaxo4dy8KFC5N20jt37mTmzJmsWLECPz8/HnzwQaZNm8Zdd92V6rq3b99OkyZN0vyE/umnn1K6dGmio6Np0aIFffv2pUyZMmluy9q1a9mxYwfVq1enW7duzJkzh379+hEZGUnDhg2ZMGGC87OpX5+xY8cCMGjQIBYsWEC/fv147733eO211wgJCblouWFhYYwaNYoNGzZQqlQpunTpwty5c+nTpw+RkZG0bt2a//73vzz11FN8/PHHPPPMMxn+3I3JC6JjE5i6dCuTfj8I+PJhwk18nNCD3xMbJY2pXDLAI+v2WCIQkelAB6CsiIQC4wA/AFWdhNPQuzuwF4gCBnsqluRSJoGMXs+M4OBgDhw4wPTp0+nevftF837//Xdmz54NwPXXX094eDgREREsX76cOXPmANCjRw9KlSoFwM8//8yGDRto0aIFANHR0ZQvX/6yY3vnnXf47rvvADh06BB79uxJNxG0bNmSmjWdXuz9+/fn999/p1+/fvj6+tK3b9+kcUuXLuXVV18lKiqKkydP0qBBA3r16pXmctetW0eHDh0oV84pgjhw4ECWL19Onz59KFiwYNK1iebNm/PTTz+luRxj8gpVZf4fYSxdOJ0nYz+kRtmuHG7+JK8t9iU67t+zAAF+vozsWtcjMXjyrqH+GcxX4KGsXm9Gn9yvefkXDqdyeBVYMoCZQ9tc8fpvuukmnnzySZYtW0Z4eHjS66n1hr5we2NqtzmqKnfffTcvvfSSW+tt0KABf/zxB4mJiUmnhi5YtmwZS5YsYdWqVRQuXJgOHTpkeH99ypguTPv7+ycddcTExPDggw+yfv16qlatyvjx4zNcbno9sv38/JLW4+vrS3x8fLrLMia323jwFG/OX0Pvo+/zlu9yokvWotvNd0O1mpQpUijLr2WmJd/VGhrZtS4BfhefPsnKTHvvvfcyduxYGjVqdNHr1113HdOmTQOcHXPZsmUpXrz4Ra//8MMPnDp1CoBOnToxa9Ysjh07BjjXGP7+O80qstSqVYuQkBDGjRuXtLPds2cP8+bNIyIiglKlSlG4cGH+/PNPVq9eneF2rF27lr/++ovExERmzpzJtddee8mYCzv9smXLcu7cOWbNmpU0r1ixYpw9e/aS97Rq1Ypff/2VEydOkJCQwPTp02nfvn2G8RiTl4SdjubRGZt4bdJk3joxlFsKrESvfZKAESuhWisA+jQNZMXo6/nr5R6sGH29x5IA5JESE5lx4YfpqUxbpUoVHn300UteHz9+PIMHDyY4OJjChQvz+eefA861g/79+9OsWTPat29PtWrVAOfc+wsvvECXLl1ITEzEz8+P999/n+rVq6e57ilTpvDEE09Qu3ZtChcuTJkyZZg4cSLBwcFMmjSJ4OBg6tatS+vWrTPcjjZt2jB69Gi2bt3Kddddx80333zJmJIlS/LAAw/QqFEjgoKCkk5jAdxzzz0MGzaMgIAAVq1alfR6pUqVeOmll+jYsSOqSvfu3endu3eG8RiTF0TFxjPp1/1MXr4PVfi/Fg0pebw2Pr3ehErBXotL0jtUz4lCQkI0ZWOanTt3cvXVV3spIpOT2d+GyQkSE5W5mw/zyg87aRf1Ez3LHaf23e9TpVRhUIVseApeRDaoakhq8/LdEYExxmSnDX+fZML3Owg/vIdJRT+nqd8mKN4Wirp2/jmgFIolAmOM8YDQU1G8/MOfLNpymBFFlvJI4a/xFV/o8To0vxd8cs4lWksExhiThSLPx/Phsn1M/m0/PgKj2pVlyJZvkarXQs83oWTVjBeSzSwRGGNMFkhMVGZtDGXi4l2cOhvJhKDtdLj9USqXKgJtlkOpoBxxGig1lgiMMeYKrdkfzvMLd7Dt8Bn6VjrOC0U/JOCfPyG8JZS6AUrn7OZIlgiMMeYyHToZxUs/7GTR1n8IKi781OgXau/9DClSDm6fBrVv8HaIbsk5VytyOV9fX5o0aULDhg259dZbiYqKytT7R44cSYMGDRg5cmSm1/3iiy9eNJ28eJw7du/eTffu3alduzZXX301t912W7oF3w4cOEDDhg0BWL9+PY888gjgPCvx2muvZTL6i6XcFndMnTqVESNGXNF6jcmMszFxvPzDn3R6/VeW/nmcJzpfxc+Bk6mzZwrSdCA8tAauvrJS7tnJEkEWCQgIYPPmzWzbto2CBQsyadIkt953oYzCRx99xMaNG5k4cWKm1305O88LYmJi6NGjB8OHD2fv3r3s3LmT4cOH427fh5CQEN555x2315deBVW4sm0xxtMSEpUZaw/S8bVlTPp1H/0almDpf1rzcKc6+LZ/Eu6aBze9CwElvR1qplgi8IB27dqxd+9eIiMjuffee2nRogVNmzZl3rx5gPMJ9tZbb6VXr1506dKFm266icjISFq1asXMmTM5fvw4ffv2pUWLFrRo0YIVK1YATuOZwYMH06hRI4KDg5k9ezajR48mOjqaJk2aMHDgwIviGDRoUNI6wSnwNn/+/IvGfP3117Rp0+aiQnEdO3akYcOGHDhwgHbt2tGsWTOaNWuWar+ClE1s/vjjD66//nrq1KnDxx9/nDSmY8eODBgwIKn0RmplsVPblrRKcX/22WdcddVVtG/fPunnY4wnrdx3gp7v/s7oOVsJKlOEpb3P8+KRB6i46W1nQNC1ULODN0O8fKqaq76aN2+uKe3YsePiFz7tfunXmsnOvPORqc/f+JUz/9yJS+e5oUiRIqqqGhcXpzfddJN+8MEHOmbMGP3yyy9VVfXUqVNap04dPXfunH722WcaGBio4eHhl7xfVbV///7622+/qarq33//rfXq1VNV1aeeekofffTRpHEnT5685L3Jp5ctW6a9e/dWVdXTp09rUFCQxsXFXTT2scce07feeivVbYqMjNTo6GhVVd29e7de+Nn/9ddf2qBBA1VVXbp0qfbo0UNVVceNG6fBwcEaFRWlx48f1ypVqujhw4d16dKlWrhwYd2/f3/Ssi9se1RUlDZo0EBPnDhxybbs2LFDe/bsqbGxsaqqOnz4cP388881LCxMq1atqseOHdPz589r27Zt9aGHHkp1Gy752zAmk/46fk4f+HydVh+1QNu+9LP+uHabJs6+X3VccdX3WqoeXOvtEN0CrNc09qt2sTiLXPgkC84RwX333Ufbtm2ZP39+0nnzmJgYDh50eh507tyZ0qVLp7qsJUuWXNTW8cyZM5w9e5YlS5YwY8aMpNcvlKxOS/v27XnooYc4duwYc+bMoW/fvhQo4P6vPC4ujhEjRrB582Z8fX3ZvXt3hu/p3bs3AQEBBAQE0LFjR9auXUvJkiVp2bIlNWr8e+eEO2Wx0yrFvWbNmotKWd9+++1uxWZMZpyJieO9X/by2Yq/KOjrw8iudXmg8gEKzrsJYk5D+1HQ7gkoUMjboV6xvJkIBi9Me17BwunPL1Im/flpuHCNIDlVZfbs2dSte3Fl0zVr1lCkSJE0l5WYmMiqVasICLi4CYWqplqyOj2DBg1i2rRpzJgxg08//fSS+Q0aNODXX39N9b1vvvkmFSpUSCpv7e/vn+H60ipfnXx73S2LrWmU4p47d26mfw7GuCs+IZGZ6w/xxv92czIqllubV+HJLnUpX9wfjsZCmdrQ8w2okHGzqtzCrhF4UNeuXXn33XeTykJv2rTJrfd16dKF9957L2n6QoJJ+fqFktV+fn7ExcWluqx77rmHt956C3B2+ikNGDCAlStXJrXYBPjxxx/ZunUrERERVKpUCR8fH7788ssML/QCzJs3j5iYGMLDw1m2bNlFFUkvSK8sdvJtSasUd6tWrZL6PcTFxfHtt99mGJcx7vh9j3Md4OnvtlGrfFG+f+gaXq2xmfK/Pe0MqFAf7v0xTyUBsETgUc8++yxxcXEEBwfTsGFDnn32Wbfe984777B+/XqCg4OpX79+0h1IzzzzDKdOnaJhw4Y0btyYpUuXAjBkyBCCg4MvuVgMUKFCBa6++moGD069AVxAQAALFizg3XffpU6dOtSvX5+pU6dSvnx5HnzwQT7//HNat27N7t270z2KuaBly5b06NGD1q1b8+yzzyY1r0+uW7duxMfHExwczLPPPntRWezk25K8FHdwcDCdO3fmyJEjVKpUifHjx9OmTRtuuOEGmjVr5tbP1Zi07D9+jvs/X8edn6whMjaeSXc2Y+atFWn48yD4/hE4vgviXA2t8uDRqJWhzuOioqJo1KgRGzdupESJEt4OJ9vZ34ZJae6mw0n9SCqW8OeqCkVZsTccfz9fRlxfm8FtqlJow8fw8/PgUwC6PA/N7s5RReIuh5WhzqeWLFnCvffey+OPP54vk4AxKc3ddJgxc7Ym9QI+EhHDkYgY2tQszTv9m1GuWCE4dwyWvQI120OPN6CE5zqD5RSWCPKwG264IekuJWOM05kweUP4C8LCz1BuzzfQZCAULQ/DfoOS1fLkaaDU5JlEcDl31Ji8Lbed9jSedTA8isOnoy95PVj28Wr0ZJh/CIpXhtqdoFTaLWHzojyRCPz9/QkPD6dMmTKWDAzgJIHw8HC3bnk1eVtUbDwfLHX6Awhw4eOBP+d5vMAs7vNdRLiUhv4znCSQD+WJRFClShVCQ0Pdro9j8gd/f3+qVKni7TCMl6gq3285wkuLdnIkIoabmwbSuGoJXvnBOT30sd/rtPPdxszEThTp8SI969bzdshekycSgZ+f30VPrRpj8rdthyOY8P0O1h44ScPA4rzbvykhQaUhJoLSBa/ilSUHeC/iZr7xv41O3fvRs2nevyCcnjyRCIwxBuBkZCyv/W8X09cepFThgrx8SyNuDamKr4/Arh9hwWPc1Ph2bho9Hrje2+HmGJYIjDG5XnxCIl+t/ps3ftpNZGwCg9vW4NEb6lAiwA8iT8APo2DbLCjfAK7ulfEC8xlLBMaYXG3l3hM89/0Odh09y7W1yzKuV33qVCjmzNz7M8x5AGLOQIf/g2sfgwIFvRtwDmSJwBiTKx06GcV/F+7kx+3/ULV0AB8Nak6X+hUuvnOweGUoW9cpElfenjBPiyUCY0yuEh2bwIe/7uOjX/fhI8KTXa7i/nY18ffzhcRE2DAV/tkCPd90dv73/uDtkHM8SwTGmFxBVVnguh00LCKGmxpXZkz3elQq4SrXHr4Pvn8UDvwGQe2cInF+Aekv1ACWCIwxucCOsDOM/347a/86Sf1KxXnrjqa0rOFq7JSYAKs/gF/+C75+0OsdaHZXvikPkRU8mghEpBvwNuALTFHVl1PMLwF8BVRzxfKaqn7myZiMMbnHqchYXv9pF1+vOUiJAD/+e3ND7mhRzbkd9IKocFg+EWp1hB6vO9cFTKZ4LBGIiC/wPtAZCAXWich8Vd2RbNhDwA5V7SUi5YBdIjJNVWM9FZcxJueLT0jk67UHef1/uzl3Pp672gTx2A1XUaKwn2vAefhjOjS9y1Uk7ncoUdWOAi6TJ48IWgJ7VXU/gIjMAHoDyROBAsXEucxfFDgJxHswJmNMDrdqXzjPfb+dP/85S9taZRjXqwF1Kxb7d0Doepg3Ao7vdHb+tTs5lULNZfNkIggEDiWbDgVapRjzHjAfCAOKAberamLKBYnIEGAIQLVq9gs3Ji8KPRXFS4v+ZOHWIwSWDGDSnc3o2qDiv7eDxkY61wFWf+Cc/hnwbb4tEpfVPJkIUjtGS1kXuCuwGedZ71rATyLym6qeuehNqpOByeB0KPNArMaYbJS8S1ilEv4EVynB0l3HEYHHO1/FkOtct4MmN2MA7F8GIffBDePBv7gXIs+bPJkIQoGqyaar4HzyT24w8LI6heP3ishfQD1grQfjMsZ4UcouYWERMYRFxNCkagneH9icwJLJbvmMPg0FCjm3gbYfBdc9BUHXeCnyvMuTTTjXAXVEpIaIFATuwDkNlNxBoBOAiFQA6gL7PRiTMcbL0uoSdvxs7MVJ4M9F8EFrWOa62bB6W0sCHuKxIwJVjReREcBinNtHP1XV7SIyzDV/EvA8MFVEtuKcShqlqic8FZMxxrtUNdUuYQBhF14/dxx+eAq2z4EKDaF+72yMMH/y6HMEqroIWJTitUnJvg8DungyBmNMznAkIprRs7emOb9yyQDYswTm3O9cGO74DFz7H+chMeNR9mSxMcajVJVv14fy/IIdxCcqtzQL5IetR4iO+/cGwQA/X0Z2rQslzjilonu8DuXzb8ew7GaJwBjjMReOAn7dfZxWNUrzar9gqpcpwnV1yjFx8S6OnI5keNHf6Bd4khpNuwGBMHiht8POdywRGGOyXMqjgOduasCg1tXxcZWG6NM0kD5Vo2H+w3BwJfh2hLgY8PP3cuT5kyUCY0yWOhIRzZg5W1m26zgta5RmousoIElCPKx6F5a+5Oz4e38ATQZYeQgvskRgjMkSqsq3G1xHAQnK+F71uatNUNJRQJLok/D7W1Cns3MtoFhF7wRsklgiMMZcsQyPAuLPw+Zp0Owep0jc8BVQoorX4jUXs0RgjLlsbh0FHFrrFIk7sQtK1XDKRVsSyFEsERhjLkuGRwHnz8EvL8CaSc6O/87ZThIwOY4lAmNMprh9LWDGAPjrV2g5BDqNhULFUl+g8TpLBMYYt2V4FBB9Cgr4O0XiOoxxvqq38V7Axi1uJwIRKaKqkZ4MxhiTM7l1FLBjPix6EhrfAZ0nWALIRTJMBCLSFpiC00Gsmog0Boaq6oOeDs4Y430ZHgWcPeokgJ3zoWIjaNjXe8Gay+LOEcGbOA1k5gOo6h8icp1HozLGeJ1bRwF7foLZ90NctHMdoO0jViQuF3Lr1JCqHpKLn/q7tJi4MSbP+CcihjFztrA0raOAC0pUhUrB0P11KHdV9gdqsoQ7ieCQ6/SQuhrMPALs9GxYxhhvyPAoIDER1k2Bo1vhpnedCqF3f+/doM0VcycRDAPexmlGHwr8D7DrA8bkcsn7BlcuGcAD19Xg113H0z4KOLHHeTDs0Gqo1cmKxOUh7iSCuqo6MPkLInINsMIzIRljPC1l3+DDp6MZP38Hfj5y6VFAQhysfAeWveLcFtrnQ2jc34rE5SHu9Cx+183XjDG5RFp9g0sXLcg919S4+IJw9GlY8Q7U7QYPrbVKoXlQmkcEItIGaAuUE5HHk80qjtOD2BiTS4Wl0Tf42JnzzjdxMbDpSwi5D4qWg+EroURgNkZoslN6p4YK4jw7UABI/mz4GaCfJ4MyxnjO3mNn8fP1ITYh8ZJ5lUsGwN+rYP4ICN8LZWq7isRZEsjL0kwEqvor8KuITFXVv7MxJmOMB8TGJzLp132898tefH3ADyEuQZPml/GL5ctKC+Czr6FkNRj0nRWJyyfcuVgcJSITgQZA0i0Cqnq9x6IyxmSpjQdPMXr2FnYfPUevxpUZ27M+K/aeuOiuoblF36bcX2uh1XC4/hkoVNTbYZts4k4imAbMBHri3Ep6N3Dck0EZY7JG5Pl4Ji7exeerDlCxuD+f3B1Cp6srAK6+wXUDnCJxBQvDwSLOReCqLb0btMl27iSCMqr6iYg8mux00a+eDswYc2WW7jrGM99tIywimkGtqzOya12K+Scr/7B9rqtIXH/o8jxUa+W9YI1XuZMI4lz/HhGRHkAYYO2FjMmhws+d5/kFO5i7OYza5Yvy7dA2hASV/nfA2X9g4RPw5wKo1ASCb/NesCZHcCcRvCAiJYAncJ4fKA78x6NRGWMyTVWZu/kwE77fwbnz8TzSqQ4PdaxFoQLJ7vbevRjmPOD0EL7hOWgzAnytLUl+l+FfgKoucH0bAXSEpCeLjTE5ROipKJ7+bhu/7j5Ok6oleaVvMHUrptIRrFQQVG4G3V+DsrWzPU6TM6X3QJkvcBtOjaEfVXWbiPQE/g8IAJpmT4jGmLQkJCqfrzzAa//bBcD4XvUZ1CYI36QicQmwdjIc3Qa934dydeGuuV6M2ORE6R0RfAJUBdYC74jI30AbYLSq2l+SMV6265+zjJq9hc2HTtOhbjle6NOQKqUK/zvg2J8w/2EIXQt1uliROJOm9BJBCBCsqoki4g+cAGqr6j/ZE5oxJjXn4xN4/5e9fLBsH8UD/Hj7jibc1LgyST1D4mNhxduw/MRCUjQAACAASURBVFUoWBRu+Rga3Wr1gUya0ksEsaqaCKCqMSKyO7NJQES64ZSw9gWmqOrLqYzpALwF+AEnVLV9ZtZhTH6y7sBJRs/ewr7jkdzcNJBne9andJGCFw+KiYDV70O9nnDjq06tIGPSkV4iqCciW1zfC1DLNS2Aqmpwegt2XWN4H+iM08dgnYjMV9UdycaUBD4AuqnqQREpfwXbYkyedTYmjld/3MWXq/8msGQAUwe3oEPdZP9d4qJh45fQ4n5XkbhVULyS9wI2uUp6ieDqK1x2S2Cvqu4HEJEZQG9gR7IxA4A5qnoQQFWPXeE6jclzluw4yjNzt3H0bAz3XlODJ7pcRZFCyf7rHljhXAs4uc9pF1mzgyUBkynpFZ270kJzgcChZNOhQMpHF68C/ERkGU6F07dV9YuUCxKRIcAQgGrVql1hWMbkDsfPnmf899tZuOUIdSsU48M7m9G0Wql/B8ScgSXjYf0nULI63DXPSQLGZJInnyRJ7cqUppguADQHOuHckrpKRFar6u6L3qQ6GZgMEBISknIZxuQpqsqsDaG8sHAn0bEJPNH5Koa2r0XBAin6SM0YAAd+h9YPwfVPQ8FUmssb4wZPJoJQnNtPL6iCU54i5ZgTqhoJRIrIcqAxsBtj8onkvYPLFy9Ecf8C7DkWSYugUrx0SzC1yyerAhoZ7rSLLFgYOo0FBKq28FrsJm9wp1UlIhIgInUzuex1QB0RqSEiBYE7gPkpxswD2olIAREpjHPqaGcm12NMrnWhd/Dh09EocPTMefYci6Rf8yrMHNLm3ySgCltnwfstYNmLzmtVW1oSMFkiw0QgIr2AzcCPrukmIpJyh34JVY0HRgCLcXbu36jqdhEZJiLDXGN2upa7BefBtSmquu1yN8aY3Cat3sGr9oX/2zf4TJhzGmj2fc61gMb9szlKk9e5c2poPM4dQMsAVHWziAS5s3BVXQQsSvHapBTTE4GJ7izPmLzmcBq9g5N6Cu/60SkSlxAHXV6A1g+Cj7UMN1nLnUQQr6oRYk8lGpNlEhOVd3/Zm+b8yiUDnG9K13ROAd34KpSplU3RmfzGnUSwTUQGAL4iUgd4BFjp2bCMybtORsbyn5mbWb77OCHVS7It7AwxcU4jeR8SGVLwfwwodwa43nku4M7Z3g3Y5HnuJIKHgaeB88DXOOf8X/BkUMbkVRsPnuKhaRsJPxfLizc3on/LqszbHMbExbsoErGHN/2n0EB3g39XKxJnso07iaCuqj6NkwyMMZdB1SkX/d9FO6lQ3J/Zw9vSqEoJAPo0KkefiK9g+UTwLw43fgIN+1qROJNt3EkEb4hIJeBbYIaqbvdwTMbkKefOxzNq9hYWbjlCp3rleeO2JpQonKx3cEwErJkEDfpAt5ehSFnvBWvyJXc6lHUUkYo4TWomi0hxYKaq2ukhYzKw++hZhn21gQMnIhnVrR5Dr6vp3BYaGwUbP4eWQ5wicQ+ugmIVvR2uyafceqBMVf9R1XeAYTjPFIz1aFTG5AHfbQql93srOBMdz7T7WzO8Qy0nCfy1HD5sAz+OhgO/OYMtCRgvyvCIQESuBm4H+gHhwAycRvbGmFTExCUwYcEOvl5zkJY1SvNe/6aUL+7vnAL6aSxsmAqlasDdC6BGO2+Ha4xb1wg+A6YDXVQ1Za0gY0wyh05G8eC0jWw9HMHQ9jUZ2aUuBXxdB94zBsLfK6DtI9BhjFMvyJgcwJ1rBK2zIxBjcrslO47y+DebUWDyoOZ0aVARIk+AX2FXkbhx4OMDgc29HaoxF0kzEYjIN6p6m4hs5eLy0W51KDMmv4hPSOT1n3bz4bJ9NKhcnA8HNqda6QDY8i388BQ0HeiUh7ACcSaHSu+I4FHXvz2zIxBjcqNjZ2N4ZPomVu8/Sf+WVRnXqwH+Uf/A9MGw+0cIDIEmA70dpjHpSq9D2RHXtw+q6qjk80TkFWDUpe8yJv9Ysz+cEdM3cTYmjtdubUy/5lXgz0UwZwhoAnR9CVoNtSJxJsdz5/bRzqm8dmNWB2JMbqGqTPp1HwOmrKFooQLMfegaJwkAlKkN1VrD8JXQxiqFmtwhvWsEw4EHgZoisiXZrGLACk8HZkxOFBEdxxPf/MGSnUfp3qgir9xcn2KbPoaV2+GWj1xF4mZ5O0xjMiW9awRfAz8ALwGjk71+VlVPejQqY3KgbYcjGD5tA0dOxzC2Z30G1z6HfHUjhG2Cuj2sSJzJtdJLBKqqB0TkoZQzRKS0JQOTX6gqM9YdYtz87ZQpUpBv7m9Gs78/hcmvQ0ApuHUq1O9jReJMrpXREUFPYAPO7aPJ/8oVqOnBuIzJEaJjE3h67lbmbDxMuzpleev2JpSRszBrCjTsB91egsKlvR2mMVckvbuGerr+rZF94RiTc+w/fo4Hp21k19GzPNGhCg8V/w2fwiHgUxYeXA1Fy3s7RGOyhDu1hq4BNqtqpIjcCTQD3lLVgx6PzhgvWbT1CE/N2oKfrzD3xngabxwEp/+Gio2gZntLAiZPcafW0IdAYxFpDDwFfAJ8CbT3ZGDGZKe5mw4zcfEuwk5HU7iQL5HnE7imSgEmV/iOIr98DaVrwT2LIOgab4dqTJZzt3m9ikhv4G1V/URE7vZ0YMZkl7mbDjNmzlai4xIAiDyfgK+P8KZOpMiOjXDNf6DDaPAL8HKkxniGOw+UnRWRMcAgYKGI+AJ+GbzHmFxj4uJdSUmgLBEEEENCovL02X7wwM/Q+TlLAiZPcycR3I7TuP5eVf0HCAQmejQqY7JJbHwih09HA8rNPr/xU6GRPFZgNgBLzlSFyk29G6Ax2SDDRODa+U8DSohITyBGVb/weGTGeNjB8ChunbSSypzgM79XebPgh+zXSsxM6ABA5ZJ2FGDyB3fuGroN5whgGc6zBO+KyEhVtefoTa61cMsRRs/eQkdZxzeF3yM+IZFxcXfzZUJnEvEhwM+XkV3rejtMY7KFOxeLnwZaqOoxABEpBywBLBGYXOffNpJ/06RqKcZ0u4lCa7bya/UnWPLbOfR0NIElAxjZtS59mgZ6O1xjsoU7icDnQhJwCcfNpvfG5CR7j53jkWnruO7EDBYEnqLusBn4+fpArZl0AbrYnaEmn3InEfwoIotx+haDc/F4kedCMibrzdoQyldzF/C670dc7bcfyvWExFjwtSJxxrjTs3ikiNwCXItzjWCyqn7n8ciMyQLnzsczYc4Gqm7/gFkFvkcKl4aeX0D93t4OzZgcI71+BHWA14BawFbgSVU9nF2BGXOltodF8PDXmzgTfoTlRZbh0+A2fLq+aEXijEkhvXP9nwILgL44FUjfzezCRaSbiOwSkb0iMjqdcS1EJEFE+mV2HcakpKp8/dsOvv9wDNHnz/PeA10o/NgGfG6eZEnAmFSkd2qomKp+7Pp+l4hszMyCXU8gv4/T6jIUWCci81V1RyrjXgEWZ2b5xqQmIjqOqV98Qt+wiVT2DWf4zX0pUbOMt8MyJkdLLxH4i0hT/u1DEJB8WlUzSgwtgb2quh9ARGYAvYEdKcY9DMwGWmQydmMu8seevwid8TiPJvzC6SJBcNtXlAhq4+2wjMnx0ksER4A3kk3/k2xageszWHYgcCjZdCjQKvkAEQkEbnYtK81EICJDgCEA1apVy2C1Jr9JTFQm/7afZj8PoKvPbv4JfoiKvcZa20hj3JReY5qOV7js1Pr2aYrpt4BRqpog6bT5U9XJwGSAkJCQlMsw+djJowcZ9f1f/LT3HMPrPMzVnepTMaiZt8MyJldx5zmCyxUKVE02XQUISzEmBJjhSgJlge4iEq+qcz0Yl8kLVNn702TKrZxAm8T2XNfnJe5sVY30PlAYY1LnyUSwDqgjIjWAw8AdwIDkA5K3wRSRqcACSwImIwknD3Doi6HUPr2aLb71ue62kdSuX93bYRmTa3ksEahqvIiMwLkbyBf4VFW3i8gw1/xJnlq3ybtObZhDwILhlE2EOZX+Q9d7nqaIf0Fvh2VMruZO9VEBBgI1VXWCiFQDKqrq2ozeq6qLSFGOIq0EoKr3uBWxyZ9UWbrrOG8vPMvDiQ2JveElbmnX0ttRGZMnuHNE8AGQiHNnzwTgLHa7p8kuCXHE//YWu7asZXDYPdSrWIOggfOoVa6otyMzJs9wJxG0UtVmIrIJQFVPiYgdixvPC9tM7JyHKHhiG38ltOaelpUY3asx/n6+3o7MmDzFnUQQ53r6VyGpH0GiR6My+dLcTYeZuHgX4acjeLrIfAYmzCOCYrzAk3S77X7GN6rk7RCNyZPcSQTvAN8B5UXkv0A/4BmPRmXynbmbDjNmzlai4xIoRQw3xi/h24R2fF7sPj564Aaqli7s7RCNybPcKUM9TUQ2AJ1wHhLro6o7PR6ZyVfe/3EzdyV+z8f04BTF6Xz+VU5RnMrqb0nAGA9z566hakAU8H3y11T1oCcDM/nIniVMjXmESgXC+UNrsTqxPqcoDsCR0zFeDs6YvM+dU0MLca4PCOAP1AB2AQ08GJfJD6JOwuL/gz+mE0Mg/WLHsVGvumhI5ZIBXgrOmPzDnVNDjZJPi0gzYKjHIjL5x8w70UNrmBlwB2NP3UiiT0HQf0tJBfj5MrJrXS8GaEz+kOkni1V1o4jYMwTm8pz9BwoWhUJFWVPnMSb+vZ9d0UG8O6gx0bEJTFy8i7DT0VQuGcDIrnXp0zTQ2xEbk+e5c43g8WSTPkAz4LjHIjJ5kyps+goWP01Ck4G8qnfx0fJYGgbWZ+GA5lQr41wQth2/MdnPnSOCYsm+j8e5ZjDbM+GYPOnkX7DgP7B/GbGBbXhyX1Pmh+7nztbVeKZHfXtAzBgvSzcRuB4kK6qqI7MpHpPX7JgP3w0F8WVPiwn031CPqHjl7Tsa0buJffo3JidIMxGISAFXBVHr8mEyTxVEoEIDtFYnphQdwou/n6VOeX9mDGxO7fJWK8iYnCK9I4K1ONcDNovIfOBbIPLCTFWd4+HYTG4UHwsr3objO6HvJ5woVIX/nHuY3zef4JZmgbzQpyGFC3qyDYYxJrPc+R9ZGgjHqT564XkCBSwRmIsd3gjzH4aj26BhX9bt+4cR32zndFQcr/YN5taQKtZBzJgcKL1EUN51x9A2/k0AF1jfYPOvuGhY+iKseg+KViDx9q+ZfKweEz/dRLXShfnsnpbUr1zc21EaY9KQXiLwBYriXhN6k5/FRsHmr6HpICKufZYnvj/Akp1/0qNRJV7u24hi/n7ejtAYk470EsERVZ2QbZGY3CXmDKybAtc8CkXKwIh1/BHuw4OTN3LsbAzje9Xn7rZBdirImFwgvURg/4NN6nYvhgWPwdkjUKUFGnQtX2w+wwsLd1C+mD/fDG1D02qlvB2lMcZN6SWCTtkWhckdIk/Aj6Nh67dQ7mq47QvOlm3M6OmbWLjlCNfXK88btzWmZGFrYGdMbpJmIlDVk9kZiMkFZg6C0HXQYQxc+zg7j8fw4HsrOHgyilHd6jH0upr4+NiBpDG5jd3QbdJ3JgwKFYdCRaHbi+BbCCrU55t1h3h23jZKBPjx9f2taFWzjLcjNcZcJh9vB2ByKFXYMBXeb+XcGgpQuSnRpery5Ld/8NTsLYQElWLhI+0sCRiTy9kRgbnUyf0w/xE48BsEtYOW9wOw99g5Hpq2kd3HzvJIpzo82qkOvnYqyJhczxKBudj2ufDdMPD1g15vQ7O7QYT5f4QxZvYWCvn58vngllx3VTlvR2qMySKWCIzjQpG4io3gqi7Q9SUoEcj5+ASeX7CDr1YfJKR6Kd4d0JRKJax9pDF5iSWC/C4+Fn5/A47/Cf0+Y+5Bfybuv4ewlzZTvvhO/Hx8CD0dzZDrajKya138fO2ykjF5jSWC/Cx0A8wfAcd2QKNbmb/hAGPm7SI6LgGAo2fOA3DfNUH8X/ervRmpMcaD7ONdfhQbBYufhk9ugOjT0H8m9J3CK0v+SkoCyf24/agXgjTGZBc7IsiP4mNgyzfQ/B644TnwL875+AQOn45OdXhYGq8bY/IGjx4RiEg3EdklIntFZHQq8weKyBbX10oRaezJePK1mAhYPhES4qFwaRixFnq+iRYqxs87j9LlzeVpvrVySbs4bExe5rFE4Op3/D5wI1Af6C8i9VMM+wtor6rBwPPAZE/Fk6/t+uHfB8MOrnJeCyjFvuPnGDx1Hfd9vp4CPsKw9jUJSNFIPsDPl5Fd63ohaGNMdvHkqaGWwF5V3Q8gIjOA3sCOCwNUdWWy8auBKh6MJ/+JPAE/PAXbZkP5BnDH1xDYjLMxcbz7y14+/f0vAvx8eabH1dzdNgg/Xx/qVSzOxMW7CDsdTeWSAYzsWpc+Ta3JvDF5mScTQSBwKNl0KNAqnfH3AT+kNkNEhgBDAKpVq5ZV8eV9F4rEdXwarvkPiT5+zNkQyss//El45Hlua16VJ7vWpVyxQklv6dM00Hb8xuQznkwEbnc2E5GOOIng2tTmq+pkXKeNQkJCrDtaeiIOg38JV5G4l6BAISh/NZsPnWbc/O38ceg0TauV5JO7Q2hctaS3ozXG5ACeTAShQNVk01WAsJSDRCQYmALcqKrhHownb0tMhI1T4X9jodkgJwlUbsKxszFM/PYPvt0QSrlihXj91sbc3DTQykUbY5J4MhGsA+qISA3gMHAHMCD5ABGpBswBBqnqbg/GkreF73OKxP39O9RoDy2HEBufyOcrD/D2z3s4H5/A0PY1efj6OhQtZHcMG2Mu5rG9gqrGi8gIYDHgC3yqqttFZJhr/iRgLFAG+MDV2zZeVUM8FVOetP07V5G4QnDTe9D0TpbtPs6Ez5az/3gkHeuW49me9alZrqi3IzXG5FCimrtOuYeEhOj69eu9HYb3XSgSF74PfnkBur7IgdjivLBwB0t2HqNG2SI82/Nqrq9XwduRGmNyABHZkNYHbTtPkNvEn4flr8GJXXDr51CmFpE3fcz7S/cy5bfN+PkKo2+sx+BrgihUwDfj5Rlj8j1LBLnJoXVOkbjjf0LwHWj8eeZtC+elH3Zy9Mx5bmkWyOhu9Shf3N/bkRpjchFLBLlBbKRz+mf1h1A8EAbOYlvhloyfspH1f5+iUWAJPhjYnObVS3k7UmNMLmSJIDeIP+88HdzifsLbjOG1ZWHMWPc7pQsX5JW+jbi1eVW7HdQYc9ksEeRU0adh7WS49nEoXJq44Wv4avNp3nxnPVGxCdx7TQ0e6VSHEgF+3o7UGJPLWSLIgdYs+pxaa8dRUiN4ZEUAQc06s2TnUXYfPUe7OmUZ27M+dSoU83aYxpg8whJBTnLuGIe/HkGrsMXsSKzOPXFPsO18TVi2j9JF/Jg8qDmd61fA9cyFMcZkCUsEOck3d1EubB0T427jo4SexCf79fgX8KVLg4peDM4Yk1dZIvC204cgoCQUKoZ2e5nu765hr15ajftIRIwXgjPG5AfWs9hbEhNh7cfwQWtY+iIHTkQyeHFsqkkArEuYMcZzLBF4w4k9MLU7LHqShMAQJp/vQpc3l7P+wCn6NKmMv9/FvxbrEmaM8SQ7NZTdts2B74ahfv5sbf4iw7fV4/DOKG5uGsiYG52nguduOmxdwowx2cYSQXa5UCSuchPO1ryRMZF3sGBFIvUq+vHNHU1pWaN00lDrEmaMyU6WCDwtLgaWvwondhPZ+zPeXRPLJztux7+AD+N61WNQ6+oU8LUzdMYY77FE4EkH1zhF4k7s5lC1Pgx842cOnkmgX/MqjOpW76JewcYY4y2WCDzh/Dn4eQKsnUxc0cq8Xua/TNpdgwaVizB7YAOaVy+d8TKMMSabWCLwhIRYEnfMZUP5vtwf2h0tWJTne9dlQKvq+FpxOGNMDmOJIKtEnYQ1H6HXPcn83dG8FTORA+EFuD2kKiO71qVMUTsNZIzJmSwRZIUd82Dhk2hUOOO3luHzsECCq5Thu7sb0qRqSW9HZ4wx6bJEcCXO/gOLnoSd33Mk4CoeiH2M0NNBvHhzPW5vUdVOAxljcgVLBFdAv72HxNANfOBzJ2+f7srtLWvwZZe6lCpS0NuhGWOM2ywRZNbpgxBQiu3hiXx2biAbo/tSvEp9vuvdkEZVSng7OmOMyTRLBO5KTIR1H6NLnmN1ye4MDL2ZkoUrMvqWevRrXsVaRRpjci1LBO44vhud/zByaDUracKo0GsZ1Lo6j3euS4nC1irSGJO7WSLIyNZZJH43nEgtxNjY4Ryq0ouP+jSkQWU7DWSMyRssEaQlMZHTMfF8sr0oteJa8EHBexnatzW3NAu0VpHGmDzFEoHLhdLP4acjeLrIPJoWPsGgcw9z5nwid7d5jVmd61Dc304DGWPyHksEOElgzJytNIzfzhcFP6ZWwhFmnOpAuRI+TB/ahnoVi3s7RGOM8RhLBMD7P25mjH7GXYV+4mBiOQbGjmFFYiMCE3wsCRhj8jxLBMDxiHN0KbSeT+Jv5LX4W4nGH4Cw09Yw3hiT9+XfRBB1ElZ/CO1HUaRkOTqdfo1ILm4Qbw3jjTH5gUdbY4lINxHZJSJ7RWR0KvNFRN5xzd8iIs08GQ/gtIzc/h283xJ+fwNC1zKya10S/YpeNMwaxhtj8guPHRGIiC/wPtAZCAXWich8Vd2RbNiNQB3XVyvgQ9e/nnHmiFMk7s8FUKkJDPoOKjaiT3VntjWMN8bkR548NdQS2Kuq+wFEZAbQG0ieCHoDX6iqAqtFpKSIVFLVIx6J6Nt74Mhm6DwBWj8Evv9uvjWMN8bkV55MBIHAoWTToVz6aT+1MYHARYlARIYAQwCqVat2+RH1eA0KBEDZ2pe/DGOMyWM8eY0gtcdv9TLGoKqTVTVEVUPKlSt3+RFVbGRJwBhjUvBkIggFqiabrgKEXcYYY4wxHuTJRLAOqCMiNUSkIHAHMD/FmPnAXa67h1oDER67PmCMMSZVHrtGoKrxIjICWAz4Ap+q6nYRGeaaPwlYBHQH9gJRwGBPxWOMMSZ1Hn2gTFUX4ezsk782Kdn3CjzkyRiMMcakz6MPlBljjMn5LBEYY0w+Z4nAGGPyOUsExhiTz4lzvTb3EJHjwN+X+faywIksDCc3sG3OH2yb84cr2ebqqprqE7m5LhFcCRFZr6oh3o4jO9k25w+2zfmDp7bZTg0ZY0w+Z4nAGGPyufyWCCZ7OwAvsG3OH2yb8wePbHO+ukZgjDHmUvntiMAYY0wKlgiMMSafy5OJQES6icguEdkrIqNTmS8i8o5r/hYRaeaNOLOSG9s80LWtW0RkpYg09kacWSmjbU42roWIJIhIv+yMzxPc2WYR6SAim0Vku4j8mt0xZjU3/rZLiMj3IvKHa5tzdRVjEflURI6JyLY05mf9/ktV89QXTsnrfUBNoCDwB1A/xZjuwA84HdJaA2u8HXc2bHNboJTr+xvzwzYnG/cLThXcft6OOxt+zyVx+oJXc02X93bc2bDN/we84vq+HHASKOjt2K9gm68DmgHb0pif5fuvvHhE0BLYq6r7VTUWmAH0TjGmN/CFOlYDJUWkUnYHmoUy3GZVXamqp1yTq3G6weVm7vyeAR4GZgPHsjM4D3FnmwcAc1T1IICq5vbtdmebFSgmIgIUxUkE8dkbZtZR1eU425CWLN9/5cVEEAgcSjYd6nots2Nyk8xuz304nyhyswy3WUQCgZuBSeQN7vyerwJKicgyEdkgIndlW3Se4c42vwdcjdPmdivwqKomZk94XpHl+y+PNqbxEknltZT3yLozJjdxe3tEpCNOIrjWoxF5njvb/BYwSlUTnA+LuZ4721wAaA50AgKAVSKyWlV3ezo4D3Fnm7sCm4HrgVrATyLym6qe8XRwXpLl+6+8mAhCgarJpqvgfFLI7JjcxK3tEZFgYApwo6qGZ1NsnuLONocAM1xJoCzQXUTiVXVu9oSY5dz92z6hqpFApIgsBxoDuTURuLPNg4GX1TmBvldE/gLqAWuzJ8Rsl+X7r7x4amgdUEdEaohIQeAOYH6KMfOBu1xX31sDEap6JLsDzUIZbrOIVAPmAINy8afD5DLcZlWtoapBqhoEzAIezMVJANz7254HtBORAiJSGGgF7MzmOLOSO9t8EOcICBGpANQF9mdrlNkry/dfee6IQFXjRWQEsBjnjoNPVXW7iAxzzZ+EcwdJd2AvEIXziSLXcnObxwJlgA9cn5DjNRdXbnRzm/MUd7ZZVXeKyI/AFiARmKKqqd6GmBu4+Xt+HpgqIltxTpuMUtVcW55aRKYDHYCyIhIKjAP8wHP7LysxYYwx+VxePDVkjDEmEywRGGNMPmeJwBhj8jlLBMYYk89ZIjDGmHzOEoHxOldl0M0isk1EvnXd/365y5p6ocqoiEwRkfrpjO0gIm0vYx0HRKRsGq9vdVXB/J+IVMzEMjuIyIIsimPYhdISaf08ROT/MrMuk7dZIjA5QbSqNlHVhkAsMCz5TBHxvZyFqur9qrojnSEdcKqyZqWOqtoYWI9TFTOJ6wEgj/+fcz1P8EUqryf/eVgiMEksEZic5jegtusT8lIR+RrYKiK+IjJRRNa5arAPhaSd63siskNEFgLlLyzIVXgtxPV9NxHZ6Pq0/rOIBOEknMdcRyPtRKSciMx2rWOdiFzjem8Z1yf8TSLyEanXeklpuWs7gkRkp4h8AGwE/r+9Mwixqgrj+O9fhkk4lSTlIjCoCCnRxQwJURgVWUFh1BhuaiMUahuLoKAsAheBtYikLNrUbKJZRNAIJrxGJIsxhtqUZLaISsyyQijs3+L7bj6e82yGgXLe+37wuO8dzjn3+y6887/nXO7/XJ55fJ6zh+G2NgOSRjOXHY1oSHpF0qcKr/2tHed5TNL+/FyZ9Z+RtKUzoOZ6SNoGLMi835L0nKRH2+o9L2nzNHIseoSee7O4mLtImkfslfBBFg0B19o+JGkD8Sr9oKT5wF5Ju4CVhKXAdcClhBf/Gx39LgZeA27MvhbZ/knSDuA32y9kvbeB7bbHFZYcY4Sr5dPAuO1nP7ljyQAAAoRJREFUJd0JbJhGOncRTphkfA/ZfkTSvcAKwv/nEuAThR9Qk+8y4HBeg7WENcaTGe+5wG5Jy21PZpvjtodyKejFPO8Zsf2EpI22V2TeSwn7kZdSfNZlLEWfUEJQnA0skPRZfv8IeJ1Ystlv+1CW3wYs16ldxi4EriI28RixfRL4TtKHU/R/PdBq+rLdzev9FmCZTjmVDkhamOdYm23fl3SsS3uAPZJOEhYPTxEbxRxO33gI19cm3h8UO4gNAscz36/hH5uBGwghuD+FcB6whBCLRghG2o7bzxBXV2x/I+mopJWEmB7oAVPCYgaUEBRnAyeau9OGHIx/by8CNtke66h3B/9uwatp1IFYKl1l+8QUsUzXi2V1u8+NpIs4PY9udJ7Dkq4AtgCDto9JehM4v0ub2fjF7AQeBC6jY0ZV9D71jKCYK4wBD0s6D0DS1ZIuINbi1+UzhCXA6ina7gNuykEVSYuy/FdgYVu9XcDG5oekRpxawPosWwNcPIs8WsBwxruYmG00dslDCpfNc4BhYBwYIITkF4Wz5pqO/obbjvtmEMefzbVMRoHbidnJ2NRNil6lZgTFXGEnsBSYUNyiHwHuIQawm4n1+C+B0zZrt30kl1bezUH2R+BW4D3gHUl3E1tabgZeljRJ/DdaxAPlrcCIpIns/9tZ5DEKrCL23jXwuO3vJV1DDOTbiOcdLWDU9l+SDgBfENbKezv6my/pY+Km7oEZxPEqMClpwvZ6239I2gP8nMtWRR9R7qNFUZACOQHcZ/ur/zue4r+lloaKos9RvGR2ENhdItCf1IygKIqiz6kZQVEURZ9TQlAURdHnlBAURVH0OSUERVEUfU4JQVEURZ/zN1uaNFgIPcFeAAAAAElFTkSuQmCC\n",
                           "text/plain": [
                              "<Figure size 432x288 with 1 Axes>"
                           ]
                        },
                        "metadata": {
                           "needs_background": "light"
                        },
                        "output_type": "display_data"
                     }
                  ],
>>>>>>> b3cfbeec49ed49cfcda18a95c6cdbbb199d9e964
   "source": [
                     "from sklearn.calibration import calibration_curve\n",
                     "\n",
                     "## For xgboost model\n",
                     "# Compute true positive rate and predicted probabilities for the positive class\n",
                     "true_pos_rate, pred_probs = calibration_curve(val_y, y_pred_prob, n_bins=10)\n",
                     "\n",
                     "# Create calibration plot\n",
                     "plt.plot(pred_probs, true_pos_rate, marker='o', linestyle='-', label='Model Calibration')\n",
                     "plt.plot([0, 1], [0, 1], linestyle='--', label='Perfectly Calibrated')\n",
                     "plt.xlabel('Predicted Probability')\n",
                     "plt.ylabel('True Positive Rate')\n",
                     "plt.title('Calibration Plot')\n",
                     "plt.legend()\n",
                     "plt.show()"
                  ]
               },
               {
                  "cell_type": "code",
<<<<<<< HEAD
   "execution_count": null,
                  "metadata": {},
                  "outputs": [],
=======
   "execution_count": 39,
                  "metadata": {},
                  "outputs": [
                     {
                        "name": "stdout",
                        "output_type": "stream",
                        "text": [
                           "| Metric           |    Value |\n",
                           "|------------------+----------|\n",
                           "| Accuracy         | 0.904076 |\n",
                           "| Precision        | 0.902792 |\n",
                           "| Recall           | 0.905968 |\n",
                           "| F1-score         | 0.904378 |\n",
                           "| AUC-ROC          | 0.969173 |\n",
                           "| Gini coefficient | 0.938347 |\n"
                        ]
                     }
                  ],
>>>>>>> b3cfbeec49ed49cfcda18a95c6cdbbb199d9e964
   "source": [
                     "## For random forest model\n",
                     "display_evaluation_metrics(best_model_RF, val_x, val_y)\n"
                  ]
               },
               {
                  "cell_type": "markdown",
                  "metadata": {},
                  "source": [
                     "### Lift Curve"
                  ]
               },
               {
                  "cell_type": "code",
                  "execution_count": null,
                  "metadata": {},
                  "outputs": [],
                  "source": [
                     "# Sort the predicted probabilities in descending order\n",
                     "sorted_indices = np.argsort(y_pred_prob)[::-1]\n",
                     "sorted_y_pred_prob = y_pred_prob[sorted_indices]\n",
                     "sorted_val_y = np.array(val_y)[sorted_indices]\n",
                     "\n",
                     "# Calculate the cumulative number of positive samples and cumulative percentage\n",
                     "cumulative_positives = np.cumsum(sorted_val_y)\n",
                     "cumulative_percentage = cumulative_positives / np.sum(sorted_val_y)\n",
                     "\n",
                     "# Calculate the expected random percentage\n",
                     "random_percentage = np.linspace(0, 1, len(val_y))\n",
                     "\n",
                     "# Calculate the lift\n",
                     "lift = cumulative_percentage / random_percentage\n",
                     "\n",
                     "# Plot the Lift curve\n",
                     "plt.plot(random_percentage, lift)\n",
                     "plt.xlabel(\"Percentage of Population\")\n",
                     "plt.ylabel(\"Lift\")\n",
                     "plt.title(\"Lift Curve\")\n",
                     "plt.show()\n"
                  ]
               },
               {
                  "cell_type": "code",
<<<<<<< HEAD
   "execution_count": null,
                  "metadata": {},
                  "outputs": [],
=======
   "execution_count": 37,
                  "metadata": {},
                  "outputs": [
                     {
                        "data": {
                           "image/png": "iVBORw0KGgoAAAANSUhEUgAAAYIAAAEWCAYAAABrDZDcAAAABHNCSVQICAgIfAhkiAAAAAlwSFlzAAALEgAACxIB0t1+/AAAADh0RVh0U29mdHdhcmUAbWF0cGxvdGxpYiB2ZXJzaW9uMy4yLjIsIGh0dHA6Ly9tYXRwbG90bGliLm9yZy+WH4yJAAAgAElEQVR4nOzdd3hU1dbA4d8iBBJaIIQAoQWkh04ISJHepaiIAoKIiijoVa+o8Om1C9fCReygNEVBpYgIoiCoSEuQFkCKgJCEEkoChPTs748zxCSkTMhM2qz3efLAafusE3HWnH32WVuMMSillHJdJQo6AKWUUgVLE4FSSrk4TQRKKeXiNBEopZSL00SglFIuThOBUkq5OE0EqkgTESMi9W1//0hEnrf9vZuIhDn53KNE5EdnnkOp/KCJQBU4ERkpIiEickVETonIGhHpnNt2jDETjDGvOClGf1vSKZnmfIuMMX2cdL4KIjJTRE7Yfi9HbMs+zjifcm2aCFSBEpEngZnA60BVoDbwATAkn+Nwy8/zZUdESgHrgQCgH1AB6AicB4JuoL2SOe+lXJkmAlVgRMQLeBmYaIxZZoyJMcYkGmO+M8ZMtu0TJCJbRCTKdrfwnu2DMrP25ovIqxnWTRWRcyJyXERGZdj3QxFZLSIxQHcRGSgiO0XkkoicFJEX0zT1q+3PKNs39JtFZKyIbErTZkcRCRaRaNufHdNs2ygir4jI7yJyWUR+zObb/RishHibMWa/MSbFGHPWGPOKMWa1rb3ULrGM136tW0xEnhGR08A8ETkgIrem2b+k7ffSxrbcQUQ2237Pu0WkWxaxqWJIE4EqSDcDHsDybPZJBp4AfGz79wQesbP9arbjagD3ArNFpFGa7SOB14DywCYgButDuCIwEHhYRIba9r3F9mdFY0w5Y8yWtCcSEW/ge2AWUBmYAXwvIpUznO8+wBcoBTyVRdy9gB+MMVfsvM7MVAO8gTrAeOBLYESa7X2Bc8aYP0Skhi32V23HPAUsFZEqeTi/KkI0EaiCVBnrwygpqx2MMTuMMVuNMUnGmOPAx0DXXJzjeWNMvDHmF6wPu+Fptn1rjPnd9o07zhiz0Riz17a8B+vD095zDQQOG2M+s8X6JfAnMCjNPvOMMYeMMbHAV0CrLNqqDJzKxTVmJgV4wXbtscAXwGARKWPbPtK2DuAeYLUxZrXt2n8CQoABeYxBFRGaCFRBOg/4ZNeHLSINRWSViJwWkUtYzxLsfWB60RgTk2b5b8AvzfLJDOdqLyIbRCRSRKKBCbk4l5+t/bT+xrobueZ0mr9fBcpl0dZ5oLqd581KpDEm7tqCMeYIcAAYZEsGg/knEdQB7rR1C0WJSBTQ2QExqCJCE4EqSFuAOGBoNvt8iPXNuoExpgIwFRA7268kImXTLNcGItIsZyy9+wWwEqhljPECPkpzrpzK9EZgfaCmVRsItzPWtNYBfTPEntFVoEya5WoZtmcW77XuoSHAfltyACshfmaMqZjmp6wxZvoNxK6KIE0EqsAYY6KB/wDvi8hQESkjIu4i0l9E3rDtVh64BFwRkcbAw7k8zUsiUkpEugC3Al9ns2954IIxJk5EgrC6T66JxOpuqZfFsauBhrahsCVF5C6gKbAql/ECfIb14bxURBqLSAkRqWx78H2tu2YXMFJE3ESkH/Z1YS0G+mD9Dr9Is/5zrDuFvrb2PGwPnGveQOyqCNJEoAqUMWYG8CTwHNaH7UlgErDCtstTWB/Il4E5wJJcNH8auIj1bX0RMMEY82c2+z8CvCwil7ES1Fdp4ryK9WD5d1v3SYcM13EeK9H8G6tr52ngVmPMuVzEe62teKwHxn8CP2Elwu1Y3VTbbLv9C+v5QxQwin9+X9m1ewrrLqwjaX6PxpiTWHcJU/nnv8Fk9PPBZYhOTKOUUq5NM75SSrk4TQRKKeXiNBEopZSL00SglFIursgVo/Lx8TH+/v4FHYZSShUpO3bsOGeMybRsSJFLBP7+/oSEhBR0GEopVaSISMY331Np15BSSrk4TQRKKeXiNBEopZSL00SglFIuThOBUkq5OKclAhGZKyJnRSQ0i+0iIrNsk3LvuTZlnlJKqfzlzOGj84H3gIVZbO8PNLD9tMeqO9/eifEopVShs2JnOG+uPUhEVCx+FT2Z3LcRQ1vXyPlAB3LaHYEx5lfgQja7DAEWGstWoKKI6IxISimXsWJnOFOW7SU8KhYDhEfFMmXZXlbszDCfUXIinDuSaRuOUJDPCGqQfqrAMNJP65dKRMaLSIiIhERGRuZLcEop5Wxvrj1IbGJyunWxicm8ufbgPytO7YY53WHBrZAQgzMUZCLIbLrBTCdHMMbMNsYEGmMCq1TJ9A1ppZQqMiIvx/P51r8Jj4rNdHtEVCwkxsG6F2F2d7h8Bvq/AaWym730xhVkiYkwoFaa5Zqkn09WKaWKjVPRsfwQepo1oacJPn4BY8CthJCccv33X7+KnrB4JPy1HlrdA31fBc9KToutIBPBSmCSiCzGekgcbZtKTymlioWTF66yJvQUa0JPs/NEFAANq5bjsR4N6N+8GgciLjF1eWhq91BZYinpXorJfRtBxSeg4yS4qYfT43RaIhCRL4FugI+IhAEvAO4AxpiPsCb7HgAcAa4C9zkrFqWUyi9HI6+wJvQ0a0JPERp+CYAAvwpM7tuIfs2qcVOVcqn7Nq5WARHhzbUHqX9pK/8tNZfoBrfRqPVgsnhk6hROSwTGmBE5bDfARGedXyml8oMxhkNnrrB67yl+CD3NwTOXAWhVqyJTBzSmX0B1alcuk+XxQxt5MvT417D7C/BpSLUuw/Ir9FRFrgy1UkoVNGMM+yIupX74Hz0Xgwi0q+PNC4Oa0jegmtXPn5OjG2HpgxB7Abo8BbdMBncPp8efkSYCpZSyQ0qKYVdYFGv2Wn3+YRdjcSshdKjnzbjOdekTUBXf8rn8EC9bBSrVgXuWQvUWzgncDpoIlFIqC8kphpDjF1gTepofQk9z+lIc7m5Cp/o+PNajAb2aVsW7bCn7GzQGdn1hvRsw4A2oGgD3/wSS2Wj6/KOJQCml0khMTmHb0QusCT3F2n1nOHclnlIlS9C1YRWebtaInk2q4uXpnvuGLx6H7x6HoxugdkdIjAV3zwJPAqCJQCnlgjLW93miVwMqlyvNmtBT/Lj/DFFXE/F0d6NHY1/6NatG98a+lCt9gx+XKcmwfQ6sfwmkBAx8G9qOgxKFp/izJgKllEu5Vt/n2tj98KhYnvpmDwDlS5ekZxNf+jWrTteGVfAs5Zb3E149Dxtehzqd4Nb/QcVaOR+TzzQRKKVcSmb1fQAqly3F5ik9KF3SAR/+yYmw5ytoOQLK+cJDv0Al/0LRDZQZTQRKKZeRkJSSZX2fCzEJjkkCETvh20lwJhTKV4X6vcC7bt7bdSJNBEopl3DozGWeWLIry+12jfvPTmIsbJwOm9+1hoXetchKAkVA4XlaoZRSTpCSYvjkt6Pc+u4mTkfHcX8nfzzd03/z93R3s+r75MXikfD7TGg9CiZugya35q29fKR3BEqpYivs4lWe+no3W49eoFeTqky/ozk+5UrTvGZFx8wKFncJ3EpZbwN3+Td0+hfU6+boy3A6TQRKqWLHGMPSP8J5aeU+UozhjWEtuLNtTcT2sHZo6xp5nw7y0I+w6gloMRx6vQD+nR0QecHQRKCUKlbOX4ln6vK9rN13hiB/b94e3pJa3lkXfcu1mPOwdgrsWQJVGkOjAY5ru4BoIlBKFRvrD5zhmaV7uBSbxNQBjbm/cz3cSjhwyOZfP1tF4uKioOszVndQydKOa7+AaCJQShV5V+KTeHXVfhYHn6RJ9Qp8/kBLGler4PgTlasGlevDrTOsOkHFhCYCpVSRFnz8Ak9+tYuwi7FM6HoTT/Ru4Jj3AcAqEvfHQji9xyoNUbUpjPuh0L4YdqM0ESiliqT4pGRm/HSI2b8epValMnz10M208/d23AkuHIPvHoNjv4J/l0JVJM7RNBEopYqcA6cu8cSSXfx5+jIjgmrxfwOb3nhRuIxSkmHbR7D+FShREm6dCW3uLVRF4hxNE4FSqshITjHM+e0oM348RAVPdz69N5CeTao69iRXz8PG/0K9rjBwBnjl39zBBUUTgVKqSDh54Sr//mo3249foF9ANV67rRmVyzloxE5SgjUctNUoq0jchN+gYu1i2Q2UGU0ESqlCzRjDVyEnefm7/ZQQ4e07W3J7mxqpL4flWfgOq0jc2f1QwQ/q97Smj3QhmgiUUoVW5OV4pizbw7oDZ7m5XmXevLMFNSs56OWwhKuw4TXY+oE1LHTEYisJuCBNBEqpQmntvtNMXbaXy/FJPDewCeM61aWEI18OWzwCjm6EtmOh98vg4eW4tosYTQRKqULlclwiL323n292hBHgV4Ev72pFw6rlHdN4XDS4lbaKxN3ytPVmcN1bHNN2EaaJQClVaGz56zxPfb2bU9GxTOpen8d6NqBUSQcN2zz4g1UkruVd0OtF8O/kmHaLAU0ESqkCkXYC+epeHjSsWo5fDp+jjncZvp7QkbZ1KjnmRDHnYM0zEPoN+AZAk0GOabcY0USglMp3GSeQj4iOIyI6jo43efPJve0oU8pBH01H1sOyB615A7pNhc5PQMlSjmm7GNFEoJTKd1lNIP/3+VjHJQGwhoP6NLKKxPk2cVy7xUzxfWdaKVVoRWQxgXxW6+2WkgIh86xnAWB9+I9bo0kgB3pHoJTKV8YYypR2Iyb++juCPE0gf/4v+O5fcPy39EXiVI40ESil8o0xhhdX7iMmPhm3EkJyiknddsMTyKckWy+F/fwauLnDoFnQZozLlIdwBKd2DYlIPxE5KCJHROTZTLZ7ich3IrJbRPaJyH3OjEcpVXBSUgzPrQhlwZa/ebBLXd4a1oIaFT0RoEZFT6bd3vzG5hG+eh5+fRNu6g4Tt0HbezUJ5JLT7ghExA14H+gNhAHBIrLSGLM/zW4Tgf3GmEEiUgU4KCKLjDEJzopLKZX/UlIMU5fvZXHwSSZ0vYln+jVCRLitTc0bazApHnZ/Ca3H2IrEbQKvWpoAbpAzu4aCgCPGmKMAIrIYGAKkTQQGKC9W9ahywAUgyYkxKaXyWXKK4Zmle/hmRxiTutfn330a5q1gXFiIVSQu8oD14V+/p1UpVN0wZ3YN1QBOplkOs61L6z2gCRAB7AX+ZYxJydiQiIwXkRARCYmMjHRWvEopB0tOMUz+ejff7AjjXz0b5C0JJMTAD1Phk14QfwlGfu2yReIczZmJILP/2ibDcl9gF+AHtALeE5HrZpw2xsw2xgQaYwKrVKni+EiVUg6XlJzCk1/tYtnOcJ7s3ZAneufxTmDxSNj6PgSOg0e2QsM+jgvWxTmzaygMqJVmuSbWN/+07gOmG2MMcEREjgGNge1OjEsp5WSJySk8vmQX3+85xdP9GvFIt/o31lBsFJQsbQ0D7fqMVShOawQ5nDPvCIKBBiJSV0RKAXcDKzPscwLoCSAiVYFGwFEnxqSUcrKEpBQe/WIn3+85xdQBjW88Cfy5Gj7oABunW8t1OmoScBKn3REYY5JEZBKwFnAD5hpj9onIBNv2j4BXgPkisherK+kZY8w5Z8WklHKuhKQUJn7xBz/tP8Pztzbl/s51c9/IlUhY8zTsWwZVm0HTIY4PVKXj1BfKjDGrgdUZ1n2U5u8RgHb0KVUMxCcl88jnf7D+z7O8NDiAezv6576Rw+tg2QPWg+Huz0Hnx62XxJRT6ZvFSqk8i0tMZsLnO9h4MJJXhjZjdIcbnPPXq4ZVKnrg2+Db2LFBqixpIlBK5UlcYjIPLgxh05FzTLu9OSOCcjGmPyUFdsyF03th0DtWcbj7vndesCpTmgiUUjcsNiGZ+xcEs+Xoef57RwuGB9bK+aBrzh2BlY/Cic1QrzskxllTSKp8p4lAKXVDYuKTuH9BMNuPXeDtO1tyu73lIpKTYMu7sGGa9cE/5ANoNVLLQxQgTQRKqVy7Ep/EuHnBhPx9gf/d1YohrXJRLC72AmyaCQ16W88CyldzXqDKLpoIlFK5cjkukbHzgtl1Mop37m7NoJZ+OR+UFA+7FkGbsVaRuId/B68bLDinHE4TgVLKbtGxidw7dzuh4dG8N6I1/ZtXz/mgk9utInHnDkKlula5aE0ChYpOVamUskv01URGf7qNfRHRvD+qTc5JIP4KrHkWPu0DiVfhnqVWElCFjt4RKKVydDEmgXs+3cbhM1f46J629GxSNeeDFo+EY79A0Hjo+R8oXd75gaoboolAKZWtCzEJjPpkG39FXuHj0W3p3tg3651jL0JJD6tIXLcp1k+dm/MvWHVDtGtIKZWlc1fiGTlnK0cjrzBnTGD2SWD/Sni/PWycZi3XuVmTQBGhdwRKqUydvRzHqDnbOHnxKp/e247ODXwy3/HyGVj9FBxYCdWaQ7M78jdQlWeaCJRS1zlzKY4Rc7ZyKiqOuWPb0fGmLJLA4Z9g6QOQGGs9B+j4mBaJK4I0ESil0jkdbSWBM5fimH9fO9rXq5z1zl61oHoLGPA2VGmYf0Eqh9JEoJRKFREVy4g5Wzl/JYGF44II9PdOv0NKCgR/Amf2wuB3rQqh935XMMEqh9FEoJQLW7EznDfXHiQiKhbfCqVJTE4hMcmw8P4g2tSulH7nc4etF8NOboWbemqRuGIkx0QgIm8B84wx+/IhHqVUPlmxM5wpy/YSm5gMwJlL8QA82btB+iSQnAibZ8HG/1rDQod+CC1HaJG4YsSe4aN/ArNFZJuITBARL2cHpZRyvjfXHkxNAmktCQ5LvyI2Cn6fBY36wcTtWim0GMoxERhjPjHGdALGAP7AHhH5QkT0XXGlirCIqNis1yfGwfY51jOBclXg4c0wfCGUt+ONYlXk2PVCmYi4AY1tP+eA3cCTIrLYibEppZyoSvnSma7vV+EYfNTJejfg2C/WSq9clJlWRY49zwhmAIOAn4HXjTHbbZv+KyIHnRmcUso5/oq8QmxCUrp1ZYllaqmvGJWwFpJrw+jlWiTORdgzaigUeM4YczWTbUEOjkcp5WRHzl5hxJytlHZ345Hu9fl86wkiomJZUGYmbVNCof3D0OM5KF2uoENV+cSeRDDKGDM37QoRWW+M6WmMiXZSXEopJzh85jIj5mwD4MsHO9CgfCIPd/SDUmXghI/1ELiWfr9zNVk+IxARDxHxBnxEpJKIeNt+/AE7piRSShUmh85cZsScrYjA4vHtaXBuPbwf9E+RuNrtNQm4qOzuCB4CHsf60P8jzfpLwPvODEop5VgHT19m5JytuJUQvhpVF/+fJ8Cfq6B6K2gxvKDDUwUsy0RgjHkHeEdEHjXGvJuPMSmlHOjP05cYOWcb7m7Cit5XqL64uzWHcK+X4OZJ4KYFBlxdlv8CRKSHMeZnIFxEbs+43RizzKmRKaXybH/EJUZ9spXSJd34cnwHqpsw8GsDA94Cn/oFHZ4qJLL7KtAVa8jooEy2GUATgVKF2L6IaEbP2cyYEj/ywE1XKe/TE2gEY1YUdGiqkMmua+gF25/35V84SilHCA2P5vk537BAPqZ58kFI6qNF4lSWsusaejK7A40xMxwfjlIqr0L/jmTjvOdYwje4lS4PA+ZA8zu1PpDKUnYlJsrn8JMjEeknIgdF5IiIPJvFPt1EZJeI7BORX3IXvlIqrd0no5g0bwOjWUVSg4G4TQq2RgVpElDZyK5r6KW8NGyrT/Q+0BsIA4JFZKUxZn+afSoCHwD9jDEnRCSbmbGVUllKjCXs548ZvaURFTx9iBn5G3616hV0VKqIyK5r6GljzBsi8i7Ww+F0jDGP5dB2EHDEGHPU1t5iYAiwP80+I4FlxpgTtjbP5jJ+pdTx34lbNpGal47Ro/RLTH7oIfwqehZ0VKoIyW7U0AHbnyE32HYN4GSa5TCgfYZ9GgLuIrIRq7vpHWPMwowNich4YDxA7dq1bzAcpYqZuEuw7kUI+ZRI48vbHi/x9MOaBFTuZdc19J3tzwUAIlLBWjSX7Ww7s07JjHcWJYG2QE/AE9giIluNMYcyxDIbmA0QGBh43d2JUi5p8UjM8U0sNAP5suxo5j3UjepemgRU7tlThjoQmIf1jV1EJAoYZ4zZkcOhYUCtNMs1gYhM9jlnjIkBYkTkV6AlcAil1PVizlvTRZYqw/6mj/PK0T6crtCCLx/sQDUvHRqqbow9E9PMBR4xxvgbY+oAE7ESQ06CgQYiUldESgF3Aysz7PMt0EVESopIGayuowMopdIzBvZ+A++3g42vs/3YBYatSuJMhRYsHq9JQOWNPUVGLhtjfru2YIzZJCI5dg8ZY5JEZBKwFnAD5hpj9onIBNv2j4wxB0TkB2APkAJ8YowJvaErUaq4uhQB3/8bDq4GvzbsrtyfsfO2U93Lgy8f7IBvBU0CKm/EmMy73EWkje2vo4EywJdYffx3AReNMf+XLxFmEBgYaEJCbvT5tVJFzMEfYNmDkJwIPf6PzVWGc//CndSo5MkXD7bHt7wmAWUfEdlhjAnMbFt2dwRvZ1h+Ic3f9YGtUvnBu541R0D/N9h80YtxC4KpVakMXzzYIcs5h5XKrexGDelkpUrlt5Rk2PYRnA6F2z6EKg3hnqVsOnyO+xcE41+5LIsebI9POU0CynHsKkQuIgOBACD1PtQY87KzglLKJZ09AN9OgvAQaNA3tUjcr4cieXBhCHV9yrLogfZU1iSgHMye4aMfYT0j6A58AgwDtjs5LqVcR1ICbPof/PomeFSAOz6FZneACL/YkkA9n7J88WAHvMuWKuhoVTFkz/DRjsaYMVgPiF8Cbib9+wFKqbyIi7a6gwKGwsTt0HwYiLDh4FkeXBhC/Srl+FKTgHIie7qGYm1/XhURP+A8UNd5ISnlAhKuwh8LIGg8lKsCj2yB8tVSN2/48ywPfbaDBlXLseiB9lQso0lAOY89iWCVrUrom1iT2BtgjlOjUqo4O/YrrHwULh4H3yZQr1u6JLD+wBke/vwPGlUrz2f3B2kSUE6XYyIwxrxi++tSEVkFeBhjop0bllLFUFw0/PQf2DEfKtWFe1dB3S4ArNgZzptrDxIeZd2A16rkyef3t8erjHsBBqxchT0Piz2AR4DOWHcDm0TkQ2NMnLODU6pYWTwK/v4dOj4G3aZAqTKAlQSmLNtLbGJy6q6RV+LZcPAsQ1vXKKholQuxp2toIXAZeNe2PAL4DLjTWUEpVWzEnAP3MtaHfs8XoEQJqNE23S5vrj2YLgkAxCWm8Obag5oIVL6wJxE0Msa0TLO8QUR2OysgpYqFa0Xi1jwNrUdBn1ehVrtMdjOp3UEZRWSxXilHs2f46E4R6XBtQUTaA787LySlirjocPjyblj2gFUiotWoTHdLTE7h6W/2ZNmMTjCj8kt2U1XuxXom4A6MEZETtk21ST/dpFLqmj9Xw7LxYJKh7zRo/xCUcLtut8txiTyy6A9+O3yOvk2r8uvhSGITU1K3e7q7Mblvo/yMXLmw7LqGbs23KJQqLirXh9odYMCb4J356zanomO5b14wR85e4Y1hLRgeWCt11FBEVCx+FT2Z3LeRPh9Q+SbLMtTpdhJpCXSxLf5mjCmwZwRahloVKslJsPUDOLMPbv84x933R1xi3PxgrsQn8eE9bejSoEo+BKlU9mWoc3xGICL/AhYBvrafz0XkUceGqFQRdDoUPu0FPz0P8ZetInHZ+PVQJMM/3gLA1xNu1iSgCg17Rg3dD7S3zSuMiPwX2MI/w0mVci1J8fDb29aPZyW4cz40HQoiWR7yVfBJpi7fS33fcsy7r51OMq8KFXsSgQBpBzkn29Yp5ZriL0PwJ9BsGPSbBmW8s9zVGMP/fjrErJ+P0KWBDx+MakN5D31bWBUu9iSCucA2EVluWx4KfOq8kJQqhBJirNIQ7SdAWR94ZCuU883+kKQUnl26h2U7wxkeWJPXbmuOu5s9I7aVyl/ZJgIRKQFsA37BKjEhwH3GmJ35EJtShcPRjbDyMYj6G6o2g3pdc0wC0bGJPPz5Djb/dZ4nezfk0R71kWy6jpQqSNkmAmNMioi8bYy5GavyqFKuIzYKfnwOdn4G3jfB2NXg3ynHw8KjYrlv3naORsbw9p0tuaNtzXwIVqkbZ0/X0I8icgewzNgz1lSp4mLJPfD3Zuj0OHR7FtxzfsAbGh7NuPnBxCYms3BcEB3r++RDoErljT2J4EmgLJAkInFY3UPGGFPBqZEpVRCunIVSZa2fXi9abwX7tbbr0A0HzzJp0R94ebqz9OGONKxa3qmhKuUoOT65MsaUN8aUMMaUMsZUsC1rElDFizGwezG8HwQbXrfW1Qy0Owl8se0EDywIwd+nLMsndtIkoIqU7GoNNQDeAm4C9gCTjTHh+RWYUvkm6iSsegKO/AQ1g6DNGLsPNcbw1o8HeX/DX3RtWIX3R7WhXGl7brSVKjyy+xc7F2sugl+BwVgvkN2eH0EplW/+/N5WJM5A/zeg3QOZFonLTHxSMk9/s4dvd0UwIqgWrwxpRkkdHqqKoOwSQXljzLW5id8UER01pIoPY6w3gX0agn9nKwlUqmP34dFXExn/WQjbjl1gct9GPNLtJh0eqoqs7BKBh4i05p+3iD3TLhtjNDGooic5Cba8C2f2wx1zwKcBjFySqyZOXrjKffODOXH+Ku/c3YohrbRKqCrasksEp4AZaZZPp1k2QA9nBaWUU5zeC99OhFO7ofGtVpE4d49cNbEnLIpx80NISEpm4f1BdKhX2UnBKpV/skwExpju+RmIUk6TGAe/vgm/zwRPbxi+EJoOyXUz6w+cYdIXO/EuW4rF49tT31dHBqniQYc3qOIv4QrsmAfNh0Pf17ItEpeVz7b+zQvfhhLg58WnYwPxLZ+7OwmlCjOnDnEQkX4iclBEjojIs9ns105EkkVkmDPjUS4k/gr8PgtSkq0icRO3w20f5joJpKQYpq05wPMrQuneyJfF4ztoElDFjtPuCETEDXgf6A2EAcEistIYsz+T/f4LrHVWLMrFHFkP3z0O0SfBrxXUvcVKBrkUl5jMU1/vZtWeU9zToTYvDgrQ4aGqWMoxEYg1Jm4UUM8Y87KI1AaqGWO253BoEHDEGHPU1rqDJTkAACAASURBVM5iYAjXT3z/KLAUaJfb4JVK5+oFq0jcrkVQuQGM+8GaP9hOaecNrublgYd7CY6du8qU/o0Zf0s9HR6qii177gg+AFKwRgm9DFzGvg/uGsDJNMthQPu0O4hIDeA2W9tZtici44HxALVr17YjZOWSltwDJ7ZCl3/DLU/nakTQip3hTFm2l9hEaw6mU9HWtJNjbq7DQ11vckq4ShUW9tzntjfGTATiAIwxF4FSdhyX2denjNVLZwLPGGOSM9n3n4OMmW2MCTTGBFapovO8qjQun7EmjQHo/QqM3wg9/5PrYaFvrj2YmgTSWn/gbN5jVKqQs+eOINHWj28ARKQK1h1CTsKAWmmWawIRGfYJBBbbbrl9gAEikmSMWWFH+8qVGQO7voC1U6H1PdZooJptb7i5iKjYXK1XqjixJxHMApYDviLyGjAMeM6O44KBBiJSFwgH7gZGpt3BGFP32t9FZD6wSpOAytHFv2HV4/DXz1D7Zmg7Ns9Nenm6ExWbeN16v4o6ybwq/nJMBMaYRSKyA+iJ1d0z1BhzwI7jkkRkEtZoIDdgrjFmn4hMsG3/KG+hK5d04DtY9pBVJ2jAWxB4P5S48ZE8xhhmrT9CVGwiJQRS0nReerq7MblvIwcErVThZs+oodrAVeC7tOuMMSdyOtYYsxpYnWFdpgnAGDM2p/aUC7tWJK5KE6jXDfpPh4p5GziQlJzC89+G8uX2k9zRpiYdb/Jmxk+HiYiKxa+iJ5P7NmJoa60jpIo/e7qGvsd6PiCAB1AXOAgEODEupSzJifD7O3D2AAz7FHzqw4gv8txsbEIyj375B+sOnGVi95t4qk8jRIQ72tbK+WClihl7uoaap10WkTbAQ06LSKlrInbByklWsbiA2yApHkqWznOzF2ISuH9BMLtORvHykADG3Oyf91iVKsJy/WaxMeYPEdGXv5TzJMbCL/+1SkSU9YG7FkGTWx3S9MkLV7l37nbComL5cFRb+jWr5pB2lSrK7HlG8GSaxRJAGyDSaREplXAV/vgMWo2APq+CZyWHNBsaHs1984OJT0xm0QPtaeef++JzShVH9twRpK21m4T1zGCpc8JRLiv+MgR/Ch0fhbKVrSJxZR1X63/T4XNM+HwHFTxK8sXDHWmgk8srlSrbRGB7kaycMWZyPsWjXNHhddZ7AdFhUKMt1O3i0CSwYmc4T329m/q+5Zh/XxDVvLR6qFJpZZkIRKSk7V2ANvkZkHIhVy9Ybwbv/hJ8GsH9P0KtIIc1b4xh9q9HmbbmTzrU82b2mEAqeLg7rH2liovs7gi2Yz0P2CUiK4GvgZhrG40xy5wcmyrultwDJ7dZBeJuecohI4KuSUkxvPL9fub9fpyBLaozY3hLSpd0c1j7ShUn9jwj8AbOY1UIvfY+gQE0Eajcu3waSpWD0uWgzyvgVgqqNc/5uFyIS0zm31/t5vu9pxjXqS7PDWxCiRJaQlqprGSXCHxtI4ZC+ScBXJOxiqhS2TMGdn4Oa//PKhLX73XreYCDRccmMn5hCNuOXeD/BjThwVvqOfwcShU32SUCN6Ac9pWTViprF45ZD4OPboQ6nSBwnFNOcyo6lrFzgzl67grv3N2KIa20PIRS9sguEZwyxrycb5Go4mn/Slj+EIgbDJwBbe/LU5G4rBw6c5l7527nclwS8+8LolP93E9NqZSryi4RaKequnHXisRVDYD6PaHfdPCq6ZRTbT92gQcWBFPa3Y0lD3UgwM/LKedRqrjKLhH0zLcoVPGRlGAViYs8AHd8CpVvgrs+d9rp1uw9xb+W7KJmJU8W3BdELe8yTjuXUsVVlvfoxpgL+RmIKgbC/4A53WHDq9ZycoJTT7dg83Ee+eIPmvlVYOmEjpoElLpBuS46p9R1EmNhw+uw5T0oVxXu/hIaD3Da6YwxvLH2IB9u/IteTary7ojWeJbSdwSUulGaCFTeJVy15g9uPRp6vwyeFZ12qsTkFJ75Zg/LdoYzsn1tXh4cQEk3xz98VsqVaCJQNybuEgR/Ap3+ZdUFmhQMZZxbzfNKfBIPf76D3w6f49+9GzKpR31EdEyDUnmliUDl3qG1sOoJuHwKarazisQ5OQmcvRzHuPnBHDh1mTfuaMHwdjqTmFKOoolA2S/mHPzwLOz92po7ePhCqBno9NMeOxfDmLnbOHc5gU/GBNK9sa/Tz6mUK9FEoOy3ZDSEBUO3KdD5SShZyumn3HUyinHzgwH4cnwHWtVy3vMHpVyVJgKVvUsRULqCVSSu3+vgVhqqNnXa6VbsDOfNtQeJiIrFu2wpLsUmUr2iJwvHBeHvU9Zp51XKlelwC5U5Y2DHfHi/vTU0FMCvtdOTwJRlewmPisUA52MSSDKGB7rU1SSglBNpIlDXu3AUFgyC7/4F1VtC0AP5cto31x4kNjE53Tpj4ONfjubL+ZVyVdo1pNLbtwKWTwA3dxj0DrS516oZlA/Co2IzXR+RxXqllGNoIlCWa0XiqjWHhn2g7zTwyp8yzueuxPPqqv1Zbver6JkvcSjlqjQRuLqkBNg0AyL/hGHzrCJxwxfmy6mNMXy9I4zXVx8gJj6Jvk2r8svhSOISU1L38XR3Y3LfRvkSj1KuShOBKwvbASsnwdn90PxOq0icA+cNzs7RyCtMXb6XrUcv0M6/EtNub0593/LpRg35VfRkct9GDG2tE8wo5UyaCFxRwlXY8Bps/QDKVYMRS6BRv/w5dVIKH//yF+9uOELpkiWYdntz7gqslTqn8NDWNfSDX6l8ponAFSXFwZ6voO1Y6PUSeFTIl9OGHL/AlGV7OXz2Cre2qM5/BjXFt7xHvpxbKZU1pyYCEekHvIM1//EnxpjpGbaPAp6xLV4BHjbG7HZmTC4rLhq2z4ZOT1h1gSZtB89K+XLq6NhE3vjhTxZtO0GNip7MHRtIj8ZV8+XcSqmcOS0RiIgb8D7QGwgDgkVkpTEm7fCQY0BXY8xFEekPzAbaOysml3VwjVUk7soZqNXBKhKXD0nAGMMPoad5YeU+zl2J5/7OdXmyd0PKltYbUaUKE2f+HxkEHDHGHAUQkcXAECA1ERhjNqfZfyvgnEltXVXMOVjzNIQuBd8AuPsLqNEmX04dERXLf74NZd2BswT4VeDTe9vRvKbOJaxUYeTMRFADOJlmOYzsv+3fD6zJbIOIjAfGA9SuXdtR8RV/14rEdf8/6PR4vhSJS04xLNh8nLd/PEiKgf8b0IT7Ovnr5DFKFWLOTASZvY5qMt1RpDtWIuic2XZjzGysbiMCAwMzbUPZRIeDh5etSNw0aziob5N8OfW+iGimLtvL7rBoujaswqtDm+k8wkoVAc5MBGFA2tlDagIRGXcSkRbAJ0B/Y8x5J8ZTvKWkwB/z4cf/QJvRVhLwa5Uvp45NSGbmukN8sukYlcq4M2tEawa1qK6zhylVRDgzEQQDDUSkLhAO3A2MTLuDiNQGlgGjjTGHnBhL8Xb+L1j5GPy9Cep2haDx+XbqXw5F8tyKvZy8EMtdgbWYMqAxFcs4vwtKKeU4TksExpgkEZkErMUaPjrXGLNPRCbYtn8E/AeoDHxg+/aYZIxx/pRXxcm+5bYicaVh8HvQ+p58KRJ3rT7Qil0R1KtSlsXjO9ChXmWnn1cp5XhOHcdnjFkNrM6w7qM0f38AyJ8ax8VNapG4FtBoAPR9HSpUz4fTpq8P9FjPBjzS7SY83N2cfm6llHPogO6iJikefn0Lzh2EOxdYReLunJcvp85YH+j125rToGr5fDm3Usp5NBEUJSeDrSJxkX9Ci7udWiQubfG36l4etKpVkXV/nqV0yRK8fltz7m73T30gpVTRpomgKEiIgZ9fha0fQoUaMOobaNDbaae7NmXktdnCIqLjiIg+TataXsweHYhvBa0PpFRxoomgKEiKt94ObvcA9HoBSju3OyazKSMBIi8naBJQqhjSRFBYxUZZReI6P2kViZu4HTwrOv20Jy9c1SkjlXIxmggKowOr4Pt/Q0wk1OkE/p2cngSOnL3MBxv/4ttd173zl0qnjFSqeNJEUJhcOQurJ8P+FVC1OYxcDH6tnXrK0PBo3t9whB/2ncajpBtjO/pTy9uT/65J3z2kU0YWTomJiYSFhREXF1fQoahCwsPDg5o1a+Lu7m73MZoICpOvxkD4DujxnFUkzs3+/5C5FXL8Au9tOMLGg5GUL12Sid3qc18nfyqXs0YhVfQspVNGFgFhYWGUL18ef39/LemhMMZw/vx5wsLCqFu3rt3HaSIoaFEnrW6f0uWh/3+tN4R9GzvlVMYYfjt8jvc2HGH7sQt4ly3F5L6NGH1zHSp4pE86OmVk0RAXF6dJQKUSESpXrkxkZGSujtNEUFBSUiDkU1j3IrQZYxWJq97SSacy/HTgDO9vOMKesGiqVfDgP7c2ZURQbTxL6RvBRZ0mAZXWjfx70ERQEM4dhpWPwoktUK87tJ/glNMkJaewas8pPth4hENnrlDbuwzTbm/O7W1qULqkJgCllEVnC8lvocvgw05wdj8M+QBGL4dKdRx6ivikZL7cfoKeM37h8SW7AHjn7lb8/O+ujAiqrUnAha3YGU6n6T9T99nv6TT9Z1bsDM9zm6dPn+buu+/mpptuomnTpgwYMIBDh7IvJlyuXDkAIiIiGDZsGADz589n0qRJeYpl5syZXL16NXV5wIABREVF5anNaxYuXEizZs0ICAigadOmvPXWWw5ptzDQO4L8cq1InF8raDLIKhJX3rETuMcmWAlg9q9HOX0pjhY1vfh4dFt6N6mq5SDUdW+Mh0fFMmXZXoAbfh5kjOG2227j3nvvZfHixQDs2rWLM2fO0LBhwxyP9/Pz45tvvsnV+YwxlCiR+XfYmTNncs8991CmjDUh0urVqzPdL7fWrFnDzJkz+fHHH/Hz8yMuLo7PPvvM7uOTkpIoWbLwftwW3siKi8Q4+PUNOHcIhn8G3vVg2KcOPcWluEQ+2/I3n246xoWYBILqevPGsBZ0aeCj/ccu5KXv9rE/4lKW23eeiCIhOSXdutjEZJ7+Zg9fbj+R6TFN/SrwwqCALNvcsGED7u7uTJjwT/dmq1bWhEhXrlxhyJAhXLx4kcTERF599VWGDBmS7vjjx49z6623EhoaCsDJkyfp168fx44dY+TIkbzwwgscP36c/v370717d7Zs2cKKFSuYPn06wcHBxMbGMmzYMF566SVmzZpFREQE3bt3x8fHhw0bNuDv709ISAg+Pj7MmDGDuXPnAvDAAw/w+OOPp7bduXNnNm/eTI0aNfj222/x9Ez/zsy0adN466238PPzA6whmg8++CAA3bp146233iIwMJBz584RGBjI8ePHmT9/Pt9//z1xcXHExMRQpUoV7r33XgYMGADA2LFjGTRoEEOHDuXZZ59l48aNxMfHM3HiRB566KEsf+fOoInAmU5ss4rEnTsELUc6vEjchZgE5m46xoItx7kcl0S3RlWY2L0+7fy9HXYOVXxkTAI5rbdHaGgobdu2zXSbh4cHy5cvp0KFCpw7d44OHTowePDgbL+cbN++ndDQUMqUKUO7du0YOHAgPj4+HDx4kHnz5vHBBx8A8Nprr+Ht7U1ycjI9e/Zkz549PPbYY8yYMYMNGzbg4+OTrt0dO3Ywb948tm3bhjGG9u3b07VrVypVqsThw4f58ssvmTNnDsOHD2fp0qXcc889dl9ndrZs2cKePXvw9vZm+fLlLFmyhAEDBpCQkMD69ev58MMP+fTTT/Hy8iI4OJj4+Hg6depEnz59cjX8M680EThD/BVY/7JVIsKrJtyzFOr3cljzp6PjmPPbUb7YdoK4pGT6BVRjYvf6NKvh5bBzqKInu2/uAJ2m/5xp+ZAaFT1Z8tDNDo/HGMPUqVP59ddfKVGiBOHh4Zw5c4Zq1apleUzv3r2pXNma4Oj2229n06ZNDB06lDp16tChQ4fU/b766itmz55NUlISp06dYv/+/bRo0SLLdjdt2sRtt91G2bJlU9v+7bffGDx4MHXr1k29i2nbti3Hjx93wNX/cz3e3tYXs/79+/PYY48RHx/PDz/8wC233IKnpyc//vgje/bsSe0ii46O5vDhw5oIirzkBNj/LQQ9CD3/c8NF4tKWgvar6Mm4Tv4ciYxh6Y4wko1hSCs/Hul2E/V9dU4AlbPJfRule0YAeX9jPCAgIMs+/kWLFhEZGcmOHTtwd3fH398/xzegM94tXFu+9gEOcOzYMd566y2Cg4OpVKkSY8eOzbFdY0yW20qX/ucu3c3NjdjY65NlQEAAO3bsoEePHtdtK1myJCkp1l1VxjjSxu3h4UG3bt1Yu3YtS5YsYcSIEamxvfvuu/Tt2zfba3AmHTXkKFcvwIZpkJxkFYmbtB0GvJmnJDBl2V7Co2IxWA/2Xvn+AF8Fn+DOwJpsfKobM4a30iSg7Da0dQ2m3d6cGhU9Eaw7gWm3N8/Ti4M9evQgPj6eOXPmpK4LDg7ml19+ITo6Gl9fX9zd3dmwYQN///13ju399NNPXLhwgdjYWFasWEGnTp2u2+fSpUuULVsWLy8vzpw5w5o1a1K3lS9fnsuXL193zC233MKKFSu4evUqMTExLF++nC5duth9nVOmTOHpp5/m9OnTAMTHxzNr1iwA/P392bFjB0COD77vvvtu5s2bx2+//Zb6wd+3b18+/PBDEhMTATh06BAxMTF2x+YIekfgCPu/he+fgqvnoe4tVpE4j7x107zxw5+ZloKuUt6D125rnqe2lety9BvjIsLy5ct5/PHHmT59Oh4eHvj7+zNz5kwCAgIYNGgQgYGBtGrVisaNc35jvnPnzowePZojR44wcuTI1AevabVs2ZLWrVsTEBBAvXr10iWL8ePH079/f6pXr86GDRtS17dp04axY8cSFBQEWA+LW7dubXc30IABAzhz5gy9evXCGIOIMG7cOACeeuophg8fzmeffZbpHUNaffr0YcyYMQwePJhSpUqlxnL8+HHatGmDMYYqVaqwYsUKu+JyFMnulqkwCgwMNCEhIQUdhuXyaVj9FBz4zpo7eMj7UD3rfsqcJCWnsOXoeVbuiuDrHWGZ7iPAsekDb/gcqng5cOAATZo0KegwVCGT2b8LEdlhjAnMbH+9I8iLr8dC+B/Q60W4+VFwy/2vMyXF8MeJi6zcHcHqvac4dyWB8qVL4unulukdgZaCVko5miaC3Io6AZ6VbEXi3gB3T/BpkKsmjDHsP3WJlbsjWLX7FOFRsZQuWYKeTXwZ3NKPbo18+SH0tMMf7CmlVGY0EdgrJQWC58C6l6wicf2n57ob6GjkFVbujuC73RH8FRlDyRJClwY+PNW3Ib2bVqNc6X/+c1zrx9VS0EopZ9NEYI/IQ1aRuJNbrfcBbn7E7kMjomJZtSeClbsjCA2/hAi0r+vNuM516d+sOt5lS2V5rJaCVkrlB00EOdn7Dax4GEqVhds+hhZ3WTWDsnH+Sjyr955i5e4Igo9fBKBlTS+eG9iEW1v4Uc1LJ4BXShUemgiykpICJUpAjTbQdCj0fQ3K+Wa5+6W4RNaGnmbl7gg2/3We5BRDw6rleKpPQ25t4Ye/T9ksj1VKqYKkL5RllBgLP70AX422KoZ614M75mSaBGITklm1J4KHPgsh8NV1TP5mD8fPx/DQLfX44fEu/PhEVyb1aKBJQBVrbm5utGrVimbNmnHnnXemKwNtj8mTJxMQEMDkyZNzfe7XX3893fK18tb2OnToEAMGDKB+/fo0adKE4cOHc+bMmSz3P378OM2aNQMgJCSExx57DIAXX3wxz2WpM16LPRxRuhv0jiC9vzdbzwLOH4HWoyE5EUqm78NPSEph05FIVu6K4Kf9Z4hJSKZK+dKMal+bwS39aFWrolb8VC7F09OTXbuseS9GjRrFRx99xJNPPpnjcddKM3/88cdERkamK/Vgr9dff52pU6fm+jiwykEMHDiQGTNmMGjQIMCqphoZGUnVqjmXiA8MDCQwMNNh+ZlKTk7GzS3ruUDyci15pYkAIP6yNWVk8CeES1WeSZjCsQNBTK4dydDWNUhOMWw7dp7vdkewJvQ0UVcT8fJ0Z1BLPwa39KN9vcq4ab1/VRjMy+Rlw4ChVt2rhKuw6M7rt7caCa1HQcx5+GpM+m33fZ+r03fp0oU9e/YQExPDo48+yt69e0lKSuLFF19kyJAh15VmLleuHDExMbRv354pU6bQo0cPJkyYwIkTVlnsmTNn0qlTJ65cucKjjz5KSEgIIsILL7yQWoa6VatWBAQEsGjRotQ4Ro8ezbBhw1LLXo8aNYq77rqLwYMHp+7zxRdfcPPNN6cmAYDu3bsD1jf/0aNHp5Z6eO+99+jYsWO6a924cSNvvfUWq1atAmD37t306NGDkydP8vTTT/Pggw+yceNGXnrpJapXr86uXbvYv38/Q4cO5eTJk8TFxfGvf/2L8ePH8+yzz153LZ9//jmzZs0iISGB9u3b88EHH+Dm5sa8efOYNm0a1atXp2HDhjeUQDPSRACQnEjs3pV8lTKA6QnDiMUDomJ5Zukelv8RxoHTlzl7OZ4ypdzo3bQqg1v60aVBFUqV1J41pa5JSkpizZo19OvXj9dee40ePXowd+5coqKiCAoKolcvqwJv2tLMYHXnXLujGDlyJE888QSdO3fmxIkT9O3blwMHDvDKK6/g5eXF3r3WRDoXL17kjjvu4L333ks9Nq0HHniA//3vfwwZMoTo6Gg2b97MggUL0u2TXWlpX19ffvrpJzw8PDh8+DAjRowgp4oGe/bsYevWrcTExNC6dWsGDrSS8rXS2teqic6dOxdvb29iY2Np164dd9xxB9OnT093LQcOHGDJkiX8/vvvuLu788gjj7Bo0SJ69+7NCy+8wI4dO/Dy8qJ79+60bt3arv8+2XHdRHD1Amz9ELo+A2W8GWxmcjgh/S7xSSn8cvgcfZpWZVBLP3o28aVMKdf9lakiILtv8KXKZL+9bOVc3wEAqd9kwbojuP/+++nYsSMrV65M7TePi4tL/ZaftjRzRuvWrWP//v2py5cuXeLy5cusW7cudQY0gEqVKmUbU9euXZk4cSJnz55l2bJl3HHHHbmaISwxMZFJkyaxa9cu3Nzccpx6E2DIkCF4enri6elJ9+7d2b59OxUrViQoKChdSelZs2axfPlywJqI5/Dhw6mlt69Zv349O3bsoF27doD1O/b19WXbtm1069aNKlWqAHDXXXfZFVtOnPqpJiL9gHcAN+ATY8z0DNvFtn0AcBUYa4z5w5kxYQzsXwGrJ0PsRbipO9TpyJHoLK4BmD3G/n5ApVxN2mcE1xhjWLp0KY0apX8Tftu2belKM2eUkpLCli1brpsh7Fqht9wYPXo0ixYtYvHixakzk6UVEBDAL7/8kumx//vf/6hatSq7d+8mJSUFD4+ch3zbU0J748aNrFu3ji1btlCmTBm6deuWaQltYwz33nsv06ZNS7d+xYoVTnkG6bS+DRFxA94H+gNNgREi0jTDbv2BBraf8cCHzooHgEunYMk9Vo2gCjVg/EaoY/X7ZVXDR2v7KJV7ffv25d13302dB2Dnzp12HdenTx/ee++91OVrCSbj+osXrfdz3N3dU8s3ZzR27FhmzpwJWB/6GY0cOZLNmzfz/ff/3AX98MMP7N27l+joaKpXr06JEiX47LPPSE6+vu5XRt9++y1xcXGcP3+ejRs3pn6bTys6OppKlSpRpkwZ/vzzT7Zu3Zq6Le219OzZk2+++YazZ88CcOHCBf7++2/at2/Pxo0bOX/+PImJiXz99dc5xmUPZ3ZyBwFHjDFHjTEJwGJgSIZ9hgALjWUrUFFEqjstoq/HwpF10PtleGA9VPunnPPkvo3wdE//RF9r+yh1Y55//nkSExNp0aIFzZo14/nnn7fruFmzZhESEkKLFi1o2rQpH330EQDPPfccFy9epFmzZrRs2TK1xPT48eNp0aIFo0aNuq6tqlWr0qRJE+67775Mz+Xp6cmqVat49913adCgAU2bNmX+/Pn4+vryyCOPsGDBAjp06MChQ4eyvYu5JigoiIEDB9KhQweef/751PmN0+rXrx9JSUm0aNGC559/Pt2sa2mvpWnTprz66qv06dOHFi1a0Lt3b06dOkX16tV58cUXufnmm+nVqxdt2rSx6/eaE6eVoRaRYUA/Y8wDtuXRQHtjzKQ0+6wCphtjNtmW1wPPGGNCMrQ1HuuOgdq1a7e1Z4KLTJ3eCyU9wad+ppszzgimtX1UYadlqLN29epVmjdvzh9//IGXl2tN41qYylBn1pGVMevYsw/GmNnAbLDmI7jhiKplP6GL1vZRqnhYt24d48aN48knn3S5JHAjnJkIwoBaaZZrAhE3sI9SSuVKr169UkcpqZw58xlBMNBAROqKSCngbmBlhn1WAmPE0gGINsaccmJMShU7RW2WQeVcN/LvwWl3BMaYJBGZBKzFGj461xizT0Qm2LZ/BKzGGjp6BGv4aOZPdZRSmfLw8OD8+fNUrlxZS5sojDGcP3/eruGuaemcxUoVYYmJiYSFhWU6Fl25Jg8PD2rWrIm7u3u69TpnsVLFlLu7e7q3VpW6EVosRymlXJwmAqWUcnGaCJRSysUVuYfFIhIJ3OCrxfgA5xwYTlGg1+wa9JpdQ16uuY4xpkpmG4pcIsgLEQnJ6ql5caXX7Br0ml2Ds65Zu4aUUsrFaSJQSikX52qJYHZBB1AA9Jpdg16za3DKNbvUMwKllFLXc7U7AqWUUhloIlBKKRdXLBOBiPQTkYMickREns1ku4jILNv2PSLimPneCpAd1zzKdq17RGSziLQsiDgdKadrTrNfOxFJts2aV6TZc80i0k1EdonIPhHJfHb2IsSOf9teIvKdiOy2XXORrmIsInNF5KyIhGax3fGfX8aYYvWDVfL6L6AeUArYDTTNsM8AYA3WDGkdgG0FHXc+XHNHoJLt7/1d4ZrT7PczcSYUKAAAB/dJREFUVsnzYQUddz78d64I7Adq25Z9CzrufLjmqfx/e+cebFVVx/HPNwlBIXCgLDEHItRePCQR8xFgUtkIWuMgTaLk5JTloE43m9GIYqZscMKMzCaG6GHgiJJMVihRAcorHoEOlChmmFP0GG1QaoBvf6x1x83xXu653HPO5Zzz+8zcOXuvvfZav98+567f2mvt/V3wjbz9RuBfQM/utr0LPl8InAU80c7xirdfjXhHMAbYZfsZ2/8DFgOTS/JMBn7kxDqgv6S31NrQCtKhz7Yft/3vvLuOtBpcPVPO9wxwA/AA8PdaGlclyvH548CDtp8DsF3vfpfjs4G+Sgsy9CEFggO1NbNy2F5F8qE9Kt5+NWIgGAT8pbC/J6d1Nk890Vl/riX1KOqZDn2WNAi4HLinhnZVk3K+59OBkyT9VtImSdNqZl11KMfnecA7SMvcbgdm2D5UG/O6hYq3X424HkFbyzSVPiNbTp56omx/JI0nBYLzq2pR9SnH5zuBW2wfbJDVu8rxuQcwGrgI6A2slbTO9p+qbVyVKMfnDwJbgQnAUOBRSattv1Rt47qJirdfjRgI9gBvLeyfSuopdDZPPVGWP5KGA/OBD9v+Z41sqxbl+PxeYHEOAgOBSyQdsP2z2phYccr9bf/D9j5gn6RVwAigXgNBOT5PB253GkDfJWk3cCawoTYm1pyKt1+NODS0ERgmaYiknsCVwLKSPMuAaXn2fSzwou0Xam1oBenQZ0mnAQ8CV9Vx77BIhz7bHmJ7sO3BwBLg+joOAlDeb/sh4AJJPSSdAJwD7KixnZWkHJ+fI90BIelk4AzgmZpaWVsq3n413B2B7QOSPgcsJz1xsMD2k5I+nY/fQ3qC5BJgF/AyqUdRt5Tp80xgAHB37iEfcB0rN5bpc0NRjs+2d0j6FbANOATMt93mY4j1QJnf82xgoaTtpGGTW2zXrTy1pEXAOGCgpD3Al4HXQ/Xar5CYCIIgaHIacWgoCIIg6AQRCIIgCJqcCARBEARNTgSCIAiCJicCQRAEQZMTgSCoCJIs6ceF/R6S9kr6eZXrXShpd1bb3Czp3C6UNa7VXkmTOlA07S/p+qOoY5akz7eT/nz24wlJkzpZ7rOSBlbAjlMkLcnbbV4PSZdJemdn7AuObSIQBJViH/BuSb3z/sXA8zWqu8X2SOCLwPdKD0o6rrMF2l5m+/YjZOkPdDoQdMDc7McVwAJJh/1/Sqr6ez+2/2r7NXLdJdfjMiACQQMRgSCoJL8EPpK3pwKLWg9IOjHrrG+UtEXS5Jw+WNLq3JvfLOl9OX1cFk5bImmnpHvVsWDQKuDt+fxnJc2UtAa4QtJESWtzHfdL6pPzfSiXvwb4aMHeayTNy9snS1qqpHf/h2zj7cDQ3IOfk/O1ZP+2SfpKoaxblfT0V5Deej0itneQ1DMH5mvwNaV1BWZIuihfv+35eh5fOLVF0ob813odLpW0Pp+zIr9528oISSslPSXpU4Xv4zUvoLVej+z7JGBO9n2opM2FfMMkberIx+DYIgJBUEkWA1dK6gUMB9YXjt0KrLR9NjCe1JCcSJKHvtj2WcAU4K7COaOAG0m9z7cB53VQ/6Uk9clW9ts+H1gB3AZ8INfze+DmbOf383kXAG9up9y7gN/ZHkHSiX+SdPfxtO2RtlskTQSGkWSTRwKjJV0oaTRJFmEUKdCc3YEPSDqH9Fbw3pzU3/b7ge8AC4Eptt9DUgb4TOHUl2yPIalx3pnT1gBjbY8ifT9fKOQfTgrc5wIzJZ3SkW22HydJHLRk358GXpQ0MmeZnm0M6oiGk5gIug/b2yQNJt0N/KLk8ERgUmFcuhdwGkksa15uSA6SZJRb2WB7D4CkrcBgUsNWyhxJt5EazmsL6fflz7GkYPJYvqnoCawlCZPttv1UruMnwHVtlD8BmJZ9PEhq+E5qw7+JwJa834cUGPoCS22/nOso1ckpcpOkTwD/ITX2zva2+nFGtrdVK+qHwGd5tdFfVPicm7dPBe5T0qvvCewu1PeQ7VeAVyT9hhTEth7BvvaYD0yXdDMpmI85ijKCbiQCQVBplgF3kLRSBhTSBXzM9h+LmSXNAv5GUsh8HbC/cPi/he2DtP97bbG9pI30fYW6H7U9taTukVROflzA120fNkch6cZO1DHX9h1tpBf9OBJuY/vbwDdtL5M0DpjVTv629svlAZIezkpgUwMo2zYdMTQUVJoFwFdtby9JXw7c0DrOL2lUTu8HvJAXErmKJCxWadYB5xXGzU+QdDqwExgiaWjON7Wd839NHoKRdJykN5B67X0LeZYDnyzMPQyS9CbSvMXlknpL6ksahjpadgKDW/0gXa/imsRTCp9r83Y/Xp20v7qkvMmSekkaQArcG8u04zDfbe8n+f9d4AdllhEcQ0QgCCqK7T22v9XGodkkBcVteTJydk6/G7ha0jrSsNC+Ns7tqk17gWuARZK2kQLDmbkBuw54OE8W/7mdImYA45XULTcB78q93seUHvWcY/sR4KekhWC2k2Sv+9reTBra2UrqOa/ugh/7SWPw9+c6DnH46mvHS1qf7b0pp83K+VcDpYqcG4CHSddjtu1yNe0XkyamtxSC6L2kO4pHOudVcCwQ6qNBEHSZPPfTz/aXutuWoPPEHEEQBF1C0lLSEpETutuW4OiIO4IgCIImJ+YIgiAImpwIBEEQBE1OBIIgCIImJwJBEARBkxOBIAiCoMn5P/kYNDJacnsJAAAAAElFTkSuQmCC\n",
                           "text/plain": [
                              "<Figure size 432x288 with 1 Axes>"
                           ]
                        },
                        "metadata": {
                           "needs_background": "light"
                        },
                        "output_type": "display_data"
                     }
                  ],
>>>>>>> b3cfbeec49ed49cfcda18a95c6cdbbb199d9e964
   "source": [
                     "# For best Randon Forest Model\n",
                     "\n",
                     "# Make predictions on the validation set\n",
                     "y_pred_prob = best_model_RF.predict_proba(val_x)[:, 1]\n",
                     "\n",
                     "# Calculate true probabilities and mean predicted probabilities\n",
                     "true_prob, pred_prob = calibration_curve(val_y, y_pred_prob, n_bins=10)\n",
                     "\n",
                     "# Plot calibration curve\n",
                     "plt.plot(pred_prob, true_prob, marker='o', linestyle='-', label='Calibration Curve')\n",
                     "\n",
                     "# Plot perfect calibration line\n",
                     "plt.plot([0, 1], [0, 1], linestyle='--', label='Perfectly Calibrated')\n",
                     "\n",
                     "# Set plot labels and title\n",
                     "plt.xlabel('Mean Predicted Probability')\n",
                     "plt.ylabel('True Probability')\n",
                     "plt.title('Calibration Curve')\n",
                     "plt.legend(loc='lower right')\n",
                     "\n",
                     "# Show the plot\n",
                     "plt.show()\n"
                  ]
               },
               {
                  "cell_type": "markdown",
                  "metadata": {},
                  "source": [
                     "In the calibration plot, the closer the points are to the diagonal reference line (perfect calibration), the better the model's calibration. If the points consistently deviate from the diagonal line, it indicates a lack of calibration."
                  ]
               },
               {
                  "cell_type": "markdown",
                  "metadata": {},
                  "source": [
                     "### Validate predictive power"
                  ]
               },
               {
                  "cell_type": "code",
                  "execution_count": null,
                  "metadata": {},
                  "outputs": [],
                  "source": [
                     "## XGboost Model\n",
                     "##k-fold cross-validation \n",
                     "    \n",
                     "# Perform cross-validation using 5 folds\n",
                     "num_folds = 5\n",
                     "scores = cross_val_score(best_model_XGBOOST, X_train_oversampled, y_train_oversampled, cv=num_folds, scoring='accuracy')\n",
                     "\n",
                     "# Print the cross-validation scores for each fold\n",
                     "for i, score in enumerate(scores):\n",
                     "    print(f\"Fold {i+1}: {score}\")\n",
                     "\n",
                     "# Calculate and print the mean and standard deviation of the cross-validation scores\n",
                     "mean_score = np.mean(scores)\n",
                     "std_score = np.std(scores)\n",
                     "print(f\"Mean Accuracy for XGBoost on oversampling data: {mean_score}\")\n",
                     "print(f\"Standard Deviation for XGBoost on oversampling data: {std_score}\")\n"
                  ]
               },
               {
                  "cell_type": "code",
                  "execution_count": null,
                  "metadata": {},
                  "outputs": [],
                  "source": [
                     "## Random Forest Model\n",
                     "##k-fold cross-validation \n",
                     "    \n",
                     "# Perform cross-validation using 5 folds\n",
                     "num_folds = 5\n",
                     "scores = cross_val_score(best_model_RF, X_train_oversampled, y_train_oversampled, cv=num_folds, scoring='accuracy')\n",
                     "\n",
                     "# Print the cross-validation scores for each fold\n",
                     "for i, score in enumerate(scores):\n",
                     "    print(f\"Fold {i+1}: {score}\")\n",
                     "\n",
                     "# Calculate and print the mean and standard deviation of the cross-validation scores\n",
                     "mean_score = np.mean(scores)\n",
                     "std_score = np.std(scores)\n",
                     "print(f\"Mean Accuracy for XGBoost on oversampling data: {mean_score}\")\n",
                     "print(f\"Standard Deviation for XGBoost on oversampling data: {std_score}\")"
                  ]
               },
               {
                  "cell_type": "markdown",
                  "metadata": {},
                  "source": [
                     "### Limitation to use XGBClassifier for a PD model:"
                  ]
               },
               {
                  "cell_type": "markdown",
                  "metadata": {},
                  "source": [
                     "While XGBoost (XGBClassifier) is a powerful machine learning algorithm and can be used for various tasks, including credit risk modeling and probability of default (PD) modeling, it does have certain limitations. Some of the limitations to consider when using XGBoost for a PD model are:\n",
                     "\n",
                     "**Interpretability**: XGBoost is an ensemble model that combines multiple decision trees, which can make it challenging to interpret the model's predictions and understand the underlying factors contributing to the PD. This can be a limitation when transparency and explainability are important in credit risk modeling.\n",
                     "\n",
                     "**Imbalanced Data**: XGBoost may face challenges when dealing with imbalanced datasets where the number of defaults is significantly lower than the number of non-defaults. In such cases, the model may prioritize accuracy on the majority class and struggle to capture the minority class adequately. Special techniques, such as class weighting or sampling strategies, may be required to address this limitation.\n",
                     "\n",
                     "**Feature Engineering**: XGBoost typically relies on manually engineered features to capture the underlying patterns in the data. This means that the effectiveness of the model may be limited by the quality and relevance of the features used. It is important to carefully select and engineer relevant features for the PD model to ensure optimal performance.\n",
                     "\n",
                     "**Computational Requirements**: XGBoost is a computationally intensive algorithm, particularly when dealing with large datasets or complex models. Training an XGBoost model can require substantial computational resources and time. Therefore, it is important to consider the available computing infrastructure and resources when using XGBoost for a PD model.\n",
                     "\n",
                     "**Hyperparameter Tuning**: XGBoost has several hyperparameters that need to be tuned to achieve optimal performance. Finding the right combination of hyperparameters can be time-consuming and requires careful experimentation. It is important to perform thorough hyperparameter tuning to achieve the best results with XGBoost.\n",
                     "\n",
                     "Despite these limitations, XGBoost remains a popular choice for PD modeling due to its ability to handle complex patterns and deliver high predictive accuracy. However, it is crucial to consider these limitations and explore alternative modeling approaches if they pose significant challenges for your specific PD modeling requirements."
                  ]
               },
               {
                  "cell_type": "markdown",
                  "metadata": {},
                  "source": [
                     "### Limitation to use Random Forest for a PD model:"
                  ]
               },
               {
                  "cell_type": "markdown",
                  "metadata": {},
                  "source": [
                     "While Random Forest is a widely used and effective machine learning algorithm, it also has certain limitations when it comes to using it for a PD (Probability of Default) model. Some limitations of using a Random Forest model for a PD model include:\n",
                     "\n",
                     "**interpretability**: Random Forest models can be considered black box models, as they do not provide clear insights into the underlying relationships between input features and the predicted probabilities. This lack of interpretability can make it challenging to explain the factors contributing to default predictions.\n",
                     "\n",
                     "**Overfitting potential**: Random Forest models have a tendency to overfit the training data, especially when the number of trees (n_estimators) and the maximum depth (max_depth) are not properly tuned. Overfitting can lead to poor generalization and inaccurate predictions on new, unseen data.\n",
                     "\n",
                     "**Sensitivity to input features**: Random Forest models may be sensitive to the selection and scaling of input features. If the input features are not appropriately chosen or preprocessed, it can result in biased or unreliable predictions.\n",
                     "\n",
                     "**Imbalanced class distribution**: If the data used to train the Random Forest model has an imbalanced class distribution (e.g., a significantly higher number of non-default cases compared to default cases), the model may exhibit a bias towards the majority class and struggle to accurately predict the minority class (defaults).\n",
                     "\n",
                     "**Computationally expensive**: Random Forest models can be computationally expensive, especially when dealing with large datasets or a large number of input features. Training and evaluating the model may require substantial computational resources and time.\n",
                     "\n",
                     "**Missing data**: Random Forest models can't handle missing data in the input features. This can be a significant problem in real-world applications where missing data is common.\n",
                     "\n",
                     "**Model deployment**: Random Forest models can be complex, especially if the number of trees and features is large. This can make it difficult to deploy the model in a production environment.\n",
                     "\n",
                     "It's important to carefully consider these limitations and assess whether a Random Forest model is suitable for your specific PD modeling needs. It may be beneficial to explore other modeling techniques or combine Random Forest with other algorithms to overcome these limitations and enhance the predictive performance of the PD model."
                  ]
               },
               {
                  "cell_type": "code",
                  "execution_count": null,
                  "metadata": {},
                  "outputs": [],
                  "source": []
               },
               {
                  "cell_type": "code",
                  "execution_count": null,
                  "metadata": {},
                  "outputs": [],
                  "source": []
               }
            ],
            "metadata": {
               "kernelspec": {
                  "display_name": "Python 3",
                  "language": "python",
                  "name": "python3"
               },
               "language_info": {
                  "codemirror_mode": {
                     "name": "ipython",
                     "version": 3
                  },
                  "file_extension": ".py",
                  "mimetype": "text/x-python",
                  "name": "python",
                  "nbconvert_exporter": "python",
                  "pygments_lexer": "ipython3",
                  "version": "3.8.3"
               }
            },
            "nbformat": 4,
            "nbformat_minor": 4
         }