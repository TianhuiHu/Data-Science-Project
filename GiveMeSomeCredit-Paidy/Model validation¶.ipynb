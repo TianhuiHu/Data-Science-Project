{
 "cells": [
  {
   "cell_type": "markdown",
   "metadata": {},
   "source": [
    "# Model validation"
   ]
  },
  {
   "cell_type": "markdown",
   "metadata": {},
   "source": [
    "Model validation is a critical step in the development and assessment of credit risk models. It involves evaluating the performance and reliability of the model to ensure its accuracy and predictive capability. The purpose of model validation is to assess how well the model performs on unseen data and to identify any potential weaknesses or limitations.\n",
    "\n",
    "We obtained best modeol parameter for xgboost from last step\n",
    "\n",
    "**Best model parameters**: {'xgb__colsample_bytree': 0.9, 'xgb__eta': 0.1, 'xgb__max_depth': 3, 'xgb__n_estimators': 100} \n",
    "\n",
    "**Best model score**: 0.8674056333776022\n",
    "\n",
    "And we will perform model validation in this step which includes:\n",
    "\n",
    "**Split the data**: Divide your dataset into a training set and a validation/test set. The training set will be used to train the model, and the validation/test set will be used to evaluate its performance.\n",
    "\n",
    "**Train the model**: Use the training set to train your credit risk model. This could involve various techniques such as logistic regression, random forest, or gradient boosting.\n",
    "\n",
    "**Evaluate model performance**: Apply the trained model to the validation/test set and assess its performance using appropriate evaluation metrics for credit risk models. Common evaluation metrics include accuracy, precision, recall, F1-score, area under the ROC curve (AUC-ROC), and Gini coefficient.\n",
    "\n",
    "**Assess model calibration**: Check if the predicted probabilities from your model are well-calibrated. Calibration ensures that the predicted probabilities reflect the true likelihood of default. You can use calibration plots, reliability curves, or Hosmer-Lemeshow tests to assess calibration.\n",
    "\n",
    "**Validate predictive power**: Assess the predictive power of your model by checking if it performs well on new, unseen data. This can be done by using cross-validation techniques such as k-fold cross-validation or hold-out validation on multiple validation/test sets.\n",
    "\n",
    "**Fine-tune and iterate**: If necessary, refine your model by adjusting hyperparameters, trying different algorithms, or including additional features. Repeat steps 2-6 to iteratively improve your model's performance.\n",
    "\n",
    "**Document and report**: Document the validation process, including the data used, model specifications, evaluation metrics, and results. Prepare a comprehensive report summarizing the model's performance and limitations.\n",
    "\n"
   ]
  },
  {
   "cell_type": "code",
   "execution_count": 1,
   "metadata": {},
   "outputs": [],
   "source": [
    "import numpy as np # linear algebra\n",
    "import pandas as pd # data processing, CSV file I/O (e.g. pd.read_csv)\n",
    "\n",
    "from sklearn.metrics import accuracy_score, precision_score, recall_score, f1_score, roc_auc_score, roc_curve\n",
    "from sklearn.model_selection import train_test_split\n",
    "from sklearn.model_selection import cross_val_score\n",
    "\n",
    "import matplotlib.pyplot as plt\n",
    "\n",
    "import xgboost as xgb\n",
    "from xgboost import XGBClassifier\n",
    "\n",
    "import joblib"
   ]
  },
  {
   "cell_type": "code",
   "execution_count": 2,
   "metadata": {},
   "outputs": [],
   "source": [
    "best_model_XGBOOST = joblib.load('models/best_model_XGBOOST.pkl')"
   ]
  },
  {
   "cell_type": "code",
   "execution_count": 34,
   "metadata": {},
   "outputs": [],
   "source": [
    "best_model_RF = joblib.load('models/best_model_RF.pkl')"
   ]
  },
  {
   "cell_type": "markdown",
   "metadata": {},
   "source": [
    "### Evaluate model performance:"
   ]
  },
  {
   "cell_type": "code",
   "execution_count": 11,
   "metadata": {},
   "outputs": [],
   "source": [
    "df_train_processed = pd.read_csv(\"processed_data_train.csv\")\n",
    "df_test_processed = pd.read_csv(\"processed_data_test.csv\")\n",
    "\n",
    "\n",
    "df_train_oversampled = pd.read_csv(\"data/oversampled_data.csv\")"
   ]
  },
  {
   "cell_type": "code",
   "execution_count": 4,
   "metadata": {},
   "outputs": [],
   "source": []
  },
  {
   "cell_type": "code",
   "execution_count": 14,
   "metadata": {},
   "outputs": [],
   "source": [
    "## try to create new cols on top of oversampled data\n",
    "# Create a new column 'TotalPastDue' by summing the values of the three columns\n",
    "df_train_oversampled['TotalPastDue'] = df_train_oversampled['NumberOfTime30-59DaysPastDueNotWorse'] + df_train_oversampled['NumberOfTimes90DaysLate'] + df_train_oversampled['NumberOfTime60-89DaysPastDueNotWorse']\n",
    "\n",
    "# Drop the individual columns if desired\n",
    "df_train_oversampled = df_train_oversampled.drop(['NumberOfTime30-59DaysPastDueNotWorse', 'NumberOfTimes90DaysLate', 'NumberOfTime60-89DaysPastDueNotWorse'], axis=1)"
   ]
  },
  {
   "cell_type": "code",
   "execution_count": 15,
   "metadata": {},
   "outputs": [],
   "source": [
    "y_train_oversampled = df_train_oversampled['SeriousDlqin2yrs'].astype('uint8')\n",
    "X_train_oversampled = df_train_oversampled.drop(['SeriousDlqin2yrs'], axis=1)"
   ]
  },
  {
   "cell_type": "code",
   "execution_count": 5,
   "metadata": {},
   "outputs": [],
   "source": [
    "def split_data(X_train, Y_train, test_size=0.3, random_state=2020):\n",
    "    \"\"\"\n",
    "    Split the data into training and validation sets.\n",
    "    \n",
    "    Parameters:\n",
    "    - X_train: The features (input variables) for training.\n",
    "    - Y_train: The target variable for training.\n",
    "    - test_size: The proportion of the data to include in the validation set. Default is 0.3.\n",
    "    - random_state: The random state for reproducibility. Default is 2020.\n",
    "    \n",
    "    Returns:\n",
    "    - X_train: The training features.\n",
    "    - val_x: The validation features.\n",
    "    - Y_train: The training target variable.\n",
    "    - val_y: The validation target variable.\n",
    "    \"\"\"\n",
    "    X_train, val_x, Y_train, val_y = train_test_split(\n",
    "        X_train, Y_train, test_size=test_size, random_state=random_state)\n",
    "    \n",
    "    return X_train, val_x, Y_train, val_y\n"
   ]
  },
  {
   "cell_type": "code",
   "execution_count": 6,
   "metadata": {},
   "outputs": [],
   "source": [
    "def evaluate_model(model, X_train, Y_train, val_x, val_y):\n",
    "    # Extract the model name from the model object\n",
    "    model_name = type(model).__name__\n",
    "    \n",
    "    if '-' in model_name:\n",
    "        model_name = model_name.split('-')[1]\n",
    "\n",
    "    # Calculate the accuracy score on the training set\n",
    "    accuracy_train = accuracy_score(Y_train, model.predict(X_train))\n",
    "    print(\"Accuracy on training set:\", accuracy_train)\n",
    "\n",
    "    # Calculate the ROC AUC score on the training set\n",
    "    roc_auc_train = roc_auc_score(Y_train, model.predict_proba(X_train)[:, 1])\n",
    "    print(\"ROC AUC score on training set:\", roc_auc_train)\n",
    "\n",
    "    # Calculate the accuracy score on the validation set\n",
    "    accuracy_val = accuracy_score(val_y, model.predict(val_x))\n",
    "    print(\"Accuracy on validation set:\", accuracy_val)\n",
    "\n",
    "    # Calculate the ROC AUC score on the validation set\n",
    "    roc_auc_val = roc_auc_score(val_y, model.predict_proba(val_x)[:, 1])\n",
    "    print(\"ROC AUC score on validation set:\", roc_auc_val)\n",
    "\n",
    "    # Compute the false positive rate, true positive rate, and thresholds for training set\n",
    "    fpr_train, tpr_train, thresholds_train = roc_curve(Y_train, model.predict_proba(X_train)[:, 1])\n",
    "\n",
    "    # Compute the false positive rate, true positive rate, and thresholds for validation set\n",
    "    fpr_val, tpr_val, thresholds_val = roc_curve(val_y, model.predict_proba(val_x)[:, 1])\n",
    "\n",
    "    # Plot the ROC curves\n",
    "    plt.plot(fpr_train, tpr_train, label='Training')\n",
    "    plt.plot(fpr_val, tpr_val, label='Validation')\n",
    "    plt.plot([0, 1], [0, 1], linestyle='--', label='Default')\n",
    "    plt.xlabel('False Positive Rate')\n",
    "    plt.ylabel('True Positive Rate')\n",
    "    plt.title('ROC Curve ({})'.format(model_name))\n",
    "    plt.legend()\n",
    "    plt.show()\n"
   ]
  },
  {
   "cell_type": "code",
   "execution_count": 21,
   "metadata": {},
   "outputs": [],
   "source": [
    "def display_evaluation_metrics(model, val_x, val_y):\n",
    "    \"\"\"\n",
    "    Calculates and displays the evaluation metrics for a classification model.\n",
    "\n",
    "    Parameters:\n",
    "    - model: Trained classification model\n",
    "    - val_x: Validation set features\n",
    "    - val_y: Validation set target variable\n",
    "\n",
    "    Prints a table showing the evaluation metrics: Accuracy, Precision, Recall, F1-score, AUC-ROC, and Gini coefficient.\n",
    "    \"\"\"\n",
    "    \n",
    "    # Make predictions on the validation set\n",
    "    y_pred = model.predict(val_x)\n",
    "\n",
    "    # Calculate accuracy\n",
    "    accuracy = accuracy_score(val_y, y_pred)\n",
    "\n",
    "    # Calculate precision\n",
    "    precision = precision_score(val_y, y_pred)\n",
    "\n",
    "    # Calculate recall\n",
    "    recall = recall_score(val_y, y_pred)\n",
    "\n",
    "    # Calculate F1-score\n",
    "    f1 = f1_score(val_y, y_pred)\n",
    "\n",
    "    # Calculate predicted probabilities for positive class\n",
    "    y_pred_prob = model.predict_proba(val_x)[:, 1]\n",
    "\n",
    "    # Calculate AUC-ROC\n",
    "    auc_roc = roc_auc_score(val_y, y_pred_prob)\n",
    "\n",
    "    # Calculate Gini coefficient\n",
    "    gini = 2 * auc_roc - 1\n",
    "\n",
    "    # Create a list of metric names and values\n",
    "    metric_names = ['Accuracy', 'Precision', 'Recall', 'F1-score', 'AUC-ROC', 'Gini coefficient']\n",
    "    metric_values = [accuracy, precision, recall, f1, auc_roc, gini]\n",
    "\n",
    "    # Create a list of metric rows\n",
    "    metric_rows = [[name, value] for name, value in zip(metric_names, metric_values)]\n",
    "\n",
    "    # Print the table for evaluation metrics\n",
    "    print(tabulate(metric_rows, headers=['Metric', 'Value'], tablefmt='orgtbl'))"
   ]
  },
  {
   "cell_type": "code",
   "execution_count": 7,
   "metadata": {},
   "outputs": [],
   "source": [
    "###\n",
    "###X_train, val_x, Y_train, val_y = split_data(df_train_processed.drop('SeriousDlqin2yrs', axis=1), df_train_processed['SeriousDlqin2yrs'])"
   ]
  },
  {
   "cell_type": "code",
   "execution_count": 16,
   "metadata": {},
   "outputs": [],
   "source": [
    "## split oversampled data\n",
    "X_train, val_x, Y_train, val_y = split_data(df_train_oversampled.drop('SeriousDlqin2yrs', axis=1), df_train_oversampled['SeriousDlqin2yrs'])"
   ]
  },
  {
   "cell_type": "code",
   "execution_count": 17,
   "metadata": {},
   "outputs": [
    {
     "data": {
      "text/html": [
       "<div>\n",
       "<style scoped>\n",
       "    .dataframe tbody tr th:only-of-type {\n",
       "        vertical-align: middle;\n",
       "    }\n",
       "\n",
       "    .dataframe tbody tr th {\n",
       "        vertical-align: top;\n",
       "    }\n",
       "\n",
       "    .dataframe thead th {\n",
       "        text-align: right;\n",
       "    }\n",
       "</style>\n",
       "<table border=\"1\" class=\"dataframe\">\n",
       "  <thead>\n",
       "    <tr style=\"text-align: right;\">\n",
       "      <th></th>\n",
       "      <th>RevolvingUtilizationOfUnsecuredLines</th>\n",
       "      <th>age</th>\n",
       "      <th>DebtRatio</th>\n",
       "      <th>MonthlyIncome</th>\n",
       "      <th>NumberOfOpenCreditLinesAndLoans</th>\n",
       "      <th>NumberRealEstateLoansOrLines</th>\n",
       "      <th>NumberOfDependents</th>\n",
       "      <th>TotalPastDue</th>\n",
       "      <th>SeriousDlqin2yrs</th>\n",
       "    </tr>\n",
       "  </thead>\n",
       "  <tbody>\n",
       "    <tr>\n",
       "      <th>0</th>\n",
       "      <td>0.766127</td>\n",
       "      <td>45</td>\n",
       "      <td>0.802982</td>\n",
       "      <td>9120.000000</td>\n",
       "      <td>13</td>\n",
       "      <td>6</td>\n",
       "      <td>2.000000</td>\n",
       "      <td>2</td>\n",
       "      <td>1</td>\n",
       "    </tr>\n",
       "    <tr>\n",
       "      <th>1</th>\n",
       "      <td>0.957151</td>\n",
       "      <td>40</td>\n",
       "      <td>0.121876</td>\n",
       "      <td>2600.000000</td>\n",
       "      <td>4</td>\n",
       "      <td>0</td>\n",
       "      <td>1.000000</td>\n",
       "      <td>0</td>\n",
       "      <td>0</td>\n",
       "    </tr>\n",
       "    <tr>\n",
       "      <th>2</th>\n",
       "      <td>0.658180</td>\n",
       "      <td>38</td>\n",
       "      <td>0.085113</td>\n",
       "      <td>3042.000000</td>\n",
       "      <td>2</td>\n",
       "      <td>0</td>\n",
       "      <td>0.000000</td>\n",
       "      <td>2</td>\n",
       "      <td>0</td>\n",
       "    </tr>\n",
       "    <tr>\n",
       "      <th>3</th>\n",
       "      <td>0.233810</td>\n",
       "      <td>30</td>\n",
       "      <td>0.036050</td>\n",
       "      <td>3300.000000</td>\n",
       "      <td>5</td>\n",
       "      <td>0</td>\n",
       "      <td>0.000000</td>\n",
       "      <td>0</td>\n",
       "      <td>0</td>\n",
       "    </tr>\n",
       "    <tr>\n",
       "      <th>4</th>\n",
       "      <td>0.907239</td>\n",
       "      <td>49</td>\n",
       "      <td>0.024926</td>\n",
       "      <td>63588.000000</td>\n",
       "      <td>7</td>\n",
       "      <td>1</td>\n",
       "      <td>0.000000</td>\n",
       "      <td>1</td>\n",
       "      <td>0</td>\n",
       "    </tr>\n",
       "    <tr>\n",
       "      <th>...</th>\n",
       "      <td>...</td>\n",
       "      <td>...</td>\n",
       "      <td>...</td>\n",
       "      <td>...</td>\n",
       "      <td>...</td>\n",
       "      <td>...</td>\n",
       "      <td>...</td>\n",
       "      <td>...</td>\n",
       "      <td>...</td>\n",
       "    </tr>\n",
       "    <tr>\n",
       "      <th>272499</th>\n",
       "      <td>0.550475</td>\n",
       "      <td>40</td>\n",
       "      <td>0.292152</td>\n",
       "      <td>5700.000000</td>\n",
       "      <td>6</td>\n",
       "      <td>0</td>\n",
       "      <td>1.777566</td>\n",
       "      <td>1</td>\n",
       "      <td>1</td>\n",
       "    </tr>\n",
       "    <tr>\n",
       "      <th>272500</th>\n",
       "      <td>0.269107</td>\n",
       "      <td>26</td>\n",
       "      <td>0.174355</td>\n",
       "      <td>3500.000000</td>\n",
       "      <td>4</td>\n",
       "      <td>0</td>\n",
       "      <td>0.000000</td>\n",
       "      <td>1</td>\n",
       "      <td>1</td>\n",
       "    </tr>\n",
       "    <tr>\n",
       "      <th>272501</th>\n",
       "      <td>0.496744</td>\n",
       "      <td>80</td>\n",
       "      <td>33.894479</td>\n",
       "      <td>5400.000000</td>\n",
       "      <td>2</td>\n",
       "      <td>0</td>\n",
       "      <td>0.000000</td>\n",
       "      <td>0</td>\n",
       "      <td>1</td>\n",
       "    </tr>\n",
       "    <tr>\n",
       "      <th>272502</th>\n",
       "      <td>0.900824</td>\n",
       "      <td>52</td>\n",
       "      <td>0.861294</td>\n",
       "      <td>3330.939939</td>\n",
       "      <td>14</td>\n",
       "      <td>1</td>\n",
       "      <td>1.373374</td>\n",
       "      <td>2</td>\n",
       "      <td>1</td>\n",
       "    </tr>\n",
       "    <tr>\n",
       "      <th>272503</th>\n",
       "      <td>0.732791</td>\n",
       "      <td>49</td>\n",
       "      <td>1.676983</td>\n",
       "      <td>693.553829</td>\n",
       "      <td>8</td>\n",
       "      <td>1</td>\n",
       "      <td>0.504141</td>\n",
       "      <td>1</td>\n",
       "      <td>1</td>\n",
       "    </tr>\n",
       "  </tbody>\n",
       "</table>\n",
       "<p>272504 rows × 9 columns</p>\n",
       "</div>"
      ],
      "text/plain": [
       "        RevolvingUtilizationOfUnsecuredLines  age  DebtRatio  MonthlyIncome  \\\n",
       "0                                   0.766127   45   0.802982    9120.000000   \n",
       "1                                   0.957151   40   0.121876    2600.000000   \n",
       "2                                   0.658180   38   0.085113    3042.000000   \n",
       "3                                   0.233810   30   0.036050    3300.000000   \n",
       "4                                   0.907239   49   0.024926   63588.000000   \n",
       "...                                      ...  ...        ...            ...   \n",
       "272499                              0.550475   40   0.292152    5700.000000   \n",
       "272500                              0.269107   26   0.174355    3500.000000   \n",
       "272501                              0.496744   80  33.894479    5400.000000   \n",
       "272502                              0.900824   52   0.861294    3330.939939   \n",
       "272503                              0.732791   49   1.676983     693.553829   \n",
       "\n",
       "        NumberOfOpenCreditLinesAndLoans  NumberRealEstateLoansOrLines  \\\n",
       "0                                    13                             6   \n",
       "1                                     4                             0   \n",
       "2                                     2                             0   \n",
       "3                                     5                             0   \n",
       "4                                     7                             1   \n",
       "...                                 ...                           ...   \n",
       "272499                                6                             0   \n",
       "272500                                4                             0   \n",
       "272501                                2                             0   \n",
       "272502                               14                             1   \n",
       "272503                                8                             1   \n",
       "\n",
       "        NumberOfDependents  TotalPastDue  SeriousDlqin2yrs  \n",
       "0                 2.000000             2                 1  \n",
       "1                 1.000000             0                 0  \n",
       "2                 0.000000             2                 0  \n",
       "3                 0.000000             0                 0  \n",
       "4                 0.000000             1                 0  \n",
       "...                    ...           ...               ...  \n",
       "272499            1.777566             1                 1  \n",
       "272500            0.000000             1                 1  \n",
       "272501            0.000000             0                 1  \n",
       "272502            1.373374             2                 1  \n",
       "272503            0.504141             1                 1  \n",
       "\n",
       "[272504 rows x 9 columns]"
      ]
     },
     "execution_count": 17,
     "metadata": {},
     "output_type": "execute_result"
    }
   ],
   "source": [
    "df_train_oversampled\n"
   ]
  },
  {
   "cell_type": "code",
   "execution_count": 18,
   "metadata": {},
   "outputs": [
    {
     "name": "stdout",
     "output_type": "stream",
     "text": [
      "Accuracy on training set: 0.9520267153162221\n",
      "ROC AUC score on training set: 0.9914310377581832\n",
      "Accuracy on validation set: 0.904980917898033\n",
      "ROC AUC score on validation set: 0.9695120785495032\n"
     ]
    },
    {
     "data": {
      "image/png": "[encoded data removed]",
      "text/plain": [
       "<Figure size 432x288 with 1 Axes>"
      ]
     },
     "metadata": {
      "needs_background": "light"
     },
     "output_type": "display_data"
    }
   ],
   "source": [
    "evaluate_model(best_model_XGBOOST, X_train, Y_train, val_x, val_y)\n"
   ]
  },
  {
   "cell_type": "code",
   "execution_count": 30,
   "metadata": {},
   "outputs": [
    {
     "name": "stdout",
     "output_type": "stream",
     "text": [
      "| Metric           |    Value |\n",
      "|------------------+----------|\n",
      "| Accuracy         | 0.904981 |\n",
      "| Precision        | 0.914926 |\n",
      "| Recall           | 0.893289 |\n",
      "| F1-score         | 0.903978 |\n",
      "| AUC-ROC          | 0.969512 |\n",
      "| Gini coefficient | 0.939024 |\n"
     ]
    }
   ],
   "source": [
    "display_evaluation_metrics(best_model_XGBOOST, val_x, val_y)\n"
   ]
  },
  {
   "cell_type": "code",
   "execution_count": 23,
   "metadata": {},
   "outputs": [
    {
     "name": "stdout",
     "output_type": "stream",
     "text": [
      "Accuracy: 0.9050\n",
      "Precision: 0.9149\n",
      "Recall: 0.8933\n",
      "F1-score: 0.9040\n",
      "AUC-ROC: 0.9695\n",
      "Gini coefficient: 0.9390\n"
     ]
    }
   ],
   "source": [
    "# Make predictions on the validation set\n",
    "y_pred = best_model_XGBOOST.predict(val_x)\n",
    "\n",
    "# Calculate accuracy\n",
    "accuracy = accuracy_score(val_y, y_pred)\n",
    "\n",
    "# Calculate precision\n",
    "precision = precision_score(val_y, y_pred)\n",
    "\n",
    "# Calculate recall\n",
    "recall = recall_score(val_y, y_pred)\n",
    "\n",
    "# Calculate F1-score\n",
    "f1 = f1_score(val_y, y_pred)\n",
    "\n",
    "# Calculate predicted probabilities for positive class\n",
    "y_pred_prob = best_model_XGBOOST.predict_proba(val_x)[:, 1]\n",
    "\n",
    "# Calculate AUC-ROC\n",
    "auc_roc = roc_auc_score(val_y, y_pred_prob)\n",
    "\n",
    "# Calculate Gini coefficient\n",
    "gini = 2 * auc_roc - 1\n",
    "\n",
    "# Print the evaluation metrics\n",
    "print(\"Accuracy: {:.4f}\".format(accuracy))\n",
    "print(\"Precision: {:.4f}\".format(precision))\n",
    "print(\"Recall: {:.4f}\".format(recall))\n",
    "print(\"F1-score: {:.4f}\".format(f1))\n",
    "print(\"AUC-ROC: {:.4f}\".format(auc_roc))\n",
    "print(\"Gini coefficient: {:.4f}\".format(gini))\n"
   ]
  },
  {
   "cell_type": "markdown",
   "metadata": {},
   "source": [
    "**Accuracy**: Accuracy represents the overall correctness of the model's predictions. In the context of a credit risk loan default model, it indicates the proportion of correctly predicted outcomes (both defaults and non-defaults) out of the total predictions. An accuracy of 0.849716 means that the model predicted the correct outcome for approximately 84.97% of the cases.\n",
    "\n",
    "**Precision**: Precision measures the ability of the model to correctly identify loan defaults among the predicted default cases. In other words, it quantifies the proportion of correctly predicted defaults out of all the cases predicted as defaults. A precision of 0.779423 suggests that around 77.94% of the predicted defaults were actually true defaults.\n",
    "\n",
    "**Recall**: Recall, also known as sensitivity or true positive rate, indicates the ability of the model to identify true defaults among all the actual default cases. It measures the proportion of correctly identified defaults out of all the actual defaults. A recall of 0.976083 indicates that the model identified approximately 97.61% of the actual defaults.\n",
    "\n",
    "**F1-score**: The F1-score is the harmonic mean of precision and recall. It provides a balanced measure of the model's performance by considering both precision and recall. A higher F1-score (in this case, 0.866738) indicates a better balance between precision and recall.\n",
    "\n",
    "**AUC-ROC**: The Area Under the Receiver Operating Characteristic Curve (AUC-ROC) measures the model's ability to discriminate between default and non-default cases across different classification thresholds. A higher AUC-ROC value (in this case, 0.969846) indicates a better ability to distinguish between defaults and non-defaults.\n",
    "\n",
    "**Gini coefficient**: The Gini coefficient is a derived metric from the AUC-ROC. It quantifies the model's discrimination power by calculating the difference between the AUC-ROC value and the random classification line (0.5 for binary classification). A higher Gini coefficient (in this case, 0.939692) indicates a better discrimination ability of the model."
   ]
  },
  {
   "cell_type": "markdown",
   "metadata": {},
   "source": [
    "### Lift Curve"
   ]
  },
  {
   "cell_type": "code",
   "execution_count": 33,
   "metadata": {},
   "outputs": [
    {
     "name": "stderr",
     "output_type": "stream",
     "text": [
      "<ipython-input-33-1bb88a7e78aa>:14: RuntimeWarning: divide by zero encountered in divide\n",
      "  lift = cumulative_percentage / random_percentage\n"
     ]
    },
    {
     "data": {
      "image/png": "[encoded data removed]",
      "text/plain": [
       "<Figure size 432x288 with 1 Axes>"
      ]
     },
     "metadata": {
      "needs_background": "light"
     },
     "output_type": "display_data"
    }
   ],
   "source": [
    "# Sort the predicted probabilities in descending order\n",
    "sorted_indices = np.argsort(y_pred_prob)[::-1]\n",
    "sorted_y_pred_prob = y_pred_prob[sorted_indices]\n",
    "sorted_val_y = np.array(val_y)[sorted_indices]\n",
    "\n",
    "# Calculate the cumulative number of positive samples and cumulative percentage\n",
    "cumulative_positives = np.cumsum(sorted_val_y)\n",
    "cumulative_percentage = cumulative_positives / np.sum(sorted_val_y)\n",
    "\n",
    "# Calculate the expected random percentage\n",
    "random_percentage = np.linspace(0, 1, len(val_y))\n",
    "\n",
    "# Calculate the lift\n",
    "lift = cumulative_percentage / random_percentage\n",
    "\n",
    "# Plot the Lift curve\n",
    "plt.plot(random_percentage, lift)\n",
    "plt.xlabel(\"Percentage of Population\")\n",
    "plt.ylabel(\"Lift\")\n",
    "plt.title(\"Lift Curve\")\n",
    "plt.show()\n",
    "\n"
   ]
  },
  {
   "cell_type": "markdown",
   "metadata": {},
   "source": [
    "### Assess model calibration"
   ]
  },
  {
   "cell_type": "code",
   "execution_count": 27,
   "metadata": {
    "scrolled": true
   },
   "outputs": [
    {
     "data": {
      "image/png": "[encoded data removed]",
      "text/plain": [
       "<Figure size 432x288 with 1 Axes>"
      ]
     },
     "metadata": {
      "needs_background": "light"
     },
     "output_type": "display_data"
    }
   ],
   "source": [
    "from sklearn.calibration import calibration_curve\n",
    "\n",
    "## For xgboost model\n",
    "# Compute true positive rate and predicted probabilities for the positive class\n",
    "true_pos_rate, pred_probs = calibration_curve(val_y, y_pred_prob, n_bins=10)\n",
    "\n",
    "# Create calibration plot\n",
    "plt.plot(pred_probs, true_pos_rate, marker='o', linestyle='-', label='Model Calibration')\n",
    "plt.plot([0, 1], [0, 1], linestyle='--', label='Perfectly Calibrated')\n",
    "plt.xlabel('Predicted Probability')\n",
    "plt.ylabel('True Positive Rate')\n",
    "plt.title('Calibration Plot')\n",
    "plt.legend()\n",
    "plt.show()"
   ]
  },
  {
   "cell_type": "code",
   "execution_count": 39,
   "metadata": {},
   "outputs": [
    {
     "name": "stdout",
     "output_type": "stream",
     "text": [
      "| Metric           |    Value |\n",
      "|------------------+----------|\n",
      "| Accuracy         | 0.904076 |\n",
      "| Precision        | 0.902792 |\n",
      "| Recall           | 0.905968 |\n",
      "| F1-score         | 0.904378 |\n",
      "| AUC-ROC          | 0.969173 |\n",
      "| Gini coefficient | 0.938347 |\n"
     ]
    }
   ],
   "source": [
    "## For random forest model\n",
    "display_evaluation_metrics(best_model_RF, val_x, val_y)\n"
   ]
  },
  {
   "cell_type": "markdown",
   "metadata": {},
   "source": [
    "### Lift Curve"
   ]
  },
  {
   "cell_type": "code",
   "execution_count": null,
   "metadata": {},
   "outputs": [],
   "source": [
    "# Sort the predicted probabilities in descending order\n",
    "sorted_indices = np.argsort(y_pred_prob)[::-1]\n",
    "sorted_y_pred_prob = y_pred_prob[sorted_indices]\n",
    "sorted_val_y = np.array(val_y)[sorted_indices]\n",
    "\n",
    "# Calculate the cumulative number of positive samples and cumulative percentage\n",
    "cumulative_positives = np.cumsum(sorted_val_y)\n",
    "cumulative_percentage = cumulative_positives / np.sum(sorted_val_y)\n",
    "\n",
    "# Calculate the expected random percentage\n",
    "random_percentage = np.linspace(0, 1, len(val_y))\n",
    "\n",
    "# Calculate the lift\n",
    "lift = cumulative_percentage / random_percentage\n",
    "\n",
    "# Plot the Lift curve\n",
    "plt.plot(random_percentage, lift)\n",
    "plt.xlabel(\"Percentage of Population\")\n",
    "plt.ylabel(\"Lift\")\n",
    "plt.title(\"Lift Curve\")\n",
    "plt.show()\n"
   ]
  },
  {
   "cell_type": "code",
   "execution_count": 37,
   "metadata": {},
   "outputs": [
    {
     "data": {
      "image/png": "[encoded data removed]",
      "text/plain": [
       "<Figure size 432x288 with 1 Axes>"
      ]
     },
     "metadata": {
      "needs_background": "light"
     },
     "output_type": "display_data"
    }
   ],
   "source": [
    "# For best Randon Forest Model\n",
    "\n",
    "# Make predictions on the validation set\n",
    "y_pred_prob = best_model_RF.predict_proba(val_x)[:, 1]\n",
    "\n",
    "# Calculate true probabilities and mean predicted probabilities\n",
    "true_prob, pred_prob = calibration_curve(val_y, y_pred_prob, n_bins=10)\n",
    "\n",
    "# Plot calibration curve\n",
    "plt.plot(pred_prob, true_prob, marker='o', linestyle='-', label='Calibration Curve')\n",
    "\n",
    "# Plot perfect calibration line\n",
    "plt.plot([0, 1], [0, 1], linestyle='--', label='Perfectly Calibrated')\n",
    "\n",
    "# Set plot labels and title\n",
    "plt.xlabel('Mean Predicted Probability')\n",
    "plt.ylabel('True Probability')\n",
    "plt.title('Calibration Curve')\n",
    "plt.legend(loc='lower right')\n",
    "\n",
    "# Show the plot\n",
    "plt.show()\n"
   ]
  },
  {
   "cell_type": "markdown",
   "metadata": {},
   "source": [
    "In the calibration plot, the closer the points are to the diagonal reference line (perfect calibration), the better the model's calibration. If the points consistently deviate from the diagonal line, it indicates a lack of calibration."
   ]
  },
  {
   "cell_type": "markdown",
   "metadata": {},
   "source": [
    "### Validate predictive power"
   ]
  },
  {
   "cell_type": "code",
   "execution_count": null,
   "metadata": {},
   "outputs": [],
   "source": [
    "## XGboost Model\n",
    "##k-fold cross-validation \n",
    "    \n",
    "# Perform cross-validation using 5 folds\n",
    "num_folds = 5\n",
    "scores = cross_val_score(best_model_XGBOOST, X_train_oversampled, y_train_oversampled, cv=num_folds, scoring='accuracy')\n",
    "\n",
    "# Print the cross-validation scores for each fold\n",
    "for i, score in enumerate(scores):\n",
    "    print(f\"Fold {i+1}: {score}\")\n",
    "\n",
    "# Calculate and print the mean and standard deviation of the cross-validation scores\n",
    "mean_score = np.mean(scores)\n",
    "std_score = np.std(scores)\n",
    "print(f\"Mean Accuracy for XGBoost on oversampling data: {mean_score}\")\n",
    "print(f\"Standard Deviation for XGBoost on oversampling data: {std_score}\")\n"
   ]
  },
  {
   "cell_type": "code",
   "execution_count": null,
   "metadata": {},
   "outputs": [],
   "source": [
    "## Random Forest Model\n",
    "##k-fold cross-validation \n",
    "    \n",
    "# Perform cross-validation using 5 folds\n",
    "num_folds = 5\n",
    "scores = cross_val_score(best_model_RF, X_train_oversampled, y_train_oversampled, cv=num_folds, scoring='accuracy')\n",
    "\n",
    "# Print the cross-validation scores for each fold\n",
    "for i, score in enumerate(scores):\n",
    "    print(f\"Fold {i+1}: {score}\")\n",
    "\n",
    "# Calculate and print the mean and standard deviation of the cross-validation scores\n",
    "mean_score = np.mean(scores)\n",
    "std_score = np.std(scores)\n",
    "print(f\"Mean Accuracy for XGBoost on oversampling data: {mean_score}\")\n",
    "print(f\"Standard Deviation for XGBoost on oversampling data: {std_score}\")"
   ]
  },
  {
   "cell_type": "markdown",
   "metadata": {},
   "source": [
    "### Limitation to use XGBClassifier for a PD model:"
   ]
  },
  {
   "cell_type": "markdown",
   "metadata": {},
   "source": [
    "While XGBoost (XGBClassifier) is a powerful machine learning algorithm and can be used for various tasks, including credit risk modeling and probability of default (PD) modeling, it does have certain limitations. Some of the limitations to consider when using XGBoost for a PD model are:\n",
    "\n",
    "**Interpretability**: XGBoost is an ensemble model that combines multiple decision trees, which can make it challenging to interpret the model's predictions and understand the underlying factors contributing to the PD. This can be a limitation when transparency and explainability are important in credit risk modeling.\n",
    "\n",
    "**Imbalanced Data**: XGBoost may face challenges when dealing with imbalanced datasets where the number of defaults is significantly lower than the number of non-defaults. In such cases, the model may prioritize accuracy on the majority class and struggle to capture the minority class adequately. Special techniques, such as class weighting or sampling strategies, may be required to address this limitation.\n",
    "\n",
    "**Feature Engineering**: XGBoost typically relies on manually engineered features to capture the underlying patterns in the data. This means that the effectiveness of the model may be limited by the quality and relevance of the features used. It is important to carefully select and engineer relevant features for the PD model to ensure optimal performance.\n",
    "\n",
    "**Computational Requirements**: XGBoost is a computationally intensive algorithm, particularly when dealing with large datasets or complex models. Training an XGBoost model can require substantial computational resources and time. Therefore, it is important to consider the available computing infrastructure and resources when using XGBoost for a PD model.\n",
    "\n",
    "**Hyperparameter Tuning**: XGBoost has several hyperparameters that need to be tuned to achieve optimal performance. Finding the right combination of hyperparameters can be time-consuming and requires careful experimentation. It is important to perform thorough hyperparameter tuning to achieve the best results with XGBoost.\n",
    "\n",
    "Despite these limitations, XGBoost remains a popular choice for PD modeling due to its ability to handle complex patterns and deliver high predictive accuracy. However, it is crucial to consider these limitations and explore alternative modeling approaches if they pose significant challenges for your specific PD modeling requirements."
   ]
  },
  {
   "cell_type": "markdown",
   "metadata": {},
   "source": [
    "### Limitation to use Random Forest for a PD model:"
   ]
  },
  {
   "cell_type": "markdown",
   "metadata": {},
   "source": [
    "While Random Forest is a widely used and effective machine learning algorithm, it also has certain limitations when it comes to using it for a PD (Probability of Default) model. Some limitations of using a Random Forest model for a PD model include:\n",
    "\n",
    "**interpretability**: Random Forest models can be considered black box models, as they do not provide clear insights into the underlying relationships between input features and the predicted probabilities. This lack of interpretability can make it challenging to explain the factors contributing to default predictions.\n",
    "\n",
    "**Overfitting potential**: Random Forest models have a tendency to overfit the training data, especially when the number of trees (n_estimators) and the maximum depth (max_depth) are not properly tuned. Overfitting can lead to poor generalization and inaccurate predictions on new, unseen data.\n",
    "\n",
    "**Sensitivity to input features**: Random Forest models may be sensitive to the selection and scaling of input features. If the input features are not appropriately chosen or preprocessed, it can result in biased or unreliable predictions.\n",
    "\n",
    "**Imbalanced class distribution**: If the data used to train the Random Forest model has an imbalanced class distribution (e.g., a significantly higher number of non-default cases compared to default cases), the model may exhibit a bias towards the majority class and struggle to accurately predict the minority class (defaults).\n",
    "\n",
    "**Computationally expensive**: Random Forest models can be computationally expensive, especially when dealing with large datasets or a large number of input features. Training and evaluating the model may require substantial computational resources and time.\n",
    "\n",
    "**Missing data**: Random Forest models can't handle missing data in the input features. This can be a significant problem in real-world applications where missing data is common.\n",
    "\n",
    "**Model deployment**: Random Forest models can be complex, especially if the number of trees and features is large. This can make it difficult to deploy the model in a production environment.\n",
    "\n",
    "It's important to carefully consider these limitations and assess whether a Random Forest model is suitable for your specific PD modeling needs. It may be beneficial to explore other modeling techniques or combine Random Forest with other algorithms to overcome these limitations and enhance the predictive performance of the PD model."
   ]
  },
  {
   "cell_type": "code",
   "execution_count": null,
   "metadata": {},
   "outputs": [],
   "source": []
  },
  {
   "cell_type": "code",
   "execution_count": null,
   "metadata": {},
   "outputs": [],
   "source": []
  }
 ],
 "metadata": {
  "kernelspec": {
   "display_name": "Python 3",
   "language": "python",
   "name": "python3"
  },
  "language_info": {
   "codemirror_mode": {
    "name": "ipython",
    "version": 3
   },
   "file_extension": ".py",
   "mimetype": "text/x-python",
   "name": "python",
   "nbconvert_exporter": "python",
   "pygments_lexer": "ipython3",
   "version": "3.8.3"
  }
 },
 "nbformat": 4,
 "nbformat_minor": 4
}
