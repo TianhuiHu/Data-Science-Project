{
 "cells": [
  {
   "attachments": {},
   "cell_type": "markdown",
   "metadata": {},
   "source": [
    "# HYPER PARAMETER TUNING\n",
    "\n",
    "Last step, we selected xgboost as our best performance model for loan default prediction, this step we will do \n",
    "hyperparameter tuning, which is the process of finding the best combination of hyperparameters for a xgboost to achieve optimal performance \n",
    "\n",
    "**Best model parameters**: {'xgb__colsample_bytree': 1.0, 'xgb__eta': 0.3, 'xgb__max_depth': 9, 'xgb__n_estimators': 200}\n",
    "\n",
    "**Best model score**: 0.8674056333776022\n",
    "\n",
    "random forest Best: 0.935351 using {'criterion': 'entropy', 'n_estimators': 200}\n",
    "\n",
    "**private score** 0.86612 \n",
    "**public score** 0.8598\n"
   ]
  },
  {
   "cell_type": "code",
   "execution_count": 96,
   "metadata": {
    "execution": {
     "iopub.status.busy": "2023-05-08T01:47:47.456987Z",
     "iopub.status.idle": "2023-05-08T01:47:47.457544Z"
    }
   },
   "outputs": [],
   "source": [
    "# Main tools we used:\n",
    "import numpy as np # linear algebra\n",
    "import pandas as pd # data processing, CSV file I/O (e.g. pd.read_csv)\n",
    "\n",
    "from sklearn.model_selection import GridSearchCV, RandomizedSearchCV\n",
    "from scipy.stats import uniform\n",
    "from imblearn.pipeline import Pipeline\n",
    "from sklearn.model_selection import train_test_split\n",
    "\n",
    "from sklearn.metrics import classification_report\n",
    "from sklearn.metrics import  make_scorer,accuracy_score, precision_score, recall_score, f1_score, roc_auc_score, roc_curve\n",
    "\n",
    "import xgboost as xgb\n",
    "import lightgbm as lgb\n",
    "\n",
    "from sklearn.svm import SVC\n",
    "from xgboost import XGBClassifier\n",
    "from sklearn.linear_model import LinearRegression\n",
    "from sklearn.ensemble import RandomForestClassifier\n",
    "from sklearn.neighbors import KNeighborsClassifier\n",
    "from sklearn.linear_model import LogisticRegression\n",
    "from sklearn.ensemble import AdaBoostClassifier\n",
    "\n",
    "import matplotlib.pyplot as plt\n",
    "import joblib\n"
   ]
  },
  {
   "cell_type": "code",
   "execution_count": 125,
   "metadata": {},
   "outputs": [],
   "source": [
    "## last step, we found best performance dataset is processed dataset for xgboost\n",
    "df_train_processed = pd.read_csv(\"processed_data_train.csv\")\n",
    "df_test_processed = pd.read_csv(\"processed_data_test.csv\")\n",
    "\n",
    "df_test= pd.read_csv(\"cs-test.csv\")\n",
    "df_train_oversampled = pd.read_csv(\"oversampled_data.csv\")\n",
    "\n",
    "## try to create new cols on top of oversampled data\n",
    "# Create a new column 'TotalPastDue' by summing the values of the three columns\n",
    "df_train_oversampled['TotalPastDue'] = df_train_oversampled['NumberOfTime30-59DaysPastDueNotWorse'] + df_train_oversampled['NumberOfTimes90DaysLate'] + df_train_oversampled['NumberOfTime60-89DaysPastDueNotWorse']\n",
    "\n",
    "# Drop the individual columns if desired\n",
    "df_train_oversampled = df_train_oversampled.drop(['NumberOfTime30-59DaysPastDueNotWorse', 'NumberOfTimes90DaysLate', 'NumberOfTime60-89DaysPastDueNotWorse'], axis=1)"
   ]
  },
  {
   "cell_type": "code",
   "execution_count": 85,
   "metadata": {},
   "outputs": [],
   "source": [
    "def split_data(X_train, Y_train, test_size=0.3, random_state=2020):\n",
    "    \"\"\"\n",
    "    Split the data into training and validation sets.\n",
    "    \n",
    "    Parameters:\n",
    "    - X_train: The features (input variables) for training.\n",
    "    - Y_train: The target variable for training.\n",
    "    - test_size: The proportion of the data to include in the validation set. Default is 0.3.\n",
    "    - random_state: The random state for reproducibility. Default is 2020.\n",
    "    \n",
    "    Returns:\n",
    "    - X_train: The training features.\n",
    "    - val_x: The validation features.\n",
    "    - Y_train: The training target variable.\n",
    "    - val_y: The validation target variable.\n",
    "    \"\"\"\n",
    "    X_train, val_x, Y_train, val_y = train_test_split(\n",
    "        X_train, Y_train, test_size=test_size, random_state=random_state)\n",
    "    \n",
    "    return X_train, val_x, Y_train, val_y"
   ]
  },
  {
   "cell_type": "code",
   "execution_count": 86,
   "metadata": {},
   "outputs": [],
   "source": [
    "def evaluate_model(model, X_train, Y_train, val_x, val_y):\n",
    "    # Extract the model name from the model object\n",
    "    model_name = type(model).__name__\n",
    "    \n",
    "    if '-' in model_name:\n",
    "        model_name = model_name.split('-')[1]\n",
    "\n",
    "    # Calculate the accuracy score on the training set\n",
    "    accuracy_train = accuracy_score(Y_train, model.predict(X_train))\n",
    "    print(\"Accuracy on training set:\", accuracy_train)\n",
    "\n",
    "    # Calculate the ROC AUC score on the training set\n",
    "    roc_auc_train = roc_auc_score(Y_train, model.predict_proba(X_train)[:, 1])\n",
    "    print(\"ROC AUC score on training set:\", roc_auc_train)\n",
    "\n",
    "    # Calculate the accuracy score on the validation set\n",
    "    accuracy_val = accuracy_score(val_y, model.predict(val_x))\n",
    "    print(\"Accuracy on validation set:\", accuracy_val)\n",
    "\n",
    "    # Calculate the ROC AUC score on the validation set\n",
    "    roc_auc_val = roc_auc_score(val_y, model.predict_proba(val_x)[:, 1])\n",
    "    print(\"ROC AUC score on validation set:\", roc_auc_val)\n",
    "\n",
    "    # Compute the false positive rate, true positive rate, and thresholds for training set\n",
    "    fpr_train, tpr_train, thresholds_train = roc_curve(Y_train, model.predict_proba(X_train)[:, 1])\n",
    "\n",
    "    # Compute the false positive rate, true positive rate, and thresholds for validation set\n",
    "    fpr_val, tpr_val, thresholds_val = roc_curve(val_y, model.predict_proba(val_x)[:, 1])\n",
    "\n",
    "    # Plot the ROC curves\n",
    "    plt.plot(fpr_train, tpr_train, label='Training')\n",
    "    plt.plot(fpr_val, tpr_val, label='Validation')\n",
    "    plt.plot([0, 1], [0, 1], linestyle='--', label='Default')\n",
    "    plt.xlabel('False Positive Rate')\n",
    "    plt.ylabel('True Positive Rate')\n",
    "    plt.title('ROC Curve ({})'.format(model_name))\n",
    "    plt.legend()\n",
    "    plt.show()\n"
   ]
  },
  {
   "cell_type": "markdown",
   "metadata": {},
   "source": [
    "### XGBOOST"
   ]
  },
  {
   "cell_type": "code",
   "execution_count": 5,
   "metadata": {
    "execution": {
     "iopub.status.busy": "2023-05-08T01:47:47.458379Z",
     "iopub.status.idle": "2023-05-08T01:47:47.458975Z"
    }
   },
   "outputs": [],
   "source": [
    "X_train, val_x, Y_train, val_y = split_data(df_train_processed.drop('SeriousDlqin2yrs', axis=1), df_train_processed['SeriousDlqin2yrs'])"
   ]
  },
  {
   "cell_type": "code",
   "execution_count": 126,
   "metadata": {},
   "outputs": [],
   "source": [
    "## split oversampled data\n",
    "X_train, val_x, Y_train, val_y = split_data(df_train_oversampled.drop('SeriousDlqin2yrs', axis=1), df_train_oversampled['SeriousDlqin2yrs'])"
   ]
  },
  {
   "cell_type": "code",
   "execution_count": 6,
   "metadata": {},
   "outputs": [],
   "source": [
    "xgb_cfl = xgb.XGBClassifier(n_jobs = -1)\n",
    "xgb_cfl.fit(X_train, Y_train)\n",
    "y_pred = xgb_cfl.predict(val_x)\n",
    "y_score = xgb_cfl.predict_proba(val_x)[:,1]"
   ]
  },
  {
   "cell_type": "code",
   "execution_count": 127,
   "metadata": {},
   "outputs": [
    {
     "name": "stdout",
     "output_type": "stream",
     "text": [
      "Estimate: 1.001\n",
      "Fitting 3 folds for each of 54 candidates, totalling 162 fits\n"
     ]
    }
   ],
   "source": [
    "from collections import Counter\n",
    "counter = Counter(Y_train)\n",
    "# estimate scale_pos_weight value to handle class imbalance during training\n",
    "estimate = counter[0] / counter[1]\n",
    "print('Estimate: %.3f' % estimate)\n",
    "#define the param grid\n",
    "# Parameters of pipelines can be set using ‘__’ separated para\n",
    "clf_grid = {\n",
    "    'xgb__eta': [0.05, 0.1, 0.3],\n",
    "    'xgb__max_depth': [3, 6, 12],\n",
    "    'xgb__colsample_bytree': [0.9, 1.0],\n",
    "    'xgb__n_estimators': [50, 100, 200]\n",
    "    }\n",
    "#define the pipeline\n",
    "model_pipe = Pipeline([\n",
    "    ('xgb', xgb.XGBClassifier(\n",
    "                              n_jobs=-1, scale_pos_weight=estimate))\n",
    "])\n",
    "#define the classifer\n",
    "clf = GridSearchCV(model_pipe,\n",
    "                   clf_grid,\n",
    "                   n_jobs=-1,\n",
    "                   cv=3, \n",
    "                   verbose=50, \n",
    "                   scoring='roc_auc')\n",
    "#fit to training data\n",
    "clf.fit(X_train, Y_train)\n",
    "\n",
    "# Get the best-performing model based on validation set AUC score\n",
    "best_model = clf.best_estimator_"
   ]
  },
  {
   "cell_type": "code",
   "execution_count": 128,
   "metadata": {},
   "outputs": [
    {
     "name": "stdout",
     "output_type": "stream",
     "text": [
      "Fitting 3 folds for each of 81 candidates, totalling 243 fits\n",
      "Accuracy: 0.9058\n",
      "Precision: 0.9151\n",
      "F1-score: 0.9049\n",
      "Best model parameters: \n",
      "\n",
      "{'xgb__colsample_bytree': 1.0, 'xgb__eta': 0.3, 'xgb__max_depth': 9, 'xgb__n_estimators': 200}\n",
      "Best model score: \n",
      "\n",
      "0.9012065393763203\n"
     ]
    }
   ],
   "source": [
    "# Define the scoring metrics\n",
    "scoring_metrics = {\n",
    "    'accuracy': make_scorer(accuracy_score),\n",
    "    'precision': make_scorer(precision_score),\n",
    "    'f1': make_scorer(f1_score),\n",
    "    'roc_auc': make_scorer(roc_auc_score)\n",
    "}\n",
    "\n",
    "# Define the parameter grid\n",
    "clf_grid = {\n",
    "    'xgb__eta': [0.05, 0.1, 0.3],\n",
    "    'xgb__max_depth': [3, 6, 9],\n",
    "    'xgb__colsample_bytree': [0.8, 0.9, 1.0],\n",
    "    'xgb__n_estimators': [100, 150, 200]\n",
    "}\n",
    "\n",
    "# Define the pipeline\n",
    "model_pipe = Pipeline([\n",
    "    ('xgb', xgb.XGBClassifier(n_jobs=-1, scale_pos_weight=estimate))\n",
    "])\n",
    "\n",
    "# Define the classifier\n",
    "clf = GridSearchCV(model_pipe,\n",
    "                   clf_grid,\n",
    "                   n_jobs=-1,\n",
    "                   cv=3,\n",
    "                   verbose=50,\n",
    "                   scoring=scoring_metrics,\n",
    "                   refit='roc_auc')  # You can specify the desired metric for refitting the best model\n",
    "\n",
    "# Fit to the training data\n",
    "clf.fit(X_train, Y_train)\n",
    "\n",
    "# Get the best-performing model based on the specified scoring metric\n",
    "best_model = clf.best_estimator_\n",
    "\n",
    "# Make predictions on the validation set\n",
    "y_pred = best_model.predict(val_x)\n",
    "\n",
    "# Calculate the desired evaluation metrics\n",
    "accuracy = accuracy_score(val_y, y_pred)\n",
    "precision = precision_score(val_y, y_pred)\n",
    "f1 = f1_score(val_y, y_pred)\n",
    "\n",
    "# Print the evaluation metrics\n",
    "print(\"Accuracy: {:.4f}\".format(accuracy))\n",
    "print(\"Precision: {:.4f}\".format(precision))\n",
    "print(\"F1-score: {:.4f}\".format(f1))\n",
    "\n",
    "print(\"Best model parameters: \\n\")\n",
    "print(clf.best_params_ )\n",
    "print(\"Best model score: \\n\")\n",
    "print(clf.best_score_)"
   ]
  },
  {
   "cell_type": "code",
   "execution_count": 129,
   "metadata": {},
   "outputs": [
    {
     "name": "stdout",
     "output_type": "stream",
     "text": [
      "Accuracy on training set: 0.9566400352289884\n",
      "ROC AUC score on training set: 0.992933574460356\n",
      "Accuracy on validation set: 0.9058249339465702\n",
      "ROC AUC score on validation set: 0.9699101147811617\n"
     ]
    },
    {
     "data": {
      "image/png": "[encoded data removed]",
      "text/plain": [
       "<Figure size 432x288 with 1 Axes>"
      ]
     },
     "metadata": {
      "needs_background": "light"
     },
     "output_type": "display_data"
    }
   ],
   "source": [
    "evaluate_model(best_model, X_train, Y_train, val_x, val_y)"
   ]
  },
  {
   "cell_type": "code",
   "execution_count": 130,
   "metadata": {},
   "outputs": [
    {
     "name": "stdout",
     "output_type": "stream",
     "text": [
      "| Metric           |    Value |\n",
      "|------------------+----------|\n",
      "| Accuracy         | 0.905825 |\n",
      "| Precision        | 0.915072 |\n",
      "| Recall           | 0.976083 |\n",
      "| F1-score         | 0.904912 |\n",
      "| AUC-ROC          | 0.969846 |\n",
      "| Gini coefficient | 0.939692 |\n"
     ]
    }
   ],
   "source": [
    "from tabulate import tabulate\n",
    "\n",
    "# Create a list of metric names and values\n",
    "metric_names = ['Accuracy', 'Precision', 'Recall', 'F1-score', 'AUC-ROC', 'Gini coefficient']\n",
    "metric_values = [accuracy, precision, recall, f1, auc_roc, gini]\n",
    "\n",
    "# Create a list of metric rows\n",
    "metric_rows = [[name, value] for name, value in zip(metric_names, metric_values)]\n",
    "\n",
    "# Print the table for evaluation metrics\n",
    "print(tabulate(metric_rows, headers=['Metric', 'Value'], tablefmt='orgtbl'))"
   ]
  },
  {
   "cell_type": "code",
   "execution_count": 133,
   "metadata": {},
   "outputs": [],
   "source": [
    "\n",
    "df_test_oversampled = df_test_processed\n",
    "# Create a new column 'TotalPastDue' by summing the values of the three columns\n",
    "df_test_oversampled['TotalPastDue'] = df_test_processed['NumberOfTime30-59DaysPastDueNotWorse'] + df_test_processed['NumberOfTimes90DaysLate'] + df_test_processed['NumberOfTime60-89DaysPastDueNotWorse']\n",
    "# Drop the individual columns if desired\n",
    "\n",
    "df_test_oversampled = df_test_processed.drop(['NumberOfTime30-59DaysPastDueNotWorse', 'NumberOfTimes90DaysLate', 'NumberOfTime60-89DaysPastDueNotWorse'], axis=1)\n",
    "\n",
    "test_X = df_test_oversampled.drop([\"SeriousDlqin2yrs\"],axis=1)"
   ]
  },
  {
   "cell_type": "code",
   "execution_count": 134,
   "metadata": {},
   "outputs": [],
   "source": [
    "# Get the best model from GridSearchCV\n",
    "\n",
    "## Prediction_XGB = best_model.predict(X_train)\n",
    "\n",
    "predict_prob = best_model.predict_proba(test_X)[:, -1]"
   ]
  },
  {
   "cell_type": "code",
   "execution_count": 135,
   "metadata": {},
   "outputs": [],
   "source": [
    "df_test_id =df_test[\"Unnamed: 0\"]\n",
    "result = pd.DataFrame({\"Id\": df_test_id, \"Probability\": predict_prob})\n",
    "result[\"Id\"] = result[\"Id\"].astype(int)\n",
    "result[\"Probability\"] = result[\"Probability\"].astype(float)\n"
   ]
  },
  {
   "cell_type": "code",
   "execution_count": 137,
   "metadata": {},
   "outputs": [],
   "source": [
    "result.to_csv('model_output/predictions-best_model_xgboost.csv', index=False)"
   ]
  },
  {
   "cell_type": "code",
   "execution_count": 138,
   "metadata": {},
   "outputs": [
    {
     "data": {
      "text/plain": [
       "['models/best_model_XGBOOST.pkl']"
      ]
     },
     "execution_count": 138,
     "metadata": {},
     "output_type": "execute_result"
    }
   ],
   "source": [
    "joblib.dump(best_model, 'models/best_model_XGBOOST.pkl')"
   ]
  },
  {
   "cell_type": "code",
   "execution_count": null,
   "metadata": {},
   "outputs": [],
   "source": [
    "model = RandomizedSearchCV(xgb, param_distributions=TRAIN_CONFIGS[\"model_params\"], n_iter=400, scoring='roc_auc', n_jobs=-1, cv=StratifiedKFold(n_splits=5, shuffle = True, random_state = 0), verbose=3, random_state=0)"
   ]
  },
  {
   "cell_type": "code",
   "execution_count": 23,
   "metadata": {
    "execution": {
     "iopub.status.busy": "2023-05-08T01:47:47.459779Z",
     "iopub.status.idle": "2023-05-08T01:47:47.460375Z"
    }
   },
   "outputs": [],
   "source": [
    "class RandomSearch(object):\n",
    "    \n",
    "    def __init__(self,X_train,y_train,model,hyperparameters):\n",
    "        \n",
    "        self.X_train = X_train\n",
    "        self.y_train = y_train\n",
    "        self.model = model\n",
    "        self.hyperparameters = hyperparameters\n",
    "        \n",
    "    def RandomSearch(self):\n",
    "        # Create randomized search 10-fold cross validation and 100 iterations\n",
    "        cv = 10\n",
    "        clf = RandomizedSearchCV(self.model,\n",
    "                                 self.hyperparameters,\n",
    "                                 random_state=1,\n",
    "                                 n_iter=100,\n",
    "                                 cv=cv,\n",
    "                                 verbose=0,\n",
    "                                 n_jobs=-1,\n",
    "                                 )\n",
    "        # Fit randomized search\n",
    "        best_model = clf.fit(self.X_train, self.y_train)\n",
    "        message = (best_model.best_score_, best_model.best_params_)\n",
    "        print(\"Best: %f using %s\" % (message))\n",
    "\n",
    "        return best_model,best_model.best_params_\n",
    "    \n",
    "    def BestModelPridict(self,X_test):\n",
    "        \n",
    "        best_model,_ = self.RandomSearch()\n",
    "        pred = best_model.predict(X_test)\n",
    "        return pred"
   ]
  },
  {
   "cell_type": "code",
   "execution_count": 24,
   "metadata": {
    "execution": {
     "iopub.status.busy": "2023-05-08T01:47:47.461164Z",
     "iopub.status.idle": "2023-05-08T01:47:47.461670Z"
    }
   },
   "outputs": [],
   "source": [
    "class GridSearch(object):\n",
    "    \n",
    "    def __init__(self,X_train,y_train,model,hyperparameters):\n",
    "        \n",
    "        self.X_train = X_train\n",
    "        self.y_train = y_train\n",
    "        self.model = model\n",
    "        self.hyperparameters = hyperparameters\n",
    "        \n",
    "    def GridSearch(self):\n",
    "        # Create randomized search 10-fold cross validation and 100 iterations\n",
    "        cv = 10\n",
    "        clf = GridSearchCV(self.model,\n",
    "                                 self.hyperparameters,\n",
    "                                 cv=cv,\n",
    "                                 verbose=0,\n",
    "                                 n_jobs=-1,\n",
    "                                 )\n",
    "        # Fit randomized search\n",
    "        best_model = clf.fit(self.X_train, self.y_train)\n",
    "        message = (best_model.best_score_, best_model.best_params_)\n",
    "        print(\"Best: %f using %s\" % (message))\n",
    "\n",
    "        return best_model,best_model.best_params_\n",
    "    \n",
    "    def BestModelPridict(self,X_test):\n",
    "        \n",
    "        best_model,_ = self.GridSearch()\n",
    "        pred = best_model.predict(X_test)\n",
    "        return pred"
   ]
  },
  {
   "cell_type": "code",
   "execution_count": 25,
   "metadata": {},
   "outputs": [],
   "source": [
    "### HYPER PARAMETER TUNING\n",
    "\n",
    "\n",
    "class RandomSearch(object):\n",
    "    \n",
    "    def __init__(self,X_train,y_train,model,hyperparameters):\n",
    "        \n",
    "        self.X_train = X_train\n",
    "        self.y_train = y_train\n",
    "        self.model = model\n",
    "        self.hyperparameters = hyperparameters\n",
    "        \n",
    "    def RandomSearch(self):\n",
    "        # Create randomized search 10-fold cross validation and 100 iterations\n",
    "        cv = 10\n",
    "        clf = RandomizedSearchCV(self.model,\n",
    "                                 self.hyperparameters,\n",
    "                                 random_state=1,\n",
    "                                 n_iter=100,\n",
    "                                 cv=cv,\n",
    "                                 verbose=0,\n",
    "                                 n_jobs=-1,\n",
    "                                 )\n",
    "        # Fit randomized search\n",
    "        best_model = clf.fit(self.X_train, self.y_train)\n",
    "        message = (best_model.best_score_, best_model.best_params_)\n",
    "        print(\"Best: %f using %s\" % (message))\n",
    "\n",
    "        return best_model,best_model.best_params_\n",
    "    \n",
    "    def BestModelPridict(self,X_test):\n",
    "        \n",
    "        best_model,_ = self.RandomSearch()\n",
    "        pred = best_model.predict(X_test)\n",
    "        return pred\n",
    "\n",
    "class GridSearch(object):\n",
    "    \n",
    "    def __init__(self,X_train,y_train,model,hyperparameters):\n",
    "        \n",
    "        self.X_train = X_train\n",
    "        self.y_train = y_train\n",
    "        self.model = model\n",
    "        self.hyperparameters = hyperparameters\n",
    "        \n",
    "    def GridSearch(self):\n",
    "        # Create randomized search 10-fold cross validation and 100 iterations\n",
    "        cv = 10\n",
    "        clf = GridSearchCV(self.model,\n",
    "                                 self.hyperparameters,\n",
    "                                 cv=cv,\n",
    "                                 verbose=0,\n",
    "                                 n_jobs=-1,\n",
    "                                 )\n",
    "        # Fit randomized search\n",
    "        best_model = clf.fit(self.X_train, self.y_train)\n",
    "        message = (best_model.best_score_, best_model.best_params_)\n",
    "        print(\"Best: %f using %s\" % (message))\n",
    "\n",
    "        return best_model,best_model.best_params_\n",
    "    \n",
    "    def BestModelPridict(self,X_test):\n",
    "        \n",
    "        best_model,_ = self.GridSearch()\n",
    "        pred = best_model.predict(X_test)\n",
    "        return pred"
   ]
  },
  {
   "cell_type": "markdown",
   "metadata": {
    "execution": {
     "iopub.status.busy": "2023-05-08T01:47:47.473139Z",
     "iopub.status.idle": "2023-05-08T01:47:47.473588Z"
    }
   },
   "source": [
    "#### SVC Model ####"
   ]
  },
  {
   "cell_type": "code",
   "execution_count": null,
   "metadata": {
    "execution": {
     "iopub.status.busy": "2023-05-08T01:47:47.474251Z",
     "iopub.status.idle": "2023-05-08T01:47:47.474742Z"
    }
   },
   "outputs": [],
   "source": [
    "# c_values = [0.1, 0.3, 0.5, 0.7, 0.9, 1.0, 1.3, 1.5, 1.7, 2.0]\n",
    "# kernel_values = ['linear', 'poly', 'rbf', 'sigmoid']\n",
    "# param_grid = {'C': c_values, 'kernel': kernel_values}\n",
    "\n",
    "# model_SVC = SVC()\n",
    "# SVC_GridSearch = GridSearchCV(model_SVC, param_grid, scoring='f1_weighted')\n",
    "\n",
    "# SVC_GridSearch.fit(X_train, Y_train)\n",
    "# best_model = SVC_GridSearch.best_estimator_"
   ]
  },
  {
   "cell_type": "code",
   "execution_count": null,
   "metadata": {
    "execution": {
     "iopub.status.busy": "2023-05-08T01:47:47.475367Z",
     "iopub.status.idle": "2023-05-08T01:47:47.475812Z"
    }
   },
   "outputs": [],
   "source": [
    "# Prediction_SVC = best_model.predict(X_train)"
   ]
  },
  {
   "cell_type": "markdown",
   "metadata": {
    "execution": {
     "iopub.status.busy": "2023-05-08T01:47:47.484457Z",
     "iopub.status.idle": "2023-05-08T01:47:47.485074Z"
    }
   },
   "source": [
    "#### RANDOM FOREST ####"
   ]
  },
  {
   "cell_type": "code",
   "execution_count": 48,
   "metadata": {
    "execution": {
     "iopub.status.busy": "2023-05-08T01:47:47.485761Z",
     "iopub.status.idle": "2023-05-08T01:47:47.486882Z"
    }
   },
   "outputs": [
    {
     "name": "stdout",
     "output_type": "stream",
     "text": [
      "Best: 0.935195 using {'criterion': 'entropy', 'n_estimators': 300}\n"
     ]
    }
   ],
   "source": [
    "X_test = df_test_processed.drop([\"SeriousDlqin2yrs\"],axis=1)\n",
    "\n",
    "n_estimators_value = [50,100,150,200,250,300]\n",
    "criterion_val = [\"gini\", \"entropy\"]\n",
    "\n",
    "param_grid = dict(criterion=criterion_val, n_estimators=n_estimators_value)\n",
    "\n",
    "model_RF = RandomForestClassifier()\n",
    "RF_GridSearch = GridSearch(X_train,Y_train,model_RF,param_grid)\n",
    "\n",
    "## private score 0.8471 public score 0.8425\n",
    "best_model, best_params = RF_GridSearch.GridSearch()\n",
    "\n",
    "## Prediction_GB = GB_GridSearch.BestModelPridict(X_test)"
   ]
  },
  {
   "cell_type": "code",
   "execution_count": 52,
   "metadata": {},
   "outputs": [
    {
     "name": "stdout",
     "output_type": "stream",
     "text": [
      "[0.02666667 0.01666667 0.         ... 0.         0.17       0.01      ]\n"
     ]
    }
   ],
   "source": [
    "# Use the best model for prediction\n",
    "probabilities = best_model.predict_proba(X_test)\n",
    "\n",
    "# Extract the probability of belonging to the positive class (default)\n",
    "default_probabilities = probabilities[:, 1]\n"
   ]
  },
  {
   "cell_type": "code",
   "execution_count": 53,
   "metadata": {},
   "outputs": [],
   "source": [
    "result = pd.DataFrame({\"Id\": df_test_id, \"Probability\": default_probabilities})\n",
    "result[\"Id\"] = result[\"Id\"].astype(int)\n",
    "result[\"Probability\"] = result[\"Probability\"].astype(float)\n",
    "\n",
    "\n",
    "result.to_csv('predictions-best_model_model_RF.csv', index=False)"
   ]
  },
  {
   "cell_type": "markdown",
   "metadata": {},
   "source": [
    "#### KNN ####"
   ]
  },
  {
   "cell_type": "code",
   "execution_count": 54,
   "metadata": {
    "execution": {
     "iopub.status.busy": "2023-05-08T01:47:47.468092Z",
     "iopub.status.idle": "2023-05-08T01:47:47.468570Z"
    }
   },
   "outputs": [],
   "source": [
    "model_KNN = KNeighborsClassifier()\n",
    "\n",
    "neighbors = [1,2,3,4,5,6,7,8,9,10,11,12,13,14,15,16,17,18,19,20]\n",
    "param_grid = dict(n_neighbors=neighbors)"
   ]
  },
  {
   "cell_type": "code",
   "execution_count": 55,
   "metadata": {
    "execution": {
     "iopub.status.busy": "2023-05-08T01:47:47.469208Z",
     "iopub.status.idle": "2023-05-08T01:47:47.469911Z"
    }
   },
   "outputs": [
    {
     "name": "stdout",
     "output_type": "stream",
     "text": [
      "Best: 0.932573 using {'n_neighbors': 8}\n",
      "Best: 0.932573 using {'n_neighbors': 8}\n"
     ]
    }
   ],
   "source": [
    "KNN_GridSearch = GridSearch(X_train,Y_train,model_KNN,param_grid)\n",
    "best_model, best_params = KNN_GridSearch.GridSearch()\n",
    "Prediction_KNN = KNN_GridSearch.BestModelPridict(X_train)\n"
   ]
  },
  {
   "cell_type": "code",
   "execution_count": 40,
   "metadata": {
    "execution": {
     "iopub.status.busy": "2023-05-08T01:47:47.470885Z",
     "iopub.status.idle": "2023-05-08T01:47:47.471335Z"
    }
   },
   "outputs": [
    {
     "name": "stdout",
     "output_type": "stream",
     "text": [
      "              precision    recall  f1-score   support\n",
      "\n",
      "           0       0.93      1.00      0.97     95298\n",
      "           1       0.88      0.01      0.03      6916\n",
      "\n",
      "    accuracy                           0.93    102214\n",
      "   macro avg       0.90      0.51      0.50    102214\n",
      "weighted avg       0.93      0.93      0.90    102214\n",
      "\n"
     ]
    }
   ],
   "source": [
    "cp = classification_report(Y_train,Prediction_KNN)\n",
    "print(cp)\n"
   ]
  },
  {
   "cell_type": "code",
   "execution_count": 58,
   "metadata": {},
   "outputs": [
    {
     "data": {
      "text/plain": [
       "array([0.  , 0.  , 0.  , ..., 0.  , 0.25, 0.  ])"
      ]
     },
     "execution_count": 58,
     "metadata": {},
     "output_type": "execute_result"
    }
   ],
   "source": [
    "# Use the best KNN model for prediction\n",
    "probabilities = best_model.predict_proba(X_test)\n",
    "\n",
    "# Extract the probability of belonging to the positive class (default)\n",
    "default_probabilities = probabilities[:, 1]\n"
   ]
  },
  {
   "cell_type": "code",
   "execution_count": 57,
   "metadata": {},
   "outputs": [],
   "source": [
    "result = pd.DataFrame({\"Id\": df_test_id, \"Probability\": default_probabilities})\n",
    "result[\"Id\"] = result[\"Id\"].astype(int)\n",
    "result[\"Probability\"] = result[\"Probability\"].astype(float)\n",
    "\n",
    "result.to_csv('predictions-best_model_model_KNN.csv', index=False)\n"
   ]
  },
  {
   "cell_type": "markdown",
   "metadata": {},
   "source": [
    "### LogisticRegression"
   ]
  },
  {
   "cell_type": "code",
   "execution_count": 61,
   "metadata": {
    "execution": {
     "iopub.status.busy": "2023-05-08T01:47:47.462344Z",
     "iopub.status.idle": "2023-05-08T01:47:47.462996Z"
    }
   },
   "outputs": [],
   "source": [
    "# model\n",
    "model = LogisticRegression()\n",
    "# Create regularization penalty space\n",
    "penalty = ['l1', 'l2']\n",
    "\n",
    "# Create regularization hyperparameter distribution using uniform distribution\n",
    "C = uniform(loc=0, scale=4)\n",
    "\n",
    "# Create hyperparameter options\n",
    "hyperparameters = dict(C=C, penalty=penalty)"
   ]
  },
  {
   "cell_type": "code",
   "execution_count": 62,
   "metadata": {
    "execution": {
     "iopub.status.busy": "2023-05-08T01:47:47.463751Z",
     "iopub.status.idle": "2023-05-08T01:47:47.464652Z"
    }
   },
   "outputs": [
    {
     "name": "stderr",
     "output_type": "stream",
     "text": [
      "/Users/tianhuihu/opt/anaconda3/lib/python3.8/site-packages/sklearn/model_selection/_validation.py:378: FitFailedWarning: \n",
      "460 fits failed out of a total of 1000.\n",
      "The score on these train-test partitions for these parameters will be set to nan.\n",
      "If these failures are not expected, you can try to debug them by setting error_score='raise'.\n",
      "\n",
      "Below are more details about the failures:\n",
      "--------------------------------------------------------------------------------\n",
      "460 fits failed with the following error:\n",
      "Traceback (most recent call last):\n",
      "  File \"/Users/tianhuihu/opt/anaconda3/lib/python3.8/site-packages/sklearn/model_selection/_validation.py\", line 686, in _fit_and_score\n",
      "    estimator.fit(X_train, y_train, **fit_params)\n",
      "  File \"/Users/tianhuihu/opt/anaconda3/lib/python3.8/site-packages/sklearn/linear_model/_logistic.py\", line 1162, in fit\n",
      "    solver = _check_solver(self.solver, self.penalty, self.dual)\n",
      "  File \"/Users/tianhuihu/opt/anaconda3/lib/python3.8/site-packages/sklearn/linear_model/_logistic.py\", line 54, in _check_solver\n",
      "    raise ValueError(\n",
      "ValueError: Solver lbfgs supports only 'l2' or 'none' penalties, got l1 penalty.\n",
      "\n",
      "  warnings.warn(some_fits_failed_message, FitFailedWarning)\n",
      "/Users/tianhuihu/opt/anaconda3/lib/python3.8/site-packages/sklearn/model_selection/_search.py:952: UserWarning: One or more of the test scores are non-finite: [       nan 0.93451974 0.93436319 0.934236   0.93439255 0.93438276\n",
      "        nan        nan        nan        nan 0.93466648 0.93433384\n",
      "        nan 0.93437298 0.93456865 0.93434363        nan        nan\n",
      " 0.93425559        nan 0.93434363 0.93450016        nan 0.93443167\n",
      "        nan 0.93433384 0.93428493 0.93462736 0.93455885 0.93424579\n",
      " 0.93429471        nan        nan 0.93444145        nan        nan\n",
      " 0.93440233 0.93449038        nan        nan 0.93450016 0.93458821\n",
      "        nan        nan        nan 0.93426537 0.93437298 0.93454907\n",
      "        nan 0.93440232        nan        nan 0.93422622        nan\n",
      " 0.93450016        nan        nan        nan        nan        nan\n",
      " 0.93432407        nan        nan        nan        nan 0.93437298\n",
      "        nan        nan 0.93449038 0.9344708         nan        nan\n",
      " 0.93436321 0.93440233        nan        nan 0.93452952 0.93447081\n",
      " 0.93431428 0.93449037 0.9343534         nan 0.93454908 0.93459799\n",
      " 0.9343632         nan 0.93448059        nan 0.93444146 0.93427515\n",
      " 0.93420666 0.93444147        nan 0.93432406        nan        nan\n",
      "        nan 0.93433385 0.93424579 0.93446103]\n",
      "  warnings.warn(\n",
      "/Users/tianhuihu/opt/anaconda3/lib/python3.8/site-packages/sklearn/linear_model/_logistic.py:458: ConvergenceWarning: lbfgs failed to converge (status=1):\n",
      "STOP: TOTAL NO. of ITERATIONS REACHED LIMIT.\n",
      "\n",
      "Increase the number of iterations (max_iter) or scale the data as shown in:\n",
      "    https://scikit-learn.org/stable/modules/preprocessing.html\n",
      "Please also refer to the documentation for alternative solver options:\n",
      "    https://scikit-learn.org/stable/modules/linear_model.html#logistic-regression\n",
      "  n_iter_i = _check_optimize_result(\n"
     ]
    },
    {
     "name": "stdout",
     "output_type": "stream",
     "text": [
      "Best: 0.934666 using {'C': 2.681870040713609, 'penalty': 'l2'}\n"
     ]
    },
    {
     "name": "stderr",
     "output_type": "stream",
     "text": [
      "/Users/tianhuihu/opt/anaconda3/lib/python3.8/site-packages/sklearn/model_selection/_validation.py:378: FitFailedWarning: \n",
      "460 fits failed out of a total of 1000.\n",
      "The score on these train-test partitions for these parameters will be set to nan.\n",
      "If these failures are not expected, you can try to debug them by setting error_score='raise'.\n",
      "\n",
      "Below are more details about the failures:\n",
      "--------------------------------------------------------------------------------\n",
      "460 fits failed with the following error:\n",
      "Traceback (most recent call last):\n",
      "  File \"/Users/tianhuihu/opt/anaconda3/lib/python3.8/site-packages/sklearn/model_selection/_validation.py\", line 686, in _fit_and_score\n",
      "    estimator.fit(X_train, y_train, **fit_params)\n",
      "  File \"/Users/tianhuihu/opt/anaconda3/lib/python3.8/site-packages/sklearn/linear_model/_logistic.py\", line 1162, in fit\n",
      "    solver = _check_solver(self.solver, self.penalty, self.dual)\n",
      "  File \"/Users/tianhuihu/opt/anaconda3/lib/python3.8/site-packages/sklearn/linear_model/_logistic.py\", line 54, in _check_solver\n",
      "    raise ValueError(\n",
      "ValueError: Solver lbfgs supports only 'l2' or 'none' penalties, got l1 penalty.\n",
      "\n",
      "  warnings.warn(some_fits_failed_message, FitFailedWarning)\n",
      "/Users/tianhuihu/opt/anaconda3/lib/python3.8/site-packages/sklearn/model_selection/_search.py:952: UserWarning: One or more of the test scores are non-finite: [       nan 0.93451974 0.93436319 0.934236   0.93439255 0.93438276\n",
      "        nan        nan        nan        nan 0.93466648 0.93433384\n",
      "        nan 0.93437298 0.93456865 0.93434363        nan        nan\n",
      " 0.93425559        nan 0.93434363 0.93450016        nan 0.93443167\n",
      "        nan 0.93433384 0.93428493 0.93462736 0.93455885 0.93424579\n",
      " 0.93429471        nan        nan 0.93444145        nan        nan\n",
      " 0.93440233 0.93449038        nan        nan 0.93450016 0.93458821\n",
      "        nan        nan        nan 0.93426537 0.93437298 0.93454907\n",
      "        nan 0.93440232        nan        nan 0.93422622        nan\n",
      " 0.93450016        nan        nan        nan        nan        nan\n",
      " 0.93432407        nan        nan        nan        nan 0.93437298\n",
      "        nan        nan 0.93449038 0.9344708         nan        nan\n",
      " 0.93436321 0.93440233        nan        nan 0.93452952 0.93447081\n",
      " 0.93431428 0.93449037 0.9343534         nan 0.93454908 0.93459799\n",
      " 0.9343632         nan 0.93448059        nan 0.93444146 0.93427515\n",
      " 0.93420666 0.93444147        nan 0.93432406        nan        nan\n",
      "        nan 0.93433385 0.93424579 0.93446103]\n",
      "  warnings.warn(\n"
     ]
    },
    {
     "name": "stdout",
     "output_type": "stream",
     "text": [
      "Best: 0.934666 using {'C': 2.681870040713609, 'penalty': 'l2'}\n"
     ]
    },
    {
     "name": "stderr",
     "output_type": "stream",
     "text": [
      "/Users/tianhuihu/opt/anaconda3/lib/python3.8/site-packages/sklearn/linear_model/_logistic.py:458: ConvergenceWarning: lbfgs failed to converge (status=1):\n",
      "STOP: TOTAL NO. of ITERATIONS REACHED LIMIT.\n",
      "\n",
      "Increase the number of iterations (max_iter) or scale the data as shown in:\n",
      "    https://scikit-learn.org/stable/modules/preprocessing.html\n",
      "Please also refer to the documentation for alternative solver options:\n",
      "    https://scikit-learn.org/stable/modules/linear_model.html#logistic-regression\n",
      "  n_iter_i = _check_optimize_result(\n"
     ]
    }
   ],
   "source": [
    "LR_RandSearch = RandomSearch(X_train,Y_train,model,hyperparameters)\n",
    "LR_best_model,LR_best_params = LR_RandSearch.RandomSearch()\n",
    "Prediction_LR = LR_RandSearch.BestModelPridict(X_train)\n",
    "\n"
   ]
  },
  {
   "cell_type": "code",
   "execution_count": 63,
   "metadata": {
    "execution": {
     "iopub.status.busy": "2023-05-08T01:47:47.465278Z",
     "iopub.status.idle": "2023-05-08T01:47:47.466025Z"
    }
   },
   "outputs": [
    {
     "name": "stdout",
     "output_type": "stream",
     "text": [
      "              precision    recall  f1-score   support\n",
      "\n",
      "           0       0.94      1.00      0.97     95298\n",
      "           1       0.61      0.08      0.14      6916\n",
      "\n",
      "    accuracy                           0.93    102214\n",
      "   macro avg       0.77      0.54      0.56    102214\n",
      "weighted avg       0.92      0.93      0.91    102214\n",
      "\n"
     ]
    }
   ],
   "source": [
    "cp = classification_report(Y_train,Prediction_LR)\n",
    "print(cp)\n",
    "\n",
    "\n"
   ]
  },
  {
   "cell_type": "code",
   "execution_count": 64,
   "metadata": {},
   "outputs": [],
   "source": [
    "# Use the best LR model for prediction\n",
    "# 0.7923 private score 0.7899 public score\n",
    "probabilities = LR_best_model.predict_proba(X_test)\n",
    "\n",
    "# Extract the probability of belonging to the positive class (default)\n",
    "default_probabilities = probabilities[:, 1]\n",
    "\n",
    "\n"
   ]
  },
  {
   "cell_type": "code",
   "execution_count": 65,
   "metadata": {},
   "outputs": [],
   "source": [
    "result = pd.DataFrame({\"Id\": df_test_id, \"Probability\": default_probabilities})\n",
    "result[\"Id\"] = result[\"Id\"].astype(int)\n",
    "result[\"Probability\"] = result[\"Probability\"].astype(float)\n",
    "\n",
    "result.to_csv('predictions-best_model_LR.csv', index=False)"
   ]
  },
  {
   "cell_type": "code",
   "execution_count": null,
   "metadata": {
    "execution": {
     "iopub.status.busy": "2023-05-08T01:47:47.480824Z",
     "iopub.status.idle": "2023-05-08T01:47:47.481168Z"
    }
   },
   "outputs": [],
   "source": [
    "### ADABOOST CLASSIFIER ###"
   ]
  },
  {
   "cell_type": "code",
   "execution_count": 73,
   "metadata": {
    "execution": {
     "iopub.status.busy": "2023-05-08T01:47:47.482109Z",
     "iopub.status.idle": "2023-05-08T01:47:47.482491Z"
    }
   },
   "outputs": [],
   "source": [
    "learning_rate_value = [.01,.05,.1,.5,1]\n",
    "n_estimators_value = [50,100,150,200,250,300]\n",
    "\n",
    "param_grid = dict(learning_rate=learning_rate_value, n_estimators=n_estimators_value)\n"
   ]
  },
  {
   "cell_type": "code",
   "execution_count": 76,
   "metadata": {
    "execution": {
     "iopub.status.busy": "2023-05-08T01:47:47.483179Z",
     "iopub.status.idle": "2023-05-08T01:47:47.483787Z"
    }
   },
   "outputs": [
    {
     "name": "stdout",
     "output_type": "stream",
     "text": [
      "Best: 0.935723 using {'learning_rate': 0.05, 'n_estimators': 300}\n"
     ]
    }
   ],
   "source": [
    "model_Ad = AdaBoostClassifier()\n",
    "Ad_GridSearch = GridSearch(X_train,Y_train,model_Ad,param_grid)\n",
    "Prediction_Ad = Ad_GridSearch.BestModelPridict(X_train)\n"
   ]
  },
  {
   "cell_type": "code",
   "execution_count": null,
   "metadata": {},
   "outputs": [],
   "source": []
  }
 ],
 "metadata": {
  "kernelspec": {
   "display_name": "Python 3",
   "language": "python",
   "name": "python3"
  },
  "language_info": {
   "codemirror_mode": {
    "name": "ipython",
    "version": 3
   },
   "file_extension": ".py",
   "mimetype": "text/x-python",
   "name": "python",
   "nbconvert_exporter": "python",
   "pygments_lexer": "ipython3",
   "version": "3.8.3"
  }
 },
 "nbformat": 4,
 "nbformat_minor": 4
}
