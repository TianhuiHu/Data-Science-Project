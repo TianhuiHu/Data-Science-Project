{
 "cells": [
  {
   "cell_type": "markdown",
   "metadata": {},
   "source": [
    "# Data Preprocessing - Preparing for one of the top performing models\n",
    "\n",
    "In this notebook, after an exploratory data analysis is performed on Give Me Some Credit's training set from last notebook, the next step is to do a feature importance evaluation to see whether all these risk drivers are necessary for building the model. \n",
    "\n",
    "Preprocessing steps are done here. These preprocessing steps will be the preparatory work for training a XGBoost model on the dataset, which is able to attain private and public scores of **0.86756** and **0.86104** respectively. The private and public scores are ranked top 100 and top 130 respectively \n",
    "\n",
    "More comprehensive README and Python scripts can be found at "
   ]
  },
  {
   "cell_type": "code",
   "execution_count": 55,
   "metadata": {},
   "outputs": [],
   "source": [
    "# Main tools we used:\n",
    "import numpy as np # linear algebra\n",
    "import pandas as pd # data processing, CSV file I/O (e.g. pd.read_csv)\n",
    "\n",
    "# Models:\n",
    "from sklearn import svm\n",
    "from sklearn.model_selection import cross_validate\n",
    "from sklearn.linear_model import LinearRegression\n",
    "from sklearn.ensemble import RandomForestClassifier\n",
    "\n",
    "# Python utilities:\n",
    "import time\n",
    "import os"
   ]
  },
  {
   "cell_type": "code",
   "execution_count": 35,
   "metadata": {},
   "outputs": [
    {
     "name": "stdout",
     "output_type": "stream",
     "text": [
      "Importing Raw Data...\n"
     ]
    },
    {
     "data": {
      "text/plain": [
       "(150000, 12)"
      ]
     },
     "execution_count": 35,
     "metadata": {},
     "output_type": "execute_result"
    }
   ],
   "source": [
    "# Import Data\n",
    "print(\"Importing Raw Data...\")\n",
    "df_train = pd.read_csv(\"cs-training.csv\")\n",
    "df_test = pd.read_csv(\"cs-test.csv\")\n",
    "df_train.shape"
   ]
  },
  {
   "cell_type": "markdown",
   "metadata": {},
   "source": [
    "## Preprocessing Suggestions <a class=\"anchor\" id=\"4\"></a>\n",
    "\n",
    "- Remove samples with values of DebtRatio above its 97.5 percentile\n",
    "- Set 0 <= RevolvingUtilizationOfUnsecuredLines < 13\n",
    "- Set NumberOfTimes90DaysLate <= 17\n",
    "- Impute MonthlyIncome with its median or mode, or with a normally distributed variable with MonthlyIncome's mean and standard deviation, or regression imputation.\n",
    "- Impute NumberOfDependents with its mode"
   ]
  },
  {
   "cell_type": "code",
   "execution_count": 15,
   "metadata": {},
   "outputs": [
    {
     "data": {
      "text/html": [
       "<div>\n",
       "<style scoped>\n",
       "    .dataframe tbody tr th:only-of-type {\n",
       "        vertical-align: middle;\n",
       "    }\n",
       "\n",
       "    .dataframe tbody tr th {\n",
       "        vertical-align: top;\n",
       "    }\n",
       "\n",
       "    .dataframe thead th {\n",
       "        text-align: right;\n",
       "    }\n",
       "</style>\n",
       "<table border=\"1\" class=\"dataframe\">\n",
       "  <thead>\n",
       "    <tr style=\"text-align: right;\">\n",
       "      <th></th>\n",
       "      <th>Unnamed: 0</th>\n",
       "      <th>SeriousDlqin2yrs</th>\n",
       "      <th>RevolvingUtilizationOfUnsecuredLines</th>\n",
       "      <th>age</th>\n",
       "      <th>NumberOfTime30-59DaysPastDueNotWorse</th>\n",
       "      <th>DebtRatio</th>\n",
       "      <th>MonthlyIncome</th>\n",
       "      <th>NumberOfOpenCreditLinesAndLoans</th>\n",
       "      <th>NumberOfTimes90DaysLate</th>\n",
       "      <th>NumberRealEstateLoansOrLines</th>\n",
       "      <th>NumberOfTime60-89DaysPastDueNotWorse</th>\n",
       "      <th>NumberOfDependents</th>\n",
       "    </tr>\n",
       "  </thead>\n",
       "  <tbody>\n",
       "    <tr>\n",
       "      <th>0</th>\n",
       "      <td>1</td>\n",
       "      <td>1</td>\n",
       "      <td>0.766127</td>\n",
       "      <td>45</td>\n",
       "      <td>2</td>\n",
       "      <td>0.802982</td>\n",
       "      <td>9120.0</td>\n",
       "      <td>13</td>\n",
       "      <td>0</td>\n",
       "      <td>6</td>\n",
       "      <td>0</td>\n",
       "      <td>2.0</td>\n",
       "    </tr>\n",
       "    <tr>\n",
       "      <th>1</th>\n",
       "      <td>2</td>\n",
       "      <td>0</td>\n",
       "      <td>0.957151</td>\n",
       "      <td>40</td>\n",
       "      <td>0</td>\n",
       "      <td>0.121876</td>\n",
       "      <td>2600.0</td>\n",
       "      <td>4</td>\n",
       "      <td>0</td>\n",
       "      <td>0</td>\n",
       "      <td>0</td>\n",
       "      <td>1.0</td>\n",
       "    </tr>\n",
       "    <tr>\n",
       "      <th>2</th>\n",
       "      <td>3</td>\n",
       "      <td>0</td>\n",
       "      <td>0.658180</td>\n",
       "      <td>38</td>\n",
       "      <td>1</td>\n",
       "      <td>0.085113</td>\n",
       "      <td>3042.0</td>\n",
       "      <td>2</td>\n",
       "      <td>1</td>\n",
       "      <td>0</td>\n",
       "      <td>0</td>\n",
       "      <td>0.0</td>\n",
       "    </tr>\n",
       "    <tr>\n",
       "      <th>3</th>\n",
       "      <td>4</td>\n",
       "      <td>0</td>\n",
       "      <td>0.233810</td>\n",
       "      <td>30</td>\n",
       "      <td>0</td>\n",
       "      <td>0.036050</td>\n",
       "      <td>3300.0</td>\n",
       "      <td>5</td>\n",
       "      <td>0</td>\n",
       "      <td>0</td>\n",
       "      <td>0</td>\n",
       "      <td>0.0</td>\n",
       "    </tr>\n",
       "    <tr>\n",
       "      <th>4</th>\n",
       "      <td>5</td>\n",
       "      <td>0</td>\n",
       "      <td>0.907239</td>\n",
       "      <td>49</td>\n",
       "      <td>1</td>\n",
       "      <td>0.024926</td>\n",
       "      <td>63588.0</td>\n",
       "      <td>7</td>\n",
       "      <td>0</td>\n",
       "      <td>1</td>\n",
       "      <td>0</td>\n",
       "      <td>0.0</td>\n",
       "    </tr>\n",
       "  </tbody>\n",
       "</table>\n",
       "</div>"
      ],
      "text/plain": [
       "   Unnamed: 0  SeriousDlqin2yrs  RevolvingUtilizationOfUnsecuredLines  age  \\\n",
       "0           1                 1                              0.766127   45   \n",
       "1           2                 0                              0.957151   40   \n",
       "2           3                 0                              0.658180   38   \n",
       "3           4                 0                              0.233810   30   \n",
       "4           5                 0                              0.907239   49   \n",
       "\n",
       "   NumberOfTime30-59DaysPastDueNotWorse  DebtRatio  MonthlyIncome  \\\n",
       "0                                     2   0.802982         9120.0   \n",
       "1                                     0   0.121876         2600.0   \n",
       "2                                     1   0.085113         3042.0   \n",
       "3                                     0   0.036050         3300.0   \n",
       "4                                     1   0.024926        63588.0   \n",
       "\n",
       "   NumberOfOpenCreditLinesAndLoans  NumberOfTimes90DaysLate  \\\n",
       "0                               13                        0   \n",
       "1                                4                        0   \n",
       "2                                2                        1   \n",
       "3                                5                        0   \n",
       "4                                7                        0   \n",
       "\n",
       "   NumberRealEstateLoansOrLines  NumberOfTime60-89DaysPastDueNotWorse  \\\n",
       "0                             6                                     0   \n",
       "1                             0                                     0   \n",
       "2                             0                                     0   \n",
       "3                             0                                     0   \n",
       "4                             1                                     0   \n",
       "\n",
       "   NumberOfDependents  \n",
       "0                 2.0  \n",
       "1                 1.0  \n",
       "2                 0.0  \n",
       "3                 0.0  \n",
       "4                 0.0  "
      ]
     },
     "execution_count": 15,
     "metadata": {},
     "output_type": "execute_result"
    }
   ],
   "source": [
    "df_train.head()"
   ]
  },
  {
   "cell_type": "code",
   "execution_count": 50,
   "metadata": {},
   "outputs": [],
   "source": [
    "# Preprocess Data\n",
    "\n",
    "## drop id column which doesn't provide any valuable info\n",
    "df_train= df_train.drop(\"Unnamed: 0\", axis=1)\n"
   ]
  },
  {
   "cell_type": "code",
   "execution_count": 51,
   "metadata": {},
   "outputs": [
    {
     "data": {
      "text/plain": [
       "(150000, 11)"
      ]
     },
     "execution_count": 51,
     "metadata": {},
     "output_type": "execute_result"
    }
   ],
   "source": [
    "df_train.shape"
   ]
  },
  {
   "cell_type": "code",
   "execution_count": 52,
   "metadata": {},
   "outputs": [
    {
     "data": {
      "text/plain": [
       "(146250, 11)"
      ]
     },
     "execution_count": 52,
     "metadata": {},
     "output_type": "execute_result"
    }
   ],
   "source": [
    "# Remove samples with values of DebtRatio above its 97.5 percentile\n",
    "df_train_processed = df_train.loc[df_train[\"DebtRatio\"] <= df_train[\"DebtRatio\"].quantile(0.975)]\n",
    "df_train_processed.shape"
   ]
  },
  {
   "cell_type": "code",
   "execution_count": null,
   "metadata": {},
   "outputs": [],
   "source": [
    "df = df.loc[(df[\"RevolvingUtilizationOfUnsecuredLines\"] >= 0) & (df[\"RevolvingUtilizationOfUnsecuredLines\"] < 13)]\n",
    "df = df.loc[df[\"NumberOfTimes90DaysLate\"] <= 17]"
   ]
  },
  {
   "cell_type": "markdown",
   "metadata": {},
   "source": [
    "**NumberOfDependents**\n",
    "\n",
    "greater than 50% of the non-missing values have 0 dependents, and if someone leaves the field blank it is likely to be due to not having any dependents, we'll replace these values with 0."
   ]
  },
  {
   "cell_type": "code",
   "execution_count": 46,
   "metadata": {},
   "outputs": [
    {
     "name": "stdout",
     "output_type": "stream",
     "text": [
      "Number of missing values for NumberOfDependents 0\n"
     ]
    }
   ],
   "source": [
    "# impute dependents with mode\n",
    "dependents_mode = df_train[\"NumberOfDependents\"].mode()[0] # impute with mode\n",
    "df_train_processed[\"NumberOfDependents\"] = df_train_processed[\"NumberOfDependents\"].fillna(dependents_mode)\n",
    "# df_train[\"NumberOfDependents\"] = df_train[\"NumberOfDependents\"].fillna(dependents_mode)\n",
    "missing_values = df_train_processed[\"NumberOfDependents\"].isna().sum()\n",
    "print(\"Number of missing values for NumberOfDependents\", missing_values)"
   ]
  },
  {
   "cell_type": "markdown",
   "metadata": {},
   "source": [
    "**Handle missing data for monthly income**"
   ]
  },
  {
   "cell_type": "markdown",
   "metadata": {},
   "source": [
    "When handling missing values for the \"MonthlyIncome\" column in a predictive modeling task,there are several options:\n",
    "\n",
    "1. **Dropping rows**: If the number of missing values is relatively small compared to the total dataset, you can choose to drop the rows with missing values using the dropna() function. However, this approach may lead to loss of valuable data.\n",
    "\n",
    "2. **Mean/Median/Mode** imputation: You can fill in the missing values with the mean, median, or mode of the \"MonthlyIncome\" column. For example, you can calculate the mean income and replace the missing values with that value using the fillna() function: df[\"MonthlyIncome\"].fillna(df[\"MonthlyIncome\"].mean(), inplace=True). Similarly, you can use the median or mode instead of the mean.\n",
    "\n",
    "3. **Regression imputation**: If you have other variables in your dataset that are strongly correlated with the \"MonthlyIncome\" column, you can use regression techniques to predict the missing values based on those variables. You can train a regression model using the available data and then use the model to predict the missing values.\n",
    "\n",
    "4. **Multiple imputation**: Multiple imputation is a technique where missing values are filled in with multiple plausible values, generating multiple complete datasets. Each dataset is then analyzed separately, and the results are combined to obtain the final estimates. This approach accounts for the uncertainty associated with imputing missing values."
   ]
  },
  {
   "cell_type": "code",
   "execution_count": 53,
   "metadata": {},
   "outputs": [
    {
     "name": "stdout",
     "output_type": "stream",
     "text": [
      "Number of missing values for MonthlyIncome 26166\n"
     ]
    }
   ],
   "source": [
    "missing_values = df_train_processed[\"MonthlyIncome\"].isna().sum()\n",
    "print(\"Number of missing values for MonthlyIncome\", missing_values)"
   ]
  },
  {
   "cell_type": "markdown",
   "metadata": {},
   "source": [
    "First let's take a look at using regression to fill in the missing values for MonthlyIncome:"
   ]
  },
  {
   "cell_type": "code",
   "execution_count": 58,
   "metadata": {},
   "outputs": [],
   "source": [
    "not_missing = not_missing = df_train_processed.dropna()\n",
    "target = 'MonthlyIncome'\n",
    "predictors = [c for c in list(not_missing) if c not in [target,'SeriousDlqin2yrs']]\n",
    "X_data = not_missing[predictors]\n",
    "y_data = not_missing[target]\n",
    "regr = LinearRegression().fit(X_data, y_data)"
   ]
  },
  {
   "cell_type": "code",
   "execution_count": 59,
   "metadata": {},
   "outputs": [
    {
     "data": {
      "text/plain": [
       "0.023282823604717118"
      ]
     },
     "execution_count": 59,
     "metadata": {},
     "output_type": "execute_result"
    }
   ],
   "source": [
    "regr.score(X_data, y_data)"
   ]
  },
  {
   "cell_type": "markdown",
   "metadata": {},
   "source": [
    "The R2 value obtained is extremely low, indicating poor model performance. Based on this observation, it appears that the most suitable approach would be to replace the missing values in the \"MonthlyIncome\" column with the median value instead of the mean. This decision is influenced by the presence of extreme outliers in the \"MonthlyIncome\" variable, where some individuals are earning exceptionally high incomes in the millions of dollars per month."
   ]
  },
  {
   "cell_type": "code",
   "execution_count": 60,
   "metadata": {},
   "outputs": [
    {
     "name": "stderr",
     "output_type": "stream",
     "text": [
      "<ipython-input-60-ec47db64df66>:3: SettingWithCopyWarning: \n",
      "A value is trying to be set on a copy of a slice from a DataFrame.\n",
      "Try using .loc[row_indexer,col_indexer] = value instead\n",
      "\n",
      "See the caveats in the documentation: https://pandas.pydata.org/pandas-docs/stable/user_guide/indexing.html#returning-a-view-versus-a-copy\n",
      "  df_train_processed[\"MonthlyIncome\"] = df_train_processed[\"MonthlyIncome\"].fillna(income_median)\n"
     ]
    }
   ],
   "source": [
    "\n",
    "    #################################### Uncomment below if want median imputation for MonthlyIncome #################################### \n",
    "    income_median = df_train_processed[\"MonthlyIncome\"].median()\n",
    "    df_train_processed[\"MonthlyIncome\"] = df_train_processed[\"MonthlyIncome\"].fillna(income_median)\n",
    "      \n",
    "    ################################################################################################################################################ \n",
    "\n",
    "\n",
    "    #################################### Uncomment below if want random normal imputation for Monthly Income #################################### \n",
    "    # mean = df[\"MonthlyIncome\"].mean()\n",
    "    # std = df[\"MonthlyIncome\"].std()\n",
    "    # np.random.seed(0)\n",
    "    # df.loc[df[\"MonthlyIncome\"].isnull()][\"MonthlyIncome\"] = np.random.normal(loc=mean, scale=std, size=len(df.loc[df[\"MonthlyIncome\"].isnull()]))\n",
    "    # impute_dic = {\n",
    "    #     \"MonthlyIncome\": {\n",
    "    #         \"mean\": mean,\n",
    "    #         \"std\": std\n",
    "    #     },\n",
    "    #     \"NumberOfDependents\": {\n",
    "    #         \"mode\": dependents_mode\n",
    "    #     }\n",
    "    # }\n",
    "    ################################################################################################################################################ \n",
    "\n"
   ]
  },
  {
   "cell_type": "code",
   "execution_count": null,
   "metadata": {},
   "outputs": [],
   "source": [
    "df.to_csv(SAVE[\"preprocessed_data\"], index=False)"
   ]
  }
 ],
 "metadata": {
  "kernelspec": {
   "display_name": "Python 3",
   "language": "python",
   "name": "python3"
  },
  "language_info": {
   "codemirror_mode": {
    "name": "ipython",
    "version": 3
   },
   "file_extension": ".py",
   "mimetype": "text/x-python",
   "name": "python",
   "nbconvert_exporter": "python",
   "pygments_lexer": "ipython3",
   "version": "3.8.3"
  }
 },
 "nbformat": 4,
 "nbformat_minor": 4
}
